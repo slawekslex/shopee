{
 "cells": [
  {
   "cell_type": "code",
   "execution_count": 1,
   "id": "genuine-prediction",
   "metadata": {},
   "outputs": [],
   "source": [
    "%load_ext autoreload\n",
    "%autoreload 2"
   ]
  },
  {
   "cell_type": "code",
   "execution_count": 2,
   "id": "premium-haven",
   "metadata": {},
   "outputs": [],
   "source": [
    "from fastai.vision.all import *\n",
    "from utils import *\n",
    "import sklearn.metrics as skm\n",
    "from tqdm.notebook import tqdm"
   ]
  },
  {
   "cell_type": "code",
   "execution_count": 3,
   "id": "internal-wealth",
   "metadata": {},
   "outputs": [],
   "source": [
    "conf = {\n",
    "    'bs':180,\n",
    "    'arch':resnet34,\n",
    "    'split':0\n",
    "}"
   ]
  },
  {
   "cell_type": "code",
   "execution_count": 4,
   "id": "hybrid-layout",
   "metadata": {},
   "outputs": [],
   "source": [
    "train_df = pd.read_csv(PATH/'train_split.csv')\n",
    "train_df['is_valid'] = train_df.split==conf['split']"
   ]
  },
  {
   "cell_type": "code",
   "execution_count": 5,
   "id": "religious-masters",
   "metadata": {},
   "outputs": [],
   "source": [
    "# def hash_label(x):\n",
    "#     x = (13*x)%10000\n",
    "#     return x // 2000\n",
    "# train_df['split']=train_df.label_group.apply(hash_label)\n",
    "# train_df.to_csv(PATH/'train_split.csv')"
   ]
  },
  {
   "cell_type": "code",
   "execution_count": 6,
   "id": "living-throw",
   "metadata": {},
   "outputs": [],
   "source": [
    "data_block = DataBlock(blocks = (ImageBlock(), CategoryBlock(vocab=train_df.label_group.to_list())),\n",
    "                 splitter=ColSplitter(),\n",
    "                 #splitter=RandomSplitter(),\n",
    "                 get_y=ColReader('label_group'),\n",
    "                 get_x=ColReader('image', pref=PATH/'train_images'),\n",
    "                 item_tfms=Resize(460),\n",
    "                 batch_tfms=aug_transforms(size=224, min_scale=0.75),\n",
    "                 )\n",
    "dls = data_block.dataloaders(train_df, bs=conf['bs'],num_workers=16)"
   ]
  },
  {
   "cell_type": "code",
   "execution_count": 7,
   "id": "endless-liver",
   "metadata": {},
   "outputs": [],
   "source": [
    "#dls.valid.show_batch(max_n=16)"
   ]
  },
  {
   "cell_type": "code",
   "execution_count": 8,
   "id": "photographic-translation",
   "metadata": {},
   "outputs": [],
   "source": [
    "def emb_sim(inp):\n",
    "    normal_inp=F.normalize(inp)\n",
    "    return normal_inp @ normal_inp.T"
   ]
  },
  {
   "cell_type": "code",
   "execution_count": 9,
   "id": "available-gateway",
   "metadata": {},
   "outputs": [
    {
     "data": {
      "text/plain": [
       "[tensor([0, 5]),\n",
       " tensor([1, 2, 3]),\n",
       " tensor([1, 2, 3]),\n",
       " tensor([1, 2, 3]),\n",
       " tensor([4]),\n",
       " tensor([0, 5])]"
      ]
     },
     "execution_count": 9,
     "metadata": {},
     "output_type": "execute_result"
    }
   ],
   "source": [
    "def groups(preds):\n",
    "    matches = preds[:,None]==preds[None,:]\n",
    "    groups = [torch.where(matches[i])[0] for i in range(len(matches))]\n",
    "    return groups\n",
    "groups(torch.tensor([1,2,2,2,3,1]))"
   ]
  },
  {
   "cell_type": "code",
   "execution_count": 10,
   "id": "possible-chapel",
   "metadata": {},
   "outputs": [],
   "source": [
    "def f1_score(pred_groups, real_groups):\n",
    "    res =0\n",
    "    for pred, real in zip(pred_groups, real_groups):\n",
    "        #print(pred, real)\n",
    "        inter = set(pred.tolist()).intersection(set(real.tolist()))\n",
    "        #print(inter)\n",
    "        res += 2 * len(inter) / (len(pred)+len(real))\n",
    "    return res / len(pred_groups)"
   ]
  },
  {
   "cell_type": "code",
   "execution_count": 28,
   "id": "contrary-aberdeen",
   "metadata": {},
   "outputs": [],
   "source": [
    "def groups_from_embs(x, treshold=0.9, sims=None):\n",
    "    if sims is None: sims = emb_sim(x)\n",
    "    preds_groups=[]\n",
    "    for i in range(len(sims)):\n",
    "        tops= torch.where(sims[i]>treshold)[0]\n",
    "        preds_groups.append(tops)\n",
    "    return preds_groups"
   ]
  },
  {
   "cell_type": "code",
   "execution_count": 29,
   "id": "touched-theorem",
   "metadata": {},
   "outputs": [],
   "source": [
    "def embs_from_resnet(model, dl):\n",
    "    model_stem =list(learn.model.children())[0].eval()\n",
    "    pipeline = nn.Sequential(model_stem, AdaptiveConcatPool2d(), Flatten())\n",
    "    all_embs = []\n",
    "    all_ys=[]\n",
    "    for batch in tqdm(dl):\n",
    "        if len(batch) ==2:\n",
    "            bx,by=batch\n",
    "        else:\n",
    "            bx,=batch\n",
    "            by=torch.zeros(1)\n",
    "        with torch.no_grad():\n",
    "            embs = pipeline(bx)\n",
    "            all_embs.append(embs.half())\n",
    "        all_ys.append(by)\n",
    "    return torch.cat(all_embs), torch.cat(all_ys)"
   ]
  },
  {
   "cell_type": "code",
   "execution_count": 13,
   "id": "imposed-bunny",
   "metadata": {},
   "outputs": [],
   "source": [
    "def f1_from_preds(inp, tar):\n",
    "    preds = inp.argmax(dim=1)\n",
    "    pred_groups = groups(preds)\n",
    "    real_groups = groups(tar)\n",
    "    return f1_score(pred_groups, real_groups)"
   ]
  },
  {
   "cell_type": "code",
   "execution_count": 36,
   "id": "becoming-perception",
   "metadata": {},
   "outputs": [],
   "source": [
    "def treshold_finder(embs, y):\n",
    "    real_groups = groups(y)\n",
    "    sims = emb_sim(embs)\n",
    "    scores = []\n",
    "    ts =[]\n",
    "    best, bestt=0,0\n",
    "    for t in np.arange(0.8,1,.01):\n",
    "        gr = groups_from_embs(x, t, sims)\n",
    "        score = f1_score(gr, real_groups)\n",
    "        scores.append(score)\n",
    "        ts.append(t)\n",
    "        if score > best: best,bestt = score, t\n",
    "    plt.title(f'Best is {best:.3f} at {bestt:.3f}')\n",
    "    plt.plot(ts, scores)\n",
    "    plt.show()"
   ]
  },
  {
   "cell_type": "code",
   "execution_count": 14,
   "id": "lyric-honduras",
   "metadata": {},
   "outputs": [],
   "source": [
    "learn = cnn_learner(dls,conf['arch'], metrics=[AccumMetric(f1_from_preds, flatten=False)])"
   ]
  },
  {
   "cell_type": "code",
   "execution_count": 15,
   "id": "specified-palestinian",
   "metadata": {},
   "outputs": [
    {
     "data": {
      "text/html": [
       "<table border=\"1\" class=\"dataframe\">\n",
       "  <thead>\n",
       "    <tr style=\"text-align: left;\">\n",
       "      <th>epoch</th>\n",
       "      <th>train_loss</th>\n",
       "      <th>valid_loss</th>\n",
       "      <th>f1_from_preds</th>\n",
       "      <th>time</th>\n",
       "    </tr>\n",
       "  </thead>\n",
       "  <tbody>\n",
       "    <tr>\n",
       "      <td>0</td>\n",
       "      <td>7.969961</td>\n",
       "      <td>10.474304</td>\n",
       "      <td>0.276842</td>\n",
       "      <td>01:04</td>\n",
       "    </tr>\n",
       "  </tbody>\n",
       "</table>"
      ],
      "text/plain": [
       "<IPython.core.display.HTML object>"
      ]
     },
     "metadata": {},
     "output_type": "display_data"
    },
    {
     "data": {
      "text/html": [
       "<table border=\"1\" class=\"dataframe\">\n",
       "  <thead>\n",
       "    <tr style=\"text-align: left;\">\n",
       "      <th>epoch</th>\n",
       "      <th>train_loss</th>\n",
       "      <th>valid_loss</th>\n",
       "      <th>f1_from_preds</th>\n",
       "      <th>time</th>\n",
       "    </tr>\n",
       "  </thead>\n",
       "  <tbody>\n",
       "    <tr>\n",
       "      <td>0</td>\n",
       "      <td>5.536784</td>\n",
       "      <td>10.209629</td>\n",
       "      <td>0.348417</td>\n",
       "      <td>01:13</td>\n",
       "    </tr>\n",
       "    <tr>\n",
       "      <td>1</td>\n",
       "      <td>4.518547</td>\n",
       "      <td>10.830723</td>\n",
       "      <td>0.374114</td>\n",
       "      <td>01:14</td>\n",
       "    </tr>\n",
       "    <tr>\n",
       "      <td>2</td>\n",
       "      <td>3.777341</td>\n",
       "      <td>12.219127</td>\n",
       "      <td>0.416856</td>\n",
       "      <td>01:13</td>\n",
       "    </tr>\n",
       "    <tr>\n",
       "      <td>3</td>\n",
       "      <td>2.730000</td>\n",
       "      <td>13.326238</td>\n",
       "      <td>0.467988</td>\n",
       "      <td>01:13</td>\n",
       "    </tr>\n",
       "    <tr>\n",
       "      <td>4</td>\n",
       "      <td>1.817720</td>\n",
       "      <td>14.110039</td>\n",
       "      <td>0.499478</td>\n",
       "      <td>01:12</td>\n",
       "    </tr>\n",
       "    <tr>\n",
       "      <td>5</td>\n",
       "      <td>1.104580</td>\n",
       "      <td>14.515482</td>\n",
       "      <td>0.538400</td>\n",
       "      <td>01:13</td>\n",
       "    </tr>\n",
       "    <tr>\n",
       "      <td>6</td>\n",
       "      <td>0.618735</td>\n",
       "      <td>14.976788</td>\n",
       "      <td>0.550706</td>\n",
       "      <td>01:13</td>\n",
       "    </tr>\n",
       "    <tr>\n",
       "      <td>7</td>\n",
       "      <td>0.336454</td>\n",
       "      <td>15.163069</td>\n",
       "      <td>0.567583</td>\n",
       "      <td>01:13</td>\n",
       "    </tr>\n",
       "    <tr>\n",
       "      <td>8</td>\n",
       "      <td>0.188864</td>\n",
       "      <td>15.316378</td>\n",
       "      <td>0.578714</td>\n",
       "      <td>01:12</td>\n",
       "    </tr>\n",
       "    <tr>\n",
       "      <td>9</td>\n",
       "      <td>0.142370</td>\n",
       "      <td>15.351284</td>\n",
       "      <td>0.576094</td>\n",
       "      <td>01:13</td>\n",
       "    </tr>\n",
       "  </tbody>\n",
       "</table>"
      ],
      "text/plain": [
       "<IPython.core.display.HTML object>"
      ]
     },
     "metadata": {},
     "output_type": "display_data"
    }
   ],
   "source": [
    "learn.fine_tune(10,1e-2)"
   ]
  },
  {
   "cell_type": "code",
   "execution_count": null,
   "id": "cathedral-likelihood",
   "metadata": {},
   "outputs": [],
   "source": [
    "learn.save('resnet34')"
   ]
  },
  {
   "cell_type": "markdown",
   "id": "selected-bennett",
   "metadata": {},
   "source": [
    "# VALIDATION STATS"
   ]
  },
  {
   "cell_type": "code",
   "execution_count": 16,
   "id": "professional-reach",
   "metadata": {},
   "outputs": [
    {
     "data": {
      "application/vnd.jupyter.widget-view+json": {
       "model_id": "2286e0a46b004554adf9230a306455bc",
       "version_major": 2,
       "version_minor": 0
      },
      "text/plain": [
       "  0%|          | 0/38 [00:00<?, ?it/s]"
      ]
     },
     "metadata": {},
     "output_type": "display_data"
    },
    {
     "name": "stdout",
     "output_type": "stream",
     "text": [
      "CPU times: user 4.66 s, sys: 1.39 s, total: 6.06 s\n",
      "Wall time: 11 s\n"
     ]
    }
   ],
   "source": [
    "%%time\n",
    "embs, y = embs_from_resnet(learn.model, dls.valid)"
   ]
  },
  {
   "cell_type": "code",
   "execution_count": 17,
   "id": "sonic-nickel",
   "metadata": {},
   "outputs": [
    {
     "data": {
      "text/html": [],
      "text/plain": [
       "<IPython.core.display.HTML object>"
      ]
     },
     "metadata": {},
     "output_type": "display_data"
    },
    {
     "name": "stdout",
     "output_type": "stream",
     "text": [
      "CPU times: user 6.23 s, sys: 1.89 s, total: 8.12 s\n",
      "Wall time: 11.7 s\n"
     ]
    }
   ],
   "source": [
    "%%time\n",
    "x,y=learn.get_preds()"
   ]
  },
  {
   "cell_type": "code",
   "execution_count": 18,
   "id": "beautiful-forth",
   "metadata": {},
   "outputs": [
    {
     "data": {
      "text/plain": [
       "0.5760942774944458"
      ]
     },
     "execution_count": 18,
     "metadata": {},
     "output_type": "execute_result"
    }
   ],
   "source": [
    "f1_from_preds(x,y)"
   ]
  },
  {
   "cell_type": "code",
   "execution_count": 21,
   "id": "compact-accordance",
   "metadata": {},
   "outputs": [],
   "source": [
    "real_groups=groups(y)"
   ]
  },
  {
   "cell_type": "code",
   "execution_count": 22,
   "id": "advanced-quick",
   "metadata": {},
   "outputs": [
    {
     "data": {
      "text/plain": [
       "[TensorBase([0], device='cuda:0'),\n",
       " TensorBase([1], device='cuda:0'),\n",
       " TensorBase([   2, 2684, 4807], device='cuda:0'),\n",
       " TensorBase([3], device='cuda:0'),\n",
       " TensorBase([   4, 5154], device='cuda:0')]"
      ]
     },
     "execution_count": 22,
     "metadata": {},
     "output_type": "execute_result"
    }
   ],
   "source": [
    "emb_groups = groups_from_embs(embs,0.88)\n",
    "emb_groups[:5]"
   ]
  },
  {
   "cell_type": "code",
   "execution_count": 23,
   "id": "painful-ownership",
   "metadata": {},
   "outputs": [
    {
     "data": {
      "text/plain": [
       "0.7577581012917319"
      ]
     },
     "execution_count": 23,
     "metadata": {},
     "output_type": "execute_result"
    }
   ],
   "source": [
    "f1_score(emb_groups, real_groups)"
   ]
  },
  {
   "cell_type": "code",
   "execution_count": null,
   "id": "developing-arrow",
   "metadata": {},
   "outputs": [],
   "source": [
    "treshold_finder(embs, y)"
   ]
  },
  {
   "cell_type": "markdown",
   "id": "infrared-pixel",
   "metadata": {},
   "source": [
    "# Test "
   ]
  },
  {
   "cell_type": "code",
   "execution_count": 43,
   "id": "matched-incentive",
   "metadata": {},
   "outputs": [],
   "source": [
    "fake_test_df = train_df[['posting_id', 'image', 'image_phash', 'title']]"
   ]
  },
  {
   "cell_type": "code",
   "execution_count": 44,
   "id": "governing-hello",
   "metadata": {},
   "outputs": [],
   "source": [
    "fake_test_df = pd.concat([fake_test_df, fake_test_df])"
   ]
  },
  {
   "cell_type": "code",
   "execution_count": 45,
   "id": "incoming-madonna",
   "metadata": {},
   "outputs": [
    {
     "data": {
      "text/html": [
       "<div>\n",
       "<style scoped>\n",
       "    .dataframe tbody tr th:only-of-type {\n",
       "        vertical-align: middle;\n",
       "    }\n",
       "\n",
       "    .dataframe tbody tr th {\n",
       "        vertical-align: top;\n",
       "    }\n",
       "\n",
       "    .dataframe thead th {\n",
       "        text-align: right;\n",
       "    }\n",
       "</style>\n",
       "<table border=\"1\" class=\"dataframe\">\n",
       "  <thead>\n",
       "    <tr style=\"text-align: right;\">\n",
       "      <th></th>\n",
       "      <th>posting_id</th>\n",
       "      <th>image</th>\n",
       "      <th>image_phash</th>\n",
       "      <th>title</th>\n",
       "    </tr>\n",
       "  </thead>\n",
       "  <tbody>\n",
       "    <tr>\n",
       "      <th>0</th>\n",
       "      <td>train_129225211</td>\n",
       "      <td>0000a68812bc7e98c42888dfb1c07da0.jpg</td>\n",
       "      <td>94974f937d4c2433</td>\n",
       "      <td>Paper Bag Victoria Secret</td>\n",
       "    </tr>\n",
       "    <tr>\n",
       "      <th>1</th>\n",
       "      <td>train_3386243561</td>\n",
       "      <td>00039780dfc94d01db8676fe789ecd05.jpg</td>\n",
       "      <td>af3f9460c2838f0f</td>\n",
       "      <td>Double Tape 3M VHB 12 mm x 4,5 m ORIGINAL / DOUBLE FOAM TAPE</td>\n",
       "    </tr>\n",
       "    <tr>\n",
       "      <th>2</th>\n",
       "      <td>train_2288590299</td>\n",
       "      <td>000a190fdd715a2a36faed16e2c65df7.jpg</td>\n",
       "      <td>b94cb00ed3e50f78</td>\n",
       "      <td>Maling TTS Canned Pork Luncheon Meat 397 gr</td>\n",
       "    </tr>\n",
       "    <tr>\n",
       "      <th>3</th>\n",
       "      <td>train_2406599165</td>\n",
       "      <td>00117e4fc239b1b641ff08340b429633.jpg</td>\n",
       "      <td>8514fc58eafea283</td>\n",
       "      <td>Daster Batik Lengan pendek - Motif Acak / Campur - Leher Kancing (DPT001-00) Batik karakter Alhadi</td>\n",
       "    </tr>\n",
       "    <tr>\n",
       "      <th>4</th>\n",
       "      <td>train_3369186413</td>\n",
       "      <td>00136d1cf4edede0203f32f05f660588.jpg</td>\n",
       "      <td>a6f319f924ad708c</td>\n",
       "      <td>Nescafe \\xc3\\x89clair Latte 220ml</td>\n",
       "    </tr>\n",
       "    <tr>\n",
       "      <th>...</th>\n",
       "      <td>...</td>\n",
       "      <td>...</td>\n",
       "      <td>...</td>\n",
       "      <td>...</td>\n",
       "    </tr>\n",
       "    <tr>\n",
       "      <th>34245</th>\n",
       "      <td>train_4028265689</td>\n",
       "      <td>fff1c07ceefc2c970a7964cfb81981c5.jpg</td>\n",
       "      <td>e3cd72389f248f21</td>\n",
       "      <td>Masker Bahan Kain Spunbond Non Woven 75 gsm 3 ply lapis Bisa Dicuci</td>\n",
       "    </tr>\n",
       "    <tr>\n",
       "      <th>34246</th>\n",
       "      <td>train_769054909</td>\n",
       "      <td>fff401691371bdcb382a0d9075dfea6a.jpg</td>\n",
       "      <td>be86851f72e2853c</td>\n",
       "      <td>MamyPoko Pants Royal Soft - S 70 - Popok Celana</td>\n",
       "    </tr>\n",
       "    <tr>\n",
       "      <th>34247</th>\n",
       "      <td>train_614977732</td>\n",
       "      <td>fff421b78fa7284284724baf249f522e.jpg</td>\n",
       "      <td>ad27f0d08c0fcbf0</td>\n",
       "      <td>KHANZAACC Robot RE101S 1.2mm Subwoofer Bass Metal Wired Headset</td>\n",
       "    </tr>\n",
       "    <tr>\n",
       "      <th>34248</th>\n",
       "      <td>train_3630949769</td>\n",
       "      <td>fff51b87916dbfb6d0f8faa01bee67b8.jpg</td>\n",
       "      <td>e3b13bd1d896c05c</td>\n",
       "      <td>Kaldu NON MSG HALAL Mama Kamu Ayam Kampung , Sapi Lokal,  Jamur (Bkn Alsultan / Biocell)</td>\n",
       "    </tr>\n",
       "    <tr>\n",
       "      <th>34249</th>\n",
       "      <td>train_1792180725</td>\n",
       "      <td>ffffa0ab2ae542357671e96254fa7167.jpg</td>\n",
       "      <td>af8bc4b2d2cf9083</td>\n",
       "      <td>FLEX TAPE PELAPIS BOCOR / ISOLASI AJAIB / ANTI BOCOR</td>\n",
       "    </tr>\n",
       "  </tbody>\n",
       "</table>\n",
       "<p>68500 rows × 4 columns</p>\n",
       "</div>"
      ],
      "text/plain": [
       "             posting_id                                 image  \\\n",
       "0       train_129225211  0000a68812bc7e98c42888dfb1c07da0.jpg   \n",
       "1      train_3386243561  00039780dfc94d01db8676fe789ecd05.jpg   \n",
       "2      train_2288590299  000a190fdd715a2a36faed16e2c65df7.jpg   \n",
       "3      train_2406599165  00117e4fc239b1b641ff08340b429633.jpg   \n",
       "4      train_3369186413  00136d1cf4edede0203f32f05f660588.jpg   \n",
       "...                 ...                                   ...   \n",
       "34245  train_4028265689  fff1c07ceefc2c970a7964cfb81981c5.jpg   \n",
       "34246   train_769054909  fff401691371bdcb382a0d9075dfea6a.jpg   \n",
       "34247   train_614977732  fff421b78fa7284284724baf249f522e.jpg   \n",
       "34248  train_3630949769  fff51b87916dbfb6d0f8faa01bee67b8.jpg   \n",
       "34249  train_1792180725  ffffa0ab2ae542357671e96254fa7167.jpg   \n",
       "\n",
       "            image_phash  \\\n",
       "0      94974f937d4c2433   \n",
       "1      af3f9460c2838f0f   \n",
       "2      b94cb00ed3e50f78   \n",
       "3      8514fc58eafea283   \n",
       "4      a6f319f924ad708c   \n",
       "...                 ...   \n",
       "34245  e3cd72389f248f21   \n",
       "34246  be86851f72e2853c   \n",
       "34247  ad27f0d08c0fcbf0   \n",
       "34248  e3b13bd1d896c05c   \n",
       "34249  af8bc4b2d2cf9083   \n",
       "\n",
       "                                                                                                    title  \n",
       "0                                                                               Paper Bag Victoria Secret  \n",
       "1                                            Double Tape 3M VHB 12 mm x 4,5 m ORIGINAL / DOUBLE FOAM TAPE  \n",
       "2                                                             Maling TTS Canned Pork Luncheon Meat 397 gr  \n",
       "3      Daster Batik Lengan pendek - Motif Acak / Campur - Leher Kancing (DPT001-00) Batik karakter Alhadi  \n",
       "4                                                                       Nescafe \\xc3\\x89clair Latte 220ml  \n",
       "...                                                                                                   ...  \n",
       "34245                                 Masker Bahan Kain Spunbond Non Woven 75 gsm 3 ply lapis Bisa Dicuci  \n",
       "34246                                                     MamyPoko Pants Royal Soft - S 70 - Popok Celana  \n",
       "34247                                     KHANZAACC Robot RE101S 1.2mm Subwoofer Bass Metal Wired Headset  \n",
       "34248            Kaldu NON MSG HALAL Mama Kamu Ayam Kampung , Sapi Lokal,  Jamur (Bkn Alsultan / Biocell)  \n",
       "34249                                                FLEX TAPE PELAPIS BOCOR / ISOLASI AJAIB / ANTI BOCOR  \n",
       "\n",
       "[68500 rows x 4 columns]"
      ]
     },
     "execution_count": 45,
     "metadata": {},
     "output_type": "execute_result"
    }
   ],
   "source": [
    "fake_test_df"
   ]
  },
  {
   "cell_type": "code",
   "execution_count": 46,
   "id": "public-fetish",
   "metadata": {},
   "outputs": [],
   "source": [
    "test_dl = dls.test_dl(fake_test_df)"
   ]
  },
  {
   "cell_type": "code",
   "execution_count": 64,
   "id": "informed-prior",
   "metadata": {},
   "outputs": [
    {
     "data": {
      "application/vnd.jupyter.widget-view+json": {
       "model_id": "3c64762c43b84362ba2eee019961ce11",
       "version_major": 2,
       "version_minor": 0
      },
      "text/plain": [
       "  0%|          | 0/381 [00:00<?, ?it/s]"
      ]
     },
     "metadata": {},
     "output_type": "display_data"
    }
   ],
   "source": [
    "embs, _ = embs_from_resnet(learn.model, test_dl)"
   ]
  },
  {
   "cell_type": "code",
   "execution_count": 65,
   "id": "historical-trailer",
   "metadata": {},
   "outputs": [
    {
     "data": {
      "text/plain": [
       "torch.Size([68500, 1024])"
      ]
     },
     "execution_count": 65,
     "metadata": {},
     "output_type": "execute_result"
    }
   ],
   "source": [
    "embs.shape"
   ]
  },
  {
   "cell_type": "code",
   "execution_count": 66,
   "id": "hourly-heaven",
   "metadata": {},
   "outputs": [],
   "source": [
    "emb_groups = groups_from_embs(embs)\n"
   ]
  },
  {
   "cell_type": "code",
   "execution_count": 81,
   "id": "continued-irrigation",
   "metadata": {},
   "outputs": [],
   "source": [
    "def matches(group, data):\n",
    "    return ' '.join([data.iloc[x.cpu().item()].posting_id for x in group])"
   ]
  },
  {
   "cell_type": "code",
   "execution_count": 82,
   "id": "entire-mirror",
   "metadata": {},
   "outputs": [
    {
     "data": {
      "text/plain": [
       "'train_3386243561 train_1816968361 train_2120597446 train_3423213080 train_3805508898 train_3386243561 train_1816968361 train_2120597446 train_3423213080 train_3805508898'"
      ]
     },
     "execution_count": 82,
     "metadata": {},
     "output_type": "execute_result"
    }
   ],
   "source": [
    "matches(emb_groups[1], fake_test_df)"
   ]
  },
  {
   "cell_type": "code",
   "execution_count": 97,
   "id": "persistent-cologne",
   "metadata": {},
   "outputs": [
    {
     "name": "stdout",
     "output_type": "stream",
     "text": [
      "CPU times: user 2.25 s, sys: 10.5 ms, total: 2.26 s\n",
      "Wall time: 2.26 s\n"
     ]
    }
   ],
   "source": [
    "%%time\n",
    "m = [matches(g, fake_test_df) for g in emb_groups]"
   ]
  },
  {
   "cell_type": "code",
   "execution_count": 85,
   "id": "atomic-conflict",
   "metadata": {},
   "outputs": [],
   "source": [
    "fake_test_df['matches']=m"
   ]
  },
  {
   "cell_type": "code",
   "execution_count": 86,
   "id": "gothic-usage",
   "metadata": {},
   "outputs": [
    {
     "data": {
      "text/html": [
       "<div>\n",
       "<style scoped>\n",
       "    .dataframe tbody tr th:only-of-type {\n",
       "        vertical-align: middle;\n",
       "    }\n",
       "\n",
       "    .dataframe tbody tr th {\n",
       "        vertical-align: top;\n",
       "    }\n",
       "\n",
       "    .dataframe thead th {\n",
       "        text-align: right;\n",
       "    }\n",
       "</style>\n",
       "<table border=\"1\" class=\"dataframe\">\n",
       "  <thead>\n",
       "    <tr style=\"text-align: right;\">\n",
       "      <th></th>\n",
       "      <th>posting_id</th>\n",
       "      <th>image</th>\n",
       "      <th>image_phash</th>\n",
       "      <th>title</th>\n",
       "      <th>matches</th>\n",
       "    </tr>\n",
       "  </thead>\n",
       "  <tbody>\n",
       "    <tr>\n",
       "      <th>0</th>\n",
       "      <td>train_129225211</td>\n",
       "      <td>0000a68812bc7e98c42888dfb1c07da0.jpg</td>\n",
       "      <td>94974f937d4c2433</td>\n",
       "      <td>Paper Bag Victoria Secret</td>\n",
       "      <td>train_129225211 train_129225211</td>\n",
       "    </tr>\n",
       "    <tr>\n",
       "      <th>1</th>\n",
       "      <td>train_3386243561</td>\n",
       "      <td>00039780dfc94d01db8676fe789ecd05.jpg</td>\n",
       "      <td>af3f9460c2838f0f</td>\n",
       "      <td>Double Tape 3M VHB 12 mm x 4,5 m ORIGINAL / DOUBLE FOAM TAPE</td>\n",
       "      <td>train_3386243561 train_1816968361 train_2120597446 train_3423213080 train_3805508898 train_3386243561 train_1816968361 train_2120597446 train_3423213080 train_3805508898</td>\n",
       "    </tr>\n",
       "    <tr>\n",
       "      <th>2</th>\n",
       "      <td>train_2288590299</td>\n",
       "      <td>000a190fdd715a2a36faed16e2c65df7.jpg</td>\n",
       "      <td>b94cb00ed3e50f78</td>\n",
       "      <td>Maling TTS Canned Pork Luncheon Meat 397 gr</td>\n",
       "      <td>train_2288590299 train_2288590299</td>\n",
       "    </tr>\n",
       "    <tr>\n",
       "      <th>3</th>\n",
       "      <td>train_2406599165</td>\n",
       "      <td>00117e4fc239b1b641ff08340b429633.jpg</td>\n",
       "      <td>8514fc58eafea283</td>\n",
       "      <td>Daster Batik Lengan pendek - Motif Acak / Campur - Leher Kancing (DPT001-00) Batik karakter Alhadi</td>\n",
       "      <td>train_2406599165 train_1593362411 train_2406599165 train_1593362411</td>\n",
       "    </tr>\n",
       "    <tr>\n",
       "      <th>4</th>\n",
       "      <td>train_3369186413</td>\n",
       "      <td>00136d1cf4edede0203f32f05f660588.jpg</td>\n",
       "      <td>a6f319f924ad708c</td>\n",
       "      <td>Nescafe \\xc3\\x89clair Latte 220ml</td>\n",
       "      <td>train_3369186413 train_921438619 train_3369186413 train_921438619</td>\n",
       "    </tr>\n",
       "  </tbody>\n",
       "</table>\n",
       "</div>"
      ],
      "text/plain": [
       "         posting_id                                 image       image_phash  \\\n",
       "0   train_129225211  0000a68812bc7e98c42888dfb1c07da0.jpg  94974f937d4c2433   \n",
       "1  train_3386243561  00039780dfc94d01db8676fe789ecd05.jpg  af3f9460c2838f0f   \n",
       "2  train_2288590299  000a190fdd715a2a36faed16e2c65df7.jpg  b94cb00ed3e50f78   \n",
       "3  train_2406599165  00117e4fc239b1b641ff08340b429633.jpg  8514fc58eafea283   \n",
       "4  train_3369186413  00136d1cf4edede0203f32f05f660588.jpg  a6f319f924ad708c   \n",
       "\n",
       "                                                                                                title  \\\n",
       "0                                                                           Paper Bag Victoria Secret   \n",
       "1                                        Double Tape 3M VHB 12 mm x 4,5 m ORIGINAL / DOUBLE FOAM TAPE   \n",
       "2                                                         Maling TTS Canned Pork Luncheon Meat 397 gr   \n",
       "3  Daster Batik Lengan pendek - Motif Acak / Campur - Leher Kancing (DPT001-00) Batik karakter Alhadi   \n",
       "4                                                                   Nescafe \\xc3\\x89clair Latte 220ml   \n",
       "\n",
       "                                                                                                                                                                     matches  \n",
       "0                                                                                                                                            train_129225211 train_129225211  \n",
       "1  train_3386243561 train_1816968361 train_2120597446 train_3423213080 train_3805508898 train_3386243561 train_1816968361 train_2120597446 train_3423213080 train_3805508898  \n",
       "2                                                                                                                                          train_2288590299 train_2288590299  \n",
       "3                                                                                                        train_2406599165 train_1593362411 train_2406599165 train_1593362411  \n",
       "4                                                                                                          train_3369186413 train_921438619 train_3369186413 train_921438619  "
      ]
     },
     "execution_count": 86,
     "metadata": {},
     "output_type": "execute_result"
    }
   ],
   "source": [
    "fake_test_df.head()"
   ]
  },
  {
   "cell_type": "code",
   "execution_count": null,
   "id": "later-third",
   "metadata": {},
   "outputs": [],
   "source": []
  }
 ],
 "metadata": {
  "kernelspec": {
   "display_name": "Python 3.8.5 64-bit ('fastai': conda)",
   "language": "python",
   "name": "python38564bitfastaicondad52d12c5a30a4725bf9d3e235cf1271c"
  },
  "language_info": {
   "codemirror_mode": {
    "name": "ipython",
    "version": 3
   },
   "file_extension": ".py",
   "mimetype": "text/x-python",
   "name": "python",
   "nbconvert_exporter": "python",
   "pygments_lexer": "ipython3",
   "version": "3.8.5"
  }
 },
 "nbformat": 4,
 "nbformat_minor": 5
}
