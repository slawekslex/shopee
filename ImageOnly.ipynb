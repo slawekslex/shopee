{
 "cells": [
  {
   "cell_type": "code",
   "execution_count": 1,
   "id": "handled-center",
   "metadata": {},
   "outputs": [],
   "source": [
    "%load_ext autoreload\n",
    "%autoreload 2"
   ]
  },
  {
   "cell_type": "code",
   "execution_count": 2,
   "id": "naughty-football",
   "metadata": {},
   "outputs": [],
   "source": [
    "from fastai.vision.all import *\n",
    "from shopee_utils import *\n",
    "from train_utils import *\n",
    "import sklearn.metrics as skm\n",
    "from tqdm.notebook import tqdm\n",
    "\n",
    "from fastai.vision.learner import _resnet_split\n",
    "import h5py\n",
    "import timm"
   ]
  },
  {
   "cell_type": "code",
   "execution_count": null,
   "id": "accepted-royalty",
   "metadata": {},
   "outputs": [],
   "source": [
    "import debugpy\n",
    "debugpy.listen(5678)"
   ]
  },
  {
   "cell_type": "code",
   "execution_count": 6,
   "id": "numeric-chuck",
   "metadata": {},
   "outputs": [],
   "source": [
    "def efficientnet_b0(pretrained): return timm.create_model('efficientnet_b0', pretrained=pretrained)\n",
    "def efficientnet_b1(pretrained): return timm.create_model('efficientnet_b1', pretrained=pretrained)\n",
    "def efficientnet_b2(pretrained): return timm.create_model('efficientnet_b2', pretrained=pretrained)"
   ]
  },
  {
   "cell_type": "code",
   "execution_count": 7,
   "id": "brief-terror",
   "metadata": {},
   "outputs": [],
   "source": [
    "class conf():\n",
    "    bs = 64\n",
    "    #'arch':resnet34,\n",
    "    arch = efficientnet_b0\n",
    "    arcface_m=.4\n",
    "    arcface_s=30\n"
   ]
  },
  {
   "cell_type": "code",
   "execution_count": 8,
   "id": "dying-lighter",
   "metadata": {},
   "outputs": [
    {
     "name": "stderr",
     "output_type": "stream",
     "text": [
      "/home/slex/programy/anaconda3/envs/fastai/lib/python3.8/site-packages/sklearn/model_selection/_split.py:670: UserWarning: The least populated class in y has only 1 members, which is less than n_splits=5.\n",
      "  warnings.warn((\"The least populated class in y has only %d\"\n"
     ]
    }
   ],
   "source": [
    "train_df = add_splits(pd.read_csv(PATH/'train.csv'))\n"
   ]
  },
  {
   "cell_type": "code",
   "execution_count": 9,
   "id": "copyrighted-charter",
   "metadata": {},
   "outputs": [],
   "source": [
    "def get_img_file(row):\n",
    "    img =row.image\n",
    "    fn  = PATH/'train_images'/img\n",
    "    if not fn.is_file():\n",
    "        fn = PATH/'test_images'/img\n",
    "    return fn"
   ]
  },
  {
   "cell_type": "code",
   "execution_count": 10,
   "id": "broad-nitrogen",
   "metadata": {},
   "outputs": [],
   "source": [
    "data_block = DataBlock(blocks = (ImageBlock(), CategoryBlock(vocab=train_df.label_group.to_list())),\n",
    "                 splitter=ColSplitter(),\n",
    "                 #splitter=RandomSplitter(),\n",
    "                 get_y=ColReader('label_group'),\n",
    "                 get_x=get_img_file,\n",
    "                 item_tfms=Resize(460),\n",
    "                 batch_tfms=aug_transforms(size=224, min_scale=0.75),\n",
    "                 )\n",
    "dls = data_block.dataloaders(train_df, bs=conf.bs,num_workers=16)"
   ]
  },
  {
   "cell_type": "code",
   "execution_count": 11,
   "id": "endangered-worst",
   "metadata": {},
   "outputs": [],
   "source": [
    "class ArcFaceClassifier(nn.Module):\n",
    "    def __init__(self, in_features, output_classes):\n",
    "        super().__init__()\n",
    "        self.W = nn.Parameter(torch.Tensor(in_features, output_classes))\n",
    "        nn.init.kaiming_uniform_(self.W)\n",
    "    def forward(self, x):\n",
    "        x_norm = F.normalize(x)\n",
    "        W_norm = F.normalize(self.W, dim=0)\n",
    "        return x_norm @ W_norm\n",
    "    \n"
   ]
  },
  {
   "cell_type": "code",
   "execution_count": 42,
   "id": "loved-premium",
   "metadata": {},
   "outputs": [],
   "source": [
    "class ResnetArcFace(nn.Module):\n",
    "    def __init__(self):\n",
    "        super().__init__()\n",
    "        self.body = create_body(conf.arch, cut=-2)\n",
    "        nf = num_features_model(nn.Sequential(*self.body.children()))\n",
    "        self.after_conv=nn.Sequential(\n",
    "            AdaptiveConcatPool2d(),\n",
    "            Flatten(),\n",
    "            nn.BatchNorm1d(nf*2),\n",
    "            nn.Dropout(.25))\n",
    "        self.classifier = ArcFaceClassifier(nf*2, dls.c)\n",
    "        self.outputEmbs = False\n",
    "    def forward(self, x):\n",
    "        x = self.body(x)\n",
    "        embeddings = self.after_conv(x)\n",
    "        if self.outputEmbs:\n",
    "            return embeddings\n",
    "        return self.classifier(embeddings)"
   ]
  },
  {
   "cell_type": "code",
   "execution_count": 43,
   "id": "completed-litigation",
   "metadata": {},
   "outputs": [],
   "source": [
    "def split_2way(model):\n",
    "    return L(params(model.body),\n",
    "            params(model.classifier))"
   ]
  },
  {
   "cell_type": "code",
   "execution_count": 120,
   "id": "twenty-pointer",
   "metadata": {},
   "outputs": [],
   "source": [
    "def modules_params(modules):\n",
    "    return list(itertools.chain(*modules.map(params)))\n",
    "\n",
    "def split_b0(model):\n",
    "    body =model.body \n",
    "    b0_children = list(body.children())\n",
    "    convs = b0_children[3]\n",
    "    group1 =L(b0_children[:3]) + L(convs[:2]) \n",
    "    group2 = L(convs[2:]) + L(b0_children[4:])\n",
    "    group3 = L([model.after_conv,model.classifier])\n",
    "    return [modules_params(g) for g in [group1,group2,group3]]"
   ]
  },
  {
   "cell_type": "code",
   "execution_count": 139,
   "id": "vocational-tobacco",
   "metadata": {},
   "outputs": [
    {
     "name": "stderr",
     "output_type": "stream",
     "text": [
      "Downloading: \"https://github.com/rwightman/pytorch-image-models/releases/download/v0.1-weights/efficientnet_b2_ra-bcdf34b7.pth\" to /home/slex/.cache/torch/hub/checkpoints/efficientnet_b2_ra-bcdf34b7.pth\n"
     ]
    }
   ],
   "source": [
    "#opt_func=RMSProp\n",
    "opt_func=Adam\n",
    "loss_func=functools.partial(arcface_loss, m=conf.arcface_m, s=conf.arcface_s)\n",
    "learn = Learner(dls,ResnetArcFace(),splitter=split_b0, \n",
    "                opt_func=opt_func, loss_func=arcface_loss, cbs = F1FromEmbs, metrics=FakeMetric())"
   ]
  },
  {
   "cell_type": "code",
   "execution_count": 140,
   "id": "attached-award",
   "metadata": {},
   "outputs": [
    {
     "data": {
      "text/html": [
       "<table border=\"1\" class=\"dataframe\">\n",
       "  <thead>\n",
       "    <tr style=\"text-align: left;\">\n",
       "      <th>epoch</th>\n",
       "      <th>train_loss</th>\n",
       "      <th>valid_loss</th>\n",
       "      <th>F1 embeddings</th>\n",
       "      <th>time</th>\n",
       "    </tr>\n",
       "  </thead>\n",
       "  <tbody>\n",
       "    <tr>\n",
       "      <td>0</td>\n",
       "      <td>18.759026</td>\n",
       "      <td>None</td>\n",
       "      <td>0.707569</td>\n",
       "      <td>01:40</td>\n",
       "    </tr>\n",
       "  </tbody>\n",
       "</table>"
      ],
      "text/plain": [
       "<IPython.core.display.HTML object>"
      ]
     },
     "metadata": {},
     "output_type": "display_data"
    },
    {
     "data": {
      "text/html": [
       "<table border=\"1\" class=\"dataframe\">\n",
       "  <thead>\n",
       "    <tr style=\"text-align: left;\">\n",
       "      <th>epoch</th>\n",
       "      <th>train_loss</th>\n",
       "      <th>valid_loss</th>\n",
       "      <th>F1 embeddings</th>\n",
       "      <th>time</th>\n",
       "    </tr>\n",
       "  </thead>\n",
       "  <tbody>\n",
       "    <tr>\n",
       "      <td>0</td>\n",
       "      <td>14.589975</td>\n",
       "      <td>None</td>\n",
       "      <td>0.739926</td>\n",
       "      <td>02:03</td>\n",
       "    </tr>\n",
       "    <tr>\n",
       "      <td>1</td>\n",
       "      <td>12.927155</td>\n",
       "      <td>None</td>\n",
       "      <td>0.755388</td>\n",
       "      <td>02:03</td>\n",
       "    </tr>\n",
       "    <tr>\n",
       "      <td>2</td>\n",
       "      <td>11.088046</td>\n",
       "      <td>None</td>\n",
       "      <td>0.769582</td>\n",
       "      <td>02:03</td>\n",
       "    </tr>\n",
       "    <tr>\n",
       "      <td>3</td>\n",
       "      <td>8.971631</td>\n",
       "      <td>None</td>\n",
       "      <td>0.778303</td>\n",
       "      <td>02:04</td>\n",
       "    </tr>\n",
       "    <tr>\n",
       "      <td>4</td>\n",
       "      <td>7.041372</td>\n",
       "      <td>None</td>\n",
       "      <td>0.778677</td>\n",
       "      <td>02:05</td>\n",
       "    </tr>\n",
       "    <tr>\n",
       "      <td>5</td>\n",
       "      <td>5.251138</td>\n",
       "      <td>None</td>\n",
       "      <td>0.783466</td>\n",
       "      <td>02:05</td>\n",
       "    </tr>\n",
       "    <tr>\n",
       "      <td>6</td>\n",
       "      <td>4.006961</td>\n",
       "      <td>None</td>\n",
       "      <td>0.783025</td>\n",
       "      <td>02:05</td>\n",
       "    </tr>\n",
       "    <tr>\n",
       "      <td>7</td>\n",
       "      <td>3.499743</td>\n",
       "      <td>None</td>\n",
       "      <td>0.783289</td>\n",
       "      <td>02:05</td>\n",
       "    </tr>\n",
       "  </tbody>\n",
       "</table>"
      ],
      "text/plain": [
       "<IPython.core.display.HTML object>"
      ]
     },
     "metadata": {},
     "output_type": "display_data"
    }
   ],
   "source": [
    "learn.fine_tune(8,1e-2, lr_mult=50)"
   ]
  },
  {
   "cell_type": "code",
   "execution_count": 128,
   "id": "excess-reason",
   "metadata": {},
   "outputs": [
    {
     "data": {
      "text/plain": [
       "Path('models/b0_788.pth')"
      ]
     },
     "execution_count": 128,
     "metadata": {},
     "output_type": "execute_result"
    }
   ],
   "source": [
    "learn.save('b0_788')"
   ]
  },
  {
   "cell_type": "code",
   "execution_count": 21,
   "id": "complicated-collapse",
   "metadata": {},
   "outputs": [
    {
     "data": {
      "text/plain": [
       "<fastai.learner.Learner at 0x7efb73ae7fd0>"
      ]
     },
     "execution_count": 21,
     "metadata": {},
     "output_type": "execute_result"
    }
   ],
   "source": [
    "learn.load('resnet34_arcface')"
   ]
  },
  {
   "cell_type": "markdown",
   "id": "large-vinyl",
   "metadata": {},
   "source": [
    "# VALIDATION"
   ]
  },
  {
   "cell_type": "code",
   "execution_count": 131,
   "id": "damaged-trainer",
   "metadata": {},
   "outputs": [],
   "source": [
    "model = learn.model.eval().cuda()\n",
    "model.outputEmbs = True"
   ]
  },
  {
   "cell_type": "code",
   "execution_count": 132,
   "id": "hundred-behavior",
   "metadata": {},
   "outputs": [
    {
     "data": {
      "application/vnd.jupyter.widget-view+json": {
       "model_id": "773be63cc4964d3db5dc8d37fee3921b",
       "version_major": 2,
       "version_minor": 0
      },
      "text/plain": [
       "  0%|          | 0/108 [00:00<?, ?it/s]"
      ]
     },
     "metadata": {},
     "output_type": "display_data"
    }
   ],
   "source": [
    "embs, y = embs_from_model(model, dls.valid)\n"
   ]
  },
  {
   "cell_type": "code",
   "execution_count": 133,
   "id": "short-implement",
   "metadata": {},
   "outputs": [
    {
     "name": "stdout",
     "output_type": "stream",
     "text": [
      "0.788 at 4.680239200592041 pairs or 0.402 threshold\n"
     ]
    },
    {
     "data": {
      "text/plain": [
       "0.7880453269725372"
      ]
     },
     "execution_count": 133,
     "metadata": {},
     "output_type": "execute_result"
    },
    {
     "data": {
      "image/png": "[encoded data removed]",
      "text/plain": [
       "<Figure size 432x288 with 1 Axes>"
      ]
     },
     "metadata": {
      "needs_background": "light"
     },
     "output_type": "display_data"
    }
   ],
   "source": [
    "f1_from_embs(embs,y, True)"
   ]
  }
 ],
 "metadata": {
  "kernelspec": {
   "display_name": "Python 3.8.5 64-bit ('fastai': conda)",
   "language": "python",
   "name": "python38564bitfastaicondad52d12c5a30a4725bf9d3e235cf1271c"
  },
  "language_info": {
   "codemirror_mode": {
    "name": "ipython",
    "version": 3
   },
   "file_extension": ".py",
   "mimetype": "text/x-python",
   "name": "python",
   "nbconvert_exporter": "python",
   "pygments_lexer": "ipython3",
   "version": "3.8.5"
  }
 },
 "nbformat": 4,
 "nbformat_minor": 5
}
