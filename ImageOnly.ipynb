{
 "cells": [
  {
   "cell_type": "code",
   "execution_count": 1,
   "id": "apparent-savage",
   "metadata": {},
   "outputs": [],
   "source": [
    "%load_ext autoreload\n",
    "%autoreload 2"
   ]
  },
  {
   "cell_type": "code",
   "execution_count": 2,
   "id": "differential-springfield",
   "metadata": {},
   "outputs": [],
   "source": [
    "from fastai.vision.all import *\n",
    "from shopee_utils import *\n",
    "import sklearn.metrics as skm\n",
    "from tqdm.notebook import tqdm\n",
    "\n",
    "from fastai.vision.learner import _resnet_split\n",
    "import h5py"
   ]
  },
  {
   "cell_type": "code",
   "execution_count": 3,
   "id": "coral-davis",
   "metadata": {},
   "outputs": [
    {
     "data": {
      "text/plain": [
       "('127.0.0.1', 5678)"
      ]
     },
     "execution_count": 3,
     "metadata": {},
     "output_type": "execute_result"
    }
   ],
   "source": [
    "import debugpy\n",
    "debugpy.listen(5678)"
   ]
  },
  {
   "cell_type": "code",
   "execution_count": 3,
   "id": "hourly-cradle",
   "metadata": {},
   "outputs": [],
   "source": [
    "conf = {\n",
    "    'bs':64,\n",
    "    'arch':resnet50,\n",
    "    'split':0\n",
    "}"
   ]
  },
  {
   "cell_type": "code",
   "execution_count": 4,
   "id": "virgin-sector",
   "metadata": {},
   "outputs": [],
   "source": [
    "train_df = pd.read_csv(PATH/'train_split.csv')\n",
    "train_df['is_valid'] = train_df.split==conf['split']"
   ]
  },
  {
   "cell_type": "code",
   "execution_count": 6,
   "id": "veterinary-oliver",
   "metadata": {},
   "outputs": [],
   "source": [
    "# def hash_label(x):\n",
    "#     x = (13*x)%10000\n",
    "#     return x // 2000\n",
    "# train_df['split']=train_df.label_group.apply(hash_label)\n",
    "# train_df.to_csv(PATH/'train_split.csv')"
   ]
  },
  {
   "cell_type": "code",
   "execution_count": 5,
   "id": "friendly-draft",
   "metadata": {},
   "outputs": [],
   "source": [
    "def get_img_file(row):\n",
    "    img =row.image\n",
    "    fn  = PATH/'train_images'/img\n",
    "    if not fn.is_file():\n",
    "        fn = PATH/'test_images'/img\n",
    "    return fn"
   ]
  },
  {
   "cell_type": "code",
   "execution_count": 6,
   "id": "powerful-cassette",
   "metadata": {},
   "outputs": [],
   "source": [
    "data_block = DataBlock(blocks = (ImageBlock(), CategoryBlock(vocab=train_df.label_group.to_list())),\n",
    "                 splitter=ColSplitter(),\n",
    "                 #splitter=RandomSplitter(),\n",
    "                 get_y=ColReader('label_group'),\n",
    "                 get_x=get_img_file,\n",
    "                 item_tfms=Resize(460),\n",
    "                 batch_tfms=aug_transforms(size=224, min_scale=0.75),\n",
    "                 )\n",
    "dls = data_block.dataloaders(train_df, bs=conf['bs'],num_workers=16)"
   ]
  },
  {
   "cell_type": "code",
   "execution_count": 7,
   "id": "accomplished-cheese",
   "metadata": {},
   "outputs": [],
   "source": [
    "class ArcFaceClassifier(nn.Module):\n",
    "    def __init__(self, in_features, output_classes):\n",
    "        super().__init__()\n",
    "        self.W = nn.Parameter(torch.Tensor(in_features, output_classes))\n",
    "        nn.init.kaiming_uniform_(self.W)\n",
    "    def forward(self, x):\n",
    "        x_norm = F.normalize(x)\n",
    "        W_norm = F.normalize(self.W, dim=0)\n",
    "        return x_norm @ W_norm\n",
    "    \n",
    "    \n",
    "def arcface_loss(cosine, targ, m=.5, s=30):\n",
    "    cosine = cosine.clip(-1+1e-7, 1-1e-7) \n",
    "    arcosine = cosine.arccos()\n",
    "    arcosine += F.one_hot(targ, num_classes = dls.c) * m\n",
    "    cosine2 = arcosine.cos()\n",
    "    cosine2 *= s\n",
    "    return F.cross_entropy(cosine2, targ)"
   ]
  },
  {
   "cell_type": "code",
   "execution_count": 8,
   "id": "fewer-cream",
   "metadata": {},
   "outputs": [],
   "source": [
    "\n",
    "class F1FromEmbs(Callback):\n",
    "    def after_pred(self):\n",
    "        if not self.training:\n",
    "            self.embs.append(self.learn.pred)\n",
    "            self.ys.append(self.learn.yb[0])\n",
    "            self.learn.yb = tuple()\n",
    "    def before_validate(self):\n",
    "        self.ys = []\n",
    "        self.embs = []\n",
    "        self.model.outputEmbs = True\n",
    "    def before_train(self):\n",
    "        self.model.outputEmbs = False\n",
    "    def after_validate(self):\n",
    "        embs = torch.cat(self.embs)\n",
    "        ys = torch.cat(self.ys)\n",
    "        score = f1_from_embs(embs,ys)\n",
    "        learn.metrics[0].val = score\n",
    "\n",
    "class FakeMetric(Metric):\n",
    "    val =0.0\n",
    "    @property\n",
    "    def value(self):\n",
    "        return self.val\n",
    "    \n",
    "    @property\n",
    "    def name(self): \n",
    "        return 'F1 embeddings'"
   ]
  },
  {
   "cell_type": "code",
   "execution_count": 9,
   "id": "accessory-tactics",
   "metadata": {},
   "outputs": [],
   "source": [
    "class ResnetArcFace(nn.Module):\n",
    "    def __init__(self):\n",
    "        super().__init__()\n",
    "        self.body = create_body(conf['arch'], cut=-2)\n",
    "        nf = num_features_model(nn.Sequential(*self.body.children()))\n",
    "        self.after_conv=nn.Sequential(\n",
    "            AdaptiveConcatPool2d(),\n",
    "            Flatten(),\n",
    "            nn.BatchNorm1d(nf*2),\n",
    "            nn.Dropout(.25))\n",
    "        self.classifier = ArcFaceClassifier(nf*2, dls.c)\n",
    "        self.outputEmbs = False\n",
    "    def forward(self, x):\n",
    "        x = self.body(x)\n",
    "        embeddings = self.after_conv(x)\n",
    "        if self.outputEmbs:\n",
    "            return embeddings\n",
    "        return self.classifier(embeddings)"
   ]
  },
  {
   "cell_type": "code",
   "execution_count": 10,
   "id": "competitive-johns",
   "metadata": {},
   "outputs": [],
   "source": [
    "\n",
    "\n",
    "\n",
    "def arcface_loss(cosine, targ, m=.5, s=30):\n",
    "    cosine = cosine.clip(-1+1e-7, 1-1e-7) \n",
    "    arcosine = cosine.arccos()\n",
    "    arcosine += F.one_hot(targ, num_classes = dls.c) * m\n",
    "    cosine2 = arcosine.cos()\n",
    "    cosine2 *= s\n",
    "    return F.cross_entropy(cosine2, targ)\n",
    "\n"
   ]
  },
  {
   "cell_type": "code",
   "execution_count": 11,
   "id": "global-illinois",
   "metadata": {},
   "outputs": [],
   "source": [
    "def split_2way(model):\n",
    "    return L(params(model.body),\n",
    "            params(model.classifier))"
   ]
  },
  {
   "cell_type": "code",
   "execution_count": 12,
   "id": "painted-purchase",
   "metadata": {},
   "outputs": [],
   "source": [
    "learn = Learner(dls,ResnetArcFace(),splitter=split_2way, loss_func=arcface_loss, cbs = F1FromEmbs, metrics=FakeMetric())"
   ]
  },
  {
   "cell_type": "code",
   "execution_count": null,
   "id": "undefined-carrier",
   "metadata": {},
   "outputs": [
    {
     "data": {
      "text/html": [
       "<table border=\"1\" class=\"dataframe\">\n",
       "  <thead>\n",
       "    <tr style=\"text-align: left;\">\n",
       "      <th>epoch</th>\n",
       "      <th>train_loss</th>\n",
       "      <th>valid_loss</th>\n",
       "      <th>F1 embeddings</th>\n",
       "      <th>time</th>\n",
       "    </tr>\n",
       "  </thead>\n",
       "  <tbody>\n",
       "    <tr>\n",
       "      <td>0</td>\n",
       "      <td>18.353197</td>\n",
       "      <td>None</td>\n",
       "      <td>0.696604</td>\n",
       "      <td>01:49</td>\n",
       "    </tr>\n",
       "  </tbody>\n",
       "</table>"
      ],
      "text/plain": [
       "<IPython.core.display.HTML object>"
      ]
     },
     "metadata": {},
     "output_type": "display_data"
    },
    {
     "data": {
      "text/html": [
       "\n",
       "    <div>\n",
       "        <style>\n",
       "            /* Turns off some styling */\n",
       "            progress {\n",
       "                /* gets rid of default border in Firefox and Opera. */\n",
       "                border: none;\n",
       "                /* Needs to be in here for Safari polyfill so background images work as expected. */\n",
       "                background-size: auto;\n",
       "            }\n",
       "            .progress-bar-interrupted, .progress-bar-interrupted::-webkit-progress-bar {\n",
       "                background: #F44336;\n",
       "            }\n",
       "        </style>\n",
       "      <progress value='3' class='' max='10' style='width:300px; height:20px; vertical-align: middle;'></progress>\n",
       "      30.00% [3/10 06:22<14:53]\n",
       "    </div>\n",
       "    \n",
       "<table border=\"1\" class=\"dataframe\">\n",
       "  <thead>\n",
       "    <tr style=\"text-align: left;\">\n",
       "      <th>epoch</th>\n",
       "      <th>train_loss</th>\n",
       "      <th>valid_loss</th>\n",
       "      <th>F1 embeddings</th>\n",
       "      <th>time</th>\n",
       "    </tr>\n",
       "  </thead>\n",
       "  <tbody>\n",
       "    <tr>\n",
       "      <td>0</td>\n",
       "      <td>14.302702</td>\n",
       "      <td>None</td>\n",
       "      <td>0.717996</td>\n",
       "      <td>02:06</td>\n",
       "    </tr>\n",
       "    <tr>\n",
       "      <td>1</td>\n",
       "      <td>12.638057</td>\n",
       "      <td>None</td>\n",
       "      <td>0.724334</td>\n",
       "      <td>02:07</td>\n",
       "    </tr>\n",
       "    <tr>\n",
       "      <td>2</td>\n",
       "      <td>11.567471</td>\n",
       "      <td>None</td>\n",
       "      <td>0.737275</td>\n",
       "      <td>02:09</td>\n",
       "    </tr>\n",
       "  </tbody>\n",
       "</table><p>\n",
       "\n",
       "    <div>\n",
       "        <style>\n",
       "            /* Turns off some styling */\n",
       "            progress {\n",
       "                /* gets rid of default border in Firefox and Opera. */\n",
       "                border: none;\n",
       "                /* Needs to be in here for Safari polyfill so background images work as expected. */\n",
       "                background-size: auto;\n",
       "            }\n",
       "            .progress-bar-interrupted, .progress-bar-interrupted::-webkit-progress-bar {\n",
       "                background: #F44336;\n",
       "            }\n",
       "        </style>\n",
       "      <progress value='334' class='' max='428' style='width:300px; height:20px; vertical-align: middle;'></progress>\n",
       "      78.04% [334/428 01:29<00:25 9.8936]\n",
       "    </div>\n",
       "    "
      ],
      "text/plain": [
       "<IPython.core.display.HTML object>"
      ]
     },
     "metadata": {},
     "output_type": "display_data"
    }
   ],
   "source": [
    "learn.fine_tune(10,1e-2)"
   ]
  },
  {
   "cell_type": "code",
   "execution_count": 49,
   "id": "cosmetic-restaurant",
   "metadata": {},
   "outputs": [
    {
     "data": {
      "text/plain": [
       "Path('models/resnet34_arcface.pth')"
      ]
     },
     "execution_count": 49,
     "metadata": {},
     "output_type": "execute_result"
    }
   ],
   "source": [
    "learn.save('resnet34_arcface')"
   ]
  },
  {
   "cell_type": "markdown",
   "id": "crucial-northern",
   "metadata": {},
   "source": [
    "# VALIDATION Non arcface"
   ]
  },
  {
   "cell_type": "code",
   "execution_count": 50,
   "id": "pleased-progress",
   "metadata": {},
   "outputs": [],
   "source": [
    "model = learn.model.eval()\n",
    "model.outputEmbs = True"
   ]
  },
  {
   "cell_type": "code",
   "execution_count": null,
   "id": "dirty-blocking",
   "metadata": {},
   "outputs": [],
   "source": [
    "embs, y = embs_from_model(model, dls.valid)\n"
   ]
  },
  {
   "cell_type": "code",
   "execution_count": 56,
   "id": "raising-tunisia",
   "metadata": {},
   "outputs": [
    {
     "name": "stdout",
     "output_type": "stream",
     "text": [
      "0.780 at 4.938601493835449 pairs\n"
     ]
    },
    {
     "data": {
      "text/plain": [
       "0.7800704033339603"
      ]
     },
     "execution_count": 56,
     "metadata": {},
     "output_type": "execute_result"
    },
    {
     "data": {
      "image/png": "[encoded data removed]",
      "text/plain": [
       "<Figure size 432x288 with 1 Axes>"
      ]
     },
     "metadata": {
      "needs_background": "light"
     },
     "output_type": "display_data"
    }
   ],
   "source": [
    "f1_from_embs(embs,y, True)"
   ]
  },
  {
   "cell_type": "code",
   "execution_count": null,
   "id": "later-vehicle",
   "metadata": {},
   "outputs": [],
   "source": []
  }
 ],
 "metadata": {
  "kernelspec": {
   "display_name": "Python 3.8.5 64-bit ('fastai': conda)",
   "language": "python",
   "name": "python38564bitfastaicondad52d12c5a30a4725bf9d3e235cf1271c"
  },
  "language_info": {
   "codemirror_mode": {
    "name": "ipython",
    "version": 3
   },
   "file_extension": ".py",
   "mimetype": "text/x-python",
   "name": "python",
   "nbconvert_exporter": "python",
   "pygments_lexer": "ipython3",
   "version": "3.8.5"
  }
 },
 "nbformat": 4,
 "nbformat_minor": 5
}
