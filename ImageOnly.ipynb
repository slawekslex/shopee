{
 "cells": [
  {
   "cell_type": "code",
   "execution_count": 1,
   "id": "incomplete-piece",
   "metadata": {},
   "outputs": [],
   "source": [
    "%load_ext autoreload\n",
    "%autoreload 2"
   ]
  },
  {
   "cell_type": "code",
   "execution_count": 2,
   "id": "social-classics",
   "metadata": {},
   "outputs": [],
   "source": [
    "from fastai.vision.all import *\n",
    "from shopee_utils import *\n",
    "import sklearn.metrics as skm\n",
    "from tqdm.notebook import tqdm\n",
    "\n",
    "from fastai.vision.learner import _resnet_split\n",
    "import h5py"
   ]
  },
  {
   "cell_type": "code",
   "execution_count": 66,
   "id": "structural-situation",
   "metadata": {},
   "outputs": [
    {
     "ename": "RuntimeError",
     "evalue": "Can't listen for client connections: [Errno 98] Address already in use",
     "output_type": "error",
     "traceback": [
      "\u001b[0;31m---------------------------------------------------------------------------\u001b[0m",
      "\u001b[0;31mRuntimeError\u001b[0m                              Traceback (most recent call last)",
      "\u001b[0;32m<ipython-input-66-09ce2be6e182>\u001b[0m in \u001b[0;36m<module>\u001b[0;34m\u001b[0m\n\u001b[1;32m      1\u001b[0m \u001b[0;32mimport\u001b[0m \u001b[0mdebugpy\u001b[0m\u001b[0;34m\u001b[0m\u001b[0;34m\u001b[0m\u001b[0m\n\u001b[0;32m----> 2\u001b[0;31m \u001b[0mdebugpy\u001b[0m\u001b[0;34m.\u001b[0m\u001b[0mlisten\u001b[0m\u001b[0;34m(\u001b[0m\u001b[0;36m5678\u001b[0m\u001b[0;34m)\u001b[0m\u001b[0;34m\u001b[0m\u001b[0;34m\u001b[0m\u001b[0m\n\u001b[0m",
      "\u001b[0;32m~/programy/anaconda3/envs/fastai/lib/python3.8/site-packages/debugpy/__init__.py\u001b[0m in \u001b[0;36mlisten\u001b[0;34m(address)\u001b[0m\n\u001b[1;32m    111\u001b[0m     \u001b[0;32mfrom\u001b[0m \u001b[0mdebugpy\u001b[0m\u001b[0;34m.\u001b[0m\u001b[0mserver\u001b[0m \u001b[0;32mimport\u001b[0m \u001b[0mapi\u001b[0m\u001b[0;34m\u001b[0m\u001b[0;34m\u001b[0m\u001b[0m\n\u001b[1;32m    112\u001b[0m \u001b[0;34m\u001b[0m\u001b[0m\n\u001b[0;32m--> 113\u001b[0;31m     \u001b[0;32mreturn\u001b[0m \u001b[0mapi\u001b[0m\u001b[0;34m.\u001b[0m\u001b[0mlisten\u001b[0m\u001b[0;34m(\u001b[0m\u001b[0maddress\u001b[0m\u001b[0;34m)\u001b[0m\u001b[0;34m\u001b[0m\u001b[0;34m\u001b[0m\u001b[0m\n\u001b[0m\u001b[1;32m    114\u001b[0m \u001b[0;34m\u001b[0m\u001b[0m\n\u001b[1;32m    115\u001b[0m \u001b[0;34m\u001b[0m\u001b[0m\n",
      "\u001b[0;32m~/programy/anaconda3/envs/fastai/lib/python3.8/site-packages/debugpy/server/api.py\u001b[0m in \u001b[0;36mdebug\u001b[0;34m(address, **kwargs)\u001b[0m\n\u001b[1;32m    141\u001b[0m             \u001b[0;32mreturn\u001b[0m \u001b[0mfunc\u001b[0m\u001b[0;34m(\u001b[0m\u001b[0maddress\u001b[0m\u001b[0;34m,\u001b[0m \u001b[0msettrace_kwargs\u001b[0m\u001b[0;34m,\u001b[0m \u001b[0;34m**\u001b[0m\u001b[0mkwargs\u001b[0m\u001b[0;34m)\u001b[0m\u001b[0;34m\u001b[0m\u001b[0;34m\u001b[0m\u001b[0m\n\u001b[1;32m    142\u001b[0m         \u001b[0;32mexcept\u001b[0m \u001b[0mException\u001b[0m\u001b[0;34m:\u001b[0m\u001b[0;34m\u001b[0m\u001b[0;34m\u001b[0m\u001b[0m\n\u001b[0;32m--> 143\u001b[0;31m             \u001b[0mlog\u001b[0m\u001b[0;34m.\u001b[0m\u001b[0mreraise_exception\u001b[0m\u001b[0;34m(\u001b[0m\u001b[0;34m\"{0}() failed:\"\u001b[0m\u001b[0;34m,\u001b[0m \u001b[0mfunc\u001b[0m\u001b[0;34m.\u001b[0m\u001b[0m__name__\u001b[0m\u001b[0;34m,\u001b[0m \u001b[0mlevel\u001b[0m\u001b[0;34m=\u001b[0m\u001b[0;34m\"info\"\u001b[0m\u001b[0;34m)\u001b[0m\u001b[0;34m\u001b[0m\u001b[0;34m\u001b[0m\u001b[0m\n\u001b[0m\u001b[1;32m    144\u001b[0m \u001b[0;34m\u001b[0m\u001b[0m\n\u001b[1;32m    145\u001b[0m     \u001b[0;32mreturn\u001b[0m \u001b[0mdebug\u001b[0m\u001b[0;34m\u001b[0m\u001b[0;34m\u001b[0m\u001b[0m\n",
      "\u001b[0;32m~/programy/anaconda3/envs/fastai/lib/python3.8/site-packages/debugpy/server/api.py\u001b[0m in \u001b[0;36mdebug\u001b[0;34m(address, **kwargs)\u001b[0m\n\u001b[1;32m    139\u001b[0m \u001b[0;34m\u001b[0m\u001b[0m\n\u001b[1;32m    140\u001b[0m         \u001b[0;32mtry\u001b[0m\u001b[0;34m:\u001b[0m\u001b[0;34m\u001b[0m\u001b[0;34m\u001b[0m\u001b[0m\n\u001b[0;32m--> 141\u001b[0;31m             \u001b[0;32mreturn\u001b[0m \u001b[0mfunc\u001b[0m\u001b[0;34m(\u001b[0m\u001b[0maddress\u001b[0m\u001b[0;34m,\u001b[0m \u001b[0msettrace_kwargs\u001b[0m\u001b[0;34m,\u001b[0m \u001b[0;34m**\u001b[0m\u001b[0mkwargs\u001b[0m\u001b[0;34m)\u001b[0m\u001b[0;34m\u001b[0m\u001b[0;34m\u001b[0m\u001b[0m\n\u001b[0m\u001b[1;32m    142\u001b[0m         \u001b[0;32mexcept\u001b[0m \u001b[0mException\u001b[0m\u001b[0;34m:\u001b[0m\u001b[0;34m\u001b[0m\u001b[0;34m\u001b[0m\u001b[0m\n\u001b[1;32m    143\u001b[0m             \u001b[0mlog\u001b[0m\u001b[0;34m.\u001b[0m\u001b[0mreraise_exception\u001b[0m\u001b[0;34m(\u001b[0m\u001b[0;34m\"{0}() failed:\"\u001b[0m\u001b[0;34m,\u001b[0m \u001b[0mfunc\u001b[0m\u001b[0;34m.\u001b[0m\u001b[0m__name__\u001b[0m\u001b[0;34m,\u001b[0m \u001b[0mlevel\u001b[0m\u001b[0;34m=\u001b[0m\u001b[0;34m\"info\"\u001b[0m\u001b[0;34m)\u001b[0m\u001b[0;34m\u001b[0m\u001b[0;34m\u001b[0m\u001b[0m\n",
      "\u001b[0;32m~/programy/anaconda3/envs/fastai/lib/python3.8/site-packages/debugpy/server/api.py\u001b[0m in \u001b[0;36mlisten\u001b[0;34m(address, settrace_kwargs)\u001b[0m\n\u001b[1;32m    241\u001b[0m \u001b[0;34m\u001b[0m\u001b[0m\n\u001b[1;32m    242\u001b[0m     \u001b[0;32mif\u001b[0m \u001b[0;34m\"error\"\u001b[0m \u001b[0;32min\u001b[0m \u001b[0mendpoints\u001b[0m\u001b[0;34m:\u001b[0m\u001b[0;34m\u001b[0m\u001b[0;34m\u001b[0m\u001b[0m\n\u001b[0;32m--> 243\u001b[0;31m         \u001b[0;32mraise\u001b[0m \u001b[0mRuntimeError\u001b[0m\u001b[0;34m(\u001b[0m\u001b[0mstr\u001b[0m\u001b[0;34m(\u001b[0m\u001b[0mendpoints\u001b[0m\u001b[0;34m[\u001b[0m\u001b[0;34m\"error\"\u001b[0m\u001b[0;34m]\u001b[0m\u001b[0;34m)\u001b[0m\u001b[0;34m)\u001b[0m\u001b[0;34m\u001b[0m\u001b[0;34m\u001b[0m\u001b[0m\n\u001b[0m\u001b[1;32m    244\u001b[0m \u001b[0;34m\u001b[0m\u001b[0m\n\u001b[1;32m    245\u001b[0m     \u001b[0;32mtry\u001b[0m\u001b[0;34m:\u001b[0m\u001b[0;34m\u001b[0m\u001b[0;34m\u001b[0m\u001b[0m\n",
      "\u001b[0;31mRuntimeError\u001b[0m: Can't listen for client connections: [Errno 98] Address already in use"
     ]
    }
   ],
   "source": [
    "import debugpy\n",
    "debugpy.listen(5678)"
   ]
  },
  {
   "cell_type": "code",
   "execution_count": 16,
   "id": "amateur-enterprise",
   "metadata": {},
   "outputs": [],
   "source": [
    "conf = {\n",
    "    'bs':64,\n",
    "    'arch':resnet34,\n",
    "    'split':0\n",
    "}"
   ]
  },
  {
   "cell_type": "code",
   "execution_count": 5,
   "id": "virtual-modern",
   "metadata": {},
   "outputs": [],
   "source": [
    "train_df = pd.read_csv(PATH/'train_split.csv')\n",
    "train_df['is_valid'] = train_df.split==conf['split']"
   ]
  },
  {
   "cell_type": "code",
   "execution_count": 6,
   "id": "variable-consultancy",
   "metadata": {},
   "outputs": [],
   "source": [
    "# def hash_label(x):\n",
    "#     x = (13*x)%10000\n",
    "#     return x // 2000\n",
    "# train_df['split']=train_df.label_group.apply(hash_label)\n",
    "# train_df.to_csv(PATH/'train_split.csv')"
   ]
  },
  {
   "cell_type": "code",
   "execution_count": 7,
   "id": "behind-volume",
   "metadata": {},
   "outputs": [],
   "source": [
    "def get_img_file(row):\n",
    "    img =row.image\n",
    "    fn  = PATH/'train_images'/img\n",
    "    if not fn.is_file():\n",
    "        fn = PATH/'test_images'/img\n",
    "    return fn"
   ]
  },
  {
   "cell_type": "code",
   "execution_count": 8,
   "id": "premier-interface",
   "metadata": {},
   "outputs": [],
   "source": [
    "data_block = DataBlock(blocks = (ImageBlock(), CategoryBlock(vocab=train_df.label_group.to_list())),\n",
    "                 splitter=ColSplitter(),\n",
    "                 #splitter=RandomSplitter(),\n",
    "                 get_y=ColReader('label_group'),\n",
    "                 get_x=get_img_file,\n",
    "                 item_tfms=Resize(460),\n",
    "                 batch_tfms=aug_transforms(size=224, min_scale=0.75),\n",
    "                 )\n",
    "dls = data_block.dataloaders(train_df, bs=conf['bs'],num_workers=16)"
   ]
  },
  {
   "cell_type": "code",
   "execution_count": 9,
   "id": "mature-office",
   "metadata": {},
   "outputs": [],
   "source": [
    "class ArcFaceClassifier(nn.Module):\n",
    "    def __init__(self, in_features, output_classes):\n",
    "        super().__init__()\n",
    "        self.W = nn.Parameter(torch.Tensor(in_features, output_classes))\n",
    "        nn.init.kaiming_uniform_(self.W)\n",
    "    def forward(self, x):\n",
    "        x_norm = F.normalize(x)\n",
    "        W_norm = F.normalize(self.W, dim=0)\n",
    "        return x_norm @ W_norm\n",
    "    \n",
    "    \n",
    "def arcface_loss(cosine, targ, m=.5, s=30):\n",
    "    cosine = cosine.clip(-1+1e-7, 1-1e-7) \n",
    "    arcosine = cosine.arccos()\n",
    "    arcosine += F.one_hot(targ, num_classes = dls.c) * m\n",
    "    cosine2 = arcosine.cos()\n",
    "    cosine2 *= s\n",
    "    return F.cross_entropy(cosine2, targ)"
   ]
  },
  {
   "cell_type": "code",
   "execution_count": 10,
   "id": "animal-blogger",
   "metadata": {},
   "outputs": [],
   "source": [
    "\n",
    "class F1FromEmbs(Callback):\n",
    "    def after_pred(self):\n",
    "        if not self.training:\n",
    "            self.embs.append(self.learn.pred)\n",
    "            self.ys.append(self.learn.yb[0])\n",
    "            self.learn.yb = tuple()\n",
    "    def before_validate(self):\n",
    "        self.ys = []\n",
    "        self.embs = []\n",
    "        self.model.outputEmbs = True\n",
    "    def before_train(self):\n",
    "        self.model.outputEmbs = False\n",
    "    def after_validate(self):\n",
    "        embs = torch.cat(self.embs)\n",
    "        embs = F.normalize(embs)\n",
    "        ys = torch.cat(self.ys)\n",
    "        score = f1_from_embs(embs,ys)\n",
    "        learn.metrics[0].val = score\n",
    "\n",
    "class FakeMetric(Metric):\n",
    "    val =0.0\n",
    "    @property\n",
    "    def value(self):\n",
    "        return self.val\n",
    "    \n",
    "    @property\n",
    "    def name(self): \n",
    "        return 'F1 embeddings'"
   ]
  },
  {
   "cell_type": "code",
   "execution_count": 11,
   "id": "jewish-principal",
   "metadata": {},
   "outputs": [],
   "source": [
    "class ResnetArcFace(nn.Module):\n",
    "    def __init__(self):\n",
    "        super().__init__()\n",
    "        self.body = create_body(conf['arch'], cut=-2)\n",
    "        nf = num_features_model(nn.Sequential(*self.body.children()))\n",
    "        self.after_conv=nn.Sequential(\n",
    "            AdaptiveConcatPool2d(),\n",
    "            Flatten(),\n",
    "            nn.BatchNorm1d(nf*2),\n",
    "            nn.Dropout(.25))\n",
    "        self.classifier = ArcFaceClassifier(nf*2, dls.c)\n",
    "        self.outputEmbs = False\n",
    "    def forward(self, x):\n",
    "        x = self.body(x)\n",
    "        embeddings = self.after_conv(x)\n",
    "        if self.outputEmbs:\n",
    "            return embeddings\n",
    "        return self.classifier(embeddings)"
   ]
  },
  {
   "cell_type": "code",
   "execution_count": 12,
   "id": "specified-stack",
   "metadata": {},
   "outputs": [],
   "source": [
    "\n",
    "\n",
    "\n",
    "def arcface_loss(cosine, targ, m=.5, s=30, output_classes=11014):\n",
    "    cosine = cosine.clip(-1+1e-7, 1-1e-7) \n",
    "    arcosine = cosine.arccos()\n",
    "    arcosine += F.one_hot(targ, num_classes = output_classes) * m\n",
    "    cosine2 = arcosine.cos()\n",
    "    cosine2 *= s\n",
    "    return F.cross_entropy(cosine2, targ)\n",
    "\n"
   ]
  },
  {
   "cell_type": "code",
   "execution_count": 13,
   "id": "approved-roulette",
   "metadata": {},
   "outputs": [],
   "source": [
    "def split_2way(model):\n",
    "    return L(params(model.body),\n",
    "            params(model.classifier))"
   ]
  },
  {
   "cell_type": "code",
   "execution_count": 17,
   "id": "elementary-working",
   "metadata": {},
   "outputs": [],
   "source": [
    "learn = Learner(dls,ResnetArcFace(),splitter=split_2way, loss_func=arcface_loss, cbs = F1FromEmbs, metrics=FakeMetric())"
   ]
  },
  {
   "cell_type": "code",
   "execution_count": 21,
   "id": "israeli-norwegian",
   "metadata": {},
   "outputs": [
    {
     "data": {
      "text/html": [
       "<table border=\"1\" class=\"dataframe\">\n",
       "  <thead>\n",
       "    <tr style=\"text-align: left;\">\n",
       "      <th>epoch</th>\n",
       "      <th>train_loss</th>\n",
       "      <th>valid_loss</th>\n",
       "      <th>F1 embeddings</th>\n",
       "      <th>time</th>\n",
       "    </tr>\n",
       "  </thead>\n",
       "  <tbody>\n",
       "    <tr>\n",
       "      <td>0</td>\n",
       "      <td>18.397913</td>\n",
       "      <td>None</td>\n",
       "      <td>0.740615</td>\n",
       "      <td>01:50</td>\n",
       "    </tr>\n",
       "  </tbody>\n",
       "</table>"
      ],
      "text/plain": [
       "<IPython.core.display.HTML object>"
      ]
     },
     "metadata": {},
     "output_type": "display_data"
    },
    {
     "data": {
      "text/html": [
       "<table border=\"1\" class=\"dataframe\">\n",
       "  <thead>\n",
       "    <tr style=\"text-align: left;\">\n",
       "      <th>epoch</th>\n",
       "      <th>train_loss</th>\n",
       "      <th>valid_loss</th>\n",
       "      <th>F1 embeddings</th>\n",
       "      <th>time</th>\n",
       "    </tr>\n",
       "  </thead>\n",
       "  <tbody>\n",
       "    <tr>\n",
       "      <td>0</td>\n",
       "      <td>14.636448</td>\n",
       "      <td>None</td>\n",
       "      <td>0.755961</td>\n",
       "      <td>02:06</td>\n",
       "    </tr>\n",
       "    <tr>\n",
       "      <td>1</td>\n",
       "      <td>11.911769</td>\n",
       "      <td>None</td>\n",
       "      <td>0.769559</td>\n",
       "      <td>02:07</td>\n",
       "    </tr>\n",
       "    <tr>\n",
       "      <td>2</td>\n",
       "      <td>9.154172</td>\n",
       "      <td>None</td>\n",
       "      <td>0.772180</td>\n",
       "      <td>02:08</td>\n",
       "    </tr>\n",
       "  </tbody>\n",
       "</table>"
      ],
      "text/plain": [
       "<IPython.core.display.HTML object>"
      ]
     },
     "metadata": {},
     "output_type": "display_data"
    }
   ],
   "source": [
    "learn.fine_tune(3,1e-2)"
   ]
  },
  {
   "cell_type": "code",
   "execution_count": 18,
   "id": "perfect-corner",
   "metadata": {},
   "outputs": [
    {
     "data": {
      "text/plain": [
       "Path('models/resnet34_arcface.pth')"
      ]
     },
     "execution_count": 18,
     "metadata": {},
     "output_type": "execute_result"
    }
   ],
   "source": [
    "learn.save('resnet34_arcface')"
   ]
  },
  {
   "cell_type": "code",
   "execution_count": 21,
   "id": "alert-canvas",
   "metadata": {},
   "outputs": [
    {
     "data": {
      "text/plain": [
       "<fastai.learner.Learner at 0x7efb73ae7fd0>"
      ]
     },
     "execution_count": 21,
     "metadata": {},
     "output_type": "execute_result"
    }
   ],
   "source": [
    "learn.load('resnet34_arcface')"
   ]
  },
  {
   "cell_type": "markdown",
   "id": "offensive-tyler",
   "metadata": {},
   "source": [
    "# VALIDATION Non arcface"
   ]
  },
  {
   "cell_type": "code",
   "execution_count": 24,
   "id": "burning-opportunity",
   "metadata": {},
   "outputs": [],
   "source": [
    "model = learn.model.eval().cuda()\n",
    "model.outputEmbs = True"
   ]
  },
  {
   "cell_type": "code",
   "execution_count": 25,
   "id": "educational-organization",
   "metadata": {},
   "outputs": [
    {
     "data": {
      "application/vnd.jupyter.widget-view+json": {
       "model_id": "6064c7d4124342b4a88c9f08154610ba",
       "version_major": 2,
       "version_minor": 0
      },
      "text/plain": [
       "  0%|          | 0/107 [00:00<?, ?it/s]"
      ]
     },
     "metadata": {},
     "output_type": "display_data"
    }
   ],
   "source": [
    "embs, y = embs_from_model(model, dls.valid)\n"
   ]
  },
  {
   "cell_type": "code",
   "execution_count": 74,
   "id": "coated-glenn",
   "metadata": {},
   "outputs": [
    {
     "name": "stdout",
     "output_type": "stream",
     "text": [
      "0.780 at 4.938601493835449 pairs or 0.395 threshold\n",
      "taking: 0.7177734375\n"
     ]
    },
    {
     "data": {
      "text/plain": [
       "0.7800704033339602"
      ]
     },
     "execution_count": 74,
     "metadata": {},
     "output_type": "execute_result"
    },
    {
     "data": {
      "image/png": "[encoded data removed]",
      "text/plain": [
       "<Figure size 432x288 with 1 Axes>"
      ]
     },
     "metadata": {
      "needs_background": "light"
     },
     "output_type": "display_data"
    }
   ],
   "source": [
    "f1_from_embs(embs,y, True)"
   ]
  }
 ],
 "metadata": {
  "kernelspec": {
   "display_name": "Python 3.8.5 64-bit ('fastai': conda)",
   "language": "python",
   "name": "python38564bitfastaicondad52d12c5a30a4725bf9d3e235cf1271c"
  },
  "language_info": {
   "codemirror_mode": {
    "name": "ipython",
    "version": 3
   },
   "file_extension": ".py",
   "mimetype": "text/x-python",
   "name": "python",
   "nbconvert_exporter": "python",
   "pygments_lexer": "ipython3",
   "version": "3.8.5"
  }
 },
 "nbformat": 4,
 "nbformat_minor": 5
}
