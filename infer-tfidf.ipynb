{
 "cells": [
  {
   "cell_type": "code",
   "execution_count": 1,
   "metadata": {},
   "outputs": [],
   "source": [
    "%load_ext autoreload\n",
    "%autoreload 2"
   ]
  },
  {
   "cell_type": "code",
   "execution_count": 2,
   "metadata": {},
   "outputs": [],
   "source": [
    "from utils import *"
   ]
  },
  {
   "cell_type": "code",
   "execution_count": 3,
   "metadata": {},
   "outputs": [],
   "source": [
    "from pathlib import Path\n",
    "\n",
    "import h5py\n",
    "import pandas as pd\n",
    "import numpy as np\n",
    "import functools\n",
    "import matplotlib.pyplot as plt\n",
    "import sklearn.feature_extraction.text\n",
    "import torch"
   ]
  },
  {
   "cell_type": "code",
   "execution_count": 4,
   "metadata": {},
   "outputs": [],
   "source": [
    "PATH = Path('../input/shopee-product-matching')\n",
    "if not PATH.is_dir():\n",
    "    PATH = Path('/home/slex/data/shopee')"
   ]
  },
  {
   "cell_type": "code",
   "execution_count": 5,
   "metadata": {},
   "outputs": [],
   "source": [
    "TAKE_PAIRS = 5"
   ]
  },
  {
   "cell_type": "code",
   "execution_count": 6,
   "metadata": {},
   "outputs": [],
   "source": [
    "data = pd.read_csv(PATH/'test.csv')\n"
   ]
  },
  {
   "cell_type": "code",
   "execution_count": 7,
   "metadata": {},
   "outputs": [],
   "source": [
    "fake_test_df = pd.read_csv(PATH/'train.csv')[['posting_id', 'image', 'image_phash', 'title', 'label_group']]\n",
    "target_groups = fake_test_df.groupby('label_group').indices\n",
    "fake_test_df['target']=fake_test_df.label_group.map(target_groups)\n",
    "\n",
    "data = fake_test_df"
   ]
  },
  {
   "cell_type": "code",
   "execution_count": 10,
   "metadata": {},
   "outputs": [],
   "source": [
    "def csr_matrix_to_tensor(csr):\n",
    "    coo = csr.tocoo()\n",
    "    t = torch.sparse_coo_tensor([coo.row, coo.col], coo.data, csr.shape).cuda()\n",
    "    return t\n",
    "\n",
    "def do_chunk_text(embs):\n",
    "    step = 5000\n",
    "    for chunk_start in range(0, embs.shape[0], step):\n",
    "        chunk_end = min(chunk_start+step, embs.shape[0])\n",
    "        chunk = embs[chunk_start:chunk_end]\n",
    "        chunk = csr_matrix_to_tensor(chunk).to_dense()\n",
    "        yield chunk\n",
    "\n",
    "def generate_text_pairs(data):\n",
    "    sk_model = sklearn.feature_extraction.text.TfidfVectorizer(stop_words='english', binary=True, max_features=25_000)\n",
    "    text_embeddings =sk_model.fit_transform(data.title)\n",
    "    sparse_embs = csr_matrix_to_tensor(text_embeddings)\n",
    "    dists, inds = get_nearest(sparse_embs, do_chunk_text(text_embeddings))\n",
    "    pairs = sorted_pairs(dists, inds)[:int(len(data)*TAKE_PAIRS)]\n",
    "    return pairs"
   ]
  },
  {
   "cell_type": "code",
   "execution_count": 11,
   "metadata": {},
   "outputs": [],
   "source": [
    "pairs = generate_text_pairs(data)"
   ]
  },
  {
   "cell_type": "code",
   "execution_count": 12,
   "metadata": {},
   "outputs": [
    {
     "name": "stdout",
     "output_type": "stream",
     "text": [
      "0.661 at 4.9255475997924805 pairs\n"
     ]
    },
    {
     "data": {
      "image/png": "[encoded data removed]",
      "text/plain": [
       "<Figure size 432x288 with 1 Axes>"
      ]
     },
     "metadata": {
      "needs_background": "light"
     },
     "output_type": "display_data"
    }
   ],
   "source": [
    "if 'target' in data.columns.to_list():\n",
    "    _=build_from_pairs(pairs, data.target.to_list())"
   ]
  },
  {
   "cell_type": "code",
   "execution_count": 13,
   "metadata": {},
   "outputs": [],
   "source": [
    "groups = [[] for _ in range(len(data))]\n",
    "for x,y,v in pairs:\n",
    "    groups[x].append(y)"
   ]
  },
  {
   "cell_type": "code",
   "execution_count": 14,
   "metadata": {},
   "outputs": [],
   "source": [
    "matches = [' '.join(data.iloc[g].posting_id.to_list()) for g in groups]\n",
    "data['matches'] = matches"
   ]
  },
  {
   "cell_type": "code",
   "execution_count": 15,
   "metadata": {},
   "outputs": [],
   "source": [
    "data[['posting_id','matches']].to_csv('submission.csv',index=False)"
   ]
  },
  {
   "cell_type": "code",
   "execution_count": 16,
   "metadata": {},
   "outputs": [
    {
     "data": {
      "text/html": [
       "<div>\n",
       "<style scoped>\n",
       "    .dataframe tbody tr th:only-of-type {\n",
       "        vertical-align: middle;\n",
       "    }\n",
       "\n",
       "    .dataframe tbody tr th {\n",
       "        vertical-align: top;\n",
       "    }\n",
       "\n",
       "    .dataframe thead th {\n",
       "        text-align: right;\n",
       "    }\n",
       "</style>\n",
       "<table border=\"1\" class=\"dataframe\">\n",
       "  <thead>\n",
       "    <tr style=\"text-align: right;\">\n",
       "      <th></th>\n",
       "      <th>posting_id</th>\n",
       "      <th>matches</th>\n",
       "    </tr>\n",
       "  </thead>\n",
       "  <tbody>\n",
       "    <tr>\n",
       "      <th>0</th>\n",
       "      <td>train_129225211</td>\n",
       "      <td>train_129225211 train_2278313361</td>\n",
       "    </tr>\n",
       "    <tr>\n",
       "      <th>1</th>\n",
       "      <td>train_3386243561</td>\n",
       "      <td>train_3386243561 train_3423213080 train_1831941588 train_3805508898</td>\n",
       "    </tr>\n",
       "    <tr>\n",
       "      <th>2</th>\n",
       "      <td>train_2288590299</td>\n",
       "      <td>train_2288590299 train_3803689425</td>\n",
       "    </tr>\n",
       "    <tr>\n",
       "      <th>3</th>\n",
       "      <td>train_2406599165</td>\n",
       "      <td>train_2406599165 train_1744956981 train_3526771004 train_3576714541 train_1508100548 train_2043094887 train_2560623727 train_466135735</td>\n",
       "    </tr>\n",
       "    <tr>\n",
       "      <th>4</th>\n",
       "      <td>train_3369186413</td>\n",
       "      <td>train_3369186413</td>\n",
       "    </tr>\n",
       "    <tr>\n",
       "      <th>...</th>\n",
       "      <td>...</td>\n",
       "      <td>...</td>\n",
       "    </tr>\n",
       "    <tr>\n",
       "      <th>34245</th>\n",
       "      <td>train_4028265689</td>\n",
       "      <td>train_4028265689</td>\n",
       "    </tr>\n",
       "    <tr>\n",
       "      <th>34246</th>\n",
       "      <td>train_769054909</td>\n",
       "      <td>train_1463059254 train_769054909 train_2530102819 train_2930576726 train_4120437054 train_3668574065 train_538243438 train_1006492702</td>\n",
       "    </tr>\n",
       "    <tr>\n",
       "      <th>34247</th>\n",
       "      <td>train_614977732</td>\n",
       "      <td>train_614977732 train_512157627 train_2690464637 train_9568348</td>\n",
       "    </tr>\n",
       "    <tr>\n",
       "      <th>34248</th>\n",
       "      <td>train_3630949769</td>\n",
       "      <td>train_3630949769 train_3419392575 train_1431563868</td>\n",
       "    </tr>\n",
       "    <tr>\n",
       "      <th>34249</th>\n",
       "      <td>train_1792180725</td>\n",
       "      <td>train_1792180725 train_795128312</td>\n",
       "    </tr>\n",
       "  </tbody>\n",
       "</table>\n",
       "<p>34250 rows × 2 columns</p>\n",
       "</div>"
      ],
      "text/plain": [
       "             posting_id  \\\n",
       "0       train_129225211   \n",
       "1      train_3386243561   \n",
       "2      train_2288590299   \n",
       "3      train_2406599165   \n",
       "4      train_3369186413   \n",
       "...                 ...   \n",
       "34245  train_4028265689   \n",
       "34246   train_769054909   \n",
       "34247   train_614977732   \n",
       "34248  train_3630949769   \n",
       "34249  train_1792180725   \n",
       "\n",
       "                                                                                                                                      matches  \n",
       "0                                                                                                            train_129225211 train_2278313361  \n",
       "1                                                                         train_3386243561 train_3423213080 train_1831941588 train_3805508898  \n",
       "2                                                                                                           train_2288590299 train_3803689425  \n",
       "3      train_2406599165 train_1744956981 train_3526771004 train_3576714541 train_1508100548 train_2043094887 train_2560623727 train_466135735  \n",
       "4                                                                                                                            train_3369186413  \n",
       "...                                                                                                                                       ...  \n",
       "34245                                                                                                                        train_4028265689  \n",
       "34246   train_1463059254 train_769054909 train_2530102819 train_2930576726 train_4120437054 train_3668574065 train_538243438 train_1006492702  \n",
       "34247                                                                          train_614977732 train_512157627 train_2690464637 train_9568348  \n",
       "34248                                                                                      train_3630949769 train_3419392575 train_1431563868  \n",
       "34249                                                                                                        train_1792180725 train_795128312  \n",
       "\n",
       "[34250 rows x 2 columns]"
      ]
     },
     "execution_count": 16,
     "metadata": {},
     "output_type": "execute_result"
    }
   ],
   "source": [
    "pd.read_csv('submission.csv')"
   ]
  }
 ],
 "metadata": {
  "kernelspec": {
   "display_name": "Python 3.8.5 64-bit ('fastai': conda)",
   "language": "python",
   "name": "python38564bitfastaicondad52d12c5a30a4725bf9d3e235cf1271c"
  },
  "language_info": {
   "codemirror_mode": {
    "name": "ipython",
    "version": 3
   },
   "file_extension": ".py",
   "mimetype": "text/x-python",
   "name": "python",
   "nbconvert_exporter": "python",
   "pygments_lexer": "ipython3",
   "version": "3.8.5"
  }
 },
 "nbformat": 4,
 "nbformat_minor": 4
}
