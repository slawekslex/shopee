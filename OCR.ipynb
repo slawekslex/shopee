{
 "cells": [
  {
   "cell_type": "code",
   "execution_count": 1,
   "id": "bigger-clinic",
   "metadata": {},
   "outputs": [],
   "source": [
    "from fastai.vision.all import *\n",
    "from shopee_utils import *\n",
    "import pytesseract\n",
    "from PIL import Image"
   ]
  },
  {
   "cell_type": "code",
   "execution_count": 2,
   "id": "radical-imaging",
   "metadata": {},
   "outputs": [
    {
     "name": "stderr",
     "output_type": "stream",
     "text": [
      "/home/slex/programy/anaconda3/envs/fastai/lib/python3.8/site-packages/sklearn/model_selection/_split.py:670: UserWarning: The least populated class in y has only 1 members, which is less than n_splits=5.\n",
      "  warnings.warn((\"The least populated class in y has only %d\"\n"
     ]
    }
   ],
   "source": [
    "train_df = add_splits(pd.read_csv(PATH/'train.csv'))"
   ]
  },
  {
   "cell_type": "code",
   "execution_count": 3,
   "id": "conditional-logistics",
   "metadata": {},
   "outputs": [],
   "source": [
    "def get_img_file(row):\n",
    "    img =row.image\n",
    "    fn  = PATH/'train_images'/img\n",
    "    if not fn.is_file():\n",
    "        fn = PATH/'test_images'/img\n",
    "    return fn"
   ]
  },
  {
   "cell_type": "code",
   "execution_count": 4,
   "id": "wired-beauty",
   "metadata": {},
   "outputs": [
    {
     "data": {
      "text/plain": [
       "Path('/home/slex/data/shopee/train_images/0000a68812bc7e98c42888dfb1c07da0.jpg')"
      ]
     },
     "execution_count": 4,
     "metadata": {},
     "output_type": "execute_result"
    }
   ],
   "source": [
    "get_img_file(train_df.iloc[0])"
   ]
  },
  {
   "cell_type": "code",
   "execution_count": 5,
   "id": "micro-seminar",
   "metadata": {},
   "outputs": [
    {
     "data": {
      "text/plain": [
       "['eng', 'ind', 'osd']"
      ]
     },
     "execution_count": 5,
     "metadata": {},
     "output_type": "execute_result"
    }
   ],
   "source": [
    "pytesseract.get_languages()"
   ]
  },
  {
   "cell_type": "code",
   "execution_count": 8,
   "id": "acting-compromise",
   "metadata": {},
   "outputs": [],
   "source": [
    "def get_ocr(idx):\n",
    "    img = Image.open(get_img_file(train_df.iloc[idx]))\n",
    "    txt =pytesseract.image_to_string(img,lang='eng+ind')\n",
    "    return txt.strip()"
   ]
  },
  {
   "cell_type": "code",
   "execution_count": 16,
   "id": "significant-diploma",
   "metadata": {},
   "outputs": [
    {
     "data": {
      "application/vnd.jupyter.widget-view+json": {
       "model_id": "e8b8907c254841cc8d67a10ff07369e8",
       "version_major": 2,
       "version_minor": 0
      },
      "text/plain": [
       "  0%|          | 0/34250 [00:00<?, ?it/s]"
      ]
     },
     "metadata": {},
     "output_type": "display_data"
    },
    {
     "name": "stdout",
     "output_type": "stream",
     "text": [
      "CPU times: user 9min 8s, sys: 5min 50s, total: 14min 59s\n",
      "Wall time: 1h 52min 48s\n"
     ]
    }
   ],
   "source": [
    "%%time\n",
    "ocrs=[]\n",
    "for i in tqdm(range(len(train_df))):\n",
    "    ocrs.append(get_ocr(i))"
   ]
  },
  {
   "cell_type": "code",
   "execution_count": null,
   "id": "formal-portuguese",
   "metadata": {},
   "outputs": [],
   "source": []
  }
 ],
 "metadata": {
  "kernelspec": {
   "display_name": "Python 3.8.5 64-bit ('fastai': conda)",
   "language": "python",
   "name": "python38564bitfastaicondad52d12c5a30a4725bf9d3e235cf1271c"
  },
  "language_info": {
   "codemirror_mode": {
    "name": "ipython",
    "version": 3
   },
   "file_extension": ".py",
   "mimetype": "text/x-python",
   "name": "python",
   "nbconvert_exporter": "python",
   "pygments_lexer": "ipython3",
   "version": "3.8.5"
  }
 },
 "nbformat": 4,
 "nbformat_minor": 5
}
