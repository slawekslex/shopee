{
 "cells": [
  {
   "cell_type": "code",
   "execution_count": 108,
   "id": "foreign-territory",
   "metadata": {},
   "outputs": [],
   "source": [
    "import pandas as pd\n",
    "import numpy as np\n",
    "import h5py\n",
    "from pathlib import Path\n",
    "import matplotlib.pyplot as plt\n",
    "import torch"
   ]
  },
  {
   "cell_type": "code",
   "execution_count": 12,
   "id": "senior-limit",
   "metadata": {},
   "outputs": [],
   "source": [
    "f_img = h5py.File(\"resnet_pairs.hdf5\", \"r\")\n",
    "f_text = h5py.File(\"tfid_pairs.hdf5\", \"r\")"
   ]
  },
  {
   "cell_type": "code",
   "execution_count": 21,
   "id": "ambient-wright",
   "metadata": {},
   "outputs": [],
   "source": [
    "def ds_tolist(ds):\n",
    "    return ds[()].tolist()"
   ]
  },
  {
   "cell_type": "code",
   "execution_count": 24,
   "id": "lucky-reward",
   "metadata": {},
   "outputs": [],
   "source": [
    "imgx = ds_tolist(f_img['indices_x'])\n",
    "imgy = ds_tolist(f_img['indices_y'])\n",
    "txtx = ds_tolist(f_text['indices_x'])\n",
    "txty = ds_tolist(f_text['indices_y'])"
   ]
  },
  {
   "cell_type": "code",
   "execution_count": 25,
   "id": "christian-casino",
   "metadata": {},
   "outputs": [],
   "source": [
    "S = set()"
   ]
  },
  {
   "cell_type": "code",
   "execution_count": 26,
   "id": "fewer-launch",
   "metadata": {},
   "outputs": [
    {
     "data": {
      "text/plain": [
       "60000"
      ]
     },
     "execution_count": 26,
     "metadata": {},
     "output_type": "execute_result"
    }
   ],
   "source": [
    "for x,y in zip(imgx, imgy): S.add((x,y))\n",
    "len(S)"
   ]
  },
  {
   "cell_type": "code",
   "execution_count": 27,
   "id": "empty-raleigh",
   "metadata": {},
   "outputs": [
    {
     "data": {
      "text/plain": [
       "87232"
      ]
     },
     "execution_count": 27,
     "metadata": {},
     "output_type": "execute_result"
    }
   ],
   "source": [
    "for x,y in zip(txtx, txty): S.add((x,y))\n",
    "len(S)"
   ]
  },
  {
   "cell_type": "code",
   "execution_count": 57,
   "id": "honest-tennessee",
   "metadata": {},
   "outputs": [],
   "source": [
    "PATH = Path('/home/slex/data/shopee')\n",
    "train_df = pd.read_csv(PATH/'train_split.csv')\n",
    "valid_df = train_df[train_df.split==0].copy().reset_index()\n"
   ]
  },
  {
   "cell_type": "code",
   "execution_count": 58,
   "id": "killing-boxing",
   "metadata": {},
   "outputs": [],
   "source": [
    "target_groups = valid_df.groupby('label_group').indices\n",
    "valid_df['target']=valid_df.label_group.map(target_groups)"
   ]
  },
  {
   "cell_type": "code",
   "execution_count": 59,
   "id": "worse-peace",
   "metadata": {},
   "outputs": [
    {
     "data": {
      "text/html": [
       "<div>\n",
       "<style scoped>\n",
       "    .dataframe tbody tr th:only-of-type {\n",
       "        vertical-align: middle;\n",
       "    }\n",
       "\n",
       "    .dataframe tbody tr th {\n",
       "        vertical-align: top;\n",
       "    }\n",
       "\n",
       "    .dataframe thead th {\n",
       "        text-align: right;\n",
       "    }\n",
       "</style>\n",
       "<table border=\"1\" class=\"dataframe\">\n",
       "  <thead>\n",
       "    <tr style=\"text-align: right;\">\n",
       "      <th></th>\n",
       "      <th>index</th>\n",
       "      <th>Unnamed: 0</th>\n",
       "      <th>posting_id</th>\n",
       "      <th>image</th>\n",
       "      <th>image_phash</th>\n",
       "      <th>title</th>\n",
       "      <th>label_group</th>\n",
       "      <th>split</th>\n",
       "      <th>target</th>\n",
       "    </tr>\n",
       "  </thead>\n",
       "  <tbody>\n",
       "    <tr>\n",
       "      <th>0</th>\n",
       "      <td>6</td>\n",
       "      <td>6</td>\n",
       "      <td>train_1802986387</td>\n",
       "      <td>00144a49c56599d45354a1c28104c039.jpg</td>\n",
       "      <td>f815c9bb833ab4c8</td>\n",
       "      <td>Jubah anak size 1-12 thn</td>\n",
       "      <td>1835033137</td>\n",
       "      <td>0</td>\n",
       "      <td>[0, 555, 3076, 3987, 5624, 6241, 6419]</td>\n",
       "    </tr>\n",
       "    <tr>\n",
       "      <th>1</th>\n",
       "      <td>7</td>\n",
       "      <td>7</td>\n",
       "      <td>train_1806152124</td>\n",
       "      <td>0014f61389cbaa687a58e38a97b6383d.jpg</td>\n",
       "      <td>eea7e1c0c04da33d</td>\n",
       "      <td>KULOT PLISKET SALUR /CANDY PLISKET /WISH KULOT...</td>\n",
       "      <td>1565741687</td>\n",
       "      <td>0</td>\n",
       "      <td>[1, 1468]</td>\n",
       "    </tr>\n",
       "    <tr>\n",
       "      <th>2</th>\n",
       "      <td>19</td>\n",
       "      <td>19</td>\n",
       "      <td>train_2961381387</td>\n",
       "      <td>00303ad1c062fdeaf5f41b9ffb71a5fb.jpg</td>\n",
       "      <td>e48d9b652098efe1</td>\n",
       "      <td>Madame Gie MakeUp Blush On BY GISELL</td>\n",
       "      <td>2098400894</td>\n",
       "      <td>0</td>\n",
       "      <td>[2, 2684, 3722, 4807, 6444]</td>\n",
       "    </tr>\n",
       "    <tr>\n",
       "      <th>3</th>\n",
       "      <td>23</td>\n",
       "      <td>23</td>\n",
       "      <td>train_1180155871</td>\n",
       "      <td>00369839c7d94411e54437b7cf59b603.jpg</td>\n",
       "      <td>bbc1c43ec3633ec0</td>\n",
       "      <td>[INCLUDE PAJAK] NCT DREAM RELOAD ALBUM</td>\n",
       "      <td>2224428568</td>\n",
       "      <td>0</td>\n",
       "      <td>[3, 4905]</td>\n",
       "    </tr>\n",
       "    <tr>\n",
       "      <th>4</th>\n",
       "      <td>24</td>\n",
       "      <td>24</td>\n",
       "      <td>train_1872347548</td>\n",
       "      <td>003906c6c6bba4cde15e5e854dba8f6d.jpg</td>\n",
       "      <td>f3e18c5ea14493e3</td>\n",
       "      <td>Stand Hanger Multifungsi - Tiang Gantungan Baj...</td>\n",
       "      <td>4044205497</td>\n",
       "      <td>0</td>\n",
       "      <td>[4, 1617, 3146, 4067, 5011, 5154, 6630]</td>\n",
       "    </tr>\n",
       "    <tr>\n",
       "      <th>...</th>\n",
       "      <td>...</td>\n",
       "      <td>...</td>\n",
       "      <td>...</td>\n",
       "      <td>...</td>\n",
       "      <td>...</td>\n",
       "      <td>...</td>\n",
       "      <td>...</td>\n",
       "      <td>...</td>\n",
       "      <td>...</td>\n",
       "    </tr>\n",
       "    <tr>\n",
       "      <th>6803</th>\n",
       "      <td>34224</td>\n",
       "      <td>34224</td>\n",
       "      <td>train_3943315801</td>\n",
       "      <td>ffc7391f30199535379accf6862e1263.jpg</td>\n",
       "      <td>a3f27e812323d46d</td>\n",
       "      <td>DETERGENT SLEEK BABY LAUNDRY KEMASAN BOTOL 1200ML</td>\n",
       "      <td>3725072369</td>\n",
       "      <td>0</td>\n",
       "      <td>[1101, 5954, 6803, 6804]</td>\n",
       "    </tr>\n",
       "    <tr>\n",
       "      <th>6804</th>\n",
       "      <td>34225</td>\n",
       "      <td>34225</td>\n",
       "      <td>train_2822476848</td>\n",
       "      <td>ffc7391f30199535379accf6862e1263.jpg</td>\n",
       "      <td>a3f27e812323d46d</td>\n",
       "      <td>Sleek Baby Laundry Detergent Botol 1200 ml / S...</td>\n",
       "      <td>3725072369</td>\n",
       "      <td>0</td>\n",
       "      <td>[1101, 5954, 6803, 6804]</td>\n",
       "    </tr>\n",
       "    <tr>\n",
       "      <th>6805</th>\n",
       "      <td>34236</td>\n",
       "      <td>34236</td>\n",
       "      <td>train_2287008377</td>\n",
       "      <td>ffdf26064e4fc46c6bbcbcd06fc5b523.jpg</td>\n",
       "      <td>c5643f31193f744a</td>\n",
       "      <td>MMTOYS MB135 Mainan Anak Marble Run 105pcs / M...</td>\n",
       "      <td>724975459</td>\n",
       "      <td>0</td>\n",
       "      <td>[1505, 2944, 6805]</td>\n",
       "    </tr>\n",
       "    <tr>\n",
       "      <th>6806</th>\n",
       "      <td>34239</td>\n",
       "      <td>34239</td>\n",
       "      <td>train_2876777099</td>\n",
       "      <td>ffea625e5d806645008a53f4dcaa7076.jpg</td>\n",
       "      <td>bbb5cc63949841b6</td>\n",
       "      <td>Active Mask Onecare 3ply Earloop (3pcs)</td>\n",
       "      <td>2413419336</td>\n",
       "      <td>0</td>\n",
       "      <td>[1615, 6806]</td>\n",
       "    </tr>\n",
       "    <tr>\n",
       "      <th>6807</th>\n",
       "      <td>34244</td>\n",
       "      <td>34244</td>\n",
       "      <td>train_945815402</td>\n",
       "      <td>fff1222750374ddbed82b17c8bd2766d.jpg</td>\n",
       "      <td>b0cbce308fcdcc64</td>\n",
       "      <td>Baterai Batre Battery Xiaomi Redmi Note 3 BM46...</td>\n",
       "      <td>3091541662</td>\n",
       "      <td>0</td>\n",
       "      <td>[4676, 6807]</td>\n",
       "    </tr>\n",
       "  </tbody>\n",
       "</table>\n",
       "<p>6808 rows × 9 columns</p>\n",
       "</div>"
      ],
      "text/plain": [
       "      index  Unnamed: 0        posting_id  \\\n",
       "0         6           6  train_1802986387   \n",
       "1         7           7  train_1806152124   \n",
       "2        19          19  train_2961381387   \n",
       "3        23          23  train_1180155871   \n",
       "4        24          24  train_1872347548   \n",
       "...     ...         ...               ...   \n",
       "6803  34224       34224  train_3943315801   \n",
       "6804  34225       34225  train_2822476848   \n",
       "6805  34236       34236  train_2287008377   \n",
       "6806  34239       34239  train_2876777099   \n",
       "6807  34244       34244   train_945815402   \n",
       "\n",
       "                                     image       image_phash  \\\n",
       "0     00144a49c56599d45354a1c28104c039.jpg  f815c9bb833ab4c8   \n",
       "1     0014f61389cbaa687a58e38a97b6383d.jpg  eea7e1c0c04da33d   \n",
       "2     00303ad1c062fdeaf5f41b9ffb71a5fb.jpg  e48d9b652098efe1   \n",
       "3     00369839c7d94411e54437b7cf59b603.jpg  bbc1c43ec3633ec0   \n",
       "4     003906c6c6bba4cde15e5e854dba8f6d.jpg  f3e18c5ea14493e3   \n",
       "...                                    ...               ...   \n",
       "6803  ffc7391f30199535379accf6862e1263.jpg  a3f27e812323d46d   \n",
       "6804  ffc7391f30199535379accf6862e1263.jpg  a3f27e812323d46d   \n",
       "6805  ffdf26064e4fc46c6bbcbcd06fc5b523.jpg  c5643f31193f744a   \n",
       "6806  ffea625e5d806645008a53f4dcaa7076.jpg  bbb5cc63949841b6   \n",
       "6807  fff1222750374ddbed82b17c8bd2766d.jpg  b0cbce308fcdcc64   \n",
       "\n",
       "                                                  title  label_group  split  \\\n",
       "0                              Jubah anak size 1-12 thn   1835033137      0   \n",
       "1     KULOT PLISKET SALUR /CANDY PLISKET /WISH KULOT...   1565741687      0   \n",
       "2                  Madame Gie MakeUp Blush On BY GISELL   2098400894      0   \n",
       "3                [INCLUDE PAJAK] NCT DREAM RELOAD ALBUM   2224428568      0   \n",
       "4     Stand Hanger Multifungsi - Tiang Gantungan Baj...   4044205497      0   \n",
       "...                                                 ...          ...    ...   \n",
       "6803  DETERGENT SLEEK BABY LAUNDRY KEMASAN BOTOL 1200ML   3725072369      0   \n",
       "6804  Sleek Baby Laundry Detergent Botol 1200 ml / S...   3725072369      0   \n",
       "6805  MMTOYS MB135 Mainan Anak Marble Run 105pcs / M...    724975459      0   \n",
       "6806            Active Mask Onecare 3ply Earloop (3pcs)   2413419336      0   \n",
       "6807  Baterai Batre Battery Xiaomi Redmi Note 3 BM46...   3091541662      0   \n",
       "\n",
       "                                       target  \n",
       "0      [0, 555, 3076, 3987, 5624, 6241, 6419]  \n",
       "1                                   [1, 1468]  \n",
       "2                 [2, 2684, 3722, 4807, 6444]  \n",
       "3                                   [3, 4905]  \n",
       "4     [4, 1617, 3146, 4067, 5011, 5154, 6630]  \n",
       "...                                       ...  \n",
       "6803                 [1101, 5954, 6803, 6804]  \n",
       "6804                 [1101, 5954, 6803, 6804]  \n",
       "6805                       [1505, 2944, 6805]  \n",
       "6806                             [1615, 6806]  \n",
       "6807                             [4676, 6807]  \n",
       "\n",
       "[6808 rows x 9 columns]"
      ]
     },
     "execution_count": 59,
     "metadata": {},
     "output_type": "execute_result"
    }
   ],
   "source": [
    "valid_df"
   ]
  },
  {
   "cell_type": "code",
   "execution_count": 75,
   "id": "finnish-persian",
   "metadata": {},
   "outputs": [],
   "source": [
    "def f1(tp, fp, num_tar):\n",
    "    return 2 * tp / (tp+fp+num_tar)\n",
    "\n",
    "def build_from_pairs(xs, ys, target):\n",
    "    score =0\n",
    "    tp = [0]*len(target)\n",
    "    fp = [0]*len(target)\n",
    "    scores=[]\n",
    "    group_sizes = [len(x) for x in target]\n",
    "    for x,y in zip(xs,ys):\n",
    "        group_size = group_sizes[x]\n",
    "        score -= f1(tp[x], fp[x], group_size)\n",
    "        if y in target[x]: tp[x] +=1\n",
    "        else: fp[x] +=1\n",
    "        score += f1(tp[x], fp[x], group_size) \n",
    "        scores.append(score / len(target))\n",
    "    plt.plot(scores)\n",
    "    am =torch.tensor(scores).argmax()\n",
    "    print(f'{scores[am]:.3f} at {am/len(target)} pairs')\n",
    "    return scores"
   ]
  },
  {
   "cell_type": "code",
   "execution_count": 92,
   "id": "unusual-protocol",
   "metadata": {},
   "outputs": [
    {
     "name": "stdout",
     "output_type": "stream",
     "text": [
      "0.743 at 5.286868572235107 pairs\n"
     ]
    },
    {
     "data": {
      "image/png": "[encoded data removed]",
      "text/plain": [
       "<Figure size 432x288 with 1 Axes>"
      ]
     },
     "metadata": {
      "needs_background": "light"
     },
     "output_type": "display_data"
    }
   ],
   "source": [
    "_=build_from_pairs(imgx, imgy, valid_df.target.to_list())"
   ]
  },
  {
   "cell_type": "code",
   "execution_count": 93,
   "id": "continental-upper",
   "metadata": {},
   "outputs": [
    {
     "name": "stdout",
     "output_type": "stream",
     "text": [
      "0.782 at 5.600910663604736 pairs\n"
     ]
    },
    {
     "data": {
      "image/png": "[encoded data removed]",
      "text/plain": [
       "<Figure size 432x288 with 1 Axes>"
      ]
     },
     "metadata": {
      "needs_background": "light"
     },
     "output_type": "display_data"
    }
   ],
   "source": [
    "_=build_from_pairs(txtx, txty, valid_df.target.to_list())"
   ]
  },
  {
   "cell_type": "code",
   "execution_count": 94,
   "id": "comparative-consumption",
   "metadata": {},
   "outputs": [],
   "source": [
    "def weave(A,B):\n",
    "    R = list()\n",
    "    for a,b in zip(A,B):\n",
    "        R.append(a)\n",
    "        R.append(b)\n",
    "    return R"
   ]
  },
  {
   "cell_type": "code",
   "execution_count": 103,
   "id": "legendary-failure",
   "metadata": {},
   "outputs": [],
   "source": [
    "def dedupe(A,B):\n",
    "    S = set()\n",
    "    NA = list()\n",
    "    NB = list()\n",
    "    for a,b in zip(A,B):\n",
    "        if not (a,b) in S:\n",
    "            S.add((a,b))\n",
    "            NA.append(a)\n",
    "            NB.append(b)\n",
    "    return NA,NB"
   ]
  },
  {
   "cell_type": "code",
   "execution_count": 104,
   "id": "worse-granny",
   "metadata": {},
   "outputs": [
    {
     "data": {
      "text/plain": [
       "(120000, 120000)"
      ]
     },
     "execution_count": 104,
     "metadata": {},
     "output_type": "execute_result"
    }
   ],
   "source": [
    "combx = weave(imgx, txtx)\n",
    "comby = weave(imgy, txty)\n",
    "len(combx), len(comby)"
   ]
  },
  {
   "cell_type": "code",
   "execution_count": 106,
   "id": "quantitative-sierra",
   "metadata": {},
   "outputs": [
    {
     "data": {
      "text/plain": [
       "(87232, 87232)"
      ]
     },
     "execution_count": 106,
     "metadata": {},
     "output_type": "execute_result"
    }
   ],
   "source": [
    "combx,comby = dedupe(combx,comby)\n",
    "len(combx), len(comby)"
   ]
  },
  {
   "cell_type": "code",
   "execution_count": 107,
   "id": "induced-ordinary",
   "metadata": {},
   "outputs": [
    {
     "name": "stdout",
     "output_type": "stream",
     "text": [
      "0.842 at 5.96401309967041 pairs\n"
     ]
    },
    {
     "data": {
      "image/png": "[encoded data removed]",
      "text/plain": [
       "<Figure size 432x288 with 1 Axes>"
      ]
     },
     "metadata": {
      "needs_background": "light"
     },
     "output_type": "display_data"
    }
   ],
   "source": [
    "_=build_from_pairs(combx, comby, valid_df.target.to_list())"
   ]
  },
  {
   "cell_type": "code",
   "execution_count": null,
   "id": "third-restoration",
   "metadata": {},
   "outputs": [],
   "source": []
  }
 ],
 "metadata": {
  "kernelspec": {
   "display_name": "Python 3.8.5 64-bit ('fastai': conda)",
   "language": "python",
   "name": "python38564bitfastaicondad52d12c5a30a4725bf9d3e235cf1271c"
  },
  "language_info": {
   "codemirror_mode": {
    "name": "ipython",
    "version": 3
   },
   "file_extension": ".py",
   "mimetype": "text/x-python",
   "name": "python",
   "nbconvert_exporter": "python",
   "pygments_lexer": "ipython3",
   "version": "3.8.5"
  }
 },
 "nbformat": 4,
 "nbformat_minor": 5
}
