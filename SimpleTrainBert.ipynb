{
 "cells": [
  {
   "cell_type": "code",
   "execution_count": 1,
   "id": "cubic-examination",
   "metadata": {},
   "outputs": [],
   "source": [
    "from fastai.vision.all import *\n",
    "from transformers import (BertTokenizer, AutoModel)\n",
    "from train_utils import *"
   ]
  },
  {
   "cell_type": "code",
   "execution_count": 2,
   "id": "swedish-confidence",
   "metadata": {},
   "outputs": [
    {
     "name": "stderr",
     "output_type": "stream",
     "text": [
      "/home/slex/programy/anaconda3/envs/fastai/lib/python3.8/site-packages/sklearn/model_selection/_split.py:670: UserWarning: The least populated class in y has only 1 members, which is less than n_splits=5.\n",
      "  warnings.warn((\"The least populated class in y has only %d\"\n"
     ]
    }
   ],
   "source": [
    "PATH = Path('/mnt/dysk25/data/shopee/')\n",
    "BERT_PATH = './bert_indonesian'\n",
    "OUTPUT_CLASSES = 11014\n",
    "train_df = add_splits(pd.read_csv(PATH/'train.csv'))\n"
   ]
  },
  {
   "cell_type": "code",
   "execution_count": 3,
   "id": "changing-basin",
   "metadata": {},
   "outputs": [],
   "source": [
    "class ArcFaceClassifier(nn.Module):\n",
    "    def __init__(self, in_features, output_classes):\n",
    "        super().__init__()\n",
    "        self.initial_layers=nn.Sequential(\n",
    "            nn.BatchNorm1d(in_features),\n",
    "            nn.Dropout(.25))\n",
    "        self.W = nn.Parameter(torch.Tensor(in_features, output_classes))\n",
    "        nn.init.kaiming_uniform_(self.W)\n",
    "    def forward(self, x):\n",
    "        x = self.initial_layers(x)\n",
    "        x_norm = F.normalize(x)\n",
    "        W_norm = F.normalize(self.W, dim=0)\n",
    "        return x_norm @ W_norm\n",
    "    \n",
    "class BertArcFace(nn.Module):\n",
    "    def __init__(self):\n",
    "        super().__init__()\n",
    "        self.bert_model = AutoModel.from_pretrained(BERT_PATH)\n",
    "        self.classifier = ArcFaceClassifier(768, OUTPUT_CLASSES)\n",
    "        self.outputEmbs = False\n",
    "    def forward(self, x):\n",
    "        output = self.bert_model(*x)\n",
    "        embeddings =output.last_hidden_state[:,0,:]\n",
    "        if self.outputEmbs:\n",
    "            return embeddings\n",
    "        return self.classifier(embeddings)\n"
   ]
  },
  {
   "cell_type": "code",
   "execution_count": 4,
   "id": "former-telephone",
   "metadata": {},
   "outputs": [],
   "source": [
    "#Taken from https://www.kaggle.com/c/shopee-product-matching/discussion/233605#1278984\n",
    "def string_escape(s, encoding='utf-8'):\n",
    "    return s.encode('latin1').decode('unicode-escape').encode('latin1').decode(encoding)\n",
    "\n",
    "class TitleTransform(Transform):\n",
    "    def __init__(self):\n",
    "        super().__init__()\n",
    "        self.tokenizer = BertTokenizer.from_pretrained(BERT_PATH)\n",
    "               \n",
    "    def encodes(self, row):\n",
    "        text = row.title\n",
    "        text=string_escape(text)\n",
    "        encodings = self.tokenizer(text, padding = 'max_length', max_length=100, truncation=True,return_tensors='pt')\n",
    "        keys =['input_ids', 'attention_mask']\n",
    "        return tuple(encodings[key].squeeze() for key in keys)\n",
    "\n",
    "def get_text_dls():\n",
    "    tfm = TitleTransform()\n",
    "\n",
    "    data_block = DataBlock(\n",
    "        blocks = (TransformBlock(type_tfms=tfm), \n",
    "                  CategoryBlock(vocab=train_df.label_group.to_list())),\n",
    "        splitter=ColSplitter(),\n",
    "        get_y=ColReader('label_group'),\n",
    "        )\n",
    "    return  data_block.dataloaders(train_df, bs=64)"
   ]
  },
  {
   "cell_type": "code",
   "execution_count": 5,
   "id": "impressed-bathroom",
   "metadata": {},
   "outputs": [],
   "source": [
    "def split_2way(model):\n",
    "    return L(params(model.bert_model), params(model.classifier))"
   ]
  },
  {
   "cell_type": "code",
   "execution_count": 6,
   "id": "cardiovascular-tracy",
   "metadata": {},
   "outputs": [],
   "source": [
    "learn = Learner(get_text_dls(), BertArcFace(), splitter=split_2way, loss_func=arcface_loss,\n",
    "               cbs = [F1FromEmbs],metrics=FakeMetric()).to_fp16()"
   ]
  },
  {
   "cell_type": "code",
   "execution_count": 7,
   "id": "permanent-livestock",
   "metadata": {},
   "outputs": [
    {
     "data": {
      "text/html": [
       "<table border=\"1\" class=\"dataframe\">\n",
       "  <thead>\n",
       "    <tr style=\"text-align: left;\">\n",
       "      <th>epoch</th>\n",
       "      <th>train_loss</th>\n",
       "      <th>valid_loss</th>\n",
       "      <th>F1 embeddings</th>\n",
       "      <th>time</th>\n",
       "    </tr>\n",
       "  </thead>\n",
       "  <tbody>\n",
       "    <tr>\n",
       "      <td>0</td>\n",
       "      <td>19.505682</td>\n",
       "      <td>None</td>\n",
       "      <td>0.770121</td>\n",
       "      <td>00:54</td>\n",
       "    </tr>\n",
       "  </tbody>\n",
       "</table>"
      ],
      "text/plain": [
       "<IPython.core.display.HTML object>"
      ]
     },
     "metadata": {},
     "output_type": "display_data"
    },
    {
     "data": {
      "text/html": [
       "<table border=\"1\" class=\"dataframe\">\n",
       "  <thead>\n",
       "    <tr style=\"text-align: left;\">\n",
       "      <th>epoch</th>\n",
       "      <th>train_loss</th>\n",
       "      <th>valid_loss</th>\n",
       "      <th>F1 embeddings</th>\n",
       "      <th>time</th>\n",
       "    </tr>\n",
       "  </thead>\n",
       "  <tbody>\n",
       "    <tr>\n",
       "      <td>0</td>\n",
       "      <td>16.139585</td>\n",
       "      <td>None</td>\n",
       "      <td>0.797005</td>\n",
       "      <td>01:12</td>\n",
       "    </tr>\n",
       "    <tr>\n",
       "      <td>1</td>\n",
       "      <td>14.134651</td>\n",
       "      <td>None</td>\n",
       "      <td>0.810589</td>\n",
       "      <td>01:13</td>\n",
       "    </tr>\n",
       "    <tr>\n",
       "      <td>2</td>\n",
       "      <td>11.903905</td>\n",
       "      <td>None</td>\n",
       "      <td>0.816720</td>\n",
       "      <td>01:12</td>\n",
       "    </tr>\n",
       "    <tr>\n",
       "      <td>3</td>\n",
       "      <td>9.619471</td>\n",
       "      <td>None</td>\n",
       "      <td>0.819458</td>\n",
       "      <td>01:13</td>\n",
       "    </tr>\n",
       "    <tr>\n",
       "      <td>4</td>\n",
       "      <td>7.618684</td>\n",
       "      <td>None</td>\n",
       "      <td>0.820368</td>\n",
       "      <td>01:12</td>\n",
       "    </tr>\n",
       "    <tr>\n",
       "      <td>5</td>\n",
       "      <td>6.240385</td>\n",
       "      <td>None</td>\n",
       "      <td>0.819968</td>\n",
       "      <td>01:13</td>\n",
       "    </tr>\n",
       "    <tr>\n",
       "      <td>6</td>\n",
       "      <td>5.451341</td>\n",
       "      <td>None</td>\n",
       "      <td>0.820975</td>\n",
       "      <td>01:12</td>\n",
       "    </tr>\n",
       "  </tbody>\n",
       "</table>"
      ],
      "text/plain": [
       "<IPython.core.display.HTML object>"
      ]
     },
     "metadata": {},
     "output_type": "display_data"
    },
    {
     "name": "stdout",
     "output_type": "stream",
     "text": [
      "CPU times: user 9min 14s, sys: 8.11 s, total: 9min 22s\n",
      "Wall time: 9min 24s\n"
     ]
    }
   ],
   "source": [
    "%%time\n",
    "learn.fine_tune(7, 1e-2)"
   ]
  },
  {
   "cell_type": "code",
   "execution_count": null,
   "id": "nearby-nutrition",
   "metadata": {},
   "outputs": [],
   "source": []
  }
 ],
 "metadata": {
  "kernelspec": {
   "display_name": "Python 3.8.5 64-bit ('fastai': conda)",
   "language": "python",
   "name": "python38564bitfastaicondad52d12c5a30a4725bf9d3e235cf1271c"
  },
  "language_info": {
   "codemirror_mode": {
    "name": "ipython",
    "version": 3
   },
   "file_extension": ".py",
   "mimetype": "text/x-python",
   "name": "python",
   "nbconvert_exporter": "python",
   "pygments_lexer": "ipython3",
   "version": "3.8.5"
  }
 },
 "nbformat": 4,
 "nbformat_minor": 5
}
