{
 "cells": [
  {
   "cell_type": "code",
   "execution_count": 1,
   "id": "aboriginal-tsunami",
   "metadata": {},
   "outputs": [],
   "source": [
    "%load_ext autoreload\n",
    "%autoreload 2"
   ]
  },
  {
   "cell_type": "code",
   "execution_count": 27,
   "id": "prompt-aspect",
   "metadata": {
    "_cell_guid": "b1076dfc-b9ad-4769-8c92-a6c4dae69d19",
    "_uuid": "8f2839f25d086af736a60e9eeb907d3b93b6e0e5"
   },
   "outputs": [],
   "source": [
    "from fastai.vision.all import *\n",
    "import sklearn.metrics as skm\n",
    "from tqdm.notebook import tqdm\n",
    "import sklearn.feature_extraction.text\n",
    "from transformers import (BertTokenizer, BertModel,AutoModel,\n",
    "                          DistilBertTokenizer, DistilBertModel,AutoModelForSeq2SeqLM)\n",
    "\n",
    "from shopee_utils import *\n",
    "from train_utils import *"
   ]
  },
  {
   "cell_type": "code",
   "execution_count": 3,
   "id": "valuable-checkout",
   "metadata": {},
   "outputs": [],
   "source": [
    "import debugpy\n",
    "#debugpy.listen(5678)"
   ]
  },
  {
   "cell_type": "code",
   "execution_count": 28,
   "id": "matched-chapter",
   "metadata": {},
   "outputs": [],
   "source": [
    "BERT_MODEL_CLASS = AutoModel\n",
    "BERT_TOKENIZER_CLASS = BertTokenizer\n",
    "class CONF(ConfigClass):\n",
    "    bert_path ='indobenchmark/indobert-base-p2'\n",
    "    arcface_m = .5\n",
    "    arcface_s = 30\n",
    "    lr = 1e-2\n",
    "    lr_mult = 100\n",
    "    train_epochs = 8\n",
    "    train_freeze_epochs = 2\n",
    "    do_mixup = True\n",
    "    droput_p = .25\n",
    "    embs_dim = 768\n",
    "    tokens_max_length = 50\n",
    "    adam_mom=.9\n",
    "    adam_sqr_mom=.99\n",
    "    adam_eps=1e-5\n",
    "    adam_wd=0.01\n",
    "    use_argmargin=True\n",
    "    arc_easymargin=False\n",
    "    label_smooth=.1\n",
    "    experiment_id=0\n",
    "    def toDict(self):\n",
    "        return {k:self.__getattribute__(k) for k in dir(self) if k[:2]!='__' and not inspect.isroutine(self.__getattribute__(k))}\n",
    "    \n",
    "    def __repr__(self):\n",
    "        return str(self.toDict())\n",
    "    \n",
    "    def foo():\n",
    "        return CONF()\n",
    "config = CONF()"
   ]
  },
  {
   "cell_type": "code",
   "execution_count": 5,
   "id": "sophisticated-capability",
   "metadata": {},
   "outputs": [],
   "source": [
    "# PATH = Path('../input/shopee-product-matching')\n",
    "# model_file  = '../input/resnet-model/bert814.pth'\n",
    "# if not PATH.is_dir():\n",
    "#     PATH = Path('/home/slex/data/shopee')\n",
    "#     model_file ='models/bert814.pth'\n",
    "#BERT_PATH = './bert_indonesian' #.823\n",
    "#BERT_PATH='bert-base-multilingual-cased'\n",
    "#BERT_PATH='bert-base-cased'\n",
    "#BERT_PATH='cahya/distilbert-base-indonesian'\n",
    "#BERT_PATH='indobenchmark/indobert-base-p1' #.815\n",
    "#BERT_PATH='indobenchmark/indobert-base-p2'  #.817\n",
    "#BERT_PATH='indobenchmark/indobert-large-p1' #.829\n",
    "#BERT_PATH='indobenchmark/indobert-large-p2' #.828\n",
    "#BERT_PATH='indobenchmark/indobert-lite-large-p2'#.768\n",
    "\n",
    "\n",
    "# BertModelClass = AutoModel\n",
    "# BertTokenizerClass = BertTokenizer"
   ]
  },
  {
   "cell_type": "code",
   "execution_count": 6,
   "id": "compliant-conservation",
   "metadata": {},
   "outputs": [],
   "source": [
    "train_df = pd.read_csv(PATH/'train_split.csv')\n",
    "train_df['is_valid'] = train_df.split==0"
   ]
  },
  {
   "cell_type": "code",
   "execution_count": 7,
   "id": "polish-strap",
   "metadata": {},
   "outputs": [],
   "source": [
    "class ArcFaceClassifier(nn.Module):\n",
    "    def __init__(self, in_features, output_classes):\n",
    "        super().__init__()\n",
    "        self.initial_layers=nn.Sequential(\n",
    "            nn.BatchNorm1d(in_features),\n",
    "            nn.Dropout(config.droput_p))\n",
    "        self.W = nn.Parameter(torch.Tensor(in_features, output_classes))\n",
    "        nn.init.kaiming_uniform_(self.W)\n",
    "    def forward(self, x):\n",
    "        x = self.initial_layers(x)\n",
    "        x_norm = F.normalize(x)\n",
    "        W_norm = F.normalize(self.W, dim=0)\n",
    "        return x_norm @ W_norm\n",
    "    \n"
   ]
  },
  {
   "cell_type": "code",
   "execution_count": 8,
   "id": "young-november",
   "metadata": {},
   "outputs": [],
   "source": [
    "class ArcMarginProductLoss():\n",
    "    def __init__(self,out_features, scale=30.0, margin=0.50, easy_margin=False, ls_eps=0.0):\n",
    "        self.scale = scale\n",
    "        self.margin = margin\n",
    "        self.ls_eps = ls_eps  # label smoothing\n",
    "        self.out_features=out_features\n",
    "        self.easy_margin = easy_margin\n",
    "        self.cos_m = math.cos(margin)\n",
    "        self.sin_m = math.sin(margin)\n",
    "        self.th = math.cos(math.pi - margin)\n",
    "        self.mm = math.sin(math.pi - margin) * margin\n",
    "    def __call__(self, cosine, label):\n",
    "        sine = torch.sqrt(1.0 - torch.pow(cosine, 2))\n",
    "        phi = cosine * self.cos_m - sine * self.sin_m\n",
    "        if self.easy_margin:\n",
    "            phi = torch.where(cosine > 0, phi, cosine)\n",
    "        else:\n",
    "            phi = torch.where(cosine > self.th, phi, cosine - self.mm)\n",
    "    \n",
    "        one_hot = torch.zeros(cosine.size(), device='cuda')\n",
    "        one_hot.scatter_(1, label.view(-1, 1).long(), 1)\n",
    "        if self.ls_eps > 0:\n",
    "            one_hot = (1 - self.ls_eps) * one_hot + self.ls_eps / self.out_features\n",
    "\n",
    "        output = (one_hot * phi) + ((1.0 - one_hot) * cosine)\n",
    "        output *= self.scale\n",
    "        return F.cross_entropy(output, label)"
   ]
  },
  {
   "cell_type": "code",
   "execution_count": 9,
   "id": "continuous-clinton",
   "metadata": {},
   "outputs": [],
   "source": [
    "class BertArcFace(nn.Module):\n",
    "    def __init__(self, bert_model):\n",
    "        super().__init__()\n",
    "        self.bert_model = bert_model\n",
    "        #self.classifier = ArcMarginProduct(config.embs_dim, dls.c)\n",
    "        self.classifier = ArcFaceClassifier(config.embs_dim, dls.c)\n",
    "        self.outputEmbs = False\n",
    "    def forward(self, x):\n",
    "        output = self.bert_model(*x)\n",
    "        last_hidden =output.last_hidden_state[:,0,:]\n",
    "        embeddings=last_hidden\n",
    "        if self.outputEmbs:\n",
    "            return embeddings\n",
    "        return self.classifier(embeddings)\n"
   ]
  },
  {
   "cell_type": "code",
   "execution_count": 10,
   "id": "fancy-carroll",
   "metadata": {},
   "outputs": [],
   "source": [
    "class TitleTransform(Transform):\n",
    "    def __init__(self):\n",
    "        super().__init__()\n",
    "        self.tokenizer = BERT_TOKENIZER_CLASS.from_pretrained(config.bert_path)\n",
    "        \n",
    "        \n",
    "    def encodes(self, row):\n",
    "        text = row.title\n",
    "        encodings = self.tokenizer(text, padding = 'max_length', max_length=config.tokens_max_length,\n",
    "                                   truncation=True,return_tensors='pt')\n",
    "        keys =['input_ids', 'attention_mask']#, 'token_type_ids'] \n",
    "        return tuple(encodings[key].squeeze() for key in keys)"
   ]
  },
  {
   "cell_type": "code",
   "execution_count": 11,
   "id": "transparent-point",
   "metadata": {},
   "outputs": [],
   "source": [
    "tfm = TitleTransform()\n",
    "\n",
    "data_block = DataBlock(\n",
    "    blocks = (TransformBlock(type_tfms=tfm), \n",
    "              CategoryBlock(vocab=train_df.label_group.to_list())),\n",
    "    splitter=ColSplitter(),\n",
    "    get_y=ColReader('label_group'),\n",
    "    )\n",
    "dls = data_block.dataloaders(train_df, bs=128)\n"
   ]
  },
  {
   "cell_type": "code",
   "execution_count": 12,
   "id": "unusual-roads",
   "metadata": {},
   "outputs": [],
   "source": [
    "def new_model():\n",
    "    bert_model = BERT_MODEL_CLASS.from_pretrained(config.bert_path)\n",
    "    return BertArcFace(bert_model)"
   ]
  },
  {
   "cell_type": "code",
   "execution_count": 13,
   "id": "addressed-fruit",
   "metadata": {},
   "outputs": [],
   "source": [
    "def split_2way(model):\n",
    "    return L(params(model.bert_model),\n",
    "            params(model.classifier))"
   ]
  },
  {
   "cell_type": "code",
   "execution_count": 14,
   "id": "explicit-interview",
   "metadata": {},
   "outputs": [],
   "source": [
    "f1_tracker = TrackerCallback(monitor='F1 embeddings', comp=np.greater)"
   ]
  },
  {
   "cell_type": "code",
   "execution_count": 15,
   "id": "second-woman",
   "metadata": {},
   "outputs": [],
   "source": [
    "#loss_func=functools.partial(arcface_loss, m=config.arcface_m, s=config.arcface_s)\n",
    "if config.use_argmargin:\n",
    "    loss_func=ArcMarginProductLoss(dls.c, scale=config.arcface_s, margin=config.arcface_m, \n",
    "                               easy_margin=config.arc_easymargin,ls_eps=config.label_smooth)\n",
    "else:\n",
    "    loss_func=functools.partial(arcface_loss, m=config.arcface_m, s=config.arcface_s)\n",
    "opt_func=functools.partial(Adam, mom=.9, sqr_mom=.99, eps=1e-5, wd=0.01)\n",
    "learn = Learner(dls,new_model(), opt_func=opt_func, splitter=split_2way, loss_func=loss_func,  \n",
    "                cbs = [F1FromEmbs, f1_tracker],metrics=FakeMetric())"
   ]
  },
  {
   "cell_type": "code",
   "execution_count": null,
   "id": "cloudy-plymouth",
   "metadata": {},
   "outputs": [],
   "source": [
    "learn.fine_tune(config.train_epochs, config.lr, freeze_epochs=config.train_freeze_epochs, lr_mult=config.lr_mult)"
   ]
  },
  {
   "cell_type": "code",
   "execution_count": 77,
   "id": "attractive-necessity",
   "metadata": {},
   "outputs": [
    {
     "name": "stdout",
     "output_type": "stream",
     "text": [
      "0.8046468428191103\n"
     ]
    }
   ],
   "source": [
    "best_f1=f1_tracker.best\n",
    "print(best_f1)"
   ]
  },
  {
   "cell_type": "code",
   "execution_count": 19,
   "id": "biblical-flavor",
   "metadata": {},
   "outputs": [],
   "source": [
    "exp_res = pd.read_csv('shopee_results.csv')"
   ]
  },
  {
   "cell_type": "code",
   "execution_count": 20,
   "id": "fatty-duncan",
   "metadata": {},
   "outputs": [],
   "source": [
    "row = {'id':config.experiment_id,  'hypers':str(config), 'f1_score':f1_tracker.best }\n",
    "exp_res  =exp_res.append(row, ignore_index=True)\n",
    "exp_res.to_csv('shopee_results.csv', index=False)\n"
   ]
  },
  {
   "cell_type": "code",
   "execution_count": null,
   "id": "informal-somalia",
   "metadata": {},
   "outputs": [],
   "source": [
    "learn.load('bert823val')"
   ]
  },
  {
   "cell_type": "code",
   "execution_count": 16,
   "id": "light-slovakia",
   "metadata": {},
   "outputs": [
    {
     "data": {
      "text/plain": [
       "Path('models/bertlarge829val.pth')"
      ]
     },
     "execution_count": 16,
     "metadata": {},
     "output_type": "execute_result"
    }
   ],
   "source": [
    "learn.save('bertlarge829val')"
   ]
  },
  {
   "cell_type": "markdown",
   "id": "pacific-surname",
   "metadata": {},
   "source": [
    "## Validataion set"
   ]
  },
  {
   "cell_type": "code",
   "execution_count": 16,
   "id": "supposed-allowance",
   "metadata": {},
   "outputs": [],
   "source": [
    "embs_model = learn.model.eval()\n",
    "embs_model.outputEmbs = True"
   ]
  },
  {
   "cell_type": "code",
   "execution_count": 17,
   "id": "homeless-gossip",
   "metadata": {},
   "outputs": [
    {
     "data": {
      "application/vnd.jupyter.widget-view+json": {
       "model_id": "bf7f15e68d474a6f8a10d3e80028548e",
       "version_major": 2,
       "version_minor": 0
      },
      "text/plain": [
       "  0%|          | 0/27 [00:00<?, ?it/s]"
      ]
     },
     "metadata": {},
     "output_type": "display_data"
    }
   ],
   "source": [
    "valid_embs, _ = embs_from_model(embs_model, dls.valid)"
   ]
  },
  {
   "cell_type": "code",
   "execution_count": 18,
   "id": "combined-console",
   "metadata": {},
   "outputs": [],
   "source": [
    "dists, inds = get_nearest(valid_embs, do_chunk(valid_embs))"
   ]
  },
  {
   "cell_type": "code",
   "execution_count": 19,
   "id": "comic-squad",
   "metadata": {},
   "outputs": [],
   "source": [
    "valid_df=train_df[train_df.is_valid==True].copy().reset_index()\n",
    "valid_df = add_target_groups(valid_df)"
   ]
  },
  {
   "cell_type": "code",
   "execution_count": 20,
   "id": "found-surveillance",
   "metadata": {},
   "outputs": [],
   "source": [
    "pairs = sorted_pairs(dists, inds)[:len(valid_df)*10]"
   ]
  },
  {
   "cell_type": "code",
   "execution_count": 21,
   "id": "monthly-france",
   "metadata": {},
   "outputs": [
    {
     "name": "stdout",
     "output_type": "stream",
     "text": [
      "0.817 at 6.002644062042236 pairs\n"
     ]
    },
    {
     "data": {
      "image/png": "[encoded data removed]",
      "text/plain": [
       "<Figure size 432x288 with 1 Axes>"
      ]
     },
     "metadata": {
      "needs_background": "light"
     },
     "output_type": "display_data"
    }
   ],
   "source": [
    "_=build_from_pairs(pairs, valid_df.target.to_list())"
   ]
  },
  {
   "cell_type": "code",
   "execution_count": null,
   "id": "derived-classics",
   "metadata": {},
   "outputs": [],
   "source": []
  }
 ],
 "metadata": {
  "kernelspec": {
   "display_name": "Python 3.8.5 64-bit ('fastai': conda)",
   "language": "python",
   "name": "python38564bitfastaicondad52d12c5a30a4725bf9d3e235cf1271c"
  },
  "language_info": {
   "codemirror_mode": {
    "name": "ipython",
    "version": 3
   },
   "file_extension": ".py",
   "mimetype": "text/x-python",
   "name": "python",
   "nbconvert_exporter": "python",
   "pygments_lexer": "ipython3",
   "version": "3.8.5"
  }
 },
 "nbformat": 4,
 "nbformat_minor": 5
}
