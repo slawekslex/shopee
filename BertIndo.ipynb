{
 "cells": [
  {
   "cell_type": "code",
   "execution_count": 1,
   "id": "facial-radio",
   "metadata": {},
   "outputs": [],
   "source": [
    "%load_ext autoreload\n",
    "%autoreload 2"
   ]
  },
  {
   "cell_type": "code",
   "execution_count": 23,
   "id": "level-strap",
   "metadata": {
    "_cell_guid": "b1076dfc-b9ad-4769-8c92-a6c4dae69d19",
    "_uuid": "8f2839f25d086af736a60e9eeb907d3b93b6e0e5"
   },
   "outputs": [],
   "source": [
    "from fastai.vision.all import *\n",
    "import sklearn.metrics as skm\n",
    "from tqdm.notebook import tqdm\n",
    "import sklearn.feature_extraction.text\n",
    "from transformers import (BertTokenizer, BertModel,AutoModel,\n",
    "                          DistilBertTokenizer, DistilBertModel,AutoModelForSeq2SeqLM,AutoConfig)\n",
    "\n",
    "from shopee_utils import *\n",
    "from train_utils import *\n",
    "import codecs"
   ]
  },
  {
   "cell_type": "code",
   "execution_count": 3,
   "id": "collective-norfolk",
   "metadata": {},
   "outputs": [],
   "source": [
    "import debugpy\n",
    "#debugpy.listen(5678)"
   ]
  },
  {
   "cell_type": "code",
   "execution_count": 28,
   "id": "multiple-marks",
   "metadata": {},
   "outputs": [],
   "source": [
    "BERT_MODEL_CLASS = AutoModel\n",
    "BERT_TOKENIZER_CLASS = BertTokenizer\n",
    "class CONF(ConfigClass):\n",
    "    bert_path ='./indobert-large-p2'\n",
    "    arcface_m = .5\n",
    "    arcface_s = 30\n",
    "    lr = 1e-2\n",
    "    lr_mult = 100\n",
    "    train_epochs = 8\n",
    "    train_freeze_epochs = 1\n",
    "    droput_p = .25\n",
    "    embs_dim = 1024\n",
    "    tokens_max_length = 80\n",
    "    adam_mom=.9\n",
    "    adam_sqr_mom=.99\n",
    "    adam_eps=1e-5\n",
    "    adam_wd=0.01\n",
    "    use_argmargin=False\n",
    "    arc_easymargin=False\n",
    "    label_smooth=.1\n",
    "    batch_size = 64\n",
    "    experiment_id=0\n",
    "    \n",
    "    def toDict(self):\n",
    "        return {k:self.__getattribute__(k) for k in dir(self) if k[:2]!='__' and not inspect.isroutine(self.__getattribute__(k))}\n",
    "    \n",
    "    def __repr__(self):\n",
    "        return str(self.toDict())\n",
    "    \n",
    "    def foo():\n",
    "        return CONF()\n",
    "config = CONF()"
   ]
  },
  {
   "cell_type": "code",
   "execution_count": 5,
   "id": "developmental-checkout",
   "metadata": {},
   "outputs": [],
   "source": [
    "# PATH = Path('../input/shopee-product-matching')\n",
    "# model_file  = '../input/resnet-model/bert814.pth'\n",
    "# if not PATH.is_dir():\n",
    "#     PATH = Path('/home/slex/data/shopee')\n",
    "#     model_file ='models/bert814.pth'\n",
    "#BERT_PATH = './bert_indonesian' #.823\n",
    "#BERT_PATH='bert-base-multilingual-cased'\n",
    "#BERT_PATH='bert-base-cased'\n",
    "#BERT_PATH='cahya/distilbert-base-indonesian'\n",
    "#BERT_PATH='indobenchmark/indobert-base-p1' #.815\n",
    "#BERT_PATH='indobenchmark/indobert-base-p2'  #.817\n",
    "#BERT_PATH='indobenchmark/indobert-large-p1' #.829\n",
    "#BERT_PATH='indobenchmark/indobert-large-p2' #.828\n",
    "#BERT_PATH='indobenchmark/indobert-lite-large-p2'#.768\n",
    "\n",
    "\n",
    "# BertModelClass = AutoModel\n",
    "# BertTokenizerClass = BertTokenizer"
   ]
  },
  {
   "cell_type": "code",
   "execution_count": 6,
   "id": "toxic-hampton",
   "metadata": {},
   "outputs": [],
   "source": [
    "train_df = pd.read_csv(PATH/'train_split.csv', encoding='utf_8')\n",
    "train_df['is_valid'] = train_df.split==0"
   ]
  },
  {
   "cell_type": "code",
   "execution_count": 7,
   "id": "inner-encounter",
   "metadata": {},
   "outputs": [],
   "source": [
    "class ArcFaceClassifier(nn.Module):\n",
    "    def __init__(self, in_features, output_classes):\n",
    "        super().__init__()\n",
    "        self.initial_layers=nn.Sequential(\n",
    "            nn.BatchNorm1d(in_features),\n",
    "            nn.Dropout(config.droput_p))\n",
    "        self.W = nn.Parameter(torch.Tensor(in_features, output_classes))\n",
    "        nn.init.kaiming_uniform_(self.W)\n",
    "    def forward(self, x):\n",
    "        x = self.initial_layers(x)\n",
    "        x_norm = F.normalize(x)\n",
    "        W_norm = F.normalize(self.W, dim=0)\n",
    "        return x_norm @ W_norm\n",
    "    \n"
   ]
  },
  {
   "cell_type": "code",
   "execution_count": 9,
   "id": "registered-negotiation",
   "metadata": {},
   "outputs": [],
   "source": [
    "class BertArcFace(nn.Module):\n",
    "    def __init__(self, bert_model):\n",
    "        super().__init__()\n",
    "        self.bert_model = bert_model\n",
    "        self.classifier = ArcFaceClassifier(config.embs_dim, dls.c)\n",
    "        self.outputEmbs = False\n",
    "    def forward(self, x):\n",
    "        output = self.bert_model(*x)\n",
    "        last_hidden =output.last_hidden_state[:,0,:]\n",
    "        embeddings=last_hidden\n",
    "        if self.outputEmbs:\n",
    "            return embeddings\n",
    "        return self.classifier(embeddings)\n"
   ]
  },
  {
   "cell_type": "code",
   "execution_count": 10,
   "id": "cleared-share",
   "metadata": {},
   "outputs": [],
   "source": [
    "class TitleTransform(Transform):\n",
    "    def __init__(self):\n",
    "        super().__init__()\n",
    "        self.tokenizer = BERT_TOKENIZER_CLASS.from_pretrained(config.bert_path)\n",
    "        \n",
    "        \n",
    "    def encodes(self, row):\n",
    "        text = row.title\n",
    "        text=(codecs.decode(text, 'unicode_escape'))\n",
    "        encodings = self.tokenizer(text, padding = 'max_length', max_length=config.tokens_max_length,\n",
    "                                   truncation=True,return_tensors='pt')\n",
    "        keys =['input_ids', 'attention_mask']#, 'token_type_ids'] \n",
    "        return tuple(encodings[key].squeeze() for key in keys)"
   ]
  },
  {
   "cell_type": "code",
   "execution_count": 11,
   "id": "maritime-conservative",
   "metadata": {},
   "outputs": [],
   "source": [
    "tfm = TitleTransform()\n",
    "\n",
    "data_block = DataBlock(\n",
    "    blocks = (TransformBlock(type_tfms=tfm), \n",
    "              CategoryBlock(vocab=train_df.label_group.to_list())),\n",
    "    splitter=ColSplitter(),\n",
    "    get_y=ColReader('label_group'),\n",
    "    )\n",
    "dls = data_block.dataloaders(train_df, bs=config.batch_size)\n"
   ]
  },
  {
   "cell_type": "code",
   "execution_count": 12,
   "id": "herbal-broadcasting",
   "metadata": {},
   "outputs": [],
   "source": [
    "def new_model():\n",
    "    bert_model = BERT_MODEL_CLASS.from_pretrained(config.bert_path)\n",
    "    return BertArcFace(bert_model)"
   ]
  },
  {
   "cell_type": "code",
   "execution_count": 13,
   "id": "active-thread",
   "metadata": {},
   "outputs": [],
   "source": [
    "def split_2way(model):\n",
    "    return L(params(model.bert_model),\n",
    "            params(model.classifier))"
   ]
  },
  {
   "cell_type": "code",
   "execution_count": 14,
   "id": "naval-guest",
   "metadata": {},
   "outputs": [],
   "source": [
    "f1_tracker = TrackerCallback(monitor='F1 embeddings', comp=np.greater)"
   ]
  },
  {
   "cell_type": "code",
   "execution_count": 15,
   "id": "rough-instrument",
   "metadata": {},
   "outputs": [],
   "source": [
    "opt_func=RMSProp"
   ]
  },
  {
   "cell_type": "code",
   "execution_count": 16,
   "id": "limiting-discovery",
   "metadata": {},
   "outputs": [],
   "source": [
    "\n",
    "loss_func=functools.partial(arcface_loss, m=config.arcface_m, s=config.arcface_s)\n",
    "#opt_func=functools.partial(Adam, mom=.9, sqr_mom=.99, eps=1e-5, wd=0.01)\n",
    "learn = Learner(dls,new_model(), opt_func=opt_func, splitter=split_2way, loss_func=loss_func,  \n",
    "                cbs = [F1FromEmbs, f1_tracker],metrics=FakeMetric())"
   ]
  },
  {
   "cell_type": "code",
   "execution_count": 17,
   "id": "binding-cutting",
   "metadata": {},
   "outputs": [
    {
     "data": {
      "text/html": [
       "<table border=\"1\" class=\"dataframe\">\n",
       "  <thead>\n",
       "    <tr style=\"text-align: left;\">\n",
       "      <th>epoch</th>\n",
       "      <th>train_loss</th>\n",
       "      <th>valid_loss</th>\n",
       "      <th>F1 embeddings</th>\n",
       "      <th>time</th>\n",
       "    </tr>\n",
       "  </thead>\n",
       "  <tbody>\n",
       "    <tr>\n",
       "      <td>0</td>\n",
       "      <td>19.851463</td>\n",
       "      <td>None</td>\n",
       "      <td>0.781068</td>\n",
       "      <td>02:27</td>\n",
       "    </tr>\n",
       "  </tbody>\n",
       "</table>"
      ],
      "text/plain": [
       "<IPython.core.display.HTML object>"
      ]
     },
     "metadata": {},
     "output_type": "display_data"
    },
    {
     "data": {
      "text/html": [
       "<table border=\"1\" class=\"dataframe\">\n",
       "  <thead>\n",
       "    <tr style=\"text-align: left;\">\n",
       "      <th>epoch</th>\n",
       "      <th>train_loss</th>\n",
       "      <th>valid_loss</th>\n",
       "      <th>F1 embeddings</th>\n",
       "      <th>time</th>\n",
       "    </tr>\n",
       "  </thead>\n",
       "  <tbody>\n",
       "    <tr>\n",
       "      <td>0</td>\n",
       "      <td>17.857679</td>\n",
       "      <td>None</td>\n",
       "      <td>0.807170</td>\n",
       "      <td>03:36</td>\n",
       "    </tr>\n",
       "    <tr>\n",
       "      <td>1</td>\n",
       "      <td>14.733889</td>\n",
       "      <td>None</td>\n",
       "      <td>0.821431</td>\n",
       "      <td>03:29</td>\n",
       "    </tr>\n",
       "    <tr>\n",
       "      <td>2</td>\n",
       "      <td>12.128552</td>\n",
       "      <td>None</td>\n",
       "      <td>0.826417</td>\n",
       "      <td>03:23</td>\n",
       "    </tr>\n",
       "    <tr>\n",
       "      <td>3</td>\n",
       "      <td>9.717164</td>\n",
       "      <td>None</td>\n",
       "      <td>0.829441</td>\n",
       "      <td>03:23</td>\n",
       "    </tr>\n",
       "    <tr>\n",
       "      <td>4</td>\n",
       "      <td>7.572951</td>\n",
       "      <td>None</td>\n",
       "      <td>0.831240</td>\n",
       "      <td>03:23</td>\n",
       "    </tr>\n",
       "    <tr>\n",
       "      <td>5</td>\n",
       "      <td>6.029807</td>\n",
       "      <td>None</td>\n",
       "      <td>0.828202</td>\n",
       "      <td>03:23</td>\n",
       "    </tr>\n",
       "    <tr>\n",
       "      <td>6</td>\n",
       "      <td>4.994781</td>\n",
       "      <td>None</td>\n",
       "      <td>0.830626</td>\n",
       "      <td>03:23</td>\n",
       "    </tr>\n",
       "    <tr>\n",
       "      <td>7</td>\n",
       "      <td>4.477943</td>\n",
       "      <td>None</td>\n",
       "      <td>0.830180</td>\n",
       "      <td>03:23</td>\n",
       "    </tr>\n",
       "  </tbody>\n",
       "</table>"
      ],
      "text/plain": [
       "<IPython.core.display.HTML object>"
      ]
     },
     "metadata": {},
     "output_type": "display_data"
    }
   ],
   "source": [
    "learn.fine_tune(config.train_epochs, config.lr, freeze_epochs=config.train_freeze_epochs, lr_mult=config.lr_mult)"
   ]
  },
  {
   "cell_type": "code",
   "execution_count": 77,
   "id": "upset-arrival",
   "metadata": {},
   "outputs": [
    {
     "name": "stdout",
     "output_type": "stream",
     "text": [
      "0.8046468428191103\n"
     ]
    }
   ],
   "source": [
    "best_f1=f1_tracker.best\n",
    "print(best_f1)"
   ]
  },
  {
   "cell_type": "code",
   "execution_count": null,
   "id": "asian-native",
   "metadata": {},
   "outputs": [],
   "source": [
    "learn.load('bert823val')"
   ]
  },
  {
   "cell_type": "code",
   "execution_count": 18,
   "id": "macro-jurisdiction",
   "metadata": {},
   "outputs": [
    {
     "data": {
      "text/plain": [
       "Path('models/bertlarge829val.pth')"
      ]
     },
     "execution_count": 18,
     "metadata": {},
     "output_type": "execute_result"
    }
   ],
   "source": [
    "learn.save('bertlarge829val')"
   ]
  },
  {
   "cell_type": "markdown",
   "id": "accredited-eagle",
   "metadata": {},
   "source": [
    "## Validataion set"
   ]
  },
  {
   "cell_type": "code",
   "execution_count": 29,
   "id": "thick-penguin",
   "metadata": {},
   "outputs": [],
   "source": [
    "embs_model = learn.model.eval()\n",
    "embs_model.outputEmbs = True"
   ]
  },
  {
   "cell_type": "code",
   "execution_count": 30,
   "id": "concerned-abuse",
   "metadata": {},
   "outputs": [
    {
     "data": {
      "application/vnd.jupyter.widget-view+json": {
       "model_id": "4fdf8c6debf54dc1ac564c546081e9ac",
       "version_major": 2,
       "version_minor": 0
      },
      "text/plain": [
       "  0%|          | 0/107 [00:00<?, ?it/s]"
      ]
     },
     "metadata": {},
     "output_type": "display_data"
    }
   ],
   "source": [
    "valid_embs, _ = embs_from_model(embs_model, dls.valid)"
   ]
  },
  {
   "cell_type": "code",
   "execution_count": 31,
   "id": "favorite-example",
   "metadata": {},
   "outputs": [],
   "source": [
    "dists, inds = get_nearest(valid_embs, do_chunk(valid_embs))"
   ]
  },
  {
   "cell_type": "code",
   "execution_count": 32,
   "id": "comparable-offer",
   "metadata": {},
   "outputs": [],
   "source": [
    "valid_df=train_df[train_df.is_valid==True].copy().reset_index()\n",
    "valid_df = add_target_groups(valid_df)"
   ]
  },
  {
   "cell_type": "code",
   "execution_count": 33,
   "id": "neither-surprise",
   "metadata": {},
   "outputs": [],
   "source": [
    "pairs = sorted_pairs(dists, inds)[:len(valid_df)*10]"
   ]
  },
  {
   "cell_type": "code",
   "execution_count": 34,
   "id": "reasonable-failure",
   "metadata": {},
   "outputs": [
    {
     "name": "stdout",
     "output_type": "stream",
     "text": [
      "0.830 at 6.4878082275390625 pairs or 0.568 threshold\n"
     ]
    },
    {
     "data": {
      "image/png": "[encoded data removed]",
      "text/plain": [
       "<Figure size 432x288 with 1 Axes>"
      ]
     },
     "metadata": {
      "needs_background": "light"
     },
     "output_type": "display_data"
    }
   ],
   "source": [
    "_=build_from_pairs(pairs, valid_df.target.to_list())"
   ]
  },
  {
   "cell_type": "code",
   "execution_count": 36,
   "id": "tired-sarah",
   "metadata": {},
   "outputs": [],
   "source": [
    "torch.save(learn.model.bert_model.state_dict(), 'models/bert_large_state.pth')"
   ]
  },
  {
   "cell_type": "code",
   "execution_count": null,
   "id": "after-bargain",
   "metadata": {},
   "outputs": [],
   "source": []
  }
 ],
 "metadata": {
  "kernelspec": {
   "display_name": "Python 3.8.5 64-bit ('fastai': conda)",
   "language": "python",
   "name": "python38564bitfastaicondad52d12c5a30a4725bf9d3e235cf1271c"
  },
  "language_info": {
   "codemirror_mode": {
    "name": "ipython",
    "version": 3
   },
   "file_extension": ".py",
   "mimetype": "text/x-python",
   "name": "python",
   "nbconvert_exporter": "python",
   "pygments_lexer": "ipython3",
   "version": "3.8.5"
  }
 },
 "nbformat": 4,
 "nbformat_minor": 5
}
