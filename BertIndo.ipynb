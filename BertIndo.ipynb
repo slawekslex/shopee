{
 "cells": [
  {
   "cell_type": "code",
   "execution_count": 1,
   "id": "agricultural-diana",
   "metadata": {},
   "outputs": [],
   "source": [
    "%load_ext autoreload\n",
    "%autoreload 2"
   ]
  },
  {
   "cell_type": "code",
   "execution_count": 2,
   "id": "diagnostic-click",
   "metadata": {
    "_cell_guid": "b1076dfc-b9ad-4769-8c92-a6c4dae69d19",
    "_uuid": "8f2839f25d086af736a60e9eeb907d3b93b6e0e5"
   },
   "outputs": [],
   "source": [
    "from fastai.vision.all import *\n",
    "import sklearn.metrics as skm\n",
    "from tqdm.notebook import tqdm\n",
    "import sklearn.feature_extraction.text\n",
    "from transformers import (BertTokenizer, BertModel,\n",
    "                          DistilBertTokenizer, DistilBertModel)"
   ]
  },
  {
   "cell_type": "code",
   "execution_count": null,
   "id": "raising-focus",
   "metadata": {},
   "outputs": [],
   "source": []
  },
  {
   "cell_type": "code",
   "execution_count": 3,
   "id": "durable-viking",
   "metadata": {},
   "outputs": [
    {
     "data": {
      "text/plain": [
       "('127.0.0.1', 5678)"
      ]
     },
     "execution_count": 3,
     "metadata": {},
     "output_type": "execute_result"
    }
   ],
   "source": [
    "import debugpy\n",
    "debugpy.listen(5678)"
   ]
  },
  {
   "cell_type": "code",
   "execution_count": 4,
   "id": "departmental-member",
   "metadata": {},
   "outputs": [],
   "source": [
    "from shopee_utils import *"
   ]
  },
  {
   "cell_type": "code",
   "execution_count": null,
   "id": "built-ethernet",
   "metadata": {},
   "outputs": [],
   "source": []
  },
  {
   "cell_type": "code",
   "execution_count": 5,
   "id": "governing-might",
   "metadata": {},
   "outputs": [],
   "source": [
    "PATH = Path('../input/shopee-product-matching')\n",
    "model_file  = '../input/resnet-model/resnet34.pth'\n",
    "if not PATH.is_dir():\n",
    "    PATH = Path('/home/slex/data/shopee')\n",
    "    model_file ='models/resnet34.pth'"
   ]
  },
  {
   "cell_type": "code",
   "execution_count": 6,
   "id": "electoral-exchange",
   "metadata": {},
   "outputs": [],
   "source": [
    "train_df = pd.read_csv(PATH/'train_split.csv')\n",
    "train_df['is_valid'] = train_df.split==0"
   ]
  },
  {
   "cell_type": "code",
   "execution_count": 7,
   "id": "incredible-burner",
   "metadata": {},
   "outputs": [],
   "source": [
    "model_name='cahya/bert-base-indonesian-522M'\n",
    "#model_name='cahya/distilbert-base-indonesian'"
   ]
  },
  {
   "cell_type": "code",
   "execution_count": 8,
   "id": "specific-worse",
   "metadata": {},
   "outputs": [],
   "source": [
    "class ArcFaceClassifier(nn.Module):\n",
    "    def __init__(self, in_features, output_classes):\n",
    "        super().__init__()\n",
    "        emb_dim=768\n",
    "        mid_size = 512\n",
    "        self.initial_layers=nn.Sequential(\n",
    "#             nn.Linear(in_features, mid_size),\n",
    "#             nn.ReLU(inplace=True),\n",
    "#             nn.BatchNorm1d(mid_size),\n",
    "#             nn.Dropout(),\n",
    "#             nn.Linear(mid_size,emb_dim),\n",
    "            nn.BatchNorm1d(emb_dim),\n",
    "            nn.Dropout(.25))\n",
    "        self.W = nn.Parameter(torch.Tensor(emb_dim, output_classes))\n",
    "        nn.init.kaiming_uniform_(self.W)\n",
    "    def forward(self, x):\n",
    "        x = self.initial_layers(x)\n",
    "        x_norm = F.normalize(x)\n",
    "        W_norm = F.normalize(self.W, dim=0)\n",
    "        return x_norm @ W_norm\n",
    "    \n",
    "    \n",
    "def arcface_loss(cosine, targ, m=.5, s=30):\n",
    "    cosine = cosine.clip(-1+1e-7, 1-1e-7) \n",
    "    arcosine = cosine.arccos()\n",
    "    arcosine += F.one_hot(targ, num_classes = dls.c) * m\n",
    "    cosine2 = arcosine.cos()\n",
    "    cosine2 *= s\n",
    "    return F.cross_entropy(cosine2, targ)"
   ]
  },
  {
   "cell_type": "code",
   "execution_count": 9,
   "id": "honey-detective",
   "metadata": {},
   "outputs": [],
   "source": [
    "class MyModel(nn.Module):\n",
    "    def __init__(self, bert_model):\n",
    "        super().__init__()\n",
    "        self.bert_model = bert_model\n",
    "        self.classifier = ArcFaceClassifier(768, dls.c)\n",
    "    def forward(self, x):\n",
    "        output = self.bert_model(*x)\n",
    "        embeddings = output.last_hidden_state[:,0,:]\n",
    "        return self.classifier(embeddings)"
   ]
  },
  {
   "cell_type": "code",
   "execution_count": 10,
   "id": "nearby-yukon",
   "metadata": {},
   "outputs": [],
   "source": [
    "class EmbsModel(nn.Module):\n",
    "    def __init__(self, bert_model, classifier):\n",
    "        super().__init__()\n",
    "        self.bert_model = bert_model\n",
    "        self.classifier_layers = classifier.initial_layers\n",
    "    def forward(self, x):\n",
    "        output = self.bert_model(*x)\n",
    "        embeddings = output.last_hidden_state[:,0,:]\n",
    "        #embeddings = self.classifier_layers(embeddings)\n",
    "        return embeddings"
   ]
  },
  {
   "cell_type": "code",
   "execution_count": 11,
   "id": "atomic-detection",
   "metadata": {},
   "outputs": [],
   "source": [
    "class TitleTransform(Transform):\n",
    "    def __init__(self):\n",
    "        super().__init__()\n",
    "        self.tokenizer = BertTokenizer.from_pretrained(model_name)\n",
    "        \n",
    "        \n",
    "    def encodes(self, row):\n",
    "        text = row.title\n",
    "        encodings = self.tokenizer(text, padding = 'max_length', max_length=50, truncation=True,return_tensors='pt')\n",
    "        keys =['input_ids', 'attention_mask', 'token_type_ids'] \n",
    "        return tuple(encodings[key].squeeze() for key in keys)"
   ]
  },
  {
   "cell_type": "code",
   "execution_count": 19,
   "id": "architectural-punishment",
   "metadata": {},
   "outputs": [],
   "source": [
    "tfm = TitleTransform()\n",
    "\n",
    "data_block = DataBlock(\n",
    "    blocks = (TransformBlock(type_tfms=tfm), \n",
    "              CategoryBlock(vocab=train_df.label_group.to_list())),\n",
    "    splitter=ColSplitter(),\n",
    "    get_y=ColReader('label_group'),\n",
    "    )\n",
    "dls = data_block.dataloaders(train_df, bs=256,num_workers=16)\n"
   ]
  },
  {
   "cell_type": "code",
   "execution_count": 13,
   "id": "medium-remove",
   "metadata": {},
   "outputs": [],
   "source": [
    "def do_chunk(embs):\n",
    "    step = 10000\n",
    "    for chunk_start in range(0, embs.shape[0], step):\n",
    "        chunk_end = min(chunk_start+step, len(embs))\n",
    "        yield embs[chunk_start:chunk_end]"
   ]
  },
  {
   "cell_type": "code",
   "execution_count": 14,
   "id": "fallen-trading",
   "metadata": {},
   "outputs": [],
   "source": [
    "def new_model():\n",
    "    bert_model = BertModel.from_pretrained(model_name)\n",
    "    return MyModel(bert_model)"
   ]
  },
  {
   "cell_type": "code",
   "execution_count": 15,
   "id": "overhead-liabilities",
   "metadata": {},
   "outputs": [],
   "source": [
    "def split_3way(model):\n",
    "    return L(params(model.bert_model.embeddings),\n",
    "            params(model.bert_model.encoder) + params(model.bert_model.pooler), \n",
    "            params(model.classifier))\n",
    "def split_2way(model):\n",
    "    return L(params(model.bert_model),\n",
    "            params(model.classifier))"
   ]
  },
  {
   "cell_type": "code",
   "execution_count": 16,
   "id": "afraid-airport",
   "metadata": {},
   "outputs": [],
   "source": [
    "def count_params(parameters):\n",
    "    res =0 \n",
    "    for p in parameters:\n",
    "        res+=p.numel()\n",
    "    return res\n",
    "\n",
    "# count_params(learn.model.parameters())\n",
    "\n",
    "# splitted = split_2way(learn.model)\n",
    "# parts =[count_params(m) /1e6 for m in splitted]\n",
    "# print(parts, sum(parts))"
   ]
  },
  {
   "cell_type": "code",
   "execution_count": 36,
   "id": "front-deposit",
   "metadata": {},
   "outputs": [],
   "source": [
    "learn = Learner(dls,new_model(),  splitter=split_2way, loss_func=arcface_loss)"
   ]
  },
  {
   "cell_type": "code",
   "execution_count": null,
   "id": "cardiovascular-corner",
   "metadata": {},
   "outputs": [
    {
     "data": {
      "text/html": [
       "<table border=\"1\" class=\"dataframe\">\n",
       "  <thead>\n",
       "    <tr style=\"text-align: left;\">\n",
       "      <th>epoch</th>\n",
       "      <th>train_loss</th>\n",
       "      <th>valid_loss</th>\n",
       "      <th>time</th>\n",
       "    </tr>\n",
       "  </thead>\n",
       "  <tbody>\n",
       "    <tr>\n",
       "      <td>0</td>\n",
       "      <td>21.140066</td>\n",
       "      <td>26.349710</td>\n",
       "      <td>00:36</td>\n",
       "    </tr>\n",
       "    <tr>\n",
       "      <td>1</td>\n",
       "      <td>16.573906</td>\n",
       "      <td>28.773136</td>\n",
       "      <td>00:35</td>\n",
       "    </tr>\n",
       "  </tbody>\n",
       "</table>"
      ],
      "text/plain": [
       "<IPython.core.display.HTML object>"
      ]
     },
     "metadata": {},
     "output_type": "display_data"
    },
    {
     "data": {
      "text/html": [
       "\n",
       "    <div>\n",
       "        <style>\n",
       "            /* Turns off some styling */\n",
       "            progress {\n",
       "                /* gets rid of default border in Firefox and Opera. */\n",
       "                border: none;\n",
       "                /* Needs to be in here for Safari polyfill so background images work as expected. */\n",
       "                background-size: auto;\n",
       "            }\n",
       "            .progress-bar-interrupted, .progress-bar-interrupted::-webkit-progress-bar {\n",
       "                background: #F44336;\n",
       "            }\n",
       "        </style>\n",
       "      <progress value='7' class='' max='15' style='width:300px; height:20px; vertical-align: middle;'></progress>\n",
       "      46.67% [7/15 05:41<06:30]\n",
       "    </div>\n",
       "    \n",
       "<table border=\"1\" class=\"dataframe\">\n",
       "  <thead>\n",
       "    <tr style=\"text-align: left;\">\n",
       "      <th>epoch</th>\n",
       "      <th>train_loss</th>\n",
       "      <th>valid_loss</th>\n",
       "      <th>time</th>\n",
       "    </tr>\n",
       "  </thead>\n",
       "  <tbody>\n",
       "    <tr>\n",
       "      <td>0</td>\n",
       "      <td>12.491858</td>\n",
       "      <td>28.489353</td>\n",
       "      <td>00:50</td>\n",
       "    </tr>\n",
       "    <tr>\n",
       "      <td>1</td>\n",
       "      <td>11.108472</td>\n",
       "      <td>29.147408</td>\n",
       "      <td>00:49</td>\n",
       "    </tr>\n",
       "    <tr>\n",
       "      <td>2</td>\n",
       "      <td>10.006044</td>\n",
       "      <td>29.501461</td>\n",
       "      <td>00:49</td>\n",
       "    </tr>\n",
       "    <tr>\n",
       "      <td>3</td>\n",
       "      <td>9.039650</td>\n",
       "      <td>29.936142</td>\n",
       "      <td>00:48</td>\n",
       "    </tr>\n",
       "    <tr>\n",
       "      <td>4</td>\n",
       "      <td>8.080310</td>\n",
       "      <td>30.267073</td>\n",
       "      <td>00:48</td>\n",
       "    </tr>\n",
       "    <tr>\n",
       "      <td>5</td>\n",
       "      <td>7.075113</td>\n",
       "      <td>30.504175</td>\n",
       "      <td>00:47</td>\n",
       "    </tr>\n",
       "    <tr>\n",
       "      <td>6</td>\n",
       "      <td>6.181442</td>\n",
       "      <td>30.712891</td>\n",
       "      <td>00:48</td>\n",
       "    </tr>\n",
       "  </tbody>\n",
       "</table><p>\n",
       "\n",
       "    <div>\n",
       "        <style>\n",
       "            /* Turns off some styling */\n",
       "            progress {\n",
       "                /* gets rid of default border in Firefox and Opera. */\n",
       "                border: none;\n",
       "                /* Needs to be in here for Safari polyfill so background images work as expected. */\n",
       "                background-size: auto;\n",
       "            }\n",
       "            .progress-bar-interrupted, .progress-bar-interrupted::-webkit-progress-bar {\n",
       "                background: #F44336;\n",
       "            }\n",
       "        </style>\n",
       "      <progress value='104' class='' max='107' style='width:300px; height:20px; vertical-align: middle;'></progress>\n",
       "      97.20% [104/107 00:41<00:01 5.3479]\n",
       "    </div>\n",
       "    "
      ],
      "text/plain": [
       "<IPython.core.display.HTML object>"
      ]
     },
     "metadata": {},
     "output_type": "display_data"
    }
   ],
   "source": [
    "learn.fine_tune(15, 1e-2, freeze_epochs=2)"
   ]
  },
  {
   "cell_type": "code",
   "execution_count": 30,
   "id": "later-radiation",
   "metadata": {},
   "outputs": [
    {
     "data": {
      "text/plain": [
       "<fastai.learner.Learner at 0x7f8a4127af70>"
      ]
     },
     "execution_count": 30,
     "metadata": {},
     "output_type": "execute_result"
    }
   ],
   "source": [
    "learn.load('bert814val')"
   ]
  },
  {
   "cell_type": "code",
   "execution_count": 87,
   "id": "colored-assessment",
   "metadata": {},
   "outputs": [
    {
     "data": {
      "text/plain": [
       "Path('models/bert814val.pth')"
      ]
     },
     "execution_count": 87,
     "metadata": {},
     "output_type": "execute_result"
    }
   ],
   "source": [
    "learn.save('bert814val')"
   ]
  },
  {
   "cell_type": "code",
   "execution_count": 43,
   "id": "relevant-sleeve",
   "metadata": {},
   "outputs": [],
   "source": [
    "bert_model = learn.model.bert_model"
   ]
  },
  {
   "cell_type": "code",
   "execution_count": 45,
   "id": "surprised-secretary",
   "metadata": {},
   "outputs": [],
   "source": [
    "torch.save(bert_model.state_dict(), 'models/bert_model.pth')"
   ]
  },
  {
   "cell_type": "markdown",
   "id": "chicken-burke",
   "metadata": {},
   "source": [
    "## Validataion set"
   ]
  },
  {
   "cell_type": "code",
   "execution_count": null,
   "id": "vanilla-cuisine",
   "metadata": {},
   "outputs": [],
   "source": [
    "embs_model = EmbsModel(learn.model.bert_model, learn.model.classifier).cuda().eval()"
   ]
  },
  {
   "cell_type": "code",
   "execution_count": null,
   "id": "virtual-enhancement",
   "metadata": {},
   "outputs": [],
   "source": [
    "valid_embs, _ = embs_from_model(embs_model, dls.valid)"
   ]
  },
  {
   "cell_type": "code",
   "execution_count": null,
   "id": "italic-award",
   "metadata": {},
   "outputs": [],
   "source": [
    "dists, inds = get_nearest(valid_embs, do_chunk(valid_embs))"
   ]
  },
  {
   "cell_type": "code",
   "execution_count": null,
   "id": "unsigned-incidence",
   "metadata": {},
   "outputs": [],
   "source": [
    "valid_df=train_df[train_df.is_valid==True].copy().reset_index()\n",
    "valid_df = add_target_groups(valid_df)"
   ]
  },
  {
   "cell_type": "code",
   "execution_count": null,
   "id": "intended-boutique",
   "metadata": {},
   "outputs": [],
   "source": [
    "pairs = sorted_pairs(dists, inds)[:len(valid_df)*10]"
   ]
  },
  {
   "cell_type": "code",
   "execution_count": null,
   "id": "sharp-counter",
   "metadata": {},
   "outputs": [],
   "source": [
    "_=build_from_pairs(pairs, valid_df.target.to_list())"
   ]
  },
  {
   "cell_type": "code",
   "execution_count": null,
   "id": "suited-portrait",
   "metadata": {},
   "outputs": [],
   "source": []
  }
 ],
 "metadata": {
  "kernelspec": {
   "display_name": "Python 3.8.5 64-bit ('fastai': conda)",
   "language": "python",
   "name": "python38564bitfastaicondad52d12c5a30a4725bf9d3e235cf1271c"
  },
  "language_info": {
   "codemirror_mode": {
    "name": "ipython",
    "version": 3
   },
   "file_extension": ".py",
   "mimetype": "text/x-python",
   "name": "python",
   "nbconvert_exporter": "python",
   "pygments_lexer": "ipython3",
   "version": "3.8.5"
  }
 },
 "nbformat": 4,
 "nbformat_minor": 5
}
