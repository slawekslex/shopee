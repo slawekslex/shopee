{
 "cells": [
  {
   "cell_type": "code",
   "execution_count": 1,
   "id": "potential-death",
   "metadata": {},
   "outputs": [],
   "source": [
    "%load_ext autoreload\n",
    "%autoreload 2"
   ]
  },
  {
   "cell_type": "code",
   "execution_count": 2,
   "id": "convinced-minnesota",
   "metadata": {
    "_cell_guid": "b1076dfc-b9ad-4769-8c92-a6c4dae69d19",
    "_uuid": "8f2839f25d086af736a60e9eeb907d3b93b6e0e5"
   },
   "outputs": [],
   "source": [
    "from fastai.vision.all import *\n",
    "import sklearn.metrics as skm\n",
    "from tqdm.notebook import tqdm\n",
    "import sklearn.feature_extraction.text\n",
    "from transformers import (BertTokenizer, BertModel,\n",
    "                          DistilBertTokenizer, DistilBertModel)"
   ]
  },
  {
   "cell_type": "code",
   "execution_count": null,
   "id": "elder-apparatus",
   "metadata": {},
   "outputs": [],
   "source": []
  },
  {
   "cell_type": "code",
   "execution_count": 3,
   "id": "grateful-cycle",
   "metadata": {},
   "outputs": [
    {
     "data": {
      "text/plain": [
       "('127.0.0.1', 5678)"
      ]
     },
     "execution_count": 3,
     "metadata": {},
     "output_type": "execute_result"
    }
   ],
   "source": [
    "import debugpy\n",
    "debugpy.listen(5678)"
   ]
  },
  {
   "cell_type": "code",
   "execution_count": 4,
   "id": "rubber-gauge",
   "metadata": {},
   "outputs": [],
   "source": [
    "from shopee_utils import *"
   ]
  },
  {
   "cell_type": "code",
   "execution_count": null,
   "id": "pursuant-wings",
   "metadata": {},
   "outputs": [],
   "source": []
  },
  {
   "cell_type": "code",
   "execution_count": 20,
   "id": "turned-carol",
   "metadata": {},
   "outputs": [],
   "source": [
    "PATH = Path('../input/shopee-product-matching')\n",
    "model_file  = '../input/resnet-model/bert814.pth'\n",
    "if not PATH.is_dir():\n",
    "    PATH = Path('/home/slex/data/shopee')\n",
    "    model_file ='models/bert814.pth'\n",
    "BERT_PATH = './bert_indonesian'"
   ]
  },
  {
   "cell_type": "code",
   "execution_count": 6,
   "id": "advanced-polish",
   "metadata": {},
   "outputs": [],
   "source": [
    "train_df = pd.read_csv(PATH/'train_split.csv')\n",
    "train_df['is_valid'] = train_df.split==0"
   ]
  },
  {
   "cell_type": "code",
   "execution_count": 21,
   "id": "appointed-south",
   "metadata": {},
   "outputs": [],
   "source": [
    "#model_name='cahya/bert-base-indonesian-522M'\n",
    "#model_name='cahya/distilbert-base-indonesian'"
   ]
  },
  {
   "cell_type": "code",
   "execution_count": 8,
   "id": "ready-equation",
   "metadata": {},
   "outputs": [],
   "source": [
    "class ArcFaceClassifier(nn.Module):\n",
    "    def __init__(self, in_features, output_classes):\n",
    "        super().__init__()\n",
    "        emb_dim=768\n",
    "        mid_size = 512\n",
    "        self.initial_layers=nn.Sequential(\n",
    "#             nn.Linear(in_features, mid_size),\n",
    "#             nn.ReLU(inplace=True),\n",
    "#             nn.BatchNorm1d(mid_size),\n",
    "#             nn.Dropout(),\n",
    "#             nn.Linear(mid_size,emb_dim),\n",
    "            nn.BatchNorm1d(emb_dim),\n",
    "            nn.Dropout(.25))\n",
    "        self.W = nn.Parameter(torch.Tensor(emb_dim, output_classes))\n",
    "        nn.init.kaiming_uniform_(self.W)\n",
    "    def forward(self, x):\n",
    "        x = self.initial_layers(x)\n",
    "        x_norm = F.normalize(x)\n",
    "        W_norm = F.normalize(self.W, dim=0)\n",
    "        return x_norm @ W_norm\n",
    "    \n",
    "    \n",
    "def arcface_loss(cosine, targ, m=.5, s=30):\n",
    "    cosine = cosine.clip(-1+1e-7, 1-1e-7) \n",
    "    arcosine = cosine.arccos()\n",
    "    arcosine += F.one_hot(targ, num_classes = dls.c) * m\n",
    "    cosine2 = arcosine.cos()\n",
    "    cosine2 *= s\n",
    "    return F.cross_entropy(cosine2, targ)"
   ]
  },
  {
   "cell_type": "code",
   "execution_count": 9,
   "id": "serial-barcelona",
   "metadata": {},
   "outputs": [],
   "source": [
    "class BertArcFace(nn.Module):\n",
    "    def __init__(self, bert_model):\n",
    "        super().__init__()\n",
    "        self.bert_model = bert_model\n",
    "        self.classifier = ArcFaceClassifier(768, dls.c)\n",
    "        self.outputEmbs = False\n",
    "    def forward(self, x):\n",
    "        output = self.bert_model(*x)\n",
    "        embeddings = output.last_hidden_state[:,0,:]#output.pooler_output\n",
    "        if self.outputEmbs:\n",
    "            return embeddings\n",
    "        return self.classifier(embeddings)\n"
   ]
  },
  {
   "cell_type": "code",
   "execution_count": 10,
   "id": "supreme-portal",
   "metadata": {},
   "outputs": [],
   "source": [
    "class TitleTransform(Transform):\n",
    "    def __init__(self):\n",
    "        super().__init__()\n",
    "        self.tokenizer = BertTokenizer.from_pretrained(model_name)\n",
    "        \n",
    "        \n",
    "    def encodes(self, row):\n",
    "        text = row.title\n",
    "        encodings = self.tokenizer(text, padding = 'max_length', max_length=50, truncation=True,return_tensors='pt')\n",
    "        keys =['input_ids', 'attention_mask', 'token_type_ids'] \n",
    "        return tuple(encodings[key].squeeze() for key in keys)"
   ]
  },
  {
   "cell_type": "code",
   "execution_count": 11,
   "id": "packed-revision",
   "metadata": {},
   "outputs": [],
   "source": [
    "tfm = TitleTransform()\n",
    "\n",
    "data_block = DataBlock(\n",
    "    blocks = (TransformBlock(type_tfms=tfm), \n",
    "              CategoryBlock(vocab=train_df.label_group.to_list())),\n",
    "    splitter=ColSplitter(),\n",
    "    get_y=ColReader('label_group'),\n",
    "    )\n",
    "dls = data_block.dataloaders(train_df, bs=256,num_workers=16)\n"
   ]
  },
  {
   "cell_type": "code",
   "execution_count": 12,
   "id": "every-scott",
   "metadata": {},
   "outputs": [],
   "source": [
    "def do_chunk(embs):\n",
    "    step = 10000\n",
    "    for chunk_start in range(0, embs.shape[0], step):\n",
    "        chunk_end = min(chunk_start+step, len(embs))\n",
    "        yield embs[chunk_start:chunk_end]"
   ]
  },
  {
   "cell_type": "code",
   "execution_count": 23,
   "id": "animated-killing",
   "metadata": {},
   "outputs": [],
   "source": [
    "def new_model():\n",
    "    bert_model = BertModel.from_pretrained(BERT_PATH)\n",
    "    return BertArcFace(bert_model)"
   ]
  },
  {
   "cell_type": "code",
   "execution_count": 14,
   "id": "informational-contract",
   "metadata": {},
   "outputs": [],
   "source": [
    "def split_3way(model):\n",
    "    return L(params(model.bert_model.embeddings),\n",
    "            params(model.bert_model.encoder) + params(model.bert_model.pooler), \n",
    "            params(model.classifier))\n",
    "def split_2way(model):\n",
    "    return L(params(model.bert_model),\n",
    "            params(model.classifier))"
   ]
  },
  {
   "cell_type": "code",
   "execution_count": 15,
   "id": "planned-level",
   "metadata": {},
   "outputs": [],
   "source": [
    "def count_params(parameters):\n",
    "    res =0 \n",
    "    for p in parameters:\n",
    "        res+=p.numel()\n",
    "    return res\n",
    "\n",
    "# count_params(learn.model.parameters())\n",
    "\n",
    "# splitted = split_2way(learn.model)\n",
    "# parts =[count_params(m) /1e6 for m in splitted]\n",
    "# print(parts, sum(parts))"
   ]
  },
  {
   "cell_type": "code",
   "execution_count": 16,
   "id": "incoming-sperm",
   "metadata": {},
   "outputs": [],
   "source": [
    "def f1_from_embs(embs, ys):\n",
    "    target_matrix = ys[:,None]==ys[None,:]\n",
    "    groups = [torch.where(t)[0].tolist() for t in target_matrix]\n",
    "    dists, inds = get_nearest(embs, do_chunk(embs))\n",
    "    pairs = sorted_pairs(dists, inds)[:len(embs)*10]\n",
    "    scores =build_from_pairs(pairs, groups, False)\n",
    "    return max(scores)"
   ]
  },
  {
   "cell_type": "code",
   "execution_count": 17,
   "id": "precise-economy",
   "metadata": {},
   "outputs": [],
   "source": [
    "class F1FromEmbs(Callback):\n",
    "    def after_pred(self):\n",
    "        if not self.training:\n",
    "            self.embs.append(self.learn.pred)\n",
    "            self.ys.append(self.learn.yb[0])\n",
    "            self.learn.yb = tuple()\n",
    "    def before_validate(self):\n",
    "        self.ys = []\n",
    "        self.embs = []\n",
    "        self.model.outputEmbs = True\n",
    "    def before_train(self):\n",
    "        self.model.outputEmbs = False\n",
    "    def after_validate(self):\n",
    "        embs = torch.cat(self.embs)\n",
    "        ys = torch.cat(self.ys)\n",
    "        score = f1_from_embs(embs,ys)\n",
    "        learn.metrics[0].val = score\n",
    "\n",
    "class FakeMetric(Metric):\n",
    "    val =0.0\n",
    "    @property\n",
    "    def value(self):\n",
    "        return self.val\n",
    "    \n",
    "    @property\n",
    "    def name(self): \n",
    "        return 'F1 embeddings'"
   ]
  },
  {
   "cell_type": "code",
   "execution_count": 24,
   "id": "laden-landing",
   "metadata": {},
   "outputs": [],
   "source": [
    "learn = Learner(dls,new_model(),  splitter=split_2way, loss_func=arcface_loss,  cbs = F1FromEmbs, metrics=FakeMetric())"
   ]
  },
  {
   "cell_type": "code",
   "execution_count": 25,
   "id": "egyptian-marshall",
   "metadata": {},
   "outputs": [
    {
     "data": {
      "text/html": [
       "<table border=\"1\" class=\"dataframe\">\n",
       "  <thead>\n",
       "    <tr style=\"text-align: left;\">\n",
       "      <th>epoch</th>\n",
       "      <th>train_loss</th>\n",
       "      <th>valid_loss</th>\n",
       "      <th>F1 embeddings</th>\n",
       "      <th>time</th>\n",
       "    </tr>\n",
       "  </thead>\n",
       "  <tbody>\n",
       "    <tr>\n",
       "      <td>0</td>\n",
       "      <td>21.281075</td>\n",
       "      <td>None</td>\n",
       "      <td>0.705796</td>\n",
       "      <td>00:34</td>\n",
       "    </tr>\n",
       "    <tr>\n",
       "      <td>1</td>\n",
       "      <td>16.533262</td>\n",
       "      <td>None</td>\n",
       "      <td>0.758955</td>\n",
       "      <td>00:34</td>\n",
       "    </tr>\n",
       "  </tbody>\n",
       "</table>"
      ],
      "text/plain": [
       "<IPython.core.display.HTML object>"
      ]
     },
     "metadata": {},
     "output_type": "display_data"
    },
    {
     "data": {
      "text/html": [
       "<table border=\"1\" class=\"dataframe\">\n",
       "  <thead>\n",
       "    <tr style=\"text-align: left;\">\n",
       "      <th>epoch</th>\n",
       "      <th>train_loss</th>\n",
       "      <th>valid_loss</th>\n",
       "      <th>F1 embeddings</th>\n",
       "      <th>time</th>\n",
       "    </tr>\n",
       "  </thead>\n",
       "  <tbody>\n",
       "    <tr>\n",
       "      <td>0</td>\n",
       "      <td>12.433543</td>\n",
       "      <td>None</td>\n",
       "      <td>0.795079</td>\n",
       "      <td>00:48</td>\n",
       "    </tr>\n",
       "    <tr>\n",
       "      <td>1</td>\n",
       "      <td>11.145361</td>\n",
       "      <td>None</td>\n",
       "      <td>0.809990</td>\n",
       "      <td>00:47</td>\n",
       "    </tr>\n",
       "    <tr>\n",
       "      <td>2</td>\n",
       "      <td>9.832925</td>\n",
       "      <td>None</td>\n",
       "      <td>0.817589</td>\n",
       "      <td>00:48</td>\n",
       "    </tr>\n",
       "    <tr>\n",
       "      <td>3</td>\n",
       "      <td>8.245600</td>\n",
       "      <td>None</td>\n",
       "      <td>0.819631</td>\n",
       "      <td>00:48</td>\n",
       "    </tr>\n",
       "    <tr>\n",
       "      <td>4</td>\n",
       "      <td>6.840007</td>\n",
       "      <td>None</td>\n",
       "      <td>0.820883</td>\n",
       "      <td>00:48</td>\n",
       "    </tr>\n",
       "    <tr>\n",
       "      <td>5</td>\n",
       "      <td>5.681211</td>\n",
       "      <td>None</td>\n",
       "      <td>0.822333</td>\n",
       "      <td>00:48</td>\n",
       "    </tr>\n",
       "    <tr>\n",
       "      <td>6</td>\n",
       "      <td>4.862615</td>\n",
       "      <td>None</td>\n",
       "      <td>0.822817</td>\n",
       "      <td>00:48</td>\n",
       "    </tr>\n",
       "    <tr>\n",
       "      <td>7</td>\n",
       "      <td>4.457173</td>\n",
       "      <td>None</td>\n",
       "      <td>0.823062</td>\n",
       "      <td>00:48</td>\n",
       "    </tr>\n",
       "  </tbody>\n",
       "</table>"
      ],
      "text/plain": [
       "<IPython.core.display.HTML object>"
      ]
     },
     "metadata": {},
     "output_type": "display_data"
    }
   ],
   "source": [
    "learn.fine_tune(8, 1e-2, freeze_epochs=2)"
   ]
  },
  {
   "cell_type": "code",
   "execution_count": null,
   "id": "colored-tucson",
   "metadata": {},
   "outputs": [],
   "source": [
    "learn.load('bert823val')"
   ]
  },
  {
   "cell_type": "code",
   "execution_count": 26,
   "id": "miniature-infrastructure",
   "metadata": {},
   "outputs": [
    {
     "data": {
      "text/plain": [
       "Path('models/bert823val.pth')"
      ]
     },
     "execution_count": 26,
     "metadata": {},
     "output_type": "execute_result"
    }
   ],
   "source": [
    "learn.save('bert823val')"
   ]
  },
  {
   "cell_type": "markdown",
   "id": "twelve-curve",
   "metadata": {},
   "source": [
    "## Validataion set"
   ]
  },
  {
   "cell_type": "code",
   "execution_count": 30,
   "id": "unable-bobby",
   "metadata": {},
   "outputs": [],
   "source": [
    "embs_model = learn.model.eval()\n",
    "embs_model.out"
   ]
  },
  {
   "cell_type": "code",
   "execution_count": 31,
   "id": "hybrid-experience",
   "metadata": {},
   "outputs": [
    {
     "data": {
      "application/vnd.jupyter.widget-view+json": {
       "model_id": "a09b509135af4105bcb1d4a38874ff99",
       "version_major": 2,
       "version_minor": 0
      },
      "text/plain": [
       "  0%|          | 0/27 [00:00<?, ?it/s]"
      ]
     },
     "metadata": {},
     "output_type": "display_data"
    }
   ],
   "source": [
    "valid_embs, _ = embs_from_model(embs_model, dls.valid)"
   ]
  },
  {
   "cell_type": "code",
   "execution_count": 32,
   "id": "correct-transportation",
   "metadata": {},
   "outputs": [],
   "source": [
    "dists, inds = get_nearest(valid_embs, do_chunk(valid_embs))"
   ]
  },
  {
   "cell_type": "code",
   "execution_count": 33,
   "id": "collect-lawyer",
   "metadata": {},
   "outputs": [],
   "source": [
    "valid_df=train_df[train_df.is_valid==True].copy().reset_index()\n",
    "valid_df = add_target_groups(valid_df)"
   ]
  },
  {
   "cell_type": "code",
   "execution_count": 34,
   "id": "naval-sunday",
   "metadata": {},
   "outputs": [],
   "source": [
    "pairs = sorted_pairs(dists, inds)[:len(valid_df)*10]"
   ]
  },
  {
   "cell_type": "code",
   "execution_count": 35,
   "id": "induced-joining",
   "metadata": {},
   "outputs": [
    {
     "name": "stdout",
     "output_type": "stream",
     "text": [
      "0.815 at 6.250881195068359 pairs\n"
     ]
    },
    {
     "data": {
      "image/png": "[encoded data removed]",
      "text/plain": [
       "<Figure size 432x288 with 1 Axes>"
      ]
     },
     "metadata": {
      "needs_background": "light"
     },
     "output_type": "display_data"
    }
   ],
   "source": [
    "_=build_from_pairs(pairs, valid_df.target.to_list())"
   ]
  },
  {
   "cell_type": "code",
   "execution_count": null,
   "id": "smaller-system",
   "metadata": {},
   "outputs": [],
   "source": []
  }
 ],
 "metadata": {
  "kernelspec": {
   "display_name": "Python 3.8.5 64-bit ('fastai': conda)",
   "language": "python",
   "name": "python38564bitfastaicondad52d12c5a30a4725bf9d3e235cf1271c"
  },
  "language_info": {
   "codemirror_mode": {
    "name": "ipython",
    "version": 3
   },
   "file_extension": ".py",
   "mimetype": "text/x-python",
   "name": "python",
   "nbconvert_exporter": "python",
   "pygments_lexer": "ipython3",
   "version": "3.8.5"
  }
 },
 "nbformat": 4,
 "nbformat_minor": 5
}
