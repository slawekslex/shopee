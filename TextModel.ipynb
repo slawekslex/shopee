{
 "cells": [
  {
   "cell_type": "code",
   "execution_count": 1,
   "id": "consecutive-classification",
   "metadata": {},
   "outputs": [],
   "source": [
    "%load_ext autoreload\n",
    "%autoreload 2"
   ]
  },
  {
   "cell_type": "code",
   "execution_count": 2,
   "id": "specific-debut",
   "metadata": {},
   "outputs": [],
   "source": [
    "from fastai.vision.all import *\n",
    "import matplotlib.pyplot as plt\n",
    "import sklearn.feature_extraction.text\n",
    "from tqdm.notebook import tqdm\n",
    "from utils import *"
   ]
  },
  {
   "cell_type": "code",
   "execution_count": 3,
   "id": "standard-button",
   "metadata": {},
   "outputs": [
    {
     "data": {
      "text/plain": [
       "('127.0.0.1', 5678)"
      ]
     },
     "execution_count": 3,
     "metadata": {},
     "output_type": "execute_result"
    }
   ],
   "source": [
    "import debugpy\n",
    "debugpy.listen(5678)"
   ]
  },
  {
   "cell_type": "code",
   "execution_count": 4,
   "id": "indirect-paradise",
   "metadata": {},
   "outputs": [],
   "source": [
    "PATH = Path('/home/slex/data/shopee')"
   ]
  },
  {
   "cell_type": "code",
   "execution_count": 5,
   "id": "vietnamese-mixture",
   "metadata": {},
   "outputs": [],
   "source": [
    "train_df = pd.read_csv(PATH/'train_split.csv')\n",
    "train_df['is_valid'] = train_df.split==0\n",
    "train_df = add_target_groups(train_df)"
   ]
  },
  {
   "cell_type": "code",
   "execution_count": 6,
   "id": "amended-clothing",
   "metadata": {},
   "outputs": [],
   "source": [
    "class TitleTransform(Transform):\n",
    "    def __init__(self, text_embeddings):\n",
    "        super().__init__()\n",
    "        self.text_embeddings = text_embeddings\n",
    "        \n",
    "        \n",
    "    def encodes(self, row):\n",
    "        idx = row.row_idx\n",
    "        emb = self.text_embeddings[idx].toarray()\n",
    "        emb = np.float32(emb)\n",
    "        return emb.squeeze()\n",
    "        \n",
    "sk_model = sklearn.feature_extraction.text.TfidfVectorizer(stop_words='english', binary=True, max_features=25_000)\n",
    "text_embeddings =sk_model.fit_transform(train_df.title)\n",
    "title_transform = TitleTransform(text_embeddings)"
   ]
  },
  {
   "cell_type": "code",
   "execution_count": 142,
   "id": "engaged-hearts",
   "metadata": {},
   "outputs": [
    {
     "data": {
      "text/plain": [
       "24939"
      ]
     },
     "execution_count": 142,
     "metadata": {},
     "output_type": "execute_result"
    }
   ],
   "source": [
    "len(sk_model.vocabulary_)"
   ]
  },
  {
   "cell_type": "code",
   "execution_count": 7,
   "id": "necessary-auction",
   "metadata": {},
   "outputs": [],
   "source": [
    "data_block = DataBlock(\n",
    "    blocks = (TransformBlock(type_tfms=title_transform), \n",
    "              CategoryBlock(vocab=train_df.label_group.to_list())),\n",
    "    splitter=ColSplitter(),\n",
    "    get_y=ColReader('label_group'),\n",
    "    )\n",
    "dls = data_block.dataloaders(train_df, bs=512,num_workers=16)"
   ]
  },
  {
   "cell_type": "code",
   "execution_count": 8,
   "id": "bottom-drain",
   "metadata": {},
   "outputs": [
    {
     "data": {
      "text/plain": [
       "torch.Size([512, 24939])"
      ]
     },
     "execution_count": 8,
     "metadata": {},
     "output_type": "execute_result"
    }
   ],
   "source": [
    "dls.valid.one_batch()[0].shape"
   ]
  },
  {
   "cell_type": "code",
   "execution_count": 9,
   "id": "earned-doctor",
   "metadata": {},
   "outputs": [],
   "source": [
    "class ArcFaceClassifier(nn.Module):\n",
    "    def __init__(self, emb_size, output_classes):\n",
    "        super().__init__()\n",
    "        self.W = nn.Parameter(torch.Tensor(emb_size, output_classes))\n",
    "        nn.init.kaiming_uniform_(self.W)\n",
    "    def forward(self, x):\n",
    "        # Step 1:\n",
    "        x_norm = F.normalize(x)\n",
    "        W_norm = F.normalize(self.W, dim=0)\n",
    "        # Step 2:\n",
    "        return x_norm @ W_norm\n",
    "    \n",
    "def arcface_loss(cosine, targ, m=.7, s=30):\n",
    "    cosine = cosine.clip(-1+1e-7, 1-1e-7) \n",
    "    arcosine = cosine.arccos()\n",
    "    arcosine += F.one_hot(targ, num_classes = dls.c) * m\n",
    "    cosine2 = arcosine.cos()\n",
    "    cosine2 *= s\n",
    "    return F.cross_entropy(cosine2, targ)"
   ]
  },
  {
   "cell_type": "code",
   "execution_count": 115,
   "id": "incorporate-parks",
   "metadata": {},
   "outputs": [],
   "source": [
    "class SimpleModel(nn.Module):\n",
    "    def __init__(self, in_features, out_features):\n",
    "        super().__init__()\n",
    "        emb_dim=512\n",
    "        factor = math.sqrt(in_features/emb_dim)\n",
    "        mid_size = int(emb_dim*factor)\n",
    "        lin1 = nn.Linear(in_features, mid_size)\n",
    "        rel = nn.ReLU(inplace=True)\n",
    "        bn1 = nn.BatchNorm1d(mid_size)\n",
    "        drop1 = nn.Dropout()\n",
    "        lin2 = nn.Linear(mid_size,emb_dim)\n",
    "        bn2 = nn.BatchNorm1d(emb_dim)\n",
    "        drop2 = nn.Dropout(.25)\n",
    "        classifier = ArcFaceClassifier(emb_dim, out_features)\n",
    "        self.layers = nn.Sequential(lin1, rel, bn1, drop1, lin2, rel, bn2,drop2, classifier)\n",
    "    def forward(self, x):\n",
    "        return self.layers(x)\n",
    "        "
   ]
  },
  {
   "cell_type": "code",
   "execution_count": 117,
   "id": "vocal-lawrence",
   "metadata": {},
   "outputs": [],
   "source": [
    "def f1_score(pred_groups, real_groups):\n",
    "    res =0\n",
    "    for pred, real in zip(pred_groups, real_groups):\n",
    "        inter = pred.intersection(real)\n",
    "        res += 2 * len(inter) / (len(pred)+len(real))\n",
    "    return res / len(pred_groups)\n",
    "\n",
    "def groups(preds):\n",
    "    groups = [set() for _ in range(len(preds))]\n",
    "    matches = (preds[:,None]==preds[None,:]).cpu()\n",
    "    xs, ys = torch.where(matches)\n",
    "    for x,y in zip(xs,ys):\n",
    "        groups[x].add(y.item())\n",
    "    return groups\n",
    "groups(torch.tensor([1,2,2,2,3,1]))\n",
    "\n",
    "def f1_from_preds(inp, tar):\n",
    "    preds = inp.argmax(dim=1)\n",
    "    pred_groups = groups(preds)\n",
    "    real_groups = groups(tar)\n",
    "    return f1_score(pred_groups, real_groups)"
   ]
  },
  {
   "cell_type": "code",
   "execution_count": 118,
   "id": "equivalent-pipeline",
   "metadata": {},
   "outputs": [],
   "source": [
    "model = SimpleModel(text_embeddings.shape[1], dls.c)\n",
    "\n",
    "learn = Learner(dls, model,loss_func=arcface_loss)#, metrics=[AccumMetric(f1_from_preds, flatten=False)] )"
   ]
  },
  {
   "cell_type": "code",
   "execution_count": 119,
   "id": "unnecessary-harbor",
   "metadata": {},
   "outputs": [
    {
     "data": {
      "text/html": [
       "<table border=\"1\" class=\"dataframe\">\n",
       "  <thead>\n",
       "    <tr style=\"text-align: left;\">\n",
       "      <th>epoch</th>\n",
       "      <th>train_loss</th>\n",
       "      <th>valid_loss</th>\n",
       "      <th>time</th>\n",
       "    </tr>\n",
       "  </thead>\n",
       "  <tbody>\n",
       "    <tr>\n",
       "      <td>0</td>\n",
       "      <td>25.983387</td>\n",
       "      <td>34.439697</td>\n",
       "      <td>00:12</td>\n",
       "    </tr>\n",
       "    <tr>\n",
       "      <td>1</td>\n",
       "      <td>21.271433</td>\n",
       "      <td>34.352890</td>\n",
       "      <td>00:12</td>\n",
       "    </tr>\n",
       "    <tr>\n",
       "      <td>2</td>\n",
       "      <td>19.047783</td>\n",
       "      <td>34.870419</td>\n",
       "      <td>00:12</td>\n",
       "    </tr>\n",
       "    <tr>\n",
       "      <td>3</td>\n",
       "      <td>17.286068</td>\n",
       "      <td>35.508934</td>\n",
       "      <td>00:12</td>\n",
       "    </tr>\n",
       "    <tr>\n",
       "      <td>4</td>\n",
       "      <td>15.556115</td>\n",
       "      <td>36.163227</td>\n",
       "      <td>00:12</td>\n",
       "    </tr>\n",
       "    <tr>\n",
       "      <td>5</td>\n",
       "      <td>13.825514</td>\n",
       "      <td>36.701279</td>\n",
       "      <td>00:12</td>\n",
       "    </tr>\n",
       "    <tr>\n",
       "      <td>6</td>\n",
       "      <td>12.322025</td>\n",
       "      <td>36.943348</td>\n",
       "      <td>00:12</td>\n",
       "    </tr>\n",
       "    <tr>\n",
       "      <td>7</td>\n",
       "      <td>11.123209</td>\n",
       "      <td>37.191177</td>\n",
       "      <td>00:12</td>\n",
       "    </tr>\n",
       "    <tr>\n",
       "      <td>8</td>\n",
       "      <td>10.141919</td>\n",
       "      <td>37.340969</td>\n",
       "      <td>00:12</td>\n",
       "    </tr>\n",
       "    <tr>\n",
       "      <td>9</td>\n",
       "      <td>9.347724</td>\n",
       "      <td>37.456303</td>\n",
       "      <td>00:12</td>\n",
       "    </tr>\n",
       "    <tr>\n",
       "      <td>10</td>\n",
       "      <td>8.623032</td>\n",
       "      <td>37.664848</td>\n",
       "      <td>00:12</td>\n",
       "    </tr>\n",
       "    <tr>\n",
       "      <td>11</td>\n",
       "      <td>7.962165</td>\n",
       "      <td>37.779472</td>\n",
       "      <td>00:12</td>\n",
       "    </tr>\n",
       "    <tr>\n",
       "      <td>12</td>\n",
       "      <td>7.327749</td>\n",
       "      <td>37.917336</td>\n",
       "      <td>00:12</td>\n",
       "    </tr>\n",
       "    <tr>\n",
       "      <td>13</td>\n",
       "      <td>6.743453</td>\n",
       "      <td>38.110462</td>\n",
       "      <td>00:12</td>\n",
       "    </tr>\n",
       "    <tr>\n",
       "      <td>14</td>\n",
       "      <td>6.179460</td>\n",
       "      <td>38.264690</td>\n",
       "      <td>00:12</td>\n",
       "    </tr>\n",
       "    <tr>\n",
       "      <td>15</td>\n",
       "      <td>5.699021</td>\n",
       "      <td>38.362434</td>\n",
       "      <td>00:12</td>\n",
       "    </tr>\n",
       "    <tr>\n",
       "      <td>16</td>\n",
       "      <td>5.303816</td>\n",
       "      <td>38.448544</td>\n",
       "      <td>00:12</td>\n",
       "    </tr>\n",
       "    <tr>\n",
       "      <td>17</td>\n",
       "      <td>5.000145</td>\n",
       "      <td>38.515182</td>\n",
       "      <td>00:12</td>\n",
       "    </tr>\n",
       "    <tr>\n",
       "      <td>18</td>\n",
       "      <td>4.801559</td>\n",
       "      <td>38.531387</td>\n",
       "      <td>00:12</td>\n",
       "    </tr>\n",
       "    <tr>\n",
       "      <td>19</td>\n",
       "      <td>4.702650</td>\n",
       "      <td>38.543674</td>\n",
       "      <td>00:12</td>\n",
       "    </tr>\n",
       "  </tbody>\n",
       "</table>"
      ],
      "text/plain": [
       "<IPython.core.display.HTML object>"
      ]
     },
     "metadata": {},
     "output_type": "display_data"
    }
   ],
   "source": [
    "learn.fit_one_cycle(20,1e-2)"
   ]
  },
  {
   "cell_type": "code",
   "execution_count": 120,
   "id": "revised-cutting",
   "metadata": {},
   "outputs": [],
   "source": [
    "compressor = nn.Sequential(*list(model.layers.children())[:-1])"
   ]
  },
  {
   "cell_type": "code",
   "execution_count": 129,
   "id": "authorized-fighter",
   "metadata": {},
   "outputs": [],
   "source": [
    "torch.save(compressor, 'models/tfidf_compress.pth')"
   ]
  },
  {
   "cell_type": "code",
   "execution_count": 121,
   "id": "eleven-funeral",
   "metadata": {},
   "outputs": [],
   "source": [
    "def embs_from_model(model, dl):\n",
    "    model = model.eval()\n",
    "    all_embs = []\n",
    "    all_ys=[]\n",
    "    for batch in tqdm(dl):\n",
    "        if len(batch) ==2:\n",
    "            bx,by=batch\n",
    "        else:\n",
    "            bx,=batch\n",
    "            by=torch.zeros(1)\n",
    "        with torch.no_grad():\n",
    "            embs = model(bx)\n",
    "            all_embs.append(embs.half())\n",
    "        all_ys.append(by)\n",
    "    all_embs = F.normalize(torch.cat(all_embs))\n",
    "    return all_embs, torch.cat(all_ys)"
   ]
  },
  {
   "cell_type": "code",
   "execution_count": 122,
   "id": "friendly-correspondence",
   "metadata": {},
   "outputs": [],
   "source": [
    "def do_chunk(embs):\n",
    "    step = 10000\n",
    "    for chunk_start in range(0, embs.shape[0], step):\n",
    "        chunk_end = min(chunk_start+step, len(embs))\n",
    "        yield embs[chunk_start:chunk_end]"
   ]
  },
  {
   "cell_type": "code",
   "execution_count": 134,
   "id": "stunning-circuit",
   "metadata": {},
   "outputs": [
    {
     "data": {
      "application/vnd.jupyter.widget-view+json": {
       "model_id": "f9d0afe03e5843268f855425e69d457d",
       "version_major": 2,
       "version_minor": 0
      },
      "text/plain": [
       "  0%|          | 0/14 [00:00<?, ?it/s]"
      ]
     },
     "metadata": {},
     "output_type": "display_data"
    }
   ],
   "source": [
    "embs, ys = embs_from_model(compressor, dls.valid)"
   ]
  },
  {
   "cell_type": "code",
   "execution_count": 125,
   "id": "proper-metro",
   "metadata": {},
   "outputs": [],
   "source": [
    "dists, inds = get_nearest(embs, do_chunk(embs))"
   ]
  },
  {
   "cell_type": "code",
   "execution_count": 126,
   "id": "nonprofit-checklist",
   "metadata": {},
   "outputs": [],
   "source": [
    "pairs = sorted_pairs(dists, inds)[:len(embs)*10]"
   ]
  },
  {
   "cell_type": "code",
   "execution_count": 127,
   "id": "binding-claim",
   "metadata": {},
   "outputs": [],
   "source": [
    "valid_df=train_df[train_df.is_valid==True].copy().reset_index()\n",
    "valid_df = add_target_groups(valid_df)"
   ]
  },
  {
   "cell_type": "code",
   "execution_count": 128,
   "id": "listed-aggregate",
   "metadata": {},
   "outputs": [
    {
     "name": "stdout",
     "output_type": "stream",
     "text": [
      "0.775 at 6.15011739730835 pairs\n"
     ]
    },
    {
     "data": {
      "image/png": "[encoded data removed]",
      "text/plain": [
       "<Figure size 432x288 with 1 Axes>"
      ]
     },
     "metadata": {
      "needs_background": "light"
     },
     "output_type": "display_data"
    }
   ],
   "source": [
    "_=build_from_pairs(pairs, valid_df.target.to_list())"
   ]
  },
  {
   "cell_type": "code",
   "execution_count": 97,
   "id": "collective-frontier",
   "metadata": {},
   "outputs": [],
   "source": [
    "def csr_matrix_to_tensor(csr):\n",
    "    coo = csr.tocoo()\n",
    "    t = torch.sparse_coo_tensor([coo.row, coo.col], coo.data, csr.shape).cuda()\n",
    "    return t\n",
    "\n",
    "def do_chunk_text(embs):\n",
    "    step = 5000\n",
    "    for chunk_start in range(0, embs.shape[0], step):\n",
    "        chunk_end = min(chunk_start+step, embs.shape[0])\n",
    "        chunk = embs[chunk_start:chunk_end]\n",
    "        chunk = csr_matrix_to_tensor(chunk).to_dense()\n",
    "        yield chunk\n",
    "\n",
    "def generate_text_pairs(data):\n",
    "    sk_model = sklearn.feature_extraction.text.TfidfVectorizer(stop_words='english', binary=True, max_features=25_000)\n",
    "    text_embeddings =sk_model.fit_transform(data.title)\n",
    "    sparse_embs = csr_matrix_to_tensor(text_embeddings)\n",
    "    dists, inds = get_nearest(sparse_embs, do_chunk_text(text_embeddings))\n",
    "    pairs = sorted_pairs(dists, inds)[:int(len(data)*10)]\n",
    "    return pairs"
   ]
  },
  {
   "cell_type": "code",
   "execution_count": 98,
   "id": "stainless-horror",
   "metadata": {},
   "outputs": [],
   "source": [
    "def weave(A,B):\n",
    "    R = list()\n",
    "    used = set()\n",
    "    for a,b in zip(A,B):\n",
    "        if a[:2] not in used:\n",
    "            R.append(a)\n",
    "            used.add(a[:2])\n",
    "        if b[:2] not in used:\n",
    "            R.append(b)\n",
    "            used.add(b[:2])\n",
    "    return R"
   ]
  },
  {
   "cell_type": "code",
   "execution_count": 99,
   "id": "neutral-democracy",
   "metadata": {},
   "outputs": [],
   "source": [
    "pairs_full = generate_text_pairs(valid_df)"
   ]
  },
  {
   "cell_type": "code",
   "execution_count": 100,
   "id": "herbal-rings",
   "metadata": {},
   "outputs": [
    {
     "name": "stdout",
     "output_type": "stream",
     "text": [
      "0.782 at 5.600910663604736 pairs\n"
     ]
    },
    {
     "data": {
      "image/png": "[encoded data removed]",
      "text/plain": [
       "<Figure size 432x288 with 1 Axes>"
      ]
     },
     "metadata": {
      "needs_background": "light"
     },
     "output_type": "display_data"
    }
   ],
   "source": [
    "_=build_from_pairs(pairs_full, valid_df.target.to_list())"
   ]
  },
  {
   "cell_type": "code",
   "execution_count": 101,
   "id": "stock-fifteen",
   "metadata": {},
   "outputs": [
    {
     "name": "stdout",
     "output_type": "stream",
     "text": [
      "0.781 at 5.93522310256958 pairs\n"
     ]
    },
    {
     "data": {
      "image/png": "[encoded data removed]",
      "text/plain": [
       "<Figure size 432x288 with 1 Axes>"
      ]
     },
     "metadata": {
      "needs_background": "light"
     },
     "output_type": "display_data"
    }
   ],
   "source": [
    "combined = weave(pairs, pairs_full)\n",
    "\n",
    "_=build_from_pairs(combined, valid_df.target.to_list())"
   ]
  },
  {
   "cell_type": "code",
   "execution_count": 102,
   "id": "statutory-thickness",
   "metadata": {},
   "outputs": [
    {
     "data": {
      "text/plain": [
       "68080"
      ]
     },
     "execution_count": 102,
     "metadata": {},
     "output_type": "execute_result"
    }
   ],
   "source": [
    "len(pairs)"
   ]
  },
  {
   "cell_type": "code",
   "execution_count": 103,
   "id": "right-catalyst",
   "metadata": {},
   "outputs": [
    {
     "data": {
      "text/plain": [
       "68080"
      ]
     },
     "execution_count": 103,
     "metadata": {},
     "output_type": "execute_result"
    }
   ],
   "source": [
    "len(pairs_full)"
   ]
  },
  {
   "cell_type": "code",
   "execution_count": 104,
   "id": "broke-description",
   "metadata": {},
   "outputs": [
    {
     "data": {
      "text/plain": [
       "0.6543111045828437"
      ]
     },
     "execution_count": 104,
     "metadata": {},
     "output_type": "execute_result"
    }
   ],
   "source": [
    "len(combined) / (len(pairs)+len(pairs_full))"
   ]
  },
  {
   "cell_type": "code",
   "execution_count": 105,
   "id": "executed-plymouth",
   "metadata": {},
   "outputs": [
    {
     "data": {
      "application/vnd.jupyter.widget-view+json": {
       "model_id": "8eab575d16e740ca82cba907e7800a67",
       "version_major": 2,
       "version_minor": 0
      },
      "text/plain": [
       "  0%|          | 0/53 [00:00<?, ?it/s]"
      ]
     },
     "metadata": {},
     "output_type": "display_data"
    }
   ],
   "source": [
    "train_embs,_ = embs_from_model(compressor, dls.train)"
   ]
  },
  {
   "cell_type": "code",
   "execution_count": 106,
   "id": "informed-bacon",
   "metadata": {},
   "outputs": [
    {
     "data": {
      "text/plain": [
       "torch.Size([27136, 512])"
      ]
     },
     "execution_count": 106,
     "metadata": {},
     "output_type": "execute_result"
    }
   ],
   "source": [
    "train_embs.shape"
   ]
  },
  {
   "cell_type": "code",
   "execution_count": 107,
   "id": "expected-leisure",
   "metadata": {},
   "outputs": [],
   "source": [
    "dists, inds = get_nearest(train_embs, do_chunk(train_embs))"
   ]
  },
  {
   "cell_type": "code",
   "execution_count": 108,
   "id": "quick-newsletter",
   "metadata": {},
   "outputs": [],
   "source": [
    "train_pairs = sorted_pairs(dists, inds)[:len(train_embs)*10]"
   ]
  },
  {
   "cell_type": "code",
   "execution_count": 109,
   "id": "unnecessary-diameter",
   "metadata": {},
   "outputs": [],
   "source": [
    "nonvalid_df=train_df[train_df.is_valid==False].copy().reset_index()\n",
    "nonvalid_df = add_target_groups(nonvalid_df)"
   ]
  },
  {
   "cell_type": "code",
   "execution_count": 111,
   "id": "sound-upper",
   "metadata": {},
   "outputs": [
    {
     "name": "stdout",
     "output_type": "stream",
     "text": [
      "0.442 at 1.1820931434631348 pairs\n"
     ]
    },
    {
     "data": {
      "image/png": "[encoded data removed]",
      "text/plain": [
       "<Figure size 432x288 with 1 Axes>"
      ]
     },
     "metadata": {
      "needs_background": "light"
     },
     "output_type": "display_data"
    }
   ],
   "source": [
    "_=build_from_pairs(train_pairs, nonvalid_df.target.to_list())"
   ]
  },
  {
   "cell_type": "code",
   "execution_count": 112,
   "id": "advisory-gambling",
   "metadata": {},
   "outputs": [
    {
     "data": {
      "text/html": [],
      "text/plain": [
       "<IPython.core.display.HTML object>"
      ]
     },
     "metadata": {},
     "output_type": "display_data"
    }
   ],
   "source": [
    "predsx, predsy = learn.get_preds(ds_idx=0)"
   ]
  },
  {
   "cell_type": "code",
   "execution_count": 113,
   "id": "spectacular-chance",
   "metadata": {},
   "outputs": [
    {
     "data": {
      "text/plain": [
       "(torch.Size([27442, 11014]), torch.Size([27442]))"
      ]
     },
     "execution_count": 113,
     "metadata": {},
     "output_type": "execute_result"
    }
   ],
   "source": [
    "predsx.shape, predsy.shape"
   ]
  },
  {
   "cell_type": "code",
   "execution_count": 114,
   "id": "shared-evans",
   "metadata": {},
   "outputs": [
    {
     "data": {
      "text/plain": [
       "TensorBase(0.9911)"
      ]
     },
     "execution_count": 114,
     "metadata": {},
     "output_type": "execute_result"
    }
   ],
   "source": [
    "accuracy(predsx, predsy)"
   ]
  },
  {
   "cell_type": "code",
   "execution_count": null,
   "id": "fantastic-queensland",
   "metadata": {},
   "outputs": [],
   "source": []
  },
  {
   "cell_type": "code",
   "execution_count": null,
   "id": "strange-speaker",
   "metadata": {},
   "outputs": [],
   "source": []
  }
 ],
 "metadata": {
  "kernelspec": {
   "display_name": "Python 3.8.5 64-bit ('fastai': conda)",
   "language": "python",
   "name": "python38564bitfastaicondad52d12c5a30a4725bf9d3e235cf1271c"
  },
  "language_info": {
   "codemirror_mode": {
    "name": "ipython",
    "version": 3
   },
   "file_extension": ".py",
   "mimetype": "text/x-python",
   "name": "python",
   "nbconvert_exporter": "python",
   "pygments_lexer": "ipython3",
   "version": "3.8.5"
  }
 },
 "nbformat": 4,
 "nbformat_minor": 5
}
