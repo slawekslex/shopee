{
 "cells": [
  {
   "cell_type": "code",
   "execution_count": 2,
   "metadata": {},
   "outputs": [],
   "source": [
    "%load_ext autoreload\n",
    "%autoreload 2"
   ]
  },
  {
   "cell_type": "code",
   "execution_count": 3,
   "metadata": {
    "_cell_guid": "b1076dfc-b9ad-4769-8c92-a6c4dae69d19",
    "_uuid": "8f2839f25d086af736a60e9eeb907d3b93b6e0e5"
   },
   "outputs": [],
   "source": [
    "from fastai.vision.all import *\n",
    "import sklearn.metrics as skm\n",
    "from tqdm.notebook import tqdm\n",
    "import sklearn.feature_extraction.text\n",
    "from transformers import (BertTokenizer, BertModel,\n",
    "                          DistilBertTokenizer, DistilBertModel)\n",
    "import gc"
   ]
  },
  {
   "cell_type": "code",
   "execution_count": 4,
   "metadata": {},
   "outputs": [],
   "source": [
    "from shopee_utils import *"
   ]
  },
  {
   "cell_type": "code",
   "execution_count": 5,
   "metadata": {},
   "outputs": [],
   "source": [
    "OUTPUT_CLASSES=11014\n",
    "TAKE_PAIRS = 5"
   ]
  },
  {
   "cell_type": "code",
   "execution_count": 6,
   "metadata": {},
   "outputs": [],
   "source": [
    "TRIAL_RUN=True"
   ]
  },
  {
   "cell_type": "code",
   "execution_count": 7,
   "metadata": {},
   "outputs": [],
   "source": [
    "conf = {\n",
    "    'bs':64,\n",
    "    'arch':resnet34,\n",
    "    'split':0\n",
    "}"
   ]
  },
  {
   "cell_type": "code",
   "execution_count": 8,
   "metadata": {},
   "outputs": [],
   "source": [
    "PATH = Path('../input/shopee-product-matching')\n",
    "image_model_file  = '../input/shopee-models/resnet34_arcface.pth'\n",
    "text_model_file  = '../input/shopee-models/bert823val.pth'\n",
    "text_model_file  = '../input/shopee-models/distilbert817val.pth'\n",
    "BERT_PATH = '../input/bertindo15g'\n",
    "\n",
    "if not PATH.is_dir():\n",
    "    PATH = Path('/home/slex/data/shopee')\n",
    "    image_model_file ='models/resnet34_arcface.pth'\n",
    "    text_model_file='./models/bert823val.pth'\n",
    "    BERT_PATH = './bert_indonesian'\n",
    "# BERT_PATH='cahya/distilbert-base-indonesian'\n",
    "# text_model_file  = './models/distilbert817val.pth'"
   ]
  },
  {
   "cell_type": "code",
   "execution_count": 9,
   "metadata": {},
   "outputs": [],
   "source": [
    "def hash_label(x):\n",
    "    x = (13*x)%10000\n",
    "    return x // 2000\n",
    "train_df = pd.read_csv(PATH/'train.csv')\n",
    "train_df['split']=train_df.label_group.apply(hash_label)\n",
    "train_df['is_valid'] = train_df.split==conf['split']\n",
    "valid_df=train_df[train_df.is_valid==True].copy().reset_index()\n",
    "valid_df = add_target_groups(valid_df)"
   ]
  },
  {
   "cell_type": "markdown",
   "metadata": {},
   "source": [
    "## TEXT"
   ]
  },
  {
   "cell_type": "code",
   "execution_count": 10,
   "metadata": {},
   "outputs": [],
   "source": [
    "class ArcFaceClassifier(nn.Module):\n",
    "    def __init__(self, in_features, output_classes):\n",
    "        super().__init__()\n",
    "        emb_dim=768\n",
    "        mid_size = 512\n",
    "        self.initial_layers=nn.Sequential(\n",
    "            nn.BatchNorm1d(emb_dim),\n",
    "            nn.Dropout(.25))\n",
    "        self.W = nn.Parameter(torch.Tensor(emb_dim, output_classes))\n",
    "        nn.init.kaiming_uniform_(self.W)\n",
    "    def forward(self, x):\n",
    "        x = self.initial_layers(x)\n",
    "        x_norm = F.normalize(x)\n",
    "        W_norm = F.normalize(self.W, dim=0)\n",
    "        return x_norm @ W_norm\n",
    "    \n",
    "    \n",
    "def arcface_loss(cosine, targ, m=.5, s=30):\n",
    "    cosine = cosine.clip(-1+1e-7, 1-1e-7) \n",
    "    arcosine = cosine.arccos()\n",
    "    arcosine += F.one_hot(targ, num_classes = OUTPUT_CLASSES) * m\n",
    "    cosine2 = arcosine.cos()\n",
    "    cosine2 *= s\n",
    "    return F.cross_entropy(cosine2, targ)"
   ]
  },
  {
   "cell_type": "code",
   "execution_count": 11,
   "metadata": {},
   "outputs": [],
   "source": [
    "class TitleTransform(Transform):\n",
    "    def __init__(self):\n",
    "        super().__init__()\n",
    "        self.tokenizer = BertTokenizer.from_pretrained(BERT_PATH)\n",
    "        #self.tokenizer = DistilBertTokenizer.from_pretrained(BERT_PATH)\n",
    "        \n",
    "        \n",
    "    def encodes(self, row):\n",
    "        text = row.title\n",
    "        encodings = self.tokenizer(text, padding = 'max_length', max_length=50, truncation=True,return_tensors='pt')\n",
    "        keys =['input_ids', 'attention_mask', 'token_type_ids'] \n",
    "        return tuple(encodings[key].squeeze() for key in keys)"
   ]
  },
  {
   "cell_type": "code",
   "execution_count": 12,
   "metadata": {},
   "outputs": [],
   "source": [
    "tfm = TitleTransform()\n",
    "\n",
    "data_block = DataBlock(\n",
    "    blocks = (TransformBlock(type_tfms=tfm), \n",
    "              CategoryBlock(vocab=train_df.label_group.to_list())),\n",
    "    splitter=ColSplitter(),\n",
    "    get_y=ColReader('label_group'),\n",
    "    )\n",
    "text_dls = data_block.dataloaders(train_df, bs=256,num_workers=16)\n"
   ]
  },
  {
   "cell_type": "code",
   "execution_count": 13,
   "metadata": {},
   "outputs": [],
   "source": [
    "class BertArcFace(nn.Module):\n",
    "    def __init__(self, bert_model):\n",
    "        super().__init__()\n",
    "        self.bert_model = bert_model\n",
    "        self.classifier = ArcFaceClassifier(768, OUTPUT_CLASSES)\n",
    "        self.outputEmbs = False\n",
    "    def forward(self, x):\n",
    "        output = self.bert_model(*x)\n",
    "        embeddings = output.last_hidden_state[:,0,:]#output.pooler_output\n",
    "        if self.outputEmbs:\n",
    "            return embeddings\n",
    "        return self.classifier(embeddings)\n"
   ]
  },
  {
   "cell_type": "code",
   "execution_count": 14,
   "metadata": {},
   "outputs": [],
   "source": [
    "def new_text_model():\n",
    "    #bert_model = DistilBertModel.from_pretrained(BERT_PATH)\n",
    "    bert_model = BertModel.from_pretrained(BERT_PATH)\n",
    "    return BertArcFace(bert_model)"
   ]
  },
  {
   "cell_type": "code",
   "execution_count": 15,
   "metadata": {},
   "outputs": [],
   "source": [
    "def generate_text_embs(dl):\n",
    "    model = new_text_model()\n",
    "    state = torch.load(text_model_file)\n",
    "    model.load_state_dict(state['model'])\n",
    "    model.eval().cuda()\n",
    "    model.outputEmbs=True\n",
    "    embs, ys = embs_from_model(model, dl)\n",
    "    return embs, ys\n",
    "\n",
    "def generate_text_pairs(dl):\n",
    "    embs, ys = generate_text_embs(dl)\n",
    "    target_matrix = ys[:,None]==ys[None,:]\n",
    "    groups = [torch.where(t)[0].tolist() for t in target_matrix]\n",
    "    dists, inds = get_nearest(embs, do_chunk(embs))\n",
    "    pairs = sorted_pairs(dists, inds)[:len(embs)*10]\n",
    "    return pairs, groups"
   ]
  },
  {
   "cell_type": "code",
   "execution_count": 16,
   "metadata": {},
   "outputs": [],
   "source": [
    "# pairs, groups = generate_text_pairs(text_dls.valid)\n",
    "# _=build_from_pairs(pairs, groups, True)"
   ]
  },
  {
   "cell_type": "markdown",
   "metadata": {},
   "source": [
    "## IMAGE\n"
   ]
  },
  {
   "cell_type": "code",
   "execution_count": 17,
   "metadata": {},
   "outputs": [],
   "source": [
    "class ArcFaceImgClassifier(nn.Module):\n",
    "    def __init__(self, in_features, output_classes):\n",
    "        super().__init__()\n",
    "        self.W = nn.Parameter(torch.Tensor(in_features, output_classes))\n",
    "        nn.init.kaiming_uniform_(self.W)\n",
    "    def forward(self, x):\n",
    "        x_norm = F.normalize(x)\n",
    "        W_norm = F.normalize(self.W, dim=0)\n",
    "        return x_norm @ W_norm\n",
    "    \n",
    "class ResnetArcFace(nn.Module):\n",
    "    def __init__(self, output_classes):\n",
    "        super().__init__()\n",
    "        self.body = create_body(conf['arch'], cut=-2, pretrained=False)\n",
    "        nf = num_features_model(nn.Sequential(*self.body.children()))\n",
    "        self.after_conv=nn.Sequential(\n",
    "            AdaptiveConcatPool2d(),\n",
    "            Flatten(),\n",
    "            nn.BatchNorm1d(nf*2),\n",
    "            nn.Dropout(.25))\n",
    "        self.classifier = ArcFaceImgClassifier(nf*2, output_classes)\n",
    "        self.outputEmbs = False\n",
    "        \n",
    "    def forward(self, x):\n",
    "        x = self.body(x)\n",
    "        embeddings = self.after_conv(x)\n",
    "        if self.outputEmbs:\n",
    "            return embeddings\n",
    "        return self.classifier(embeddings)"
   ]
  },
  {
   "cell_type": "code",
   "execution_count": 18,
   "metadata": {},
   "outputs": [],
   "source": [
    "def get_img_file(row):\n",
    "    img =row.image\n",
    "    fn  = PATH/'train_images'/img\n",
    "    if not fn.is_file():\n",
    "        fn = PATH/'test_images'/img\n",
    "    return fn"
   ]
  },
  {
   "cell_type": "code",
   "execution_count": 19,
   "metadata": {},
   "outputs": [],
   "source": [
    "data_block = DataBlock(blocks = (ImageBlock(), CategoryBlock(vocab=train_df.label_group.to_list())),\n",
    "                 splitter=ColSplitter(),\n",
    "                 get_y=ColReader('label_group'),\n",
    "                 get_x=get_img_file,\n",
    "                 item_tfms=Resize(460),\n",
    "                 batch_tfms=aug_transforms(size=224, min_scale=0.75),\n",
    "                 )\n",
    "dls_image = data_block.dataloaders(train_df, bs=conf['bs'])\n"
   ]
  },
  {
   "cell_type": "code",
   "execution_count": 20,
   "metadata": {},
   "outputs": [],
   "source": [
    "def generate_image_embs(dl):\n",
    "    model = ResnetArcFace(dls_image.c)\n",
    "    state = torch.load(image_model_file)\n",
    "    model.load_state_dict(state['model'])\n",
    "    model = model.cuda().eval()\n",
    "    model.outputEmbs = True\n",
    "    embs, ys = embs_from_model(model, dl)\n",
    "    return embs,ys\n",
    "\n",
    "def generate_image_pairs(dl):\n",
    "    embs, ys = generate_image_embs(dl)\n",
    "    target_matrix = ys[:,None]==ys[None,:]\n",
    "    groups = [torch.where(t)[0].tolist() for t in target_matrix]\n",
    "    dists, inds = get_nearest(embs, do_chunk(embs))\n",
    "    pairs = sorted_pairs(dists, inds)[:len(embs)*10]\n",
    "    return pairs, groups"
   ]
  },
  {
   "cell_type": "code",
   "execution_count": 20,
   "metadata": {},
   "outputs": [],
   "source": [
    "# pairs, groups = generate_image_pairs(dls_image.valid)\n",
    "# _=build_from_pairs(pairs, groups, True)"
   ]
  },
  {
   "cell_type": "markdown",
   "metadata": {},
   "source": [
    "## Distances for combined top-K indices"
   ]
  },
  {
   "cell_type": "code",
   "execution_count": 21,
   "metadata": {},
   "outputs": [],
   "source": [
    "def combined_dists(img_embs, text_embs):\n",
    "    _, img_inds = get_nearest(img_embs, do_chunk(img_embs), K=50)\n",
    "\n",
    "    _, text_inds = get_nearest(text_embs, do_chunk(text_embs),K=50, sorted=False)\n",
    "\n",
    "    combined_inds = torch.cat([img_inds, text_inds],dim=1)\n",
    "    img_dists = get_dist_for_inds(img_embs, combined_inds)\n",
    "\n",
    "    text_dists = get_dist_for_inds(text_embs, combined_inds)\n",
    "    return combined_inds, img_dists, text_dists"
   ]
  },
  {
   "cell_type": "markdown",
   "metadata": {},
   "source": [
    "## TRY DIFFERENT COMBINE STRATS"
   ]
  },
  {
   "cell_type": "code",
   "execution_count": 22,
   "metadata": {},
   "outputs": [
    {
     "data": {
      "application/vnd.jupyter.widget-view+json": {
       "model_id": "dafec3de4ace43649d51bd8104fbeded",
       "version_major": 2,
       "version_minor": 0
      },
      "text/plain": [
       "  0%|          | 0/107 [00:00<?, ?it/s]"
      ]
     },
     "metadata": {},
     "output_type": "display_data"
    }
   ],
   "source": [
    "img_embs,ys = generate_image_embs(dls_image.valid)"
   ]
  },
  {
   "cell_type": "code",
   "execution_count": 23,
   "metadata": {},
   "outputs": [
    {
     "data": {
      "application/vnd.jupyter.widget-view+json": {
       "model_id": "d72241e3f575446189989fab3cb2e9c7",
       "version_major": 2,
       "version_minor": 0
      },
      "text/plain": [
       "  0%|          | 0/27 [00:00<?, ?it/s]"
      ]
     },
     "metadata": {},
     "output_type": "display_data"
    }
   ],
   "source": [
    "text_embs,ys = generate_text_embs(text_dls.valid)"
   ]
  },
  {
   "cell_type": "code",
   "execution_count": 24,
   "metadata": {},
   "outputs": [],
   "source": [
    "target_matrix = ys[:,None]==ys[None,:]\n",
    "targets = [torch.where(t)[0].tolist() for t in target_matrix]"
   ]
  },
  {
   "cell_type": "code",
   "execution_count": 25,
   "metadata": {},
   "outputs": [],
   "source": [
    "# img_sims = img_embs @ img_embs.T\n",
    "# img_scaler=scale_sims(img_sims, target_matrix)\n",
    "# text_sims = text_embs @ text_embs.T\n",
    "# text_scaler =scale_sims(text_sims, target_matrix)"
   ]
  },
  {
   "cell_type": "code",
   "execution_count": 26,
   "metadata": {},
   "outputs": [],
   "source": [
    "combined_inds, img_dists, text_dists = combined_dists(img_embs, text_embs)\n"
   ]
  },
  {
   "cell_type": "code",
   "execution_count": 27,
   "metadata": {},
   "outputs": [
    {
     "name": "stdout",
     "output_type": "stream",
     "text": [
      "0.870 at 6.1323442459106445 pairs or 0.767 threshold\n"
     ]
    },
    {
     "data": {
      "image/png": "[encoded data removed]",
      "text/plain": [
       "<Figure size 432x288 with 1 Axes>"
      ]
     },
     "metadata": {
      "needs_background": "light"
     },
     "output_type": "display_data"
    }
   ],
   "source": [
    "max_dists = torch.max(img_dists, text_dists)\n",
    "triplets = sorted_pairs(max_dists, combined_inds)[:len(img_embs)*10]\n",
    "_=build_from_pairs(triplets, targets)"
   ]
  },
  {
   "cell_type": "code",
   "execution_count": 28,
   "metadata": {},
   "outputs": [
    {
     "name": "stdout",
     "output_type": "stream",
     "text": [
      "0.891 at 6.382931709289551 pairs or 0.822 threshold\n"
     ]
    },
    {
     "data": {
      "image/png": "[encoded data removed]",
      "text/plain": [
       "<Figure size 432x288 with 1 Axes>"
      ]
     },
     "metadata": {
      "needs_background": "light"
     },
     "output_type": "display_data"
    }
   ],
   "source": [
    "and_dists = img_dists+text_dists - img_dists*text_dists\n",
    "triplets = sorted_pairs(and_dists, combined_inds)[:len(img_embs)*10]\n",
    "_=build_from_pairs(triplets, targets)"
   ]
  },
  {
   "cell_type": "code",
   "execution_count": 29,
   "metadata": {},
   "outputs": [
    {
     "name": "stdout",
     "output_type": "stream",
     "text": [
      "0.885 at 6.212690830230713 pairs or 0.711 threshold\n"
     ]
    },
    {
     "data": {
      "image/png": "[encoded data removed]",
      "text/plain": [
       "<Figure size 432x288 with 1 Axes>"
      ]
     },
     "metadata": {
      "needs_background": "light"
     },
     "output_type": "display_data"
    }
   ],
   "source": [
    "img_params={'min_val': 0.26708984375, 'a': -3.8065830142124857, 'b': 4.92549411772561, 'c': 1.031201433949806}\n",
    "text_params={'min_val': 0.68115234375, 'a': -785.4151875846186, 'b': 9.68828642715568, 'c': 1.0604532834375875}\n",
    "img_scaler = functools.partial(do_scale, **img_params)\n",
    "text_scaler = functools.partial(do_scale, **text_params)\n",
    "\n",
    "scaled_img = img_scaler(img_dists)\n",
    "scaled_txt = text_scaler(text_dists)\n",
    "and_scaled = scaled_txt+scaled_img - scaled_txt*scaled_img\n",
    "triplets = sorted_pairs(and_scaled, combined_inds)[:len(img_embs)*10]\n",
    "_=build_from_pairs(triplets, targets)"
   ]
  },
  {
   "cell_type": "markdown",
   "metadata": {},
   "source": [
    "## COMBINE"
   ]
  },
  {
   "cell_type": "code",
   "execution_count": null,
   "metadata": {},
   "outputs": [],
   "source": []
  },
  {
   "cell_type": "code",
   "execution_count": 21,
   "metadata": {},
   "outputs": [],
   "source": [
    "def weave(A,B):\n",
    "    R = list()\n",
    "    used = set()\n",
    "    for a,b in zip(A,B):\n",
    "        if a[:2] not in used:\n",
    "            R.append(a)\n",
    "            used.add(a[:2])\n",
    "        if b[:2] not in used:\n",
    "            R.append(b)\n",
    "            used.add(b[:2])\n",
    "    return R"
   ]
  },
  {
   "cell_type": "markdown",
   "metadata": {},
   "source": [
    "## Check on validation set"
   ]
  },
  {
   "cell_type": "code",
   "execution_count": 22,
   "metadata": {},
   "outputs": [
    {
     "data": {
      "application/vnd.jupyter.widget-view+json": {
       "model_id": "34dd785307294007996f196c89bd0f80",
       "version_major": 2,
       "version_minor": 0
      },
      "text/plain": [
       "  0%|          | 0/27 [00:00<?, ?it/s]"
      ]
     },
     "metadata": {},
     "output_type": "display_data"
    },
    {
     "data": {
      "application/vnd.jupyter.widget-view+json": {
       "model_id": "b7e8f892608d4be0b89e2bc33cbe3312",
       "version_major": 2,
       "version_minor": 0
      },
      "text/plain": [
       "  0%|          | 0/107 [00:00<?, ?it/s]"
      ]
     },
     "metadata": {},
     "output_type": "display_data"
    },
    {
     "name": "stdout",
     "output_type": "stream",
     "text": [
      "0.823 at 6.0207109451293945 pairs or 0.749 threshold\n",
      "0.780 at 4.938601493835449 pairs or 0.395 threshold\n",
      "0.870 at 6.094888210296631 pairs or 0.810 threshold\n"
     ]
    },
    {
     "data": {
      "image/png": "[encoded data removed]",
      "text/plain": [
       "<Figure size 432x288 with 1 Axes>"
      ]
     },
     "metadata": {
      "needs_background": "light"
     },
     "output_type": "display_data"
    }
   ],
   "source": [
    "if TRIAL_RUN:\n",
    "    text_pairs, targets = generate_text_pairs(text_dls.valid)\n",
    "\n",
    "    img_pairs,_ = generate_image_pairs(dls_image.valid)\n",
    "\n",
    "    combined = weave(text_pairs, img_pairs)\n",
    "\n",
    "\n",
    "\n",
    "    _=build_from_pairs(text_pairs, targets)\n",
    "\n",
    "    _=build_from_pairs(img_pairs,targets)\n",
    "\n",
    "\n",
    "\n",
    "    _=build_from_pairs(combined, targets)"
   ]
  },
  {
   "cell_type": "code",
   "execution_count": 27,
   "metadata": {},
   "outputs": [],
   "source": [
    "scomb= sorted(combined, key=lambda x: -x[2])"
   ]
  },
  {
   "cell_type": "code",
   "execution_count": 28,
   "metadata": {},
   "outputs": [
    {
     "name": "stdout",
     "output_type": "stream",
     "text": [
      "0.845 at 5.592391490936279 pairs or 0.772 threshold\n"
     ]
    },
    {
     "data": {
      "image/png": "[encoded data removed]",
      "text/plain": [
       "<Figure size 432x288 with 1 Axes>"
      ]
     },
     "metadata": {
      "needs_background": "light"
     },
     "output_type": "display_data"
    }
   ],
   "source": [
    "_=build_from_pairs(scomb, targets)"
   ]
  },
  {
   "cell_type": "markdown",
   "metadata": {},
   "source": [
    "## Run on the test set"
   ]
  },
  {
   "cell_type": "code",
   "execution_count": 32,
   "metadata": {},
   "outputs": [],
   "source": [
    "test_df = pd.read_csv(PATH/'test.csv')"
   ]
  },
  {
   "cell_type": "code",
   "execution_count": 33,
   "metadata": {},
   "outputs": [],
   "source": [
    "if TRIAL_RUN:\n",
    "    fake_test_df = train_df[['posting_id', 'image', 'image_phash', 'title', 'label_group']].copy()\n",
    "    fake_test_df = pd.concat([fake_test_df, fake_test_df])\n",
    "    fake_test_df = add_target_groups(fake_test_df)\n",
    "    test_df = fake_test_df"
   ]
  },
  {
   "cell_type": "code",
   "execution_count": 34,
   "metadata": {},
   "outputs": [
    {
     "data": {
      "application/vnd.jupyter.widget-view+json": {
       "model_id": "1e6a3503e9304713b31accff917d0a18",
       "version_major": 2,
       "version_minor": 0
      },
      "text/plain": [
       "  0%|          | 0/268 [00:00<?, ?it/s]"
      ]
     },
     "metadata": {},
     "output_type": "display_data"
    }
   ],
   "source": [
    "text_pairs,_ = generate_text_pairs(text_dls.test_dl(test_df))"
   ]
  },
  {
   "cell_type": "code",
   "execution_count": 35,
   "metadata": {},
   "outputs": [],
   "source": [
    "gc.collect()\n",
    "torch.cuda.empty_cache()"
   ]
  },
  {
   "cell_type": "code",
   "execution_count": 36,
   "metadata": {},
   "outputs": [
    {
     "data": {
      "application/vnd.jupyter.widget-view+json": {
       "model_id": "39775ecbe4f74621b639b4d4a0ed5d20",
       "version_major": 2,
       "version_minor": 0
      },
      "text/plain": [
       "  0%|          | 0/1071 [00:00<?, ?it/s]"
      ]
     },
     "metadata": {},
     "output_type": "display_data"
    }
   ],
   "source": [
    "test_dl = dls_image.test_dl(test_df)\n",
    "img_pairs,_ = generate_image_pairs(test_dl)"
   ]
  },
  {
   "cell_type": "code",
   "execution_count": 37,
   "metadata": {},
   "outputs": [],
   "source": [
    "combined = weave(text_pairs, img_pairs)[:int(len(test_df)*TAKE_PAIRS)]"
   ]
  },
  {
   "cell_type": "code",
   "execution_count": 38,
   "metadata": {},
   "outputs": [
    {
     "name": "stdout",
     "output_type": "stream",
     "text": [
      "0.803 at 9.999985694885254 pairs or 0.828 threshold\n",
      "0.842 at 9.998583793640137 pairs or 0.521 threshold\n",
      "0.641 at 4.999985218048096 pairs or 0.969 threshold\n"
     ]
    },
    {
     "data": {
      "image/png": "[encoded data removed]",
      "text/plain": [
       "<Figure size 432x288 with 1 Axes>"
      ]
     },
     "metadata": {
      "needs_background": "light"
     },
     "output_type": "display_data"
    }
   ],
   "source": [
    "if 'target' in test_df.columns.to_list():\n",
    "    _=build_from_pairs(text_pairs, test_df.target.to_list())\n",
    "    _=build_from_pairs(img_pairs, test_df.target.to_list())\n",
    "    _=build_from_pairs(combined, test_df.target.to_list())"
   ]
  },
  {
   "cell_type": "code",
   "execution_count": null,
   "metadata": {},
   "outputs": [],
   "source": [
    "groups = [[] for _ in range(len(test_df))]\n",
    "for x,y,v in combined:\n",
    "    groups[x].append(y)"
   ]
  },
  {
   "cell_type": "code",
   "execution_count": null,
   "metadata": {},
   "outputs": [],
   "source": [
    "matches = [' '.join(test_df.iloc[g].posting_id.to_list()) for g in groups]\n",
    "test_df['matches'] = matches\n",
    "\n",
    "test_df[['posting_id','matches']].to_csv('submission.csv',index=False)"
   ]
  },
  {
   "cell_type": "code",
   "execution_count": null,
   "metadata": {},
   "outputs": [],
   "source": [
    "pd.read_csv('submission.csv').head()"
   ]
  },
  {
   "cell_type": "code",
   "execution_count": 45,
   "metadata": {},
   "outputs": [
    {
     "data": {
      "text/plain": [
       "('\\\\xe2', 4)"
      ]
     },
     "execution_count": 45,
     "metadata": {},
     "output_type": "execute_result"
    }
   ],
   "source": [
    "s='\\\\'+'xe2'\n",
    "s, len(s)"
   ]
  },
  {
   "cell_type": "code",
   "execution_count": 43,
   "metadata": {},
   "outputs": [
    {
     "data": {
      "text/plain": [
       "'â'"
      ]
     },
     "execution_count": 43,
     "metadata": {},
     "output_type": "execute_result"
    }
   ],
   "source": [
    "s[0]"
   ]
  },
  {
   "cell_type": "code",
   "execution_count": 46,
   "metadata": {},
   "outputs": [
    {
     "data": {
      "text/plain": [
       "'â'"
      ]
     },
     "execution_count": 46,
     "metadata": {},
     "output_type": "execute_result"
    }
   ],
   "source": [
    "import codecs\n",
    "codecs.decode(s, 'unicode_escape')"
   ]
  },
  {
   "cell_type": "code",
   "execution_count": null,
   "metadata": {},
   "outputs": [],
   "source": []
  }
 ],
 "metadata": {
  "kernelspec": {
   "display_name": "Python 3.8.5 64-bit ('fastai': conda)",
   "language": "python",
   "name": "python38564bitfastaicondad52d12c5a30a4725bf9d3e235cf1271c"
  },
  "language_info": {
   "codemirror_mode": {
    "name": "ipython",
    "version": 3
   },
   "file_extension": ".py",
   "mimetype": "text/x-python",
   "name": "python",
   "nbconvert_exporter": "python",
   "pygments_lexer": "ipython3",
   "version": "3.8.5"
  }
 },
 "nbformat": 4,
 "nbformat_minor": 4
}
