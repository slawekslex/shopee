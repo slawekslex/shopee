{
 "cells": [
  {
   "cell_type": "code",
   "execution_count": 1,
   "metadata": {},
   "outputs": [],
   "source": [
    "%load_ext autoreload\n",
    "%autoreload 2"
   ]
  },
  {
   "cell_type": "code",
   "execution_count": 2,
   "metadata": {
    "_cell_guid": "b1076dfc-b9ad-4769-8c92-a6c4dae69d19",
    "_uuid": "8f2839f25d086af736a60e9eeb907d3b93b6e0e5"
   },
   "outputs": [],
   "source": [
    "from fastai.vision.all import *\n",
    "import sklearn.metrics as skm\n",
    "from tqdm.notebook import tqdm\n",
    "import sklearn.feature_extraction.text\n",
    "from transformers import (BertTokenizer, BertModel,\n",
    "                          DistilBertTokenizer, DistilBertModel)\n",
    "import gc"
   ]
  },
  {
   "cell_type": "code",
   "execution_count": 3,
   "metadata": {},
   "outputs": [],
   "source": [
    "from shopee_utils import *"
   ]
  },
  {
   "cell_type": "code",
   "execution_count": 4,
   "metadata": {},
   "outputs": [],
   "source": [
    "OUTPUT_CLASSES=11014\n",
    "TAKE_PAIRS = 5"
   ]
  },
  {
   "cell_type": "code",
   "execution_count": 5,
   "metadata": {},
   "outputs": [],
   "source": [
    "TRIAL_RUN=True"
   ]
  },
  {
   "cell_type": "code",
   "execution_count": 6,
   "metadata": {},
   "outputs": [],
   "source": [
    "conf = {\n",
    "    'bs':64,\n",
    "    'arch':resnet34,\n",
    "    'split':0\n",
    "}"
   ]
  },
  {
   "cell_type": "code",
   "execution_count": 7,
   "metadata": {},
   "outputs": [],
   "source": [
    "PATH = Path('../input/shopee-product-matching')\n",
    "image_model_file  = '../input/shopee-models/resnet34_arcface.pth'\n",
    "text_model_file  = '../input/shopee-models/bert823val.pth'\n",
    "text_model_file  = '../input/shopee-models/distilbert817val.pth'\n",
    "BERT_PATH = '../input/bertindo15g'\n",
    "\n",
    "if not PATH.is_dir():\n",
    "    PATH = Path('/home/slex/data/shopee')\n",
    "    image_model_file ='models/resnet34_arcface.pth'\n",
    "    text_model_file='./models/bert823val.pth'\n",
    "    BERT_PATH = './bert_indonesian'\n",
    "# BERT_PATH='cahya/distilbert-base-indonesian'\n",
    "# text_model_file  = './models/distilbert817val.pth'"
   ]
  },
  {
   "cell_type": "code",
   "execution_count": 8,
   "metadata": {},
   "outputs": [],
   "source": [
    "def hash_label(x):\n",
    "    x = (13*x)%10000\n",
    "    return x // 2000\n",
    "train_df = pd.read_csv(PATH/'train.csv')\n",
    "train_df['split']=train_df.label_group.apply(hash_label)\n",
    "train_df['is_valid'] = train_df.split==conf['split']\n",
    "valid_df=train_df[train_df.is_valid==True].copy().reset_index()\n",
    "valid_df = add_target_groups(valid_df)"
   ]
  },
  {
   "cell_type": "markdown",
   "metadata": {},
   "source": [
    "## TEXT"
   ]
  },
  {
   "cell_type": "code",
   "execution_count": 9,
   "metadata": {},
   "outputs": [],
   "source": [
    "class ArcFaceClassifier(nn.Module):\n",
    "    def __init__(self, in_features, output_classes):\n",
    "        super().__init__()\n",
    "        emb_dim=768\n",
    "        mid_size = 512\n",
    "        self.initial_layers=nn.Sequential(\n",
    "            nn.BatchNorm1d(emb_dim),\n",
    "            nn.Dropout(.25))\n",
    "        self.W = nn.Parameter(torch.Tensor(emb_dim, output_classes))\n",
    "        nn.init.kaiming_uniform_(self.W)\n",
    "    def forward(self, x):\n",
    "        x = self.initial_layers(x)\n",
    "        x_norm = F.normalize(x)\n",
    "        W_norm = F.normalize(self.W, dim=0)\n",
    "        return x_norm @ W_norm\n",
    "    \n",
    "    \n",
    "def arcface_loss(cosine, targ, m=.5, s=30):\n",
    "    cosine = cosine.clip(-1+1e-7, 1-1e-7) \n",
    "    arcosine = cosine.arccos()\n",
    "    arcosine += F.one_hot(targ, num_classes = OUTPUT_CLASSES) * m\n",
    "    cosine2 = arcosine.cos()\n",
    "    cosine2 *= s\n",
    "    return F.cross_entropy(cosine2, targ)"
   ]
  },
  {
   "cell_type": "code",
   "execution_count": 11,
   "metadata": {},
   "outputs": [],
   "source": [
    "class TitleTransform(Transform):\n",
    "    def __init__(self):\n",
    "        super().__init__()\n",
    "        self.tokenizer = BertTokenizer.from_pretrained(BERT_PATH)\n",
    "        #self.tokenizer = DistilBertTokenizer.from_pretrained(BERT_PATH)\n",
    "        \n",
    "        \n",
    "    def encodes(self, row):\n",
    "        text = row.title\n",
    "        encodings = self.tokenizer(text, padding = 'max_length', max_length=50, truncation=True,return_tensors='pt')\n",
    "        keys =['input_ids', 'attention_mask', 'token_type_ids'] \n",
    "        return tuple(encodings[key].squeeze() for key in keys)"
   ]
  },
  {
   "cell_type": "code",
   "execution_count": 12,
   "metadata": {},
   "outputs": [],
   "source": [
    "tfm = TitleTransform()\n",
    "\n",
    "data_block = DataBlock(\n",
    "    blocks = (TransformBlock(type_tfms=tfm), \n",
    "              CategoryBlock(vocab=train_df.label_group.to_list())),\n",
    "    splitter=ColSplitter(),\n",
    "    get_y=ColReader('label_group'),\n",
    "    )\n",
    "text_dls = data_block.dataloaders(train_df, bs=256,num_workers=16)\n"
   ]
  },
  {
   "cell_type": "code",
   "execution_count": 13,
   "metadata": {},
   "outputs": [],
   "source": [
    "class BertArcFace(nn.Module):\n",
    "    def __init__(self, bert_model):\n",
    "        super().__init__()\n",
    "        self.bert_model = bert_model\n",
    "        self.classifier = ArcFaceClassifier(768, OUTPUT_CLASSES)\n",
    "        self.outputEmbs = False\n",
    "    def forward(self, x):\n",
    "        output = self.bert_model(*x)\n",
    "        embeddings = output.last_hidden_state[:,0,:]#output.pooler_output\n",
    "        if self.outputEmbs:\n",
    "            return embeddings\n",
    "        return self.classifier(embeddings)\n"
   ]
  },
  {
   "cell_type": "code",
   "execution_count": 14,
   "metadata": {},
   "outputs": [],
   "source": [
    "def new_text_model():\n",
    "    #bert_model = DistilBertModel.from_pretrained(BERT_PATH)\n",
    "    bert_model = BertModel.from_pretrained(BERT_PATH)\n",
    "    return BertArcFace(bert_model)"
   ]
  },
  {
   "cell_type": "code",
   "execution_count": 15,
   "metadata": {},
   "outputs": [],
   "source": [
    "def generate_text_pairs(dl):\n",
    "    model = new_text_model()\n",
    "    state = torch.load(text_model_file)\n",
    "    model.load_state_dict(state['model'])\n",
    "    model.eval().cuda()\n",
    "    model.outputEmbs=True\n",
    "    embs, ys = embs_from_model(model, dl)\n",
    "    target_matrix = ys[:,None]==ys[None,:]\n",
    "    groups = [torch.where(t)[0].tolist() for t in target_matrix]\n",
    "    dists, inds = get_nearest(embs, do_chunk(embs))\n",
    "    pairs = sorted_pairs(dists, inds)[:len(embs)*10]\n",
    "    return pairs, groups"
   ]
  },
  {
   "cell_type": "code",
   "execution_count": 16,
   "metadata": {},
   "outputs": [],
   "source": [
    "# pairs, groups = generate_text_pairs(text_dls.valid)\n",
    "# _=build_from_pairs(pairs, groups, True)"
   ]
  },
  {
   "cell_type": "markdown",
   "metadata": {},
   "source": [
    "## IMAGE\n"
   ]
  },
  {
   "cell_type": "code",
   "execution_count": 17,
   "metadata": {},
   "outputs": [],
   "source": [
    "class ArcFaceImgClassifier(nn.Module):\n",
    "    def __init__(self, in_features, output_classes):\n",
    "        super().__init__()\n",
    "        self.W = nn.Parameter(torch.Tensor(in_features, output_classes))\n",
    "        nn.init.kaiming_uniform_(self.W)\n",
    "    def forward(self, x):\n",
    "        x_norm = F.normalize(x)\n",
    "        W_norm = F.normalize(self.W, dim=0)\n",
    "        return x_norm @ W_norm\n",
    "    \n",
    "class ResnetArcFace(nn.Module):\n",
    "    def __init__(self, output_classes):\n",
    "        super().__init__()\n",
    "        self.body = create_body(conf['arch'], cut=-2, pretrained=False)\n",
    "        nf = num_features_model(nn.Sequential(*self.body.children()))\n",
    "        self.after_conv=nn.Sequential(\n",
    "            AdaptiveConcatPool2d(),\n",
    "            Flatten(),\n",
    "            nn.BatchNorm1d(nf*2),\n",
    "            nn.Dropout(.25))\n",
    "        self.classifier = ArcFaceImgClassifier(nf*2, output_classes)\n",
    "        self.outputEmbs = False\n",
    "        \n",
    "    def forward(self, x):\n",
    "        x = self.body(x)\n",
    "        embeddings = self.after_conv(x)\n",
    "        if self.outputEmbs:\n",
    "            return embeddings\n",
    "        return self.classifier(embeddings)"
   ]
  },
  {
   "cell_type": "code",
   "execution_count": 18,
   "metadata": {},
   "outputs": [],
   "source": [
    "def get_img_file(row):\n",
    "    img =row.image\n",
    "    fn  = PATH/'train_images'/img\n",
    "    if not fn.is_file():\n",
    "        fn = PATH/'test_images'/img\n",
    "    return fn"
   ]
  },
  {
   "cell_type": "code",
   "execution_count": 19,
   "metadata": {},
   "outputs": [],
   "source": [
    "def generate_image_pairs(model, dl):\n",
    "    embs, _ = embs_from_resnet(model, dl)\n",
    "    dists, inds = get_nearest(embs, do_chunk_img(embs))\n",
    "    pairs = sorted_pairs(dists, inds)[:int(len(embs)*TAKE_PAIRS)]\n",
    "    return pairs"
   ]
  },
  {
   "cell_type": "code",
   "execution_count": 20,
   "metadata": {},
   "outputs": [],
   "source": [
    "data_block = DataBlock(blocks = (ImageBlock(), CategoryBlock(vocab=train_df.label_group.to_list())),\n",
    "                 splitter=ColSplitter(),\n",
    "                 get_y=ColReader('label_group'),\n",
    "                 get_x=get_img_file,\n",
    "                 item_tfms=Resize(460),\n",
    "                 batch_tfms=aug_transforms(size=224, min_scale=0.75),\n",
    "                 )\n",
    "dls_image = data_block.dataloaders(train_df, bs=conf['bs'])\n"
   ]
  },
  {
   "cell_type": "code",
   "execution_count": 21,
   "metadata": {},
   "outputs": [],
   "source": [
    "def generate_image_pairs(dl):\n",
    "    model = ResnetArcFace(dls_image.c)\n",
    "    state = torch.load(image_model_file)\n",
    "    model.load_state_dict(state['model'])\n",
    "    model = model.cuda().eval()\n",
    "    model.outputEmbs = True\n",
    "    embs, ys = embs_from_model(model, dl)\n",
    "    target_matrix = ys[:,None]==ys[None,:]\n",
    "    groups = [torch.where(t)[0].tolist() for t in target_matrix]\n",
    "    dists, inds = get_nearest(embs, do_chunk(embs))\n",
    "    pairs = sorted_pairs(dists, inds)[:len(embs)*10]\n",
    "    return pairs, groups"
   ]
  },
  {
   "cell_type": "code",
   "execution_count": 22,
   "metadata": {},
   "outputs": [],
   "source": [
    "# pairs, groups = generate_image_pairs(dls_image.valid)\n",
    "# _=build_from_pairs(pairs, groups, True)"
   ]
  },
  {
   "cell_type": "markdown",
   "metadata": {},
   "source": [
    "## COMBINE"
   ]
  },
  {
   "cell_type": "code",
   "execution_count": 23,
   "metadata": {},
   "outputs": [],
   "source": [
    "def weave(A,B):\n",
    "    R = list()\n",
    "    used = set()\n",
    "    for a,b in zip(A,B):\n",
    "        if a[:2] not in used:\n",
    "            R.append(a)\n",
    "            used.add(a[:2])\n",
    "        if b[:2] not in used:\n",
    "            R.append(b)\n",
    "            used.add(b[:2])\n",
    "    return R"
   ]
  },
  {
   "cell_type": "markdown",
   "metadata": {},
   "source": [
    "## Check on validation set"
   ]
  },
  {
   "cell_type": "code",
   "execution_count": 24,
   "metadata": {},
   "outputs": [
    {
     "data": {
      "application/vnd.jupyter.widget-view+json": {
       "model_id": "9b61ad19ddf440778d1e463644168543",
       "version_major": 2,
       "version_minor": 0
      },
      "text/plain": [
       "  0%|          | 0/27 [00:00<?, ?it/s]"
      ]
     },
     "metadata": {},
     "output_type": "display_data"
    },
    {
     "data": {
      "application/vnd.jupyter.widget-view+json": {
       "model_id": "da8d58efa8f24375b2a6a006d2eabe53",
       "version_major": 2,
       "version_minor": 0
      },
      "text/plain": [
       "  0%|          | 0/107 [00:00<?, ?it/s]"
      ]
     },
     "metadata": {},
     "output_type": "display_data"
    },
    {
     "name": "stdout",
     "output_type": "stream",
     "text": [
      "0.823 at 6.0207109451293945 pairs\n",
      "0.780 at 4.938601493835449 pairs\n",
      "0.870 at 6.094888210296631 pairs\n"
     ]
    },
    {
     "data": {
      "image/png": "[encoded data removed]",
      "text/plain": [
       "<Figure size 432x288 with 1 Axes>"
      ]
     },
     "metadata": {
      "needs_background": "light"
     },
     "output_type": "display_data"
    }
   ],
   "source": [
    "if TRIAL_RUN:\n",
    "    text_pairs, targets = generate_text_pairs(text_dls.valid)\n",
    "\n",
    "    img_pairs,_ = generate_image_pairs(dls_image.valid)\n",
    "\n",
    "    combined = weave(text_pairs, img_pairs)\n",
    "\n",
    "\n",
    "\n",
    "    _=build_from_pairs(text_pairs, targets)\n",
    "\n",
    "    _=build_from_pairs(img_pairs,targets)\n",
    "\n",
    "\n",
    "\n",
    "    _=build_from_pairs(combined, targets)"
   ]
  },
  {
   "cell_type": "markdown",
   "metadata": {},
   "source": [
    "## Run on the test set"
   ]
  },
  {
   "cell_type": "code",
   "execution_count": null,
   "metadata": {},
   "outputs": [],
   "source": [
    "test_df = pd.read_csv(PATH/'test.csv')"
   ]
  },
  {
   "cell_type": "code",
   "execution_count": null,
   "metadata": {},
   "outputs": [],
   "source": [
    "if TRIAL_RUN:\n",
    "    fake_test_df = train_df[['posting_id', 'image', 'image_phash', 'title', 'label_group']].copy()\n",
    "    fake_test_df = pd.concat([fake_test_df, fake_test_df])\n",
    "    fake_test_df = add_target_groups(fake_test_df)\n",
    "    test_df = fake_test_df"
   ]
  },
  {
   "cell_type": "code",
   "execution_count": null,
   "metadata": {},
   "outputs": [],
   "source": [
    "text_pairs,_ = generate_text_pairs(text_dls.test_dl(test_df))"
   ]
  },
  {
   "cell_type": "code",
   "execution_count": null,
   "metadata": {},
   "outputs": [],
   "source": [
    "gc.collect()\n",
    "torch.cuda.empty_cache()"
   ]
  },
  {
   "cell_type": "code",
   "execution_count": null,
   "metadata": {},
   "outputs": [],
   "source": [
    "test_dl = dls_image.test_dl(test_df)\n",
    "img_pairs,_ = generate_image_pairs(test_dl)"
   ]
  },
  {
   "cell_type": "code",
   "execution_count": null,
   "metadata": {},
   "outputs": [],
   "source": [
    "combined = weave(text_pairs, img_pairs)[:int(len(test_df)*TAKE_PAIRS)]"
   ]
  },
  {
   "cell_type": "code",
   "execution_count": null,
   "metadata": {},
   "outputs": [],
   "source": [
    "if 'target' in test_df.columns.to_list():\n",
    "    _=build_from_pairs(text_pairs, test_df.target.to_list())\n",
    "    _=build_from_pairs(img_pairs, test_df.target.to_list())\n",
    "    _=build_from_pairs(combined, test_df.target.to_list())"
   ]
  },
  {
   "cell_type": "code",
   "execution_count": null,
   "metadata": {},
   "outputs": [],
   "source": [
    "groups = [[] for _ in range(len(test_df))]\n",
    "for x,y,v in combined:\n",
    "    groups[x].append(y)"
   ]
  },
  {
   "cell_type": "code",
   "execution_count": null,
   "metadata": {},
   "outputs": [],
   "source": [
    "matches = [' '.join(test_df.iloc[g].posting_id.to_list()) for g in groups]\n",
    "test_df['matches'] = matches\n",
    "\n",
    "test_df[['posting_id','matches']].to_csv('submission.csv',index=False)"
   ]
  },
  {
   "cell_type": "code",
   "execution_count": null,
   "metadata": {},
   "outputs": [],
   "source": [
    "pd.read_csv('submission.csv').head()"
   ]
  },
  {
   "cell_type": "code",
   "execution_count": null,
   "metadata": {},
   "outputs": [],
   "source": []
  }
 ],
 "metadata": {
  "kernelspec": {
   "display_name": "Python 3.8.5 64-bit ('fastai': conda)",
   "language": "python",
   "name": "python38564bitfastaicondad52d12c5a30a4725bf9d3e235cf1271c"
  },
  "language_info": {
   "codemirror_mode": {
    "name": "ipython",
    "version": 3
   },
   "file_extension": ".py",
   "mimetype": "text/x-python",
   "name": "python",
   "nbconvert_exporter": "python",
   "pygments_lexer": "ipython3",
   "version": "3.8.5"
  }
 },
 "nbformat": 4,
 "nbformat_minor": 4
}
