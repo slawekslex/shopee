{
 "cells": [
  {
   "cell_type": "code",
   "execution_count": 1,
   "metadata": {
    "papermill": {
     "duration": 0.051494,
     "end_time": "2021-04-22T16:24:12.002166",
     "exception": false,
     "start_time": "2021-04-22T16:24:11.950672",
     "status": "completed"
    },
    "tags": []
   },
   "outputs": [],
   "source": [
    "%load_ext autoreload\n",
    "%autoreload 2"
   ]
  },
  {
   "cell_type": "code",
   "execution_count": 2,
   "metadata": {
    "_cell_guid": "b1076dfc-b9ad-4769-8c92-a6c4dae69d19",
    "_uuid": "8f2839f25d086af736a60e9eeb907d3b93b6e0e5",
    "papermill": {
     "duration": 3.516665,
     "end_time": "2021-04-22T16:24:15.538850",
     "exception": false,
     "start_time": "2021-04-22T16:24:12.022185",
     "status": "completed"
    },
    "tags": []
   },
   "outputs": [],
   "source": [
    "from fastai.vision.all import *\n",
    "import sklearn.metrics as skm\n",
    "from tqdm.notebook import tqdm\n",
    "import sklearn.feature_extraction.text\n",
    "from transformers import (BertTokenizer, BertModel,\n",
    "                          AutoConfig, AutoModel)\n",
    "import gc\n",
    "import codecs"
   ]
  },
  {
   "cell_type": "code",
   "execution_count": 3,
   "metadata": {
    "papermill": {
     "duration": 1.029348,
     "end_time": "2021-04-22T16:24:16.600485",
     "exception": false,
     "start_time": "2021-04-22T16:24:15.571137",
     "status": "completed"
    },
    "tags": []
   },
   "outputs": [],
   "source": [
    "import sys\n",
    "sys.path.append('../input/timm-pytorch-image-models/pytorch-image-models-master')\n",
    "import timm"
   ]
  },
  {
   "cell_type": "code",
   "execution_count": 27,
   "metadata": {
    "papermill": {
     "duration": 0.074888,
     "end_time": "2021-04-22T16:24:16.696242",
     "exception": false,
     "start_time": "2021-04-22T16:24:16.621354",
     "status": "completed"
    },
    "tags": []
   },
   "outputs": [],
   "source": [
    "from shopee_utils import *"
   ]
  },
  {
   "cell_type": "code",
   "execution_count": 61,
   "metadata": {
    "papermill": {
     "duration": 0.062695,
     "end_time": "2021-04-22T16:24:16.781329",
     "exception": false,
     "start_time": "2021-04-22T16:24:16.718634",
     "status": "completed"
    },
    "tags": []
   },
   "outputs": [],
   "source": [
    "OUTPUT_CLASSES=11014\n",
    "RECIPROCAL_THRESH = .94"
   ]
  },
  {
   "cell_type": "code",
   "execution_count": 6,
   "metadata": {
    "papermill": {
     "duration": 0.058172,
     "end_time": "2021-04-22T16:24:16.860366",
     "exception": false,
     "start_time": "2021-04-22T16:24:16.802194",
     "status": "completed"
    },
    "tags": []
   },
   "outputs": [],
   "source": [
    "TRIAL_RUN=False"
   ]
  },
  {
   "cell_type": "code",
   "execution_count": 7,
   "metadata": {
    "papermill": {
     "duration": 0.056894,
     "end_time": "2021-04-22T16:24:16.937812",
     "exception": false,
     "start_time": "2021-04-22T16:24:16.880918",
     "status": "completed"
    },
    "tags": []
   },
   "outputs": [],
   "source": [
    "def efficientnet_b0(pretrained): return timm.create_model('efficientnet_b0', pretrained=pretrained)\n",
    "def efficientnet_b1(pretrained): return timm.create_model('efficientnet_b1', pretrained=pretrained)\n",
    "def efficientnet_b2(pretrained): return timm.create_model('efficientnet_b2', pretrained=pretrained)"
   ]
  },
  {
   "cell_type": "code",
   "execution_count": 8,
   "metadata": {
    "papermill": {
     "duration": 0.055811,
     "end_time": "2021-04-22T16:24:17.014080",
     "exception": false,
     "start_time": "2021-04-22T16:24:16.958269",
     "status": "completed"
    },
    "tags": []
   },
   "outputs": [],
   "source": [
    "class conf():\n",
    "    bs = 64\n",
    "    arch = efficientnet_b0\n",
    "    arcface_m=.4\n",
    "    arcface_s=30"
   ]
  },
  {
   "cell_type": "code",
   "execution_count": 9,
   "metadata": {
    "papermill": {
     "duration": 0.057025,
     "end_time": "2021-04-22T16:24:17.091720",
     "exception": false,
     "start_time": "2021-04-22T16:24:17.034695",
     "status": "completed"
    },
    "tags": []
   },
   "outputs": [],
   "source": [
    "text_model_name='bert_large_state0.pth'\n",
    "img_model_name='b0_788.pth'\n",
    "\n",
    "PATH = Path('../input/shopee-product-matching')\n",
    "models_path = Path('../input/shopee-models')\n",
    "BERT_PATH = '../input/bertlarge-config'\n",
    "\n",
    "if not PATH.is_dir():\n",
    "    PATH = Path('/home/slex/data/shopee')\n",
    "    models_path = Path('./models')\n",
    "    BERT_PATH = './indobert-large-p2'\n",
    "image_model_file = models_path / img_model_name\n",
    "text_model_file = models_path / text_model_name"
   ]
  },
  {
   "cell_type": "code",
   "execution_count": 10,
   "metadata": {
    "papermill": {
     "duration": 2.666891,
     "end_time": "2021-04-22T16:24:19.779132",
     "exception": false,
     "start_time": "2021-04-22T16:24:17.112241",
     "status": "completed"
    },
    "tags": []
   },
   "outputs": [
    {
     "name": "stderr",
     "output_type": "stream",
     "text": [
      "/home/slex/programy/anaconda3/envs/fastai/lib/python3.8/site-packages/sklearn/model_selection/_split.py:670: UserWarning: The least populated class in y has only 1 members, which is less than n_splits=5.\n",
      "  warnings.warn((\"The least populated class in y has only %d\"\n"
     ]
    }
   ],
   "source": [
    "\n",
    "train_df = pd.read_csv(PATH/'train.csv')\n",
    "train_df = add_splits(train_df)"
   ]
  },
  {
   "cell_type": "markdown",
   "metadata": {
    "papermill": {
     "duration": 0.020586,
     "end_time": "2021-04-22T16:24:19.821277",
     "exception": false,
     "start_time": "2021-04-22T16:24:19.800691",
     "status": "completed"
    },
    "tags": []
   },
   "source": [
    "## TEXT"
   ]
  },
  {
   "cell_type": "code",
   "execution_count": 11,
   "metadata": {
    "papermill": {
     "duration": 0.099852,
     "end_time": "2021-04-22T16:24:19.942342",
     "exception": false,
     "start_time": "2021-04-22T16:24:19.842490",
     "status": "completed"
    },
    "tags": []
   },
   "outputs": [],
   "source": [
    "class EmbsModel(nn.Module):\n",
    "    def __init__(self, bert_model):\n",
    "        super().__init__()\n",
    "        self.bert_model = bert_model\n",
    "    def forward(self, x):\n",
    "        output = self.bert_model(*x)\n",
    "        return output.last_hidden_state[:,0,:]"
   ]
  },
  {
   "cell_type": "code",
   "execution_count": 12,
   "metadata": {
    "papermill": {
     "duration": 0.058604,
     "end_time": "2021-04-22T16:24:20.021964",
     "exception": false,
     "start_time": "2021-04-22T16:24:19.963360",
     "status": "completed"
    },
    "tags": []
   },
   "outputs": [],
   "source": [
    "class TitleTransform(Transform):\n",
    "    def __init__(self):\n",
    "        super().__init__()\n",
    "        self.tokenizer = BertTokenizer.from_pretrained(BERT_PATH)\n",
    "        \n",
    "        \n",
    "    def encodes(self, row):\n",
    "        text = row.title\n",
    "        text=(codecs.decode(text, 'unicode_escape'))\n",
    "        encodings = self.tokenizer(text, padding = 'max_length', max_length=50, truncation=True,return_tensors='pt')\n",
    "        keys =['input_ids', 'attention_mask', 'token_type_ids'] \n",
    "        return tuple(encodings[key].squeeze() for key in keys)"
   ]
  },
  {
   "cell_type": "code",
   "execution_count": 13,
   "metadata": {
    "papermill": {
     "duration": 3.955284,
     "end_time": "2021-04-22T16:24:23.998148",
     "exception": false,
     "start_time": "2021-04-22T16:24:20.042864",
     "status": "completed"
    },
    "tags": []
   },
   "outputs": [],
   "source": [
    "tfm = TitleTransform()\n",
    "\n",
    "data_block = DataBlock(\n",
    "    blocks = (TransformBlock(type_tfms=tfm), \n",
    "              CategoryBlock(vocab=train_df.label_group.to_list())),\n",
    "    splitter=ColSplitter(),\n",
    "    get_y=ColReader('label_group'),\n",
    "    )\n",
    "text_dls = data_block.dataloaders(train_df, bs=256)\n"
   ]
  },
  {
   "cell_type": "code",
   "execution_count": 14,
   "metadata": {
    "papermill": {
     "duration": 0.061493,
     "end_time": "2021-04-22T16:24:24.081144",
     "exception": false,
     "start_time": "2021-04-22T16:24:24.019651",
     "status": "completed"
    },
    "tags": []
   },
   "outputs": [],
   "source": [
    "def generate_text_embs(dl):\n",
    "    model = AutoModel.from_config(AutoConfig.from_pretrained(BERT_PATH))\n",
    "    state = torch.load(text_model_file)\n",
    "    model.load_state_dict(state)\n",
    "    model = EmbsModel(model).cuda().eval()\n",
    "    embs, ys = embs_from_model(model, dl)\n",
    "    return embs.half(), ys\n",
    "\n",
    "def generate_text_pairs(dl):\n",
    "    embs, ys = generate_text_embs(dl)\n",
    "    target_matrix = ys[:,None]==ys[None,:]\n",
    "    groups = [torch.where(t)[0].tolist() for t in target_matrix]\n",
    "    dists, inds = get_nearest(embs, do_chunk(embs))\n",
    "    pairs = sorted_pairs(dists, inds)[:len(embs)*10]\n",
    "    return pairs, groups"
   ]
  },
  {
   "cell_type": "code",
   "execution_count": 15,
   "metadata": {
    "papermill": {
     "duration": 0.054628,
     "end_time": "2021-04-22T16:24:24.156904",
     "exception": false,
     "start_time": "2021-04-22T16:24:24.102276",
     "status": "completed"
    },
    "tags": []
   },
   "outputs": [],
   "source": [
    "# pairs, groups = generate_text_pairs(text_dls.valid)\n",
    "# _=build_from_pairs(pairs, groups, True)"
   ]
  },
  {
   "cell_type": "markdown",
   "metadata": {
    "papermill": {
     "duration": 0.020882,
     "end_time": "2021-04-22T16:24:24.198936",
     "exception": false,
     "start_time": "2021-04-22T16:24:24.178054",
     "status": "completed"
    },
    "tags": []
   },
   "source": [
    "## IMAGE\n"
   ]
  },
  {
   "cell_type": "code",
   "execution_count": 16,
   "metadata": {
    "papermill": {
     "duration": 0.060402,
     "end_time": "2021-04-22T16:24:24.280612",
     "exception": false,
     "start_time": "2021-04-22T16:24:24.220210",
     "status": "completed"
    },
    "tags": []
   },
   "outputs": [],
   "source": [
    "class ArcFaceClassifier(nn.Module):\n",
    "    def __init__(self, in_features, output_classes):\n",
    "        super().__init__()\n",
    "        self.W = nn.Parameter(torch.Tensor(in_features, output_classes))\n",
    "        nn.init.kaiming_uniform_(self.W)\n",
    "    def forward(self, x):\n",
    "        x_norm = F.normalize(x)\n",
    "        W_norm = F.normalize(self.W, dim=0)\n",
    "        return x_norm @ W_norm\n",
    "    \n",
    "\n",
    "\n",
    "class ResnetArcFace(nn.Module):\n",
    "    def __init__(self):\n",
    "        super().__init__()\n",
    "        self.body = create_body(conf.arch, cut=-2, pretrained=False)\n",
    "        nf = num_features_model(nn.Sequential(*self.body.children()))\n",
    "        self.after_conv=nn.Sequential(\n",
    "            AdaptiveConcatPool2d(),\n",
    "            Flatten(),\n",
    "            nn.BatchNorm1d(nf*2),\n",
    "            nn.Dropout(.25))\n",
    "        self.classifier = ArcFaceClassifier(nf*2, OUTPUT_CLASSES)\n",
    "        self.outputEmbs = False\n",
    "    def forward(self, x):\n",
    "        x = self.body(x)\n",
    "        embeddings = self.after_conv(x)\n",
    "        if self.outputEmbs:\n",
    "            return embeddings\n",
    "        return self.classifier(embeddings)"
   ]
  },
  {
   "cell_type": "code",
   "execution_count": 17,
   "metadata": {
    "papermill": {
     "duration": 0.056051,
     "end_time": "2021-04-22T16:24:24.357909",
     "exception": false,
     "start_time": "2021-04-22T16:24:24.301858",
     "status": "completed"
    },
    "tags": []
   },
   "outputs": [],
   "source": [
    "def get_img_file(row):\n",
    "    img =row.image\n",
    "    fn  = PATH/'train_images'/img\n",
    "    if not fn.is_file():\n",
    "        fn = PATH/'test_images'/img\n",
    "    return fn"
   ]
  },
  {
   "cell_type": "code",
   "execution_count": 18,
   "metadata": {
    "papermill": {
     "duration": 1.502584,
     "end_time": "2021-04-22T16:24:25.882125",
     "exception": false,
     "start_time": "2021-04-22T16:24:24.379541",
     "status": "completed"
    },
    "tags": []
   },
   "outputs": [],
   "source": [
    "data_block = DataBlock(blocks = (ImageBlock(), CategoryBlock(vocab=train_df.label_group.to_list())),\n",
    "                 splitter=ColSplitter(),\n",
    "                 get_y=ColReader('label_group'),\n",
    "                 get_x=get_img_file,\n",
    "                 item_tfms=Resize(460),\n",
    "                 batch_tfms=aug_transforms(size=224, min_scale=0.75),\n",
    "                 )\n",
    "dls_image = data_block.dataloaders(train_df, bs=conf.bs)\n"
   ]
  },
  {
   "cell_type": "code",
   "execution_count": 19,
   "metadata": {
    "papermill": {
     "duration": 0.117751,
     "end_time": "2021-04-22T16:24:26.022293",
     "exception": false,
     "start_time": "2021-04-22T16:24:25.904542",
     "status": "completed"
    },
    "tags": []
   },
   "outputs": [],
   "source": [
    "def generate_image_embs(dl):\n",
    "    model = ResnetArcFace()\n",
    "    state = torch.load(image_model_file)\n",
    "    model.load_state_dict(state['model'])\n",
    "    model = model.cuda().eval()\n",
    "    model.outputEmbs = True\n",
    "    embs, ys = embs_from_model(model, dl)\n",
    "    return embs.half(), ys\n",
    "\n",
    "def generate_image_pairs(dl):\n",
    "    embs, ys = generate_image_embs(dl)\n",
    "    target_matrix = ys[:,None]==ys[None,:]\n",
    "    groups = [torch.where(t)[0].tolist() for t in target_matrix]\n",
    "    dists, inds = get_nearest(embs, do_chunk(embs))\n",
    "    pairs = sorted_pairs(dists, inds)[:len(embs)*10]\n",
    "    return pairs, groups"
   ]
  },
  {
   "cell_type": "code",
   "execution_count": 20,
   "metadata": {
    "papermill": {
     "duration": 0.057726,
     "end_time": "2021-04-22T16:24:26.102281",
     "exception": false,
     "start_time": "2021-04-22T16:24:26.044555",
     "status": "completed"
    },
    "tags": []
   },
   "outputs": [],
   "source": [
    "# pairs, groups = generate_image_pairs(dls_image.valid)\n",
    "# _=build_from_pairs(pairs, groups, True)"
   ]
  },
  {
   "cell_type": "markdown",
   "metadata": {
    "papermill": {
     "duration": 0.021662,
     "end_time": "2021-04-22T16:24:26.145594",
     "exception": false,
     "start_time": "2021-04-22T16:24:26.123932",
     "status": "completed"
    },
    "tags": []
   },
   "source": [
    "## Distances for combined top-K indices"
   ]
  },
  {
   "cell_type": "code",
   "execution_count": 21,
   "metadata": {
    "papermill": {
     "duration": 0.05748,
     "end_time": "2021-04-22T16:24:26.224815",
     "exception": false,
     "start_time": "2021-04-22T16:24:26.167335",
     "status": "completed"
    },
    "tags": []
   },
   "outputs": [],
   "source": [
    "def combined_dists(img_embs, text_embs):\n",
    "    _, img_inds = get_nearest(img_embs, do_chunk(img_embs))\n",
    "\n",
    "    _, text_inds = get_nearest(text_embs, do_chunk(text_embs))\n",
    "\n",
    "    combined_inds = torch.cat([img_inds, text_inds],dim=1)\n",
    "    img_dists = get_dist_for_inds(img_embs, combined_inds)\n",
    "\n",
    "    text_dists = get_dist_for_inds(text_embs, combined_inds)\n",
    "    return combined_inds, img_dists, text_dists"
   ]
  },
  {
   "cell_type": "markdown",
   "metadata": {
    "papermill": {
     "duration": 0.02188,
     "end_time": "2021-04-22T16:24:26.268339",
     "exception": false,
     "start_time": "2021-04-22T16:24:26.246459",
     "status": "completed"
    },
    "tags": []
   },
   "source": [
    "## Check on validation set"
   ]
  },
  {
   "cell_type": "code",
   "execution_count": 24,
   "metadata": {},
   "outputs": [],
   "source": [
    "TRIAL_RUN=True"
   ]
  },
  {
   "cell_type": "code",
   "execution_count": 25,
   "metadata": {
    "papermill": {
     "duration": 0.063755,
     "end_time": "2021-04-22T16:24:26.354094",
     "exception": false,
     "start_time": "2021-04-22T16:24:26.290339",
     "status": "completed"
    },
    "tags": []
   },
   "outputs": [
    {
     "data": {
      "application/vnd.jupyter.widget-view+json": {
       "model_id": "020e0ed1365c43a0b0b8d5bcdb404dde",
       "version_major": 2,
       "version_minor": 0
      },
      "text/plain": [
       "  0%|          | 0/108 [00:00<?, ?it/s]"
      ]
     },
     "metadata": {},
     "output_type": "display_data"
    },
    {
     "data": {
      "application/vnd.jupyter.widget-view+json": {
       "model_id": "c651295f967a4c0ebd01b7d9fd1e25b6",
       "version_major": 2,
       "version_minor": 0
      },
      "text/plain": [
       "  0%|          | 0/27 [00:00<?, ?it/s]"
      ]
     },
     "metadata": {},
     "output_type": "display_data"
    },
    {
     "name": "stdout",
     "output_type": "stream",
     "text": [
      "0.881 at 6.158493995666504 pairs or 0.722 threshold\n"
     ]
    },
    {
     "data": {
      "image/png": "[encoded data removed]",
      "text/plain": [
       "<Figure size 432x288 with 1 Axes>"
      ]
     },
     "metadata": {
      "needs_background": "light"
     },
     "output_type": "display_data"
    }
   ],
   "source": [
    "if TRIAL_RUN:\n",
    "    img_embs,ys = generate_image_embs(dls_image.valid)\n",
    "\n",
    "    text_embs,ys = generate_text_embs(text_dls.valid)\n",
    "\n",
    "    target_matrix = ys[:,None]==ys[None,:]\n",
    "    targets = [torch.where(t)[0].tolist() for t in target_matrix]\n",
    "\n",
    "    combined_inds, img_dists, text_dists = combined_dists(img_embs, text_embs)\n",
    "    \n",
    "    # --- use max\n",
    "#     max_dists = torch.max(img_dists, text_dists)\n",
    "#     triplets = sorted_pairs(max_dists, combined_inds)[:len(img_embs)*10]\n",
    "#     _=build_from_pairs(triplets, targets)\n",
    "    # --- use and\n",
    "    and_dists = img_dists+text_dists - img_dists*text_dists\n",
    "    triplets = sorted_pairs(and_dists, combined_inds)[:len(img_embs)*10]\n",
    "    _=build_from_pairs(triplets, targets)\n",
    "    # --- used scaled and\n",
    "#     img_params={'min_val': 0.26708984375, 'a': -3.8065830142124857, 'b': 4.92549411772561, 'c': 1.031201433949806}\n",
    "#     text_params={'min_val': 0.68115234375, 'a': -785.4151875846186, 'b': 9.68828642715568, 'c': 1.0604532834375875}\n",
    "#     img_scaler = functools.partial(do_scale, **img_params)\n",
    "#     text_scaler = functools.partial(do_scale, **text_params)\n",
    "\n",
    "#     scaled_img = img_scaler(img_dists)\n",
    "#     scaled_txt = text_scaler(text_dists)\n",
    "#     and_scaled = scaled_txt+scaled_img - scaled_txt*scaled_img\n",
    "#     triplets = sorted_pairs(and_scaled, combined_inds)[:len(img_embs)*10]\n",
    "#     _=build_from_pairs(triplets, targets)"
   ]
  },
  {
   "cell_type": "markdown",
   "metadata": {},
   "source": [
    "## Shave"
   ]
  },
  {
   "cell_type": "code",
   "execution_count": 26,
   "metadata": {
    "papermill": {
     "duration": 0.057108,
     "end_time": "2021-04-22T16:24:26.432979",
     "exception": false,
     "start_time": "2021-04-22T16:24:26.375871",
     "status": "completed"
    },
    "tags": []
   },
   "outputs": [
    {
     "name": "stdout",
     "output_type": "stream",
     "text": [
      "0.8902421122479399\n"
     ]
    },
    {
     "data": {
      "image/png": "[encoded data removed]",
      "text/plain": [
       "<Figure size 576x576 with 1 Axes>"
      ]
     },
     "metadata": {
      "needs_background": "light"
     },
     "output_type": "display_data"
    }
   ],
   "source": [
    "if TRIAL_RUN:\n",
    "    groups =group_and_shave(and_dists, combined_inds, train_df)\n",
    "    groups_lens = [len(g)for g in groups]\n",
    "    targets_lens = [len(g) for g in targets]\n",
    "    plt.figure(figsize=(8,8)) \n",
    "    plt.hist((groups_lens,targets_lens) ,bins=list(range(2,52)))\n",
    "    print(score_all_groups(groups, targets))"
   ]
  },
  {
   "cell_type": "markdown",
   "metadata": {},
   "source": [
    "## Rerank"
   ]
  },
  {
   "cell_type": "code",
   "execution_count": 34,
   "metadata": {},
   "outputs": [],
   "source": [
    "if TRIAL_RUN:\n",
    "    D = gen_sim_and(img_embs, text_embs)\n",
    "\n",
    "    r_dists, r_ind=top_reciprocal(D, .83, False, False)\n",
    "    groups = group_and_shave(r_dists, r_ind, train_df)\n",
    "    score_all_groups(groups, targets)"
   ]
  },
  {
   "cell_type": "code",
   "execution_count": 45,
   "metadata": {},
   "outputs": [
    {
     "name": "stdout",
     "output_type": "stream",
     "text": [
      "0.881 at 6.158493995666504 pairs or 0.722 threshold\n",
      "0.887 at 6.005399703979492 pairs or 0.721 threshold\n"
     ]
    },
    {
     "data": {
      "text/plain": [
       "0.8872379855498841"
      ]
     },
     "execution_count": 45,
     "metadata": {},
     "output_type": "execute_result"
    },
    {
     "data": {
      "image/png": "[encoded data removed]",
      "text/plain": [
       "<Figure size 432x288 with 1 Axes>"
      ]
     },
     "metadata": {
      "needs_background": "light"
     },
     "output_type": "display_data"
    }
   ],
   "source": [
    "if TRIAL_RUN:\n",
    "    score_distances(D, targets, True)\n",
    "    score_distances(all_reciprocal(D,.83),targets, True)"
   ]
  },
  {
   "cell_type": "code",
   "execution_count": 51,
   "metadata": {},
   "outputs": [],
   "source": [
    "# def find_best_tresh(D, targets,scaled=False, include_x=False):\n",
    "#     best_t,best_score =0,0\n",
    "#     for t in tqdm(np.linspace(.7,1,num=20)):\n",
    "#         RD = all_reciprocal(D,t,scaled, include_x)\n",
    "#         sc = score_distances(RD, targets)\n",
    "#         if sc > best_score: best_t, best_score = t, sc\n",
    "#     return best_t\n",
    "\n",
    "# find_best_tresh(D,targets,False,False)\n",
    "# find_best_tresh(D,targets,False,True)\n",
    "# find_best_tresh(D,targets,True,False)\n",
    "# find_best_tresh(D,targets,True,True)"
   ]
  },
  {
   "cell_type": "code",
   "execution_count": 53,
   "metadata": {},
   "outputs": [
    {
     "name": "stdout",
     "output_type": "stream",
     "text": [
      "0.887 at 6.192498683929443 pairs or 0.733 threshold\n",
      "0.887 at 6.282253265380859 pairs or 0.721 threshold\n",
      "0.888 at 6.019702434539795 pairs or 0.722 threshold\n",
      "0.887 at 6.035610198974609 pairs or 0.721 threshold\n"
     ]
    },
    {
     "data": {
      "text/plain": [
       "0.8873150047704503"
      ]
     },
     "execution_count": 53,
     "metadata": {},
     "output_type": "execute_result"
    },
    {
     "data": {
      "image/png": "[encoded data removed]",
      "text/plain": [
       "<Figure size 432x288 with 1 Axes>"
      ]
     },
     "metadata": {
      "needs_background": "light"
     },
     "output_type": "display_data"
    }
   ],
   "source": [
    "# score_distances(all_reciprocal(D,.826,False,False),targets, True)\n",
    "# score_distances(all_reciprocal(D,.826,False,True),targets, True)\n",
    "# score_distances(all_reciprocal(D,.842,True,False),targets, True)\n",
    "# score_distances(all_reciprocal(D,.842,True,True),targets, True)"
   ]
  },
  {
   "cell_type": "markdown",
   "metadata": {
    "papermill": {
     "duration": 0.021804,
     "end_time": "2021-04-22T16:24:26.476827",
     "exception": false,
     "start_time": "2021-04-22T16:24:26.455023",
     "status": "completed"
    },
    "tags": []
   },
   "source": [
    "## Run on the test set"
   ]
  },
  {
   "cell_type": "code",
   "execution_count": 54,
   "metadata": {
    "papermill": {
     "duration": 0.063555,
     "end_time": "2021-04-22T16:24:26.562352",
     "exception": false,
     "start_time": "2021-04-22T16:24:26.498797",
     "status": "completed"
    },
    "tags": []
   },
   "outputs": [],
   "source": [
    "test_df = pd.read_csv(PATH/'test.csv')"
   ]
  },
  {
   "cell_type": "code",
   "execution_count": 55,
   "metadata": {
    "papermill": {
     "duration": 0.056347,
     "end_time": "2021-04-22T16:24:26.640872",
     "exception": false,
     "start_time": "2021-04-22T16:24:26.584525",
     "status": "completed"
    },
    "tags": []
   },
   "outputs": [],
   "source": [
    "if TRIAL_RUN:\n",
    "    fake_test_df = train_df[['posting_id', 'image', 'image_phash', 'title', 'label_group']].copy()\n",
    "    fake_test_df = pd.concat([fake_test_df, fake_test_df])\n",
    "    fake_test_df = add_target_groups(fake_test_df)\n",
    "    test_df = fake_test_df"
   ]
  },
  {
   "cell_type": "code",
   "execution_count": 56,
   "metadata": {
    "papermill": {
     "duration": 19.110989,
     "end_time": "2021-04-22T16:24:45.774101",
     "exception": false,
     "start_time": "2021-04-22T16:24:26.663112",
     "status": "completed"
    },
    "tags": []
   },
   "outputs": [
    {
     "data": {
      "application/vnd.jupyter.widget-view+json": {
       "model_id": "1330e88208ae482e822c2189888e6d01",
       "version_major": 2,
       "version_minor": 0
      },
      "text/plain": [
       "  0%|          | 0/268 [00:00<?, ?it/s]"
      ]
     },
     "metadata": {},
     "output_type": "display_data"
    }
   ],
   "source": [
    "text_embs,_ = generate_text_embs(text_dls.test_dl(test_df))"
   ]
  },
  {
   "cell_type": "code",
   "execution_count": 57,
   "metadata": {
    "papermill": {
     "duration": 0.463428,
     "end_time": "2021-04-22T16:24:46.261716",
     "exception": false,
     "start_time": "2021-04-22T16:24:45.798288",
     "status": "completed"
    },
    "tags": []
   },
   "outputs": [],
   "source": [
    "gc.collect()\n",
    "torch.cuda.empty_cache()"
   ]
  },
  {
   "cell_type": "code",
   "execution_count": 58,
   "metadata": {
    "papermill": {
     "duration": 4.435158,
     "end_time": "2021-04-22T16:24:50.721083",
     "exception": false,
     "start_time": "2021-04-22T16:24:46.285925",
     "status": "completed"
    },
    "tags": []
   },
   "outputs": [
    {
     "data": {
      "application/vnd.jupyter.widget-view+json": {
       "model_id": "d769ea66461d420aa76a0f691cba6ba8",
       "version_major": 2,
       "version_minor": 0
      },
      "text/plain": [
       "  0%|          | 0/1071 [00:00<?, ?it/s]"
      ]
     },
     "metadata": {},
     "output_type": "display_data"
    }
   ],
   "source": [
    "test_dl = dls_image.test_dl(test_df)\n",
    "img_embs,_ = generate_image_embs(test_dl)"
   ]
  },
  {
   "cell_type": "code",
   "execution_count": 59,
   "metadata": {},
   "outputs": [],
   "source": [
    "gc.collect()\n",
    "torch.cuda.empty_cache()"
   ]
  },
  {
   "cell_type": "code",
   "execution_count": 62,
   "metadata": {},
   "outputs": [],
   "source": [
    "D =gen_sim_and(img_embs, text_embs)"
   ]
  },
  {
   "cell_type": "code",
   "execution_count": 67,
   "metadata": {
    "papermill": {
     "duration": 0.129641,
     "end_time": "2021-04-22T16:24:50.885913",
     "exception": false,
     "start_time": "2021-04-22T16:24:50.756272",
     "status": "completed"
    },
    "tags": []
   },
   "outputs": [],
   "source": [
    "r_dists, r_ind=top_reciprocal(D, RECIPROCAL_THRESH, False, False)\n",
    "groups = group_and_shave(r_dists, r_ind, train_df)"
   ]
  },
  {
   "cell_type": "code",
   "execution_count": 68,
   "metadata": {
    "papermill": {
     "duration": 0.059259,
     "end_time": "2021-04-22T16:24:51.645270",
     "exception": false,
     "start_time": "2021-04-22T16:24:51.586011",
     "status": "completed"
    },
    "tags": []
   },
   "outputs": [
    {
     "name": "stdout",
     "output_type": "stream",
     "text": [
      "0.675357298300006\n"
     ]
    }
   ],
   "source": [
    "if 'target' in test_df.columns.to_list():\n",
    "    print(score_all_groups(groups, test_df.target.to_list()))"
   ]
  },
  {
   "cell_type": "code",
   "execution_count": 65,
   "metadata": {
    "papermill": {
     "duration": 0.203316,
     "end_time": "2021-04-22T16:24:51.958678",
     "exception": false,
     "start_time": "2021-04-22T16:24:51.755362",
     "status": "completed"
    },
    "tags": []
   },
   "outputs": [],
   "source": [
    "matches = [' '.join(test_df.iloc[g].posting_id.to_list()) for g in groups]\n",
    "test_df['matches'] = matches\n",
    "\n",
    "test_df[['posting_id','matches']].to_csv('submission.csv',index=False)"
   ]
  },
  {
   "cell_type": "code",
   "execution_count": 66,
   "metadata": {
    "papermill": {
     "duration": 0.072363,
     "end_time": "2021-04-22T16:24:52.056043",
     "exception": false,
     "start_time": "2021-04-22T16:24:51.983680",
     "status": "completed"
    },
    "tags": []
   },
   "outputs": [
    {
     "data": {
      "text/html": [
       "<div>\n",
       "<style scoped>\n",
       "    .dataframe tbody tr th:only-of-type {\n",
       "        vertical-align: middle;\n",
       "    }\n",
       "\n",
       "    .dataframe tbody tr th {\n",
       "        vertical-align: top;\n",
       "    }\n",
       "\n",
       "    .dataframe thead th {\n",
       "        text-align: right;\n",
       "    }\n",
       "</style>\n",
       "<table border=\"1\" class=\"dataframe\">\n",
       "  <thead>\n",
       "    <tr style=\"text-align: right;\">\n",
       "      <th></th>\n",
       "      <th>posting_id</th>\n",
       "      <th>matches</th>\n",
       "    </tr>\n",
       "  </thead>\n",
       "  <tbody>\n",
       "    <tr>\n",
       "      <th>0</th>\n",
       "      <td>train_129225211</td>\n",
       "      <td>train_2278313361 train_129225211 train_129225211 train_2278313361</td>\n",
       "    </tr>\n",
       "    <tr>\n",
       "      <th>1</th>\n",
       "      <td>train_3386243561</td>\n",
       "      <td>train_1974987067 train_1974987067</td>\n",
       "    </tr>\n",
       "    <tr>\n",
       "      <th>2</th>\n",
       "      <td>train_2288590299</td>\n",
       "      <td>train_3803689425 train_2288590299</td>\n",
       "    </tr>\n",
       "    <tr>\n",
       "      <th>3</th>\n",
       "      <td>train_2406599165</td>\n",
       "      <td>train_1744956981 train_1744956981</td>\n",
       "    </tr>\n",
       "    <tr>\n",
       "      <th>4</th>\n",
       "      <td>train_3369186413</td>\n",
       "      <td>train_3369186413 train_921438619 train_3369186413 train_921438619</td>\n",
       "    </tr>\n",
       "  </tbody>\n",
       "</table>\n",
       "</div>"
      ],
      "text/plain": [
       "         posting_id  \\\n",
       "0   train_129225211   \n",
       "1  train_3386243561   \n",
       "2  train_2288590299   \n",
       "3  train_2406599165   \n",
       "4  train_3369186413   \n",
       "\n",
       "                                                             matches  \n",
       "0  train_2278313361 train_129225211 train_129225211 train_2278313361  \n",
       "1                                  train_1974987067 train_1974987067  \n",
       "2                                  train_3803689425 train_2288590299  \n",
       "3                                  train_1744956981 train_1744956981  \n",
       "4  train_3369186413 train_921438619 train_3369186413 train_921438619  "
      ]
     },
     "execution_count": 66,
     "metadata": {},
     "output_type": "execute_result"
    }
   ],
   "source": [
    "pd.read_csv('submission.csv').head()"
   ]
  },
  {
   "cell_type": "code",
   "execution_count": null,
   "metadata": {
    "papermill": {
     "duration": 0.024336,
     "end_time": "2021-04-22T16:24:52.104931",
     "exception": false,
     "start_time": "2021-04-22T16:24:52.080595",
     "status": "completed"
    },
    "tags": []
   },
   "outputs": [],
   "source": []
  }
 ],
 "metadata": {
  "kernelspec": {
   "display_name": "Python 3",
   "language": "python",
   "name": "python3"
  },
  "language_info": {
   "codemirror_mode": {
    "name": "ipython",
    "version": 3
   },
   "file_extension": ".py",
   "mimetype": "text/x-python",
   "name": "python",
   "nbconvert_exporter": "python",
   "pygments_lexer": "ipython3",
   "version": "3.8.5"
  },
  "papermill": {
   "default_parameters": {},
   "duration": 46.48443,
   "end_time": "2021-04-22T16:24:53.641569",
   "environment_variables": {},
   "exception": null,
   "input_path": "__notebook__.ipynb",
   "output_path": "__notebook__.ipynb",
   "parameters": {},
   "start_time": "2021-04-22T16:24:07.157139",
   "version": "2.2.2"
  },
  "widgets": {
   "application/vnd.jupyter.widget-state+json": {
    "state": {
     "0770e93ef8c54093bf7ecec109c7ab89": {
      "model_module": "@jupyter-widgets/controls",
      "model_module_version": "1.5.0",
      "model_name": "HTMLModel",
      "state": {
       "_dom_classes": [],
       "_model_module": "@jupyter-widgets/controls",
       "_model_module_version": "1.5.0",
       "_model_name": "HTMLModel",
       "_view_count": null,
       "_view_module": "@jupyter-widgets/controls",
       "_view_module_version": "1.5.0",
       "_view_name": "HTMLView",
       "description": "",
       "description_tooltip": null,
       "layout": "IPY_MODEL_70f9960bc74d4410ba0b29172cad0e88",
       "placeholder": "​",
       "style": "IPY_MODEL_80a69ea7c79f4410b0398d3111a34cab",
       "value": "100%"
      }
     },
     "12f27dfeb4424040a166a1004762d2c4": {
      "model_module": "@jupyter-widgets/base",
      "model_module_version": "1.2.0",
      "model_name": "LayoutModel",
      "state": {
       "_model_module": "@jupyter-widgets/base",
       "_model_module_version": "1.2.0",
       "_model_name": "LayoutModel",
       "_view_count": null,
       "_view_module": "@jupyter-widgets/base",
       "_view_module_version": "1.2.0",
       "_view_name": "LayoutView",
       "align_content": null,
       "align_items": null,
       "align_self": null,
       "border": null,
       "bottom": null,
       "display": null,
       "flex": null,
       "flex_flow": null,
       "grid_area": null,
       "grid_auto_columns": null,
       "grid_auto_flow": null,
       "grid_auto_rows": null,
       "grid_column": null,
       "grid_gap": null,
       "grid_row": null,
       "grid_template_areas": null,
       "grid_template_columns": null,
       "grid_template_rows": null,
       "height": null,
       "justify_content": null,
       "justify_items": null,
       "left": null,
       "margin": null,
       "max_height": null,
       "max_width": null,
       "min_height": null,
       "min_width": null,
       "object_fit": null,
       "object_position": null,
       "order": null,
       "overflow": null,
       "overflow_x": null,
       "overflow_y": null,
       "padding": null,
       "right": null,
       "top": null,
       "visibility": null,
       "width": null
      }
     },
     "22c4e24a3d6c482aac3a13e6552bd7de": {
      "model_module": "@jupyter-widgets/controls",
      "model_module_version": "1.5.0",
      "model_name": "FloatProgressModel",
      "state": {
       "_dom_classes": [],
       "_model_module": "@jupyter-widgets/controls",
       "_model_module_version": "1.5.0",
       "_model_name": "FloatProgressModel",
       "_view_count": null,
       "_view_module": "@jupyter-widgets/controls",
       "_view_module_version": "1.5.0",
       "_view_name": "ProgressView",
       "bar_style": "success",
       "description": "",
       "description_tooltip": null,
       "layout": "IPY_MODEL_58219f4dc1ae4e348850eae88f4496c3",
       "max": 1,
       "min": 0,
       "orientation": "horizontal",
       "style": "IPY_MODEL_3b6de4b4ef5143b68e10a8d04ac842d0",
       "value": 1
      }
     },
     "3b6de4b4ef5143b68e10a8d04ac842d0": {
      "model_module": "@jupyter-widgets/controls",
      "model_module_version": "1.5.0",
      "model_name": "ProgressStyleModel",
      "state": {
       "_model_module": "@jupyter-widgets/controls",
       "_model_module_version": "1.5.0",
       "_model_name": "ProgressStyleModel",
       "_view_count": null,
       "_view_module": "@jupyter-widgets/base",
       "_view_module_version": "1.2.0",
       "_view_name": "StyleView",
       "bar_color": null,
       "description_width": ""
      }
     },
     "3d2cc03a7fe34262b31ef08690bb9d34": {
      "model_module": "@jupyter-widgets/controls",
      "model_module_version": "1.5.0",
      "model_name": "HTMLModel",
      "state": {
       "_dom_classes": [],
       "_model_module": "@jupyter-widgets/controls",
       "_model_module_version": "1.5.0",
       "_model_name": "HTMLModel",
       "_view_count": null,
       "_view_module": "@jupyter-widgets/controls",
       "_view_module_version": "1.5.0",
       "_view_name": "HTMLView",
       "description": "",
       "description_tooltip": null,
       "layout": "IPY_MODEL_9abdd89f1bb14f328a174cbfd596cd8c",
       "placeholder": "​",
       "style": "IPY_MODEL_df7e191da2b149b89a899b7001bf2e82",
       "value": " 1/1 [00:00&lt;00:00,  2.62it/s]"
      }
     },
     "3ed76ddaa33c47c5984537d3e4de8729": {
      "model_module": "@jupyter-widgets/controls",
      "model_module_version": "1.5.0",
      "model_name": "ProgressStyleModel",
      "state": {
       "_model_module": "@jupyter-widgets/controls",
       "_model_module_version": "1.5.0",
       "_model_name": "ProgressStyleModel",
       "_view_count": null,
       "_view_module": "@jupyter-widgets/base",
       "_view_module_version": "1.2.0",
       "_view_name": "StyleView",
       "bar_color": null,
       "description_width": ""
      }
     },
     "43ed358de2794a2b94eb6610ee6e0fbd": {
      "model_module": "@jupyter-widgets/base",
      "model_module_version": "1.2.0",
      "model_name": "LayoutModel",
      "state": {
       "_model_module": "@jupyter-widgets/base",
       "_model_module_version": "1.2.0",
       "_model_name": "LayoutModel",
       "_view_count": null,
       "_view_module": "@jupyter-widgets/base",
       "_view_module_version": "1.2.0",
       "_view_name": "LayoutView",
       "align_content": null,
       "align_items": null,
       "align_self": null,
       "border": null,
       "bottom": null,
       "display": null,
       "flex": null,
       "flex_flow": null,
       "grid_area": null,
       "grid_auto_columns": null,
       "grid_auto_flow": null,
       "grid_auto_rows": null,
       "grid_column": null,
       "grid_gap": null,
       "grid_row": null,
       "grid_template_areas": null,
       "grid_template_columns": null,
       "grid_template_rows": null,
       "height": null,
       "justify_content": null,
       "justify_items": null,
       "left": null,
       "margin": null,
       "max_height": null,
       "max_width": null,
       "min_height": null,
       "min_width": null,
       "object_fit": null,
       "object_position": null,
       "order": null,
       "overflow": null,
       "overflow_x": null,
       "overflow_y": null,
       "padding": null,
       "right": null,
       "top": null,
       "visibility": null,
       "width": null
      }
     },
     "58219f4dc1ae4e348850eae88f4496c3": {
      "model_module": "@jupyter-widgets/base",
      "model_module_version": "1.2.0",
      "model_name": "LayoutModel",
      "state": {
       "_model_module": "@jupyter-widgets/base",
       "_model_module_version": "1.2.0",
       "_model_name": "LayoutModel",
       "_view_count": null,
       "_view_module": "@jupyter-widgets/base",
       "_view_module_version": "1.2.0",
       "_view_name": "LayoutView",
       "align_content": null,
       "align_items": null,
       "align_self": null,
       "border": null,
       "bottom": null,
       "display": null,
       "flex": null,
       "flex_flow": null,
       "grid_area": null,
       "grid_auto_columns": null,
       "grid_auto_flow": null,
       "grid_auto_rows": null,
       "grid_column": null,
       "grid_gap": null,
       "grid_row": null,
       "grid_template_areas": null,
       "grid_template_columns": null,
       "grid_template_rows": null,
       "height": null,
       "justify_content": null,
       "justify_items": null,
       "left": null,
       "margin": null,
       "max_height": null,
       "max_width": null,
       "min_height": null,
       "min_width": null,
       "object_fit": null,
       "object_position": null,
       "order": null,
       "overflow": null,
       "overflow_x": null,
       "overflow_y": null,
       "padding": null,
       "right": null,
       "top": null,
       "visibility": null,
       "width": null
      }
     },
     "64c1b42dabf2499a812886ff7804b94f": {
      "model_module": "@jupyter-widgets/base",
      "model_module_version": "1.2.0",
      "model_name": "LayoutModel",
      "state": {
       "_model_module": "@jupyter-widgets/base",
       "_model_module_version": "1.2.0",
       "_model_name": "LayoutModel",
       "_view_count": null,
       "_view_module": "@jupyter-widgets/base",
       "_view_module_version": "1.2.0",
       "_view_name": "LayoutView",
       "align_content": null,
       "align_items": null,
       "align_self": null,
       "border": null,
       "bottom": null,
       "display": null,
       "flex": null,
       "flex_flow": null,
       "grid_area": null,
       "grid_auto_columns": null,
       "grid_auto_flow": null,
       "grid_auto_rows": null,
       "grid_column": null,
       "grid_gap": null,
       "grid_row": null,
       "grid_template_areas": null,
       "grid_template_columns": null,
       "grid_template_rows": null,
       "height": null,
       "justify_content": null,
       "justify_items": null,
       "left": null,
       "margin": null,
       "max_height": null,
       "max_width": null,
       "min_height": null,
       "min_width": null,
       "object_fit": null,
       "object_position": null,
       "order": null,
       "overflow": null,
       "overflow_x": null,
       "overflow_y": null,
       "padding": null,
       "right": null,
       "top": null,
       "visibility": null,
       "width": null
      }
     },
     "66099430ed924f0982240367528ea7db": {
      "model_module": "@jupyter-widgets/controls",
      "model_module_version": "1.5.0",
      "model_name": "HBoxModel",
      "state": {
       "_dom_classes": [],
       "_model_module": "@jupyter-widgets/controls",
       "_model_module_version": "1.5.0",
       "_model_name": "HBoxModel",
       "_view_count": null,
       "_view_module": "@jupyter-widgets/controls",
       "_view_module_version": "1.5.0",
       "_view_name": "HBoxView",
       "box_style": "",
       "children": [
        "IPY_MODEL_0770e93ef8c54093bf7ecec109c7ab89",
        "IPY_MODEL_ada4aadf9f044539a3d06916aff7f6ad",
        "IPY_MODEL_fdd2f37cf21942f8a32f7e86e2f6250d"
       ],
       "layout": "IPY_MODEL_43ed358de2794a2b94eb6610ee6e0fbd"
      }
     },
     "70f9960bc74d4410ba0b29172cad0e88": {
      "model_module": "@jupyter-widgets/base",
      "model_module_version": "1.2.0",
      "model_name": "LayoutModel",
      "state": {
       "_model_module": "@jupyter-widgets/base",
       "_model_module_version": "1.2.0",
       "_model_name": "LayoutModel",
       "_view_count": null,
       "_view_module": "@jupyter-widgets/base",
       "_view_module_version": "1.2.0",
       "_view_name": "LayoutView",
       "align_content": null,
       "align_items": null,
       "align_self": null,
       "border": null,
       "bottom": null,
       "display": null,
       "flex": null,
       "flex_flow": null,
       "grid_area": null,
       "grid_auto_columns": null,
       "grid_auto_flow": null,
       "grid_auto_rows": null,
       "grid_column": null,
       "grid_gap": null,
       "grid_row": null,
       "grid_template_areas": null,
       "grid_template_columns": null,
       "grid_template_rows": null,
       "height": null,
       "justify_content": null,
       "justify_items": null,
       "left": null,
       "margin": null,
       "max_height": null,
       "max_width": null,
       "min_height": null,
       "min_width": null,
       "object_fit": null,
       "object_position": null,
       "order": null,
       "overflow": null,
       "overflow_x": null,
       "overflow_y": null,
       "padding": null,
       "right": null,
       "top": null,
       "visibility": null,
       "width": null
      }
     },
     "80a69ea7c79f4410b0398d3111a34cab": {
      "model_module": "@jupyter-widgets/controls",
      "model_module_version": "1.5.0",
      "model_name": "DescriptionStyleModel",
      "state": {
       "_model_module": "@jupyter-widgets/controls",
       "_model_module_version": "1.5.0",
       "_model_name": "DescriptionStyleModel",
       "_view_count": null,
       "_view_module": "@jupyter-widgets/base",
       "_view_module_version": "1.2.0",
       "_view_name": "StyleView",
       "description_width": ""
      }
     },
     "87f54d44a37344e686e474f7e0e5a7d1": {
      "model_module": "@jupyter-widgets/base",
      "model_module_version": "1.2.0",
      "model_name": "LayoutModel",
      "state": {
       "_model_module": "@jupyter-widgets/base",
       "_model_module_version": "1.2.0",
       "_model_name": "LayoutModel",
       "_view_count": null,
       "_view_module": "@jupyter-widgets/base",
       "_view_module_version": "1.2.0",
       "_view_name": "LayoutView",
       "align_content": null,
       "align_items": null,
       "align_self": null,
       "border": null,
       "bottom": null,
       "display": null,
       "flex": null,
       "flex_flow": null,
       "grid_area": null,
       "grid_auto_columns": null,
       "grid_auto_flow": null,
       "grid_auto_rows": null,
       "grid_column": null,
       "grid_gap": null,
       "grid_row": null,
       "grid_template_areas": null,
       "grid_template_columns": null,
       "grid_template_rows": null,
       "height": null,
       "justify_content": null,
       "justify_items": null,
       "left": null,
       "margin": null,
       "max_height": null,
       "max_width": null,
       "min_height": null,
       "min_width": null,
       "object_fit": null,
       "object_position": null,
       "order": null,
       "overflow": null,
       "overflow_x": null,
       "overflow_y": null,
       "padding": null,
       "right": null,
       "top": null,
       "visibility": null,
       "width": null
      }
     },
     "95bec784a47e487db66ee1d6bf61eebd": {
      "model_module": "@jupyter-widgets/controls",
      "model_module_version": "1.5.0",
      "model_name": "DescriptionStyleModel",
      "state": {
       "_model_module": "@jupyter-widgets/controls",
       "_model_module_version": "1.5.0",
       "_model_name": "DescriptionStyleModel",
       "_view_count": null,
       "_view_module": "@jupyter-widgets/base",
       "_view_module_version": "1.2.0",
       "_view_name": "StyleView",
       "description_width": ""
      }
     },
     "95c56a7f5e974550a47a8ed55cc58c9c": {
      "model_module": "@jupyter-widgets/controls",
      "model_module_version": "1.5.0",
      "model_name": "HTMLModel",
      "state": {
       "_dom_classes": [],
       "_model_module": "@jupyter-widgets/controls",
       "_model_module_version": "1.5.0",
       "_model_name": "HTMLModel",
       "_view_count": null,
       "_view_module": "@jupyter-widgets/controls",
       "_view_module_version": "1.5.0",
       "_view_name": "HTMLView",
       "description": "",
       "description_tooltip": null,
       "layout": "IPY_MODEL_64c1b42dabf2499a812886ff7804b94f",
       "placeholder": "​",
       "style": "IPY_MODEL_e9734a4c2c724a079f6b043effbd9239",
       "value": "100%"
      }
     },
     "9abdd89f1bb14f328a174cbfd596cd8c": {
      "model_module": "@jupyter-widgets/base",
      "model_module_version": "1.2.0",
      "model_name": "LayoutModel",
      "state": {
       "_model_module": "@jupyter-widgets/base",
       "_model_module_version": "1.2.0",
       "_model_name": "LayoutModel",
       "_view_count": null,
       "_view_module": "@jupyter-widgets/base",
       "_view_module_version": "1.2.0",
       "_view_name": "LayoutView",
       "align_content": null,
       "align_items": null,
       "align_self": null,
       "border": null,
       "bottom": null,
       "display": null,
       "flex": null,
       "flex_flow": null,
       "grid_area": null,
       "grid_auto_columns": null,
       "grid_auto_flow": null,
       "grid_auto_rows": null,
       "grid_column": null,
       "grid_gap": null,
       "grid_row": null,
       "grid_template_areas": null,
       "grid_template_columns": null,
       "grid_template_rows": null,
       "height": null,
       "justify_content": null,
       "justify_items": null,
       "left": null,
       "margin": null,
       "max_height": null,
       "max_width": null,
       "min_height": null,
       "min_width": null,
       "object_fit": null,
       "object_position": null,
       "order": null,
       "overflow": null,
       "overflow_x": null,
       "overflow_y": null,
       "padding": null,
       "right": null,
       "top": null,
       "visibility": null,
       "width": null
      }
     },
     "ada4aadf9f044539a3d06916aff7f6ad": {
      "model_module": "@jupyter-widgets/controls",
      "model_module_version": "1.5.0",
      "model_name": "FloatProgressModel",
      "state": {
       "_dom_classes": [],
       "_model_module": "@jupyter-widgets/controls",
       "_model_module_version": "1.5.0",
       "_model_name": "FloatProgressModel",
       "_view_count": null,
       "_view_module": "@jupyter-widgets/controls",
       "_view_module_version": "1.5.0",
       "_view_name": "ProgressView",
       "bar_style": "success",
       "description": "",
       "description_tooltip": null,
       "layout": "IPY_MODEL_eb3050ba04bf493ea1f41f8fab1c9fd2",
       "max": 1,
       "min": 0,
       "orientation": "horizontal",
       "style": "IPY_MODEL_3ed76ddaa33c47c5984537d3e4de8729",
       "value": 1
      }
     },
     "de91990348304ee7b354a38e8420d27c": {
      "model_module": "@jupyter-widgets/controls",
      "model_module_version": "1.5.0",
      "model_name": "HBoxModel",
      "state": {
       "_dom_classes": [],
       "_model_module": "@jupyter-widgets/controls",
       "_model_module_version": "1.5.0",
       "_model_name": "HBoxModel",
       "_view_count": null,
       "_view_module": "@jupyter-widgets/controls",
       "_view_module_version": "1.5.0",
       "_view_name": "HBoxView",
       "box_style": "",
       "children": [
        "IPY_MODEL_95c56a7f5e974550a47a8ed55cc58c9c",
        "IPY_MODEL_22c4e24a3d6c482aac3a13e6552bd7de",
        "IPY_MODEL_3d2cc03a7fe34262b31ef08690bb9d34"
       ],
       "layout": "IPY_MODEL_87f54d44a37344e686e474f7e0e5a7d1"
      }
     },
     "df7e191da2b149b89a899b7001bf2e82": {
      "model_module": "@jupyter-widgets/controls",
      "model_module_version": "1.5.0",
      "model_name": "DescriptionStyleModel",
      "state": {
       "_model_module": "@jupyter-widgets/controls",
       "_model_module_version": "1.5.0",
       "_model_name": "DescriptionStyleModel",
       "_view_count": null,
       "_view_module": "@jupyter-widgets/base",
       "_view_module_version": "1.2.0",
       "_view_name": "StyleView",
       "description_width": ""
      }
     },
     "e9734a4c2c724a079f6b043effbd9239": {
      "model_module": "@jupyter-widgets/controls",
      "model_module_version": "1.5.0",
      "model_name": "DescriptionStyleModel",
      "state": {
       "_model_module": "@jupyter-widgets/controls",
       "_model_module_version": "1.5.0",
       "_model_name": "DescriptionStyleModel",
       "_view_count": null,
       "_view_module": "@jupyter-widgets/base",
       "_view_module_version": "1.2.0",
       "_view_name": "StyleView",
       "description_width": ""
      }
     },
     "eb3050ba04bf493ea1f41f8fab1c9fd2": {
      "model_module": "@jupyter-widgets/base",
      "model_module_version": "1.2.0",
      "model_name": "LayoutModel",
      "state": {
       "_model_module": "@jupyter-widgets/base",
       "_model_module_version": "1.2.0",
       "_model_name": "LayoutModel",
       "_view_count": null,
       "_view_module": "@jupyter-widgets/base",
       "_view_module_version": "1.2.0",
       "_view_name": "LayoutView",
       "align_content": null,
       "align_items": null,
       "align_self": null,
       "border": null,
       "bottom": null,
       "display": null,
       "flex": null,
       "flex_flow": null,
       "grid_area": null,
       "grid_auto_columns": null,
       "grid_auto_flow": null,
       "grid_auto_rows": null,
       "grid_column": null,
       "grid_gap": null,
       "grid_row": null,
       "grid_template_areas": null,
       "grid_template_columns": null,
       "grid_template_rows": null,
       "height": null,
       "justify_content": null,
       "justify_items": null,
       "left": null,
       "margin": null,
       "max_height": null,
       "max_width": null,
       "min_height": null,
       "min_width": null,
       "object_fit": null,
       "object_position": null,
       "order": null,
       "overflow": null,
       "overflow_x": null,
       "overflow_y": null,
       "padding": null,
       "right": null,
       "top": null,
       "visibility": null,
       "width": null
      }
     },
     "fdd2f37cf21942f8a32f7e86e2f6250d": {
      "model_module": "@jupyter-widgets/controls",
      "model_module_version": "1.5.0",
      "model_name": "HTMLModel",
      "state": {
       "_dom_classes": [],
       "_model_module": "@jupyter-widgets/controls",
       "_model_module_version": "1.5.0",
       "_model_name": "HTMLModel",
       "_view_count": null,
       "_view_module": "@jupyter-widgets/controls",
       "_view_module_version": "1.5.0",
       "_view_name": "HTMLView",
       "description": "",
       "description_tooltip": null,
       "layout": "IPY_MODEL_12f27dfeb4424040a166a1004762d2c4",
       "placeholder": "​",
       "style": "IPY_MODEL_95bec784a47e487db66ee1d6bf61eebd",
       "value": " 1/1 [00:00&lt;00:00,  5.78it/s]"
      }
     }
    },
    "version_major": 2,
    "version_minor": 0
   }
  }
 },
 "nbformat": 4,
 "nbformat_minor": 4
}
