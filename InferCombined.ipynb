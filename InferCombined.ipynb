{
 "cells": [
  {
   "cell_type": "code",
   "execution_count": 1,
   "id": "comparable-arcade",
   "metadata": {},
   "outputs": [],
   "source": [
    "%load_ext autoreload\n",
    "%autoreload 2"
   ]
  },
  {
   "cell_type": "code",
   "execution_count": 2,
   "id": "northern-adelaide",
   "metadata": {
    "_cell_guid": "b1076dfc-b9ad-4769-8c92-a6c4dae69d19",
    "_uuid": "8f2839f25d086af736a60e9eeb907d3b93b6e0e5"
   },
   "outputs": [],
   "source": [
    "from fastai.vision.all import *\n",
    "import sklearn.metrics as skm\n",
    "from tqdm.notebook import tqdm\n",
    "import sklearn.feature_extraction.text\n",
    "import gc"
   ]
  },
  {
   "cell_type": "code",
   "execution_count": 3,
   "id": "damaged-benefit",
   "metadata": {},
   "outputs": [],
   "source": [
    "from utils import *"
   ]
  },
  {
   "cell_type": "code",
   "execution_count": 4,
   "id": "accessory-olive",
   "metadata": {},
   "outputs": [],
   "source": [
    "conf = {\n",
    "    'bs':180,\n",
    "    'emb_size':256,\n",
    "    'arch':resnet34,\n",
    "    'split':0\n",
    "}"
   ]
  },
  {
   "cell_type": "code",
   "execution_count": 5,
   "id": "welsh-cycle",
   "metadata": {},
   "outputs": [],
   "source": [
    "PATH = Path('../input/shopee-product-matching')\n",
    "model_file  = '../input/resnet-model/resnet34.pth'\n",
    "if not PATH.is_dir():\n",
    "    PATH = Path('/home/slex/data/shopee')\n",
    "    model_file ='models/resnet34.pth'"
   ]
  },
  {
   "cell_type": "code",
   "execution_count": 6,
   "id": "spare-cotton",
   "metadata": {},
   "outputs": [],
   "source": [
    "TAKE_PAIRS = 7"
   ]
  },
  {
   "cell_type": "code",
   "execution_count": 28,
   "id": "driving-european",
   "metadata": {},
   "outputs": [],
   "source": [
    "def hash_label(x):\n",
    "    x = (13*x)%10000\n",
    "    return x // 2000\n",
    "train_df = pd.read_csv(PATH/'train.csv')\n",
    "train_df['split']=train_df.label_group.apply(hash_label)\n",
    "train_df['is_valid'] = train_df.split==conf['split']\n",
    "valid_df=train_df[train_df.is_valid==True].copy().reset_index()\n",
    "valid_df = add_target_groups(valid_df)"
   ]
  },
  {
   "cell_type": "markdown",
   "id": "dynamic-donor",
   "metadata": {},
   "source": [
    "## TEXT"
   ]
  },
  {
   "cell_type": "code",
   "execution_count": 8,
   "id": "welsh-ethics",
   "metadata": {},
   "outputs": [],
   "source": [
    "def csr_matrix_to_tensor(csr):\n",
    "    coo = csr.tocoo()\n",
    "    t = torch.sparse_coo_tensor([coo.row, coo.col], coo.data, csr.shape).cuda()\n",
    "    return t\n",
    "\n",
    "def do_chunk_text(embs):\n",
    "    step = 5000\n",
    "    for chunk_start in range(0, embs.shape[0], step):\n",
    "        chunk_end = min(chunk_start+step, embs.shape[0])\n",
    "        chunk = embs[chunk_start:chunk_end]\n",
    "        chunk = csr_matrix_to_tensor(chunk).to_dense()\n",
    "        yield chunk\n",
    "\n",
    "def generate_text_pairs(data):\n",
    "    sk_model = sklearn.feature_extraction.text.TfidfVectorizer(stop_words='english', binary=True, max_features=25_000)\n",
    "    text_embeddings =sk_model.fit_transform(data.title)\n",
    "    sparse_embs = csr_matrix_to_tensor(text_embeddings)\n",
    "    dists, inds = get_nearest(sparse_embs, do_chunk_text(text_embeddings))\n",
    "    pairs = sorted_pairs(dists, inds)[:int(len(data)*TAKE_PAIRS)]\n",
    "    return pairs"
   ]
  },
  {
   "cell_type": "markdown",
   "id": "skilled-parallel",
   "metadata": {},
   "source": [
    "## IMAGE\n"
   ]
  },
  {
   "cell_type": "code",
   "execution_count": 9,
   "id": "romance-stick",
   "metadata": {},
   "outputs": [],
   "source": [
    "def get_img_file(row):\n",
    "    img =row.image\n",
    "    fn  = PATH/'train_images'/img\n",
    "    if not fn.is_file():\n",
    "        fn = PATH/'test_images'/img\n",
    "    return fn"
   ]
  },
  {
   "cell_type": "code",
   "execution_count": 10,
   "id": "extreme-flexibility",
   "metadata": {},
   "outputs": [],
   "source": [
    "def embs_from_resnet(model, dl):\n",
    "    model_stem =list(model.children())[0].eval()\n",
    "    pipeline = nn.Sequential(model_stem, AdaptiveConcatPool2d(), Flatten())\n",
    "    all_embs = []\n",
    "    all_ys=[]\n",
    "    for batch in tqdm(dl):\n",
    "        if len(batch) ==2:\n",
    "            bx,by=batch\n",
    "        else:\n",
    "            bx,=batch\n",
    "            by=torch.zeros(1)\n",
    "        with torch.no_grad():\n",
    "            embs = pipeline(bx)\n",
    "            all_embs.append(embs.half())\n",
    "        all_ys.append(by)\n",
    "    all_embs = F.normalize(torch.cat(all_embs))\n",
    "    return all_embs, torch.cat(all_ys)"
   ]
  },
  {
   "cell_type": "code",
   "execution_count": 11,
   "id": "composite-majority",
   "metadata": {},
   "outputs": [],
   "source": [
    "def do_chunk_img(embs):\n",
    "    step = 10000\n",
    "    for chunk_start in range(0, embs.shape[0], step):\n",
    "        chunk_end = min(chunk_start+step, len(embs))\n",
    "        yield embs[chunk_start:chunk_end]"
   ]
  },
  {
   "cell_type": "code",
   "execution_count": 12,
   "id": "bearing-worship",
   "metadata": {},
   "outputs": [],
   "source": [
    "def generate_image_pairs(model, dl):\n",
    "    embs, _ = embs_from_resnet(model, dl)\n",
    "    dists, inds = get_nearest(embs, do_chunk_img(embs))\n",
    "    pairs = sorted_pairs(dists, inds)[:int(len(embs)*TAKE_PAIRS)]\n",
    "    return pairs"
   ]
  },
  {
   "cell_type": "code",
   "execution_count": 13,
   "id": "numerous-nowhere",
   "metadata": {},
   "outputs": [
    {
     "data": {
      "text/plain": [
       "<All keys matched successfully>"
      ]
     },
     "execution_count": 13,
     "metadata": {},
     "output_type": "execute_result"
    }
   ],
   "source": [
    "data_block = DataBlock(blocks = (ImageBlock(), CategoryBlock(vocab=train_df.label_group.to_list())),\n",
    "                 splitter=ColSplitter(),\n",
    "                 get_y=ColReader('label_group'),\n",
    "                 get_x=get_img_file,\n",
    "                 item_tfms=Resize(460),\n",
    "                 batch_tfms=aug_transforms(size=224, min_scale=0.75),\n",
    "                 )\n",
    "dls = data_block.dataloaders(train_df, bs=conf['bs'])\n",
    "learn = cnn_learner(dls,conf['arch'], pretrained=False,path='../input', model_dir='resnet-model')\n",
    "state = torch.load(model_file)['model']\n",
    "learn.model.load_state_dict(state, strict=True)"
   ]
  },
  {
   "cell_type": "markdown",
   "id": "legitimate-apparatus",
   "metadata": {},
   "source": [
    "## COMBINE"
   ]
  },
  {
   "cell_type": "code",
   "execution_count": 14,
   "id": "premier-nelson",
   "metadata": {},
   "outputs": [],
   "source": [
    "def weave(A,B):\n",
    "    R = list()\n",
    "    used = set()\n",
    "    for a,b in zip(A,B):\n",
    "        if a[:2] not in used:\n",
    "            R.append(a)\n",
    "            used.add(a[:2])\n",
    "        if b[:2] not in used:\n",
    "            R.append(b)\n",
    "            used.add(b[:2])\n",
    "    return R"
   ]
  },
  {
   "cell_type": "markdown",
   "id": "explicit-regard",
   "metadata": {},
   "source": [
    "## Check on validation set"
   ]
  },
  {
   "cell_type": "code",
   "execution_count": 15,
   "id": "dressed-video",
   "metadata": {},
   "outputs": [
    {
     "name": "stdout",
     "output_type": "stream",
     "text": [
      "0.782 at 5.600910663604736 pairs\n"
     ]
    },
    {
     "data": {
      "application/vnd.jupyter.widget-view+json": {
       "model_id": "73ab59c9c32b4000a1af798560f85133",
       "version_major": 2,
       "version_minor": 0
      },
      "text/plain": [
       "  0%|          | 0/38 [00:00<?, ?it/s]"
      ]
     },
     "metadata": {},
     "output_type": "display_data"
    },
    {
     "name": "stdout",
     "output_type": "stream",
     "text": [
      "0.746 at 4.122355937957764 pairs\n",
      "0.844 at 5.333871841430664 pairs\n"
     ]
    },
    {
     "data": {
      "image/png": "[encoded data removed]",
      "text/plain": [
       "<Figure size 432x288 with 1 Axes>"
      ]
     },
     "metadata": {
      "needs_background": "light"
     },
     "output_type": "display_data"
    }
   ],
   "source": [
    "text_pairs = generate_text_pairs(valid_df)\n",
    "\n",
    "_=build_from_pairs(text_pairs, valid_df.target.to_list())\n",
    "\n",
    "img_pairs = generate_image_pairs(learn.model.cuda(), dls.valid)\n",
    "\n",
    "_=build_from_pairs(img_pairs, valid_df.target.to_list())\n",
    "\n",
    "combined = weave(text_pairs, img_pairs)\n",
    "\n",
    "_=build_from_pairs(combined, valid_df.target.to_list())"
   ]
  },
  {
   "cell_type": "markdown",
   "id": "acceptable-immigration",
   "metadata": {},
   "source": [
    "## Run on the test set"
   ]
  },
  {
   "cell_type": "code",
   "execution_count": 16,
   "id": "limited-central",
   "metadata": {},
   "outputs": [],
   "source": [
    "test_df = pd.read_csv(PATH/'test.csv')"
   ]
  },
  {
   "cell_type": "code",
   "execution_count": 17,
   "id": "naughty-ethernet",
   "metadata": {},
   "outputs": [],
   "source": [
    "fake_test_df = train_df[['posting_id', 'image', 'image_phash', 'title', 'label_group']].copy()\n",
    "fake_test_df = pd.concat([fake_test_df, fake_test_df])\n",
    "fake_test_df = add_target_groups(fake_test_df)\n",
    "test_df = fake_test_df"
   ]
  },
  {
   "cell_type": "code",
   "execution_count": 18,
   "id": "drawn-stone",
   "metadata": {},
   "outputs": [],
   "source": [
    "text_pairs = generate_text_pairs(test_df)"
   ]
  },
  {
   "cell_type": "code",
   "execution_count": 19,
   "id": "lonely-elimination",
   "metadata": {},
   "outputs": [],
   "source": [
    "gc.collect()\n",
    "torch.cuda.empty_cache()"
   ]
  },
  {
   "cell_type": "code",
   "execution_count": 20,
   "id": "offensive-identifier",
   "metadata": {},
   "outputs": [
    {
     "data": {
      "application/vnd.jupyter.widget-view+json": {
       "model_id": "c7f884246f324738bcac2a38f826cad9",
       "version_major": 2,
       "version_minor": 0
      },
      "text/plain": [
       "  0%|          | 0/381 [00:00<?, ?it/s]"
      ]
     },
     "metadata": {},
     "output_type": "display_data"
    }
   ],
   "source": [
    "test_dl = dls.test_dl(test_df)\n",
    "img_pairs = generate_image_pairs(learn.model.cuda(), test_dl)"
   ]
  },
  {
   "cell_type": "code",
   "execution_count": 23,
   "id": "starting-genetics",
   "metadata": {},
   "outputs": [],
   "source": [
    "combined = weave(text_pairs, img_pairs)[:int(len(test_df)*TAKE_PAIRS)]"
   ]
  },
  {
   "cell_type": "code",
   "execution_count": 24,
   "id": "composed-swaziland",
   "metadata": {},
   "outputs": [
    {
     "name": "stdout",
     "output_type": "stream",
     "text": [
      "0.645 at 6.999576568603516 pairs\n",
      "0.692 at 6.999518394470215 pairs\n",
      "0.725 at 6.99947452545166 pairs\n"
     ]
    },
    {
     "data": {
      "image/png": "[encoded data removed]",
      "text/plain": [
       "<Figure size 432x288 with 1 Axes>"
      ]
     },
     "metadata": {
      "needs_background": "light"
     },
     "output_type": "display_data"
    }
   ],
   "source": [
    "if 'target' in test_df.columns.to_list():\n",
    "    _=build_from_pairs(text_pairs, test_df.target.to_list())\n",
    "    _=build_from_pairs(img_pairs, test_df.target.to_list())\n",
    "    _=build_from_pairs(combined, test_df.target.to_list())"
   ]
  },
  {
   "cell_type": "code",
   "execution_count": 25,
   "id": "bizarre-sacrifice",
   "metadata": {},
   "outputs": [],
   "source": [
    "groups = [[] for _ in range(len(test_df))]\n",
    "for x,y,v in combined:\n",
    "    groups[x].append(y)"
   ]
  },
  {
   "cell_type": "code",
   "execution_count": 26,
   "id": "residential-chase",
   "metadata": {},
   "outputs": [],
   "source": [
    "matches = [' '.join(test_df.iloc[g].posting_id.to_list()) for g in groups]\n",
    "test_df['matches'] = matches\n",
    "\n",
    "test_df[['posting_id','matches']].to_csv('submission.csv',index=False)"
   ]
  },
  {
   "cell_type": "code",
   "execution_count": null,
   "id": "silver-kitchen",
   "metadata": {},
   "outputs": [],
   "source": []
  }
 ],
 "metadata": {
  "kernelspec": {
   "display_name": "Python 3.8.5 64-bit ('fastai': conda)",
   "language": "python",
   "name": "python38564bitfastaicondad52d12c5a30a4725bf9d3e235cf1271c"
  },
  "language_info": {
   "codemirror_mode": {
    "name": "ipython",
    "version": 3
   },
   "file_extension": ".py",
   "mimetype": "text/x-python",
   "name": "python",
   "nbconvert_exporter": "python",
   "pygments_lexer": "ipython3",
   "version": "3.8.5"
  }
 },
 "nbformat": 4,
 "nbformat_minor": 5
}
