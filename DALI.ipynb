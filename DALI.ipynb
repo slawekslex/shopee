{
 "cells": [
  {
   "cell_type": "code",
   "execution_count": 15,
   "id": "environmental-centre",
   "metadata": {},
   "outputs": [],
   "source": [
    "from nvidia.dali import pipeline_def\n",
    "import nvidia.dali.fn as fn\n",
    "import nvidia.dali.types as types\n",
    "from nvidia.dali.plugin.pytorch import DALIGenericIterator"
   ]
  },
  {
   "cell_type": "code",
   "execution_count": 2,
   "id": "developmental-camping",
   "metadata": {},
   "outputs": [],
   "source": [
    "from shopee_utils import *"
   ]
  },
  {
   "cell_type": "code",
   "execution_count": 3,
   "id": "universal-ratio",
   "metadata": {},
   "outputs": [
    {
     "name": "stderr",
     "output_type": "stream",
     "text": [
      "/home/slex/programy/anaconda3/envs/fastai/lib/python3.8/site-packages/sklearn/model_selection/_split.py:670: UserWarning: The least populated class in y has only 1 members, which is less than n_splits=5.\n",
      "  warnings.warn((\"The least populated class in y has only %d\"\n"
     ]
    }
   ],
   "source": [
    "train_df = add_splits(pd.read_csv(PATH/'train.csv'))"
   ]
  },
  {
   "cell_type": "code",
   "execution_count": 104,
   "id": "lesser-supply",
   "metadata": {},
   "outputs": [],
   "source": [
    "files = train_df[train_df.is_valid==True].image.tolist()"
   ]
  },
  {
   "cell_type": "code",
   "execution_count": 105,
   "id": "beginning-formula",
   "metadata": {},
   "outputs": [],
   "source": [
    "labs = train_df[train_df.is_valid==True].label_group.tolist()"
   ]
  },
  {
   "cell_type": "code",
   "execution_count": 106,
   "id": "every-tract",
   "metadata": {},
   "outputs": [
    {
     "data": {
      "text/plain": [
       "(6852, 6852)"
      ]
     },
     "execution_count": 106,
     "metadata": {},
     "output_type": "execute_result"
    }
   ],
   "source": [
    "len(files), len(labs)"
   ]
  },
  {
   "cell_type": "code",
   "execution_count": 107,
   "id": "falling-lease",
   "metadata": {},
   "outputs": [],
   "source": [
    "max_batch_size=128"
   ]
  },
  {
   "cell_type": "code",
   "execution_count": 126,
   "id": "collective-smart",
   "metadata": {},
   "outputs": [],
   "source": [
    "@pipeline_def\n",
    "def simple_pipeline():\n",
    "    jpegs, labels = fn.readers.file(file_root=PATH/'train_images',files=files, labels=labs)\n",
    "    images = fn.decoders.image_crop(jpegs, device='mixed', crop=[22])\n",
    "    images = fn.resize_crop_mirror(images, resize_shorter=224, crop_w=224,crop_h=224)\n",
    "    return images, labels"
   ]
  },
  {
   "cell_type": "code",
   "execution_count": 127,
   "id": "false-elimination",
   "metadata": {},
   "outputs": [
    {
     "ename": "RuntimeError",
     "evalue": "Critical error when building pipeline:\nError when constructing operator: decoders__ImageCrop encountered:\n[/opt/dali/dali/operators/image/crop/crop_attr.h:62] Assert on \"crop_arg_ndims >= 2 && crop_arg_ndims <= 3\" failed: `crop` argument should have 2 or 3 elements depending on the input data shape\nStacktrace (100 entries):\n[frame 0]: /home/slex/programy/anaconda3/envs/fastai/lib/python3.8/site-packages/nvidia/dali/libdali_operators.so(+0x4366fe) [0x7f61dffe06fe]\n[frame 1]: /home/slex/programy/anaconda3/envs/fastai/lib/python3.8/site-packages/nvidia/dali/libdali_operators.so(+0x7bf0c6) [0x7f61e03690c6]\n[frame 2]: /home/slex/programy/anaconda3/envs/fastai/lib/python3.8/site-packages/nvidia/dali/libdali_operators.so(+0x7f4f41) [0x7f61e039ef41]\n[frame 3]: /home/slex/programy/anaconda3/envs/fastai/lib/python3.8/site-packages/nvidia/dali/libdali_operators.so(std::_Function_handler<std::unique_ptr<dali::OperatorBase, std::default_delete<dali::OperatorBase> > (dali::OpSpec const&), std::unique_ptr<dali::OperatorBase, std::default_delete<dali::OperatorBase> > (*)(dali::OpSpec const&)>::_M_invoke(std::_Any_data const&, dali::OpSpec const&)+0xc) [0x7f61dffdcbdc]\n[frame 4]: /home/slex/programy/anaconda3/envs/fastai/lib/python3.8/site-packages/nvidia/dali/libdali.so(+0x1643b1) [0x7f621b25f3b1]\n[frame 5]: /home/slex/programy/anaconda3/envs/fastai/lib/python3.8/site-packages/nvidia/dali/libdali.so(dali::InstantiateOperator(dali::OpSpec const&)+0x264) [0x7f621b25c204]\n[frame 6]: /home/slex/programy/anaconda3/envs/fastai/lib/python3.8/site-packages/nvidia/dali/libdali.so(dali::OpGraph::InstantiateOperators()+0xa2) [0x7f621b20d4c2]\n[frame 7]: /home/slex/programy/anaconda3/envs/fastai/lib/python3.8/site-packages/nvidia/dali/libdali.so(dali::Pipeline::Build(std::vector<std::pair<std::string, std::string>, std::allocator<std::pair<std::string, std::string> > >)+0x9f0) [0x7f621b27cd10]\n[frame 8]: /home/slex/programy/anaconda3/envs/fastai/lib/python3.8/site-packages/nvidia/dali/backend_impl.cpython-38-x86_64-linux-gnu.so(+0x46b7f) [0x7f6230174b7f]\n[frame 9]: /home/slex/programy/anaconda3/envs/fastai/lib/python3.8/site-packages/nvidia/dali/backend_impl.cpython-38-x86_64-linux-gnu.so(+0x828a8) [0x7f62301b08a8]\n[frame 10]: /home/slex/programy/anaconda3/envs/fastai/bin/python(PyCFunction_Call+0x56) [0x55ac82a2cf76]\n[frame 11]: /home/slex/programy/anaconda3/envs/fastai/bin/python(_PyObject_MakeTpCall+0x22f) [0x55ac829ea85f]\n[frame 12]: /home/slex/programy/anaconda3/envs/fastai/bin/python(+0x18bfa1) [0x55ac82a38fa1]\n[frame 13]: /home/slex/programy/anaconda3/envs/fastai/bin/python(+0x10077f) [0x55ac829ad77f]\n[frame 14]: /home/slex/programy/anaconda3/envs/fastai/bin/python(_PyEval_EvalCodeWithName+0x2d2) [0x55ac82a37a92]\n[frame 15]: /home/slex/programy/anaconda3/envs/fastai/bin/python(_PyFunction_Vectorcall+0x1e3) [0x55ac82a38943]\n[frame 16]: /home/slex/programy/anaconda3/envs/fastai/bin/python(+0x10075e) [0x55ac829ad75e]\n[frame 17]: /home/slex/programy/anaconda3/envs/fastai/bin/python(_PyEval_EvalCodeWithName+0x2d2) [0x55ac82a37a92]\n[frame 18]: /home/slex/programy/anaconda3/envs/fastai/bin/python(PyEval_EvalCodeEx+0x44) [0x55ac82a38754]\n[frame 19]: /home/slex/programy/anaconda3/envs/fastai/bin/python(PyEval_EvalCode+0x1c) [0x55ac82ac6edc]\n[frame 20]: /home/slex/programy/anaconda3/envs/fastai/bin/python(+0x24f083) [0x55ac82afc083]\n[frame 21]: /home/slex/programy/anaconda3/envs/fastai/bin/python(+0x140699) [0x55ac829ed699]\n[frame 22]: /home/slex/programy/anaconda3/envs/fastai/bin/python(+0xfeb84) [0x55ac829abb84]\n[frame 23]: /home/slex/programy/anaconda3/envs/fastai/bin/python(_PyGen_Send+0x149) [0x55ac82a31dc9]\n[frame 24]: /home/slex/programy/anaconda3/envs/fastai/bin/python(_PyEval_EvalFrameDefault+0x49a3) [0x55ac82a72363]\n[frame 25]: /home/slex/programy/anaconda3/envs/fastai/bin/python(_PyGen_Send+0x149) [0x55ac82a31dc9]\n[frame 26]: /home/slex/programy/anaconda3/envs/fastai/bin/python(_PyEval_EvalFrameDefault+0x49a3) [0x55ac82a72363]\n[frame 27]: /home/slex/programy/anaconda3/envs/fastai/bin/python(_PyGen_Send+0x149) [0x55ac82a31dc9]\n[frame 28]: /home/slex/programy/anaconda3/envs/fastai/bin/python(+0x1701cd) [0x55ac82a1d1cd]\n[frame 29]: /home/slex/programy/anaconda3/envs/fastai/bin/python(+0x10075e) [0x55ac829ad75e]\n[frame 30]: /home/slex/programy/anaconda3/envs/fastai/bin/python(_PyFunction_Vectorcall+0x10b) [0x55ac82a3886b]\n[frame 31]: /home/slex/programy/anaconda3/envs/fastai/bin/python(+0xfeb84) [0x55ac829abb84]\n[frame 32]: /home/slex/programy/anaconda3/envs/fastai/bin/python(_PyFunction_Vectorcall+0x10b) [0x55ac82a3886b]\n[frame 33]: /home/slex/programy/anaconda3/envs/fastai/bin/python(+0x10075e) [0x55ac829ad75e]\n[frame 34]: /home/slex/programy/anaconda3/envs/fastai/bin/python(_PyEval_EvalCodeWithName+0x2d2) [0x55ac82a37a92]\n[frame 35]: /home/slex/programy/anaconda3/envs/fastai/bin/python(_PyFunction_Vectorcall+0x1e3) [0x55ac82a38943]\n[frame 36]: /home/slex/programy/anaconda3/envs/fastai/bin/python(+0x18be79) [0x55ac82a38e79]\n[frame 37]: /home/slex/programy/anaconda3/envs/fastai/bin/python(PyVectorcall_Call+0x71) [0x55ac829ea041]\n[frame 38]: /home/slex/programy/anaconda3/envs/fastai/bin/python(_PyEval_EvalFrameDefault+0x1fdb) [0x55ac82a6f99b]\n[frame 39]: /home/slex/programy/anaconda3/envs/fastai/bin/python(_PyEval_EvalCodeWithName+0x659) [0x55ac82a37e19]\n[frame 40]: /home/slex/programy/anaconda3/envs/fastai/bin/python(+0x18bd20) [0x55ac82a38d20]\n[frame 41]: /home/slex/programy/anaconda3/envs/fastai/bin/python(+0x10011a) [0x55ac829ad11a]\n[frame 42]: /home/slex/programy/anaconda3/envs/fastai/bin/python(+0x215056) [0x55ac82ac2056]\n[frame 43]: /home/slex/programy/anaconda3/envs/fastai/bin/python(+0x1847f3) [0x55ac82a317f3]\n[frame 44]: /home/slex/programy/anaconda3/envs/fastai/bin/python(+0x140699) [0x55ac829ed699]\n[frame 45]: /home/slex/programy/anaconda3/envs/fastai/bin/python(+0x7df36) [0x55ac8292af36]\n[frame 46]: /home/slex/programy/anaconda3/envs/fastai/bin/python(+0x8af1b) [0x55ac82937f1b]\n[frame 47]: /home/slex/programy/anaconda3/envs/fastai/bin/python(+0x1409a0) [0x55ac829ed9a0]\n[frame 48]: /home/slex/programy/anaconda3/envs/fastai/bin/python(+0xfeb84) [0x55ac829abb84]\n[frame 49]: /home/slex/programy/anaconda3/envs/fastai/bin/python(_PyEval_EvalCodeWithName+0x659) [0x55ac82a37e19]\n[frame 50]: /home/slex/programy/anaconda3/envs/fastai/bin/python(_PyFunction_Vectorcall+0x1e3) [0x55ac82a38943]\n[frame 51]: /home/slex/programy/anaconda3/envs/fastai/bin/python(+0x10075e) [0x55ac829ad75e]\n[frame 52]: /home/slex/programy/anaconda3/envs/fastai/bin/python(+0x215056) [0x55ac82ac2056]\n[frame 53]: /home/slex/programy/anaconda3/envs/fastai/bin/python(+0x1847f3) [0x55ac82a317f3]\n[frame 54]: /home/slex/programy/anaconda3/envs/fastai/bin/python(+0x140699) [0x55ac829ed699]\n[frame 55]: /home/slex/programy/anaconda3/envs/fastai/bin/python(+0x7df36) [0x55ac8292af36]\n[frame 56]: /home/slex/programy/anaconda3/envs/fastai/bin/python(+0x8af1b) [0x55ac82937f1b]\n[frame 57]: /home/slex/programy/anaconda3/envs/fastai/bin/python(+0x1409a0) [0x55ac829ed9a0]\n[frame 58]: /home/slex/programy/anaconda3/envs/fastai/bin/python(+0xfeb84) [0x55ac829abb84]\n[frame 59]: /home/slex/programy/anaconda3/envs/fastai/bin/python(_PyEval_EvalCodeWithName+0x659) [0x55ac82a37e19]\n[frame 60]: /home/slex/programy/anaconda3/envs/fastai/bin/python(+0x18bd20) [0x55ac82a38d20]\n[frame 61]: /home/slex/programy/anaconda3/envs/fastai/bin/python(+0xfeb84) [0x55ac829abb84]\n[frame 62]: /home/slex/programy/anaconda3/envs/fastai/bin/python(+0x215056) [0x55ac82ac2056]\n[frame 63]: /home/slex/programy/anaconda3/envs/fastai/bin/python(+0x1847f3) [0x55ac82a317f3]\n[frame 64]: /home/slex/programy/anaconda3/envs/fastai/bin/python(+0x140699) [0x55ac829ed699]\n[frame 65]: /home/slex/programy/anaconda3/envs/fastai/bin/python(+0x7df36) [0x55ac8292af36]\n[frame 66]: /home/slex/programy/anaconda3/envs/fastai/bin/python(+0x8af1b) [0x55ac82937f1b]\n[frame 67]: /home/slex/programy/anaconda3/envs/fastai/bin/python(+0x1409a0) [0x55ac829ed9a0]\n[frame 68]: /home/slex/programy/anaconda3/envs/fastai/bin/python(+0xfeb84) [0x55ac829abb84]\n[frame 69]: /home/slex/programy/anaconda3/envs/fastai/bin/python(_PyEval_EvalCodeWithName+0x659) [0x55ac82a37e19]\n[frame 70]: /home/slex/programy/anaconda3/envs/fastai/bin/python(_PyFunction_Vectorcall+0x1e3) [0x55ac82a38943]\n[frame 71]: /home/slex/programy/anaconda3/envs/fastai/bin/python(+0x18be79) [0x55ac82a38e79]\n[frame 72]: /home/slex/programy/anaconda3/envs/fastai/bin/python(PyVectorcall_Call+0x71) [0x55ac829ea041]\n[frame 73]: /home/slex/programy/anaconda3/envs/fastai/bin/python(_PyEval_EvalFrameDefault+0x1fdb) [0x55ac82a6f99b]\n[frame 74]: /home/slex/programy/anaconda3/envs/fastai/bin/python(_PyGen_Send+0x149) [0x55ac82a31dc9]\n[frame 75]: /home/slex/programy/anaconda3/envs/fastai/bin/python(+0x1701cd) [0x55ac82a1d1cd]\n[frame 76]: /home/slex/programy/anaconda3/envs/fastai/bin/python(+0x10075e) [0x55ac829ad75e]\n[frame 77]: /home/slex/programy/anaconda3/envs/fastai/bin/python(_PyFunction_Vectorcall+0x10b) [0x55ac82a3886b]\n[frame 78]: /home/slex/programy/anaconda3/envs/fastai/bin/python(+0x18bee7) [0x55ac82a38ee7]\n[frame 79]: /home/slex/programy/anaconda3/envs/fastai/bin/python(+0x7df36) [0x55ac8292af36]\n[frame 80]: /home/slex/programy/anaconda3/envs/fastai/bin/python(+0x8af1b) [0x55ac82937f1b]\n[frame 81]: /home/slex/programy/anaconda3/envs/fastai/bin/python(+0x1409a0) [0x55ac829ed9a0]\n[frame 82]: /home/slex/programy/anaconda3/envs/fastai/bin/python(+0x10077f) [0x55ac829ad77f]\n[frame 83]: /home/slex/programy/anaconda3/envs/fastai/bin/python(_PyEval_EvalCodeWithName+0x659) [0x55ac82a37e19]\n[frame 84]: /home/slex/programy/anaconda3/envs/fastai/bin/python(_PyObject_FastCallDict+0x20c) [0x55ac82a3948c]\n[frame 85]: /home/slex/programy/anaconda3/envs/fastai/bin/python(+0x22b4be) [0x55ac82ad84be]\n[frame 86]: /home/slex/programy/anaconda3/envs/fastai/bin/python(_PyObject_MakeTpCall+0x22f) [0x55ac829ea85f]\n[frame 87]: /home/slex/programy/anaconda3/envs/fastai/bin/python(_PyEval_EvalFrameDefault+0x475) [0x55ac82a6de35]\n[frame 88]: /home/slex/programy/anaconda3/envs/fastai/bin/python(_PyFunction_Vectorcall+0x10b) [0x55ac82a3886b]\n[frame 89]: /home/slex/programy/anaconda3/envs/fastai/bin/python(+0x10075e) [0x55ac829ad75e]\n[frame 90]: /home/slex/programy/anaconda3/envs/fastai/bin/python(_PyEval_EvalCodeWithName+0x7df) [0x55ac82a37f9f]\n[frame 91]: /home/slex/programy/anaconda3/envs/fastai/bin/python(_PyFunction_Vectorcall+0x1e3) [0x55ac82a38943]\n[frame 92]: /home/slex/programy/anaconda3/envs/fastai/bin/python(+0x7df36) [0x55ac8292af36]\n[frame 93]: /home/slex/programy/anaconda3/envs/fastai/bin/python(+0x8af1b) [0x55ac82937f1b]\n[frame 94]: /home/slex/programy/anaconda3/envs/fastai/bin/python(+0x1409a0) [0x55ac829ed9a0]\n[frame 95]: /home/slex/programy/anaconda3/envs/fastai/bin/python(PyVectorcall_Call+0x71) [0x55ac829ea041]\n[frame 96]: /home/slex/programy/anaconda3/envs/fastai/bin/python(_PyEval_EvalFrameDefault+0x53e0) [0x55ac82a72da0]\n[frame 97]: /home/slex/programy/anaconda3/envs/fastai/bin/python(_PyFunction_Vectorcall+0x10b) [0x55ac82a3886b]\n[frame 98]: /home/slex/programy/anaconda3/envs/fastai/bin/python(+0x10075e) [0x55ac829ad75e]\n[frame 99]: /home/slex/programy/anaconda3/envs/fastai/bin/python(_PyFunction_Vectorcall+0x10b) [0x55ac82a3886b]\n\nCurrent pipeline object is no longer valid.",
     "output_type": "error",
     "traceback": [
      "\u001b[0;31m---------------------------------------------------------------------------\u001b[0m",
      "\u001b[0;31mRuntimeError\u001b[0m                              Traceback (most recent call last)",
      "\u001b[0;32m<ipython-input-127-bb63d00495b9>\u001b[0m in \u001b[0;36m<module>\u001b[0;34m\u001b[0m\n\u001b[1;32m      1\u001b[0m \u001b[0mpipe\u001b[0m \u001b[0;34m=\u001b[0m \u001b[0msimple_pipeline\u001b[0m\u001b[0;34m(\u001b[0m\u001b[0mbatch_size\u001b[0m\u001b[0;34m=\u001b[0m\u001b[0mmax_batch_size\u001b[0m\u001b[0;34m,\u001b[0m\u001b[0mnum_threads\u001b[0m\u001b[0;34m=\u001b[0m\u001b[0;36m8\u001b[0m\u001b[0;34m,\u001b[0m \u001b[0mdevice_id\u001b[0m\u001b[0;34m=\u001b[0m\u001b[0;36m0\u001b[0m\u001b[0;34m)\u001b[0m\u001b[0;34m\u001b[0m\u001b[0;34m\u001b[0m\u001b[0m\n\u001b[0;32m----> 2\u001b[0;31m \u001b[0mpipe\u001b[0m\u001b[0;34m.\u001b[0m\u001b[0mbuild\u001b[0m\u001b[0;34m(\u001b[0m\u001b[0;34m)\u001b[0m\u001b[0;34m\u001b[0m\u001b[0;34m\u001b[0m\u001b[0m\n\u001b[0m",
      "\u001b[0;32m~/programy/anaconda3/envs/fastai/lib/python3.8/site-packages/nvidia/dali/pipeline.py\u001b[0m in \u001b[0;36mbuild\u001b[0;34m(self, define_graph)\u001b[0m\n\u001b[1;32m    657\u001b[0m             \u001b[0mself\u001b[0m\u001b[0;34m.\u001b[0m\u001b[0m_init_pipeline_backend\u001b[0m\u001b[0;34m(\u001b[0m\u001b[0;34m)\u001b[0m\u001b[0;34m\u001b[0m\u001b[0;34m\u001b[0m\u001b[0m\n\u001b[1;32m    658\u001b[0m \u001b[0;34m\u001b[0m\u001b[0m\n\u001b[0;32m--> 659\u001b[0;31m         \u001b[0mself\u001b[0m\u001b[0;34m.\u001b[0m\u001b[0m_pipe\u001b[0m\u001b[0;34m.\u001b[0m\u001b[0mBuild\u001b[0m\u001b[0;34m(\u001b[0m\u001b[0mself\u001b[0m\u001b[0;34m.\u001b[0m\u001b[0m_names_and_devices\u001b[0m\u001b[0;34m)\u001b[0m\u001b[0;34m\u001b[0m\u001b[0;34m\u001b[0m\u001b[0m\n\u001b[0m\u001b[1;32m    660\u001b[0m         \u001b[0mself\u001b[0m\u001b[0;34m.\u001b[0m\u001b[0m_built\u001b[0m \u001b[0;34m=\u001b[0m \u001b[0;32mTrue\u001b[0m\u001b[0;34m\u001b[0m\u001b[0;34m\u001b[0m\u001b[0m\n\u001b[1;32m    661\u001b[0m \u001b[0;34m\u001b[0m\u001b[0m\n",
      "\u001b[0;31mRuntimeError\u001b[0m: Critical error when building pipeline:\nError when constructing operator: decoders__ImageCrop encountered:\n[/opt/dali/dali/operators/image/crop/crop_attr.h:62] Assert on \"crop_arg_ndims >= 2 && crop_arg_ndims <= 3\" failed: `crop` argument should have 2 or 3 elements depending on the input data shape\nStacktrace (100 entries):\n[frame 0]: /home/slex/programy/anaconda3/envs/fastai/lib/python3.8/site-packages/nvidia/dali/libdali_operators.so(+0x4366fe) [0x7f61dffe06fe]\n[frame 1]: /home/slex/programy/anaconda3/envs/fastai/lib/python3.8/site-packages/nvidia/dali/libdali_operators.so(+0x7bf0c6) [0x7f61e03690c6]\n[frame 2]: /home/slex/programy/anaconda3/envs/fastai/lib/python3.8/site-packages/nvidia/dali/libdali_operators.so(+0x7f4f41) [0x7f61e039ef41]\n[frame 3]: /home/slex/programy/anaconda3/envs/fastai/lib/python3.8/site-packages/nvidia/dali/libdali_operators.so(std::_Function_handler<std::unique_ptr<dali::OperatorBase, std::default_delete<dali::OperatorBase> > (dali::OpSpec const&), std::unique_ptr<dali::OperatorBase, std::default_delete<dali::OperatorBase> > (*)(dali::OpSpec const&)>::_M_invoke(std::_Any_data const&, dali::OpSpec const&)+0xc) [0x7f61dffdcbdc]\n[frame 4]: /home/slex/programy/anaconda3/envs/fastai/lib/python3.8/site-packages/nvidia/dali/libdali.so(+0x1643b1) [0x7f621b25f3b1]\n[frame 5]: /home/slex/programy/anaconda3/envs/fastai/lib/python3.8/site-packages/nvidia/dali/libdali.so(dali::InstantiateOperator(dali::OpSpec const&)+0x264) [0x7f621b25c204]\n[frame 6]: /home/slex/programy/anaconda3/envs/fastai/lib/python3.8/site-packages/nvidia/dali/libdali.so(dali::OpGraph::InstantiateOperators()+0xa2) [0x7f621b20d4c2]\n[frame 7]: /home/slex/programy/anaconda3/envs/fastai/lib/python3.8/site-packages/nvidia/dali/libdali.so(dali::Pipeline::Build(std::vector<std::pair<std::string, std::string>, std::allocator<std::pair<std::string, std::string> > >)+0x9f0) [0x7f621b27cd10]\n[frame 8]: /home/slex/programy/anaconda3/envs/fastai/lib/python3.8/site-packages/nvidia/dali/backend_impl.cpython-38-x86_64-linux-gnu.so(+0x46b7f) [0x7f6230174b7f]\n[frame 9]: /home/slex/programy/anaconda3/envs/fastai/lib/python3.8/site-packages/nvidia/dali/backend_impl.cpython-38-x86_64-linux-gnu.so(+0x828a8) [0x7f62301b08a8]\n[frame 10]: /home/slex/programy/anaconda3/envs/fastai/bin/python(PyCFunction_Call+0x56) [0x55ac82a2cf76]\n[frame 11]: /home/slex/programy/anaconda3/envs/fastai/bin/python(_PyObject_MakeTpCall+0x22f) [0x55ac829ea85f]\n[frame 12]: /home/slex/programy/anaconda3/envs/fastai/bin/python(+0x18bfa1) [0x55ac82a38fa1]\n[frame 13]: /home/slex/programy/anaconda3/envs/fastai/bin/python(+0x10077f) [0x55ac829ad77f]\n[frame 14]: /home/slex/programy/anaconda3/envs/fastai/bin/python(_PyEval_EvalCodeWithName+0x2d2) [0x55ac82a37a92]\n[frame 15]: /home/slex/programy/anaconda3/envs/fastai/bin/python(_PyFunction_Vectorcall+0x1e3) [0x55ac82a38943]\n[frame 16]: /home/slex/programy/anaconda3/envs/fastai/bin/python(+0x10075e) [0x55ac829ad75e]\n[frame 17]: /home/slex/programy/anaconda3/envs/fastai/bin/python(_PyEval_EvalCodeWithName+0x2d2) [0x55ac82a37a92]\n[frame 18]: /home/slex/programy/anaconda3/envs/fastai/bin/python(PyEval_EvalCodeEx+0x44) [0x55ac82a38754]\n[frame 19]: /home/slex/programy/anaconda3/envs/fastai/bin/python(PyEval_EvalCode+0x1c) [0x55ac82ac6edc]\n[frame 20]: /home/slex/programy/anaconda3/envs/fastai/bin/python(+0x24f083) [0x55ac82afc083]\n[frame 21]: /home/slex/programy/anaconda3/envs/fastai/bin/python(+0x140699) [0x55ac829ed699]\n[frame 22]: /home/slex/programy/anaconda3/envs/fastai/bin/python(+0xfeb84) [0x55ac829abb84]\n[frame 23]: /home/slex/programy/anaconda3/envs/fastai/bin/python(_PyGen_Send+0x149) [0x55ac82a31dc9]\n[frame 24]: /home/slex/programy/anaconda3/envs/fastai/bin/python(_PyEval_EvalFrameDefault+0x49a3) [0x55ac82a72363]\n[frame 25]: /home/slex/programy/anaconda3/envs/fastai/bin/python(_PyGen_Send+0x149) [0x55ac82a31dc9]\n[frame 26]: /home/slex/programy/anaconda3/envs/fastai/bin/python(_PyEval_EvalFrameDefault+0x49a3) [0x55ac82a72363]\n[frame 27]: /home/slex/programy/anaconda3/envs/fastai/bin/python(_PyGen_Send+0x149) [0x55ac82a31dc9]\n[frame 28]: /home/slex/programy/anaconda3/envs/fastai/bin/python(+0x1701cd) [0x55ac82a1d1cd]\n[frame 29]: /home/slex/programy/anaconda3/envs/fastai/bin/python(+0x10075e) [0x55ac829ad75e]\n[frame 30]: /home/slex/programy/anaconda3/envs/fastai/bin/python(_PyFunction_Vectorcall+0x10b) [0x55ac82a3886b]\n[frame 31]: /home/slex/programy/anaconda3/envs/fastai/bin/python(+0xfeb84) [0x55ac829abb84]\n[frame 32]: /home/slex/programy/anaconda3/envs/fastai/bin/python(_PyFunction_Vectorcall+0x10b) [0x55ac82a3886b]\n[frame 33]: /home/slex/programy/anaconda3/envs/fastai/bin/python(+0x10075e) [0x55ac829ad75e]\n[frame 34]: /home/slex/programy/anaconda3/envs/fastai/bin/python(_PyEval_EvalCodeWithName+0x2d2) [0x55ac82a37a92]\n[frame 35]: /home/slex/programy/anaconda3/envs/fastai/bin/python(_PyFunction_Vectorcall+0x1e3) [0x55ac82a38943]\n[frame 36]: /home/slex/programy/anaconda3/envs/fastai/bin/python(+0x18be79) [0x55ac82a38e79]\n[frame 37]: /home/slex/programy/anaconda3/envs/fastai/bin/python(PyVectorcall_Call+0x71) [0x55ac829ea041]\n[frame 38]: /home/slex/programy/anaconda3/envs/fastai/bin/python(_PyEval_EvalFrameDefault+0x1fdb) [0x55ac82a6f99b]\n[frame 39]: /home/slex/programy/anaconda3/envs/fastai/bin/python(_PyEval_EvalCodeWithName+0x659) [0x55ac82a37e19]\n[frame 40]: /home/slex/programy/anaconda3/envs/fastai/bin/python(+0x18bd20) [0x55ac82a38d20]\n[frame 41]: /home/slex/programy/anaconda3/envs/fastai/bin/python(+0x10011a) [0x55ac829ad11a]\n[frame 42]: /home/slex/programy/anaconda3/envs/fastai/bin/python(+0x215056) [0x55ac82ac2056]\n[frame 43]: /home/slex/programy/anaconda3/envs/fastai/bin/python(+0x1847f3) [0x55ac82a317f3]\n[frame 44]: /home/slex/programy/anaconda3/envs/fastai/bin/python(+0x140699) [0x55ac829ed699]\n[frame 45]: /home/slex/programy/anaconda3/envs/fastai/bin/python(+0x7df36) [0x55ac8292af36]\n[frame 46]: /home/slex/programy/anaconda3/envs/fastai/bin/python(+0x8af1b) [0x55ac82937f1b]\n[frame 47]: /home/slex/programy/anaconda3/envs/fastai/bin/python(+0x1409a0) [0x55ac829ed9a0]\n[frame 48]: /home/slex/programy/anaconda3/envs/fastai/bin/python(+0xfeb84) [0x55ac829abb84]\n[frame 49]: /home/slex/programy/anaconda3/envs/fastai/bin/python(_PyEval_EvalCodeWithName+0x659) [0x55ac82a37e19]\n[frame 50]: /home/slex/programy/anaconda3/envs/fastai/bin/python(_PyFunction_Vectorcall+0x1e3) [0x55ac82a38943]\n[frame 51]: /home/slex/programy/anaconda3/envs/fastai/bin/python(+0x10075e) [0x55ac829ad75e]\n[frame 52]: /home/slex/programy/anaconda3/envs/fastai/bin/python(+0x215056) [0x55ac82ac2056]\n[frame 53]: /home/slex/programy/anaconda3/envs/fastai/bin/python(+0x1847f3) [0x55ac82a317f3]\n[frame 54]: /home/slex/programy/anaconda3/envs/fastai/bin/python(+0x140699) [0x55ac829ed699]\n[frame 55]: /home/slex/programy/anaconda3/envs/fastai/bin/python(+0x7df36) [0x55ac8292af36]\n[frame 56]: /home/slex/programy/anaconda3/envs/fastai/bin/python(+0x8af1b) [0x55ac82937f1b]\n[frame 57]: /home/slex/programy/anaconda3/envs/fastai/bin/python(+0x1409a0) [0x55ac829ed9a0]\n[frame 58]: /home/slex/programy/anaconda3/envs/fastai/bin/python(+0xfeb84) [0x55ac829abb84]\n[frame 59]: /home/slex/programy/anaconda3/envs/fastai/bin/python(_PyEval_EvalCodeWithName+0x659) [0x55ac82a37e19]\n[frame 60]: /home/slex/programy/anaconda3/envs/fastai/bin/python(+0x18bd20) [0x55ac82a38d20]\n[frame 61]: /home/slex/programy/anaconda3/envs/fastai/bin/python(+0xfeb84) [0x55ac829abb84]\n[frame 62]: /home/slex/programy/anaconda3/envs/fastai/bin/python(+0x215056) [0x55ac82ac2056]\n[frame 63]: /home/slex/programy/anaconda3/envs/fastai/bin/python(+0x1847f3) [0x55ac82a317f3]\n[frame 64]: /home/slex/programy/anaconda3/envs/fastai/bin/python(+0x140699) [0x55ac829ed699]\n[frame 65]: /home/slex/programy/anaconda3/envs/fastai/bin/python(+0x7df36) [0x55ac8292af36]\n[frame 66]: /home/slex/programy/anaconda3/envs/fastai/bin/python(+0x8af1b) [0x55ac82937f1b]\n[frame 67]: /home/slex/programy/anaconda3/envs/fastai/bin/python(+0x1409a0) [0x55ac829ed9a0]\n[frame 68]: /home/slex/programy/anaconda3/envs/fastai/bin/python(+0xfeb84) [0x55ac829abb84]\n[frame 69]: /home/slex/programy/anaconda3/envs/fastai/bin/python(_PyEval_EvalCodeWithName+0x659) [0x55ac82a37e19]\n[frame 70]: /home/slex/programy/anaconda3/envs/fastai/bin/python(_PyFunction_Vectorcall+0x1e3) [0x55ac82a38943]\n[frame 71]: /home/slex/programy/anaconda3/envs/fastai/bin/python(+0x18be79) [0x55ac82a38e79]\n[frame 72]: /home/slex/programy/anaconda3/envs/fastai/bin/python(PyVectorcall_Call+0x71) [0x55ac829ea041]\n[frame 73]: /home/slex/programy/anaconda3/envs/fastai/bin/python(_PyEval_EvalFrameDefault+0x1fdb) [0x55ac82a6f99b]\n[frame 74]: /home/slex/programy/anaconda3/envs/fastai/bin/python(_PyGen_Send+0x149) [0x55ac82a31dc9]\n[frame 75]: /home/slex/programy/anaconda3/envs/fastai/bin/python(+0x1701cd) [0x55ac82a1d1cd]\n[frame 76]: /home/slex/programy/anaconda3/envs/fastai/bin/python(+0x10075e) [0x55ac829ad75e]\n[frame 77]: /home/slex/programy/anaconda3/envs/fastai/bin/python(_PyFunction_Vectorcall+0x10b) [0x55ac82a3886b]\n[frame 78]: /home/slex/programy/anaconda3/envs/fastai/bin/python(+0x18bee7) [0x55ac82a38ee7]\n[frame 79]: /home/slex/programy/anaconda3/envs/fastai/bin/python(+0x7df36) [0x55ac8292af36]\n[frame 80]: /home/slex/programy/anaconda3/envs/fastai/bin/python(+0x8af1b) [0x55ac82937f1b]\n[frame 81]: /home/slex/programy/anaconda3/envs/fastai/bin/python(+0x1409a0) [0x55ac829ed9a0]\n[frame 82]: /home/slex/programy/anaconda3/envs/fastai/bin/python(+0x10077f) [0x55ac829ad77f]\n[frame 83]: /home/slex/programy/anaconda3/envs/fastai/bin/python(_PyEval_EvalCodeWithName+0x659) [0x55ac82a37e19]\n[frame 84]: /home/slex/programy/anaconda3/envs/fastai/bin/python(_PyObject_FastCallDict+0x20c) [0x55ac82a3948c]\n[frame 85]: /home/slex/programy/anaconda3/envs/fastai/bin/python(+0x22b4be) [0x55ac82ad84be]\n[frame 86]: /home/slex/programy/anaconda3/envs/fastai/bin/python(_PyObject_MakeTpCall+0x22f) [0x55ac829ea85f]\n[frame 87]: /home/slex/programy/anaconda3/envs/fastai/bin/python(_PyEval_EvalFrameDefault+0x475) [0x55ac82a6de35]\n[frame 88]: /home/slex/programy/anaconda3/envs/fastai/bin/python(_PyFunction_Vectorcall+0x10b) [0x55ac82a3886b]\n[frame 89]: /home/slex/programy/anaconda3/envs/fastai/bin/python(+0x10075e) [0x55ac829ad75e]\n[frame 90]: /home/slex/programy/anaconda3/envs/fastai/bin/python(_PyEval_EvalCodeWithName+0x7df) [0x55ac82a37f9f]\n[frame 91]: /home/slex/programy/anaconda3/envs/fastai/bin/python(_PyFunction_Vectorcall+0x1e3) [0x55ac82a38943]\n[frame 92]: /home/slex/programy/anaconda3/envs/fastai/bin/python(+0x7df36) [0x55ac8292af36]\n[frame 93]: /home/slex/programy/anaconda3/envs/fastai/bin/python(+0x8af1b) [0x55ac82937f1b]\n[frame 94]: /home/slex/programy/anaconda3/envs/fastai/bin/python(+0x1409a0) [0x55ac829ed9a0]\n[frame 95]: /home/slex/programy/anaconda3/envs/fastai/bin/python(PyVectorcall_Call+0x71) [0x55ac829ea041]\n[frame 96]: /home/slex/programy/anaconda3/envs/fastai/bin/python(_PyEval_EvalFrameDefault+0x53e0) [0x55ac82a72da0]\n[frame 97]: /home/slex/programy/anaconda3/envs/fastai/bin/python(_PyFunction_Vectorcall+0x10b) [0x55ac82a3886b]\n[frame 98]: /home/slex/programy/anaconda3/envs/fastai/bin/python(+0x10075e) [0x55ac829ad75e]\n[frame 99]: /home/slex/programy/anaconda3/envs/fastai/bin/python(_PyFunction_Vectorcall+0x10b) [0x55ac82a3886b]\n\nCurrent pipeline object is no longer valid."
     ]
    }
   ],
   "source": [
    "pipe = simple_pipeline(batch_size=max_batch_size,num_threads=8, device_id=0)\n",
    "pipe.build()"
   ]
  },
  {
   "cell_type": "code",
   "execution_count": null,
   "id": "healthy-glasgow",
   "metadata": {},
   "outputs": [],
   "source": []
  },
  {
   "cell_type": "code",
   "execution_count": 113,
   "id": "logical-workstation",
   "metadata": {},
   "outputs": [
    {
     "ename": "RuntimeError",
     "evalue": "Critical error in pipeline:\nError when executing CPU operator decoders__ImageCrop encountered:\nError in thread 3: [/opt/dali/dali/operators/decoder/host/host_decoder.cc:41] [/opt/dali/dali/image/jpeg.cc:91] Assert on \"crop.IsInRange(shape)\" failed\nStacktrace (9 entries):\n[frame 0]: /home/slex/programy/anaconda3/envs/fastai/lib/python3.8/site-packages/nvidia/dali/libdali.so(+0x8f36e) [0x7f621b18a36e]\n[frame 1]: /home/slex/programy/anaconda3/envs/fastai/lib/python3.8/site-packages/nvidia/dali/libdali.so(+0x1962b1) [0x7f621b2912b1]\n[frame 2]: /home/slex/programy/anaconda3/envs/fastai/lib/python3.8/site-packages/nvidia/dali/libdali.so(dali::Image::Decode()+0x34) [0x7f621b28ebb4]\n[frame 3]: /home/slex/programy/anaconda3/envs/fastai/lib/python3.8/site-packages/nvidia/dali/libdali_operators.so(+0x7d36fa) [0x7f61e037d6fa]\n[frame 4]: /home/slex/programy/anaconda3/envs/fastai/lib/python3.8/site-packages/nvidia/dali/libdali_operators.so(+0x4608a9) [0x7f61e000a8a9]\n[frame 5]: /home/slex/programy/anaconda3/envs/fastai/lib/python3.8/site-packages/nvidia/dali/libdali.so(dali::ThreadPool::ThreadMain(int, int, bool)+0x1f0) [0x7f621b263af0]\n[frame 6]: /home/slex/programy/anaconda3/envs/fastai/lib/python3.8/site-packages/nvidia/dali/libdali.so(+0x8ac9df) [0x7f621b9a79df]\n[frame 7]: /lib/x86_64-linux-gnu/libpthread.so.0(+0x9590) [0x7f6237e77590]\n[frame 8]: /lib/x86_64-linux-gnu/libc.so.6(clone+0x43) [0x7f6237d9d223]\n. File: 015b1ea9c715a7a048fb5c387c5ba8db.jpg\nStacktrace (7 entries):\n[frame 0]: /home/slex/programy/anaconda3/envs/fastai/lib/python3.8/site-packages/nvidia/dali/libdali_operators.so(+0x4366fe) [0x7f61dffe06fe]\n[frame 1]: /home/slex/programy/anaconda3/envs/fastai/lib/python3.8/site-packages/nvidia/dali/libdali_operators.so(+0x7d41fb) [0x7f61e037e1fb]\n[frame 2]: /home/slex/programy/anaconda3/envs/fastai/lib/python3.8/site-packages/nvidia/dali/libdali_operators.so(+0x4608a9) [0x7f61e000a8a9]\n[frame 3]: /home/slex/programy/anaconda3/envs/fastai/lib/python3.8/site-packages/nvidia/dali/libdali.so(dali::ThreadPool::ThreadMain(int, int, bool)+0x1f0) [0x7f621b263af0]\n[frame 4]: /home/slex/programy/anaconda3/envs/fastai/lib/python3.8/site-packages/nvidia/dali/libdali.so(+0x8ac9df) [0x7f621b9a79df]\n[frame 5]: /lib/x86_64-linux-gnu/libpthread.so.0(+0x9590) [0x7f6237e77590]\n[frame 6]: /lib/x86_64-linux-gnu/libc.so.6(clone+0x43) [0x7f6237d9d223]\n\nCurrent pipeline object is no longer valid.",
     "output_type": "error",
     "traceback": [
      "\u001b[0;31m---------------------------------------------------------------------------\u001b[0m",
      "\u001b[0;31mRuntimeError\u001b[0m                              Traceback (most recent call last)",
      "\u001b[0;32m<ipython-input-113-9a8f6ded8159>\u001b[0m in \u001b[0;36m<module>\u001b[0;34m\u001b[0m\n\u001b[0;32m----> 1\u001b[0;31m \u001b[0mpipe_out\u001b[0m \u001b[0;34m=\u001b[0m \u001b[0mpipe\u001b[0m\u001b[0;34m.\u001b[0m\u001b[0mrun\u001b[0m\u001b[0;34m(\u001b[0m\u001b[0;34m)\u001b[0m\u001b[0;34m\u001b[0m\u001b[0;34m\u001b[0m\u001b[0m\n\u001b[0m\u001b[1;32m      2\u001b[0m \u001b[0mprint\u001b[0m\u001b[0;34m(\u001b[0m\u001b[0mpipe_out\u001b[0m\u001b[0;34m)\u001b[0m\u001b[0;34m\u001b[0m\u001b[0;34m\u001b[0m\u001b[0m\n",
      "\u001b[0;32m~/programy/anaconda3/envs/fastai/lib/python3.8/site-packages/nvidia/dali/pipeline.py\u001b[0m in \u001b[0;36mrun\u001b[0;34m(self)\u001b[0m\n\u001b[1;32m    914\u001b[0m         \u001b[0;32mwith\u001b[0m \u001b[0mself\u001b[0m\u001b[0;34m.\u001b[0m\u001b[0m_check_api_type_scope\u001b[0m\u001b[0;34m(\u001b[0m\u001b[0mtypes\u001b[0m\u001b[0;34m.\u001b[0m\u001b[0mPipelineAPIType\u001b[0m\u001b[0;34m.\u001b[0m\u001b[0mBASIC\u001b[0m\u001b[0;34m)\u001b[0m\u001b[0;34m:\u001b[0m\u001b[0;34m\u001b[0m\u001b[0;34m\u001b[0m\u001b[0m\n\u001b[1;32m    915\u001b[0m             \u001b[0mself\u001b[0m\u001b[0;34m.\u001b[0m\u001b[0mschedule_run\u001b[0m\u001b[0;34m(\u001b[0m\u001b[0;34m)\u001b[0m\u001b[0;34m\u001b[0m\u001b[0;34m\u001b[0m\u001b[0m\n\u001b[0;32m--> 916\u001b[0;31m             \u001b[0;32mreturn\u001b[0m \u001b[0mself\u001b[0m\u001b[0;34m.\u001b[0m\u001b[0moutputs\u001b[0m\u001b[0;34m(\u001b[0m\u001b[0;34m)\u001b[0m\u001b[0;34m\u001b[0m\u001b[0;34m\u001b[0m\u001b[0m\n\u001b[0m\u001b[1;32m    917\u001b[0m \u001b[0;34m\u001b[0m\u001b[0m\n\u001b[1;32m    918\u001b[0m     \u001b[0;32mdef\u001b[0m \u001b[0m_prefetch\u001b[0m\u001b[0;34m(\u001b[0m\u001b[0mself\u001b[0m\u001b[0;34m)\u001b[0m\u001b[0;34m:\u001b[0m\u001b[0;34m\u001b[0m\u001b[0;34m\u001b[0m\u001b[0m\n",
      "\u001b[0;32m~/programy/anaconda3/envs/fastai/lib/python3.8/site-packages/nvidia/dali/pipeline.py\u001b[0m in \u001b[0;36moutputs\u001b[0;34m(self)\u001b[0m\n\u001b[1;32m    813\u001b[0m             \u001b[0mself\u001b[0m\u001b[0;34m.\u001b[0m\u001b[0m_batches_to_consume\u001b[0m \u001b[0;34m-=\u001b[0m \u001b[0;36m1\u001b[0m\u001b[0;34m\u001b[0m\u001b[0;34m\u001b[0m\u001b[0m\n\u001b[1;32m    814\u001b[0m             \u001b[0mself\u001b[0m\u001b[0;34m.\u001b[0m\u001b[0m_gpu_batches_to_consume\u001b[0m \u001b[0;34m-=\u001b[0m \u001b[0;36m1\u001b[0m\u001b[0;34m\u001b[0m\u001b[0;34m\u001b[0m\u001b[0m\n\u001b[0;32m--> 815\u001b[0;31m             \u001b[0;32mreturn\u001b[0m \u001b[0mself\u001b[0m\u001b[0;34m.\u001b[0m\u001b[0m_outputs\u001b[0m\u001b[0;34m(\u001b[0m\u001b[0;34m)\u001b[0m\u001b[0;34m\u001b[0m\u001b[0;34m\u001b[0m\u001b[0m\n\u001b[0m\u001b[1;32m    816\u001b[0m \u001b[0;34m\u001b[0m\u001b[0m\n\u001b[1;32m    817\u001b[0m     \u001b[0;32mdef\u001b[0m \u001b[0mschedule_run\u001b[0m\u001b[0;34m(\u001b[0m\u001b[0mself\u001b[0m\u001b[0;34m)\u001b[0m\u001b[0;34m:\u001b[0m\u001b[0;34m\u001b[0m\u001b[0;34m\u001b[0m\u001b[0m\n",
      "\u001b[0;32m~/programy/anaconda3/envs/fastai/lib/python3.8/site-packages/nvidia/dali/pipeline.py\u001b[0m in \u001b[0;36m_outputs\u001b[0;34m(self)\u001b[0m\n\u001b[1;32m    897\u001b[0m         \u001b[0;32mif\u001b[0m \u001b[0;32mnot\u001b[0m \u001b[0mself\u001b[0m\u001b[0;34m.\u001b[0m\u001b[0m_built\u001b[0m\u001b[0;34m:\u001b[0m\u001b[0;34m\u001b[0m\u001b[0;34m\u001b[0m\u001b[0m\n\u001b[1;32m    898\u001b[0m             \u001b[0;32mraise\u001b[0m \u001b[0mRuntimeError\u001b[0m\u001b[0;34m(\u001b[0m\u001b[0;34m\"Pipeline must be built first.\"\u001b[0m\u001b[0;34m)\u001b[0m\u001b[0;34m\u001b[0m\u001b[0;34m\u001b[0m\u001b[0m\n\u001b[0;32m--> 899\u001b[0;31m         \u001b[0;32mreturn\u001b[0m \u001b[0mself\u001b[0m\u001b[0;34m.\u001b[0m\u001b[0m_pipe\u001b[0m\u001b[0;34m.\u001b[0m\u001b[0mOutputs\u001b[0m\u001b[0;34m(\u001b[0m\u001b[0;34m)\u001b[0m\u001b[0;34m\u001b[0m\u001b[0;34m\u001b[0m\u001b[0m\n\u001b[0m\u001b[1;32m    900\u001b[0m \u001b[0;34m\u001b[0m\u001b[0m\n\u001b[1;32m    901\u001b[0m     \u001b[0;32mdef\u001b[0m \u001b[0mrun\u001b[0m\u001b[0;34m(\u001b[0m\u001b[0mself\u001b[0m\u001b[0;34m)\u001b[0m\u001b[0;34m:\u001b[0m\u001b[0;34m\u001b[0m\u001b[0;34m\u001b[0m\u001b[0m\n",
      "\u001b[0;31mRuntimeError\u001b[0m: Critical error in pipeline:\nError when executing CPU operator decoders__ImageCrop encountered:\nError in thread 3: [/opt/dali/dali/operators/decoder/host/host_decoder.cc:41] [/opt/dali/dali/image/jpeg.cc:91] Assert on \"crop.IsInRange(shape)\" failed\nStacktrace (9 entries):\n[frame 0]: /home/slex/programy/anaconda3/envs/fastai/lib/python3.8/site-packages/nvidia/dali/libdali.so(+0x8f36e) [0x7f621b18a36e]\n[frame 1]: /home/slex/programy/anaconda3/envs/fastai/lib/python3.8/site-packages/nvidia/dali/libdali.so(+0x1962b1) [0x7f621b2912b1]\n[frame 2]: /home/slex/programy/anaconda3/envs/fastai/lib/python3.8/site-packages/nvidia/dali/libdali.so(dali::Image::Decode()+0x34) [0x7f621b28ebb4]\n[frame 3]: /home/slex/programy/anaconda3/envs/fastai/lib/python3.8/site-packages/nvidia/dali/libdali_operators.so(+0x7d36fa) [0x7f61e037d6fa]\n[frame 4]: /home/slex/programy/anaconda3/envs/fastai/lib/python3.8/site-packages/nvidia/dali/libdali_operators.so(+0x4608a9) [0x7f61e000a8a9]\n[frame 5]: /home/slex/programy/anaconda3/envs/fastai/lib/python3.8/site-packages/nvidia/dali/libdali.so(dali::ThreadPool::ThreadMain(int, int, bool)+0x1f0) [0x7f621b263af0]\n[frame 6]: /home/slex/programy/anaconda3/envs/fastai/lib/python3.8/site-packages/nvidia/dali/libdali.so(+0x8ac9df) [0x7f621b9a79df]\n[frame 7]: /lib/x86_64-linux-gnu/libpthread.so.0(+0x9590) [0x7f6237e77590]\n[frame 8]: /lib/x86_64-linux-gnu/libc.so.6(clone+0x43) [0x7f6237d9d223]\n. File: 015b1ea9c715a7a048fb5c387c5ba8db.jpg\nStacktrace (7 entries):\n[frame 0]: /home/slex/programy/anaconda3/envs/fastai/lib/python3.8/site-packages/nvidia/dali/libdali_operators.so(+0x4366fe) [0x7f61dffe06fe]\n[frame 1]: /home/slex/programy/anaconda3/envs/fastai/lib/python3.8/site-packages/nvidia/dali/libdali_operators.so(+0x7d41fb) [0x7f61e037e1fb]\n[frame 2]: /home/slex/programy/anaconda3/envs/fastai/lib/python3.8/site-packages/nvidia/dali/libdali_operators.so(+0x4608a9) [0x7f61e000a8a9]\n[frame 3]: /home/slex/programy/anaconda3/envs/fastai/lib/python3.8/site-packages/nvidia/dali/libdali.so(dali::ThreadPool::ThreadMain(int, int, bool)+0x1f0) [0x7f621b263af0]\n[frame 4]: /home/slex/programy/anaconda3/envs/fastai/lib/python3.8/site-packages/nvidia/dali/libdali.so(+0x8ac9df) [0x7f621b9a79df]\n[frame 5]: /lib/x86_64-linux-gnu/libpthread.so.0(+0x9590) [0x7f6237e77590]\n[frame 6]: /lib/x86_64-linux-gnu/libc.so.6(clone+0x43) [0x7f6237d9d223]\n\nCurrent pipeline object is no longer valid."
     ]
    }
   ],
   "source": [
    "pipe_out = pipe.run()\n",
    "print(pipe_out)"
   ]
  },
  {
   "cell_type": "code",
   "execution_count": 92,
   "id": "accomplished-burner",
   "metadata": {},
   "outputs": [
    {
     "name": "stdout",
     "output_type": "stream",
     "text": [
      "Images is_dense_tensor: True\n",
      "Labels is_dense_tensor: True\n"
     ]
    }
   ],
   "source": [
    "images, labels = pipe_out\n",
    "print(\"Images is_dense_tensor: \" + str(images.is_dense_tensor()))\n",
    "print(\"Labels is_dense_tensor: \" + str(labels.is_dense_tensor()))"
   ]
  },
  {
   "cell_type": "code",
   "execution_count": 95,
   "id": "trained-router",
   "metadata": {},
   "outputs": [],
   "source": [
    "import matplotlib.gridspec as gridspec\n",
    "import matplotlib.pyplot as plt\n",
    "%matplotlib inline\n",
    "\n",
    "def show_images(image_batch):\n",
    "    columns = 4\n",
    "    rows = (max_batch_size + 1) // (columns)\n",
    "    fig = plt.figure(figsize = (32,(32 // columns) * rows))\n",
    "    gs = gridspec.GridSpec(rows, columns)\n",
    "    for j in range(rows*columns):\n",
    "        plt.subplot(gs[j])\n",
    "        print(image_batch.at(j))\n",
    "        plt.axis(\"off\")\n",
    "        plt.imshow(image_batch.at(j))"
   ]
  },
  {
   "cell_type": "code",
   "execution_count": 96,
   "id": "modular-color",
   "metadata": {},
   "outputs": [
    {
     "name": "stdout",
     "output_type": "stream",
     "text": [
      "<nvidia.dali.backend_impl.TensorGPU object at 0x7f6074067ab0>\n"
     ]
    },
    {
     "ename": "TypeError",
     "evalue": "Image data of dtype object cannot be converted to float",
     "output_type": "error",
     "traceback": [
      "\u001b[0;31m---------------------------------------------------------------------------\u001b[0m",
      "\u001b[0;31mTypeError\u001b[0m                                 Traceback (most recent call last)",
      "\u001b[0;32m<ipython-input-96-2ca8d4eaa92e>\u001b[0m in \u001b[0;36m<module>\u001b[0;34m\u001b[0m\n\u001b[0;32m----> 1\u001b[0;31m \u001b[0mshow_images\u001b[0m\u001b[0;34m(\u001b[0m\u001b[0mimages\u001b[0m\u001b[0;34m)\u001b[0m\u001b[0;34m\u001b[0m\u001b[0;34m\u001b[0m\u001b[0m\n\u001b[0m",
      "\u001b[0;32m<ipython-input-95-461fb8c54acd>\u001b[0m in \u001b[0;36mshow_images\u001b[0;34m(image_batch)\u001b[0m\n\u001b[1;32m     12\u001b[0m         \u001b[0mprint\u001b[0m\u001b[0;34m(\u001b[0m\u001b[0mimage_batch\u001b[0m\u001b[0;34m.\u001b[0m\u001b[0mat\u001b[0m\u001b[0;34m(\u001b[0m\u001b[0mj\u001b[0m\u001b[0;34m)\u001b[0m\u001b[0;34m)\u001b[0m\u001b[0;34m\u001b[0m\u001b[0;34m\u001b[0m\u001b[0m\n\u001b[1;32m     13\u001b[0m         \u001b[0mplt\u001b[0m\u001b[0;34m.\u001b[0m\u001b[0maxis\u001b[0m\u001b[0;34m(\u001b[0m\u001b[0;34m\"off\"\u001b[0m\u001b[0;34m)\u001b[0m\u001b[0;34m\u001b[0m\u001b[0;34m\u001b[0m\u001b[0m\n\u001b[0;32m---> 14\u001b[0;31m         \u001b[0mplt\u001b[0m\u001b[0;34m.\u001b[0m\u001b[0mimshow\u001b[0m\u001b[0;34m(\u001b[0m\u001b[0mimage_batch\u001b[0m\u001b[0;34m.\u001b[0m\u001b[0mat\u001b[0m\u001b[0;34m(\u001b[0m\u001b[0mj\u001b[0m\u001b[0;34m)\u001b[0m\u001b[0;34m)\u001b[0m\u001b[0;34m\u001b[0m\u001b[0;34m\u001b[0m\u001b[0m\n\u001b[0m",
      "\u001b[0;32m~/programy/anaconda3/envs/fastai/lib/python3.8/site-packages/matplotlib/pyplot.py\u001b[0m in \u001b[0;36mimshow\u001b[0;34m(X, cmap, norm, aspect, interpolation, alpha, vmin, vmax, origin, extent, filternorm, filterrad, resample, url, data, **kwargs)\u001b[0m\n\u001b[1;32m   2722\u001b[0m         \u001b[0mfilternorm\u001b[0m\u001b[0;34m=\u001b[0m\u001b[0;32mTrue\u001b[0m\u001b[0;34m,\u001b[0m \u001b[0mfilterrad\u001b[0m\u001b[0;34m=\u001b[0m\u001b[0;36m4.0\u001b[0m\u001b[0;34m,\u001b[0m \u001b[0mresample\u001b[0m\u001b[0;34m=\u001b[0m\u001b[0;32mNone\u001b[0m\u001b[0;34m,\u001b[0m \u001b[0murl\u001b[0m\u001b[0;34m=\u001b[0m\u001b[0;32mNone\u001b[0m\u001b[0;34m,\u001b[0m\u001b[0;34m\u001b[0m\u001b[0;34m\u001b[0m\u001b[0m\n\u001b[1;32m   2723\u001b[0m         data=None, **kwargs):\n\u001b[0;32m-> 2724\u001b[0;31m     __ret = gca().imshow(\n\u001b[0m\u001b[1;32m   2725\u001b[0m         \u001b[0mX\u001b[0m\u001b[0;34m,\u001b[0m \u001b[0mcmap\u001b[0m\u001b[0;34m=\u001b[0m\u001b[0mcmap\u001b[0m\u001b[0;34m,\u001b[0m \u001b[0mnorm\u001b[0m\u001b[0;34m=\u001b[0m\u001b[0mnorm\u001b[0m\u001b[0;34m,\u001b[0m \u001b[0maspect\u001b[0m\u001b[0;34m=\u001b[0m\u001b[0maspect\u001b[0m\u001b[0;34m,\u001b[0m\u001b[0;34m\u001b[0m\u001b[0;34m\u001b[0m\u001b[0m\n\u001b[1;32m   2726\u001b[0m         \u001b[0minterpolation\u001b[0m\u001b[0;34m=\u001b[0m\u001b[0minterpolation\u001b[0m\u001b[0;34m,\u001b[0m \u001b[0malpha\u001b[0m\u001b[0;34m=\u001b[0m\u001b[0malpha\u001b[0m\u001b[0;34m,\u001b[0m \u001b[0mvmin\u001b[0m\u001b[0;34m=\u001b[0m\u001b[0mvmin\u001b[0m\u001b[0;34m,\u001b[0m\u001b[0;34m\u001b[0m\u001b[0;34m\u001b[0m\u001b[0m\n",
      "\u001b[0;32m~/programy/anaconda3/envs/fastai/lib/python3.8/site-packages/matplotlib/__init__.py\u001b[0m in \u001b[0;36minner\u001b[0;34m(ax, data, *args, **kwargs)\u001b[0m\n\u001b[1;32m   1436\u001b[0m     \u001b[0;32mdef\u001b[0m \u001b[0minner\u001b[0m\u001b[0;34m(\u001b[0m\u001b[0max\u001b[0m\u001b[0;34m,\u001b[0m \u001b[0;34m*\u001b[0m\u001b[0margs\u001b[0m\u001b[0;34m,\u001b[0m \u001b[0mdata\u001b[0m\u001b[0;34m=\u001b[0m\u001b[0;32mNone\u001b[0m\u001b[0;34m,\u001b[0m \u001b[0;34m**\u001b[0m\u001b[0mkwargs\u001b[0m\u001b[0;34m)\u001b[0m\u001b[0;34m:\u001b[0m\u001b[0;34m\u001b[0m\u001b[0;34m\u001b[0m\u001b[0m\n\u001b[1;32m   1437\u001b[0m         \u001b[0;32mif\u001b[0m \u001b[0mdata\u001b[0m \u001b[0;32mis\u001b[0m \u001b[0;32mNone\u001b[0m\u001b[0;34m:\u001b[0m\u001b[0;34m\u001b[0m\u001b[0;34m\u001b[0m\u001b[0m\n\u001b[0;32m-> 1438\u001b[0;31m             \u001b[0;32mreturn\u001b[0m \u001b[0mfunc\u001b[0m\u001b[0;34m(\u001b[0m\u001b[0max\u001b[0m\u001b[0;34m,\u001b[0m \u001b[0;34m*\u001b[0m\u001b[0mmap\u001b[0m\u001b[0;34m(\u001b[0m\u001b[0msanitize_sequence\u001b[0m\u001b[0;34m,\u001b[0m \u001b[0margs\u001b[0m\u001b[0;34m)\u001b[0m\u001b[0;34m,\u001b[0m \u001b[0;34m**\u001b[0m\u001b[0mkwargs\u001b[0m\u001b[0;34m)\u001b[0m\u001b[0;34m\u001b[0m\u001b[0;34m\u001b[0m\u001b[0m\n\u001b[0m\u001b[1;32m   1439\u001b[0m \u001b[0;34m\u001b[0m\u001b[0m\n\u001b[1;32m   1440\u001b[0m         \u001b[0mbound\u001b[0m \u001b[0;34m=\u001b[0m \u001b[0mnew_sig\u001b[0m\u001b[0;34m.\u001b[0m\u001b[0mbind\u001b[0m\u001b[0;34m(\u001b[0m\u001b[0max\u001b[0m\u001b[0;34m,\u001b[0m \u001b[0;34m*\u001b[0m\u001b[0margs\u001b[0m\u001b[0;34m,\u001b[0m \u001b[0;34m**\u001b[0m\u001b[0mkwargs\u001b[0m\u001b[0;34m)\u001b[0m\u001b[0;34m\u001b[0m\u001b[0;34m\u001b[0m\u001b[0m\n",
      "\u001b[0;32m~/programy/anaconda3/envs/fastai/lib/python3.8/site-packages/matplotlib/axes/_axes.py\u001b[0m in \u001b[0;36mimshow\u001b[0;34m(self, X, cmap, norm, aspect, interpolation, alpha, vmin, vmax, origin, extent, filternorm, filterrad, resample, url, **kwargs)\u001b[0m\n\u001b[1;32m   5521\u001b[0m                               resample=resample, **kwargs)\n\u001b[1;32m   5522\u001b[0m \u001b[0;34m\u001b[0m\u001b[0m\n\u001b[0;32m-> 5523\u001b[0;31m         \u001b[0mim\u001b[0m\u001b[0;34m.\u001b[0m\u001b[0mset_data\u001b[0m\u001b[0;34m(\u001b[0m\u001b[0mX\u001b[0m\u001b[0;34m)\u001b[0m\u001b[0;34m\u001b[0m\u001b[0;34m\u001b[0m\u001b[0m\n\u001b[0m\u001b[1;32m   5524\u001b[0m         \u001b[0mim\u001b[0m\u001b[0;34m.\u001b[0m\u001b[0mset_alpha\u001b[0m\u001b[0;34m(\u001b[0m\u001b[0malpha\u001b[0m\u001b[0;34m)\u001b[0m\u001b[0;34m\u001b[0m\u001b[0;34m\u001b[0m\u001b[0m\n\u001b[1;32m   5525\u001b[0m         \u001b[0;32mif\u001b[0m \u001b[0mim\u001b[0m\u001b[0;34m.\u001b[0m\u001b[0mget_clip_path\u001b[0m\u001b[0;34m(\u001b[0m\u001b[0;34m)\u001b[0m \u001b[0;32mis\u001b[0m \u001b[0;32mNone\u001b[0m\u001b[0;34m:\u001b[0m\u001b[0;34m\u001b[0m\u001b[0;34m\u001b[0m\u001b[0m\n",
      "\u001b[0;32m~/programy/anaconda3/envs/fastai/lib/python3.8/site-packages/matplotlib/image.py\u001b[0m in \u001b[0;36mset_data\u001b[0;34m(self, A)\u001b[0m\n\u001b[1;32m    698\u001b[0m         if (self._A.dtype != np.uint8 and\n\u001b[1;32m    699\u001b[0m                 not np.can_cast(self._A.dtype, float, \"same_kind\")):\n\u001b[0;32m--> 700\u001b[0;31m             raise TypeError(\"Image data of dtype {} cannot be converted to \"\n\u001b[0m\u001b[1;32m    701\u001b[0m                             \"float\".format(self._A.dtype))\n\u001b[1;32m    702\u001b[0m \u001b[0;34m\u001b[0m\u001b[0m\n",
      "\u001b[0;31mTypeError\u001b[0m: Image data of dtype object cannot be converted to float"
     ]
    },
    {
     "data": {
      "image/png": "[encoded data removed]",
      "text/plain": [
       "<Figure size 2304x18432 with 1 Axes>"
      ]
     },
     "metadata": {
      "needs_background": "light"
     },
     "output_type": "display_data"
    }
   ],
   "source": [
    "show_images(images)"
   ]
  },
  {
   "cell_type": "code",
   "execution_count": 99,
   "id": "bibliographic-lesson",
   "metadata": {},
   "outputs": [],
   "source": [
    "dali_iter = DALIGenericIterator(pipe, ['data', 'label'])"
   ]
  },
  {
   "cell_type": "code",
   "execution_count": 100,
   "id": "focused-sandwich",
   "metadata": {},
   "outputs": [
    {
     "ename": "RuntimeError",
     "evalue": "Critical error in pipeline:\nError when executing Mixed operator decoders__Image encountered:\nError in thread 7: [/opt/dali/dali/operators/decoder/nvjpeg/nvjpeg_decoder_decoupled_api.h:837] NVJPEG error \"5\" : NVJPEG_STATUS_ALLOCATOR_FAILURE 9f38eeeb9d91b3c093c98c37ddfc6914.jpg\nStacktrace (7 entries):\n[frame 0]: /home/slex/programy/anaconda3/envs/fastai/lib/python3.8/site-packages/nvidia/dali/libdali_operators.so(+0x4366fe) [0x7f61dffe06fe]\n[frame 1]: /home/slex/programy/anaconda3/envs/fastai/lib/python3.8/site-packages/nvidia/dali/libdali_operators.so(+0x7de7ff) [0x7f61e03887ff]\n[frame 2]: /home/slex/programy/anaconda3/envs/fastai/lib/python3.8/site-packages/nvidia/dali/libdali_operators.so(+0x7df1c4) [0x7f61e03891c4]\n[frame 3]: /home/slex/programy/anaconda3/envs/fastai/lib/python3.8/site-packages/nvidia/dali/libdali.so(dali::ThreadPool::ThreadMain(int, int, bool)+0x1f0) [0x7f621b263af0]\n[frame 4]: /home/slex/programy/anaconda3/envs/fastai/lib/python3.8/site-packages/nvidia/dali/libdali.so(+0x8ac9df) [0x7f621b9a79df]\n[frame 5]: /lib/x86_64-linux-gnu/libpthread.so.0(+0x9590) [0x7f6237e77590]\n[frame 6]: /lib/x86_64-linux-gnu/libc.so.6(clone+0x43) [0x7f6237d9d223]\n\nCurrent pipeline object is no longer valid.",
     "output_type": "error",
     "traceback": [
      "\u001b[0;31m---------------------------------------------------------------------------\u001b[0m",
      "\u001b[0;31mRuntimeError\u001b[0m                              Traceback (most recent call last)",
      "\u001b[0;32m<timed exec>\u001b[0m in \u001b[0;36m<module>\u001b[0;34m\u001b[0m\n",
      "\u001b[0;32m~/programy/anaconda3/envs/fastai/lib/python3.8/site-packages/nvidia/dali/plugin/pytorch.py\u001b[0m in \u001b[0;36m__next__\u001b[0;34m(self)\u001b[0m\n\u001b[1;32m    192\u001b[0m \u001b[0;34m\u001b[0m\u001b[0m\n\u001b[1;32m    193\u001b[0m         \u001b[0;31m# Gather outputs\u001b[0m\u001b[0;34m\u001b[0m\u001b[0;34m\u001b[0m\u001b[0;34m\u001b[0m\u001b[0m\n\u001b[0;32m--> 194\u001b[0;31m         \u001b[0moutputs\u001b[0m \u001b[0;34m=\u001b[0m \u001b[0mself\u001b[0m\u001b[0;34m.\u001b[0m\u001b[0m_get_outputs\u001b[0m\u001b[0;34m(\u001b[0m\u001b[0;34m)\u001b[0m\u001b[0;34m\u001b[0m\u001b[0;34m\u001b[0m\u001b[0m\n\u001b[0m\u001b[1;32m    195\u001b[0m \u001b[0;34m\u001b[0m\u001b[0m\n\u001b[1;32m    196\u001b[0m         \u001b[0;32mfor\u001b[0m \u001b[0mi\u001b[0m \u001b[0;32min\u001b[0m \u001b[0mrange\u001b[0m\u001b[0;34m(\u001b[0m\u001b[0mself\u001b[0m\u001b[0;34m.\u001b[0m\u001b[0m_num_gpus\u001b[0m\u001b[0;34m)\u001b[0m\u001b[0;34m:\u001b[0m\u001b[0;34m\u001b[0m\u001b[0;34m\u001b[0m\u001b[0m\n",
      "\u001b[0;32m~/programy/anaconda3/envs/fastai/lib/python3.8/site-packages/nvidia/dali/plugin/base_iterator.py\u001b[0m in \u001b[0;36m_get_outputs\u001b[0;34m(self)\u001b[0m\n\u001b[1;32m    253\u001b[0m             \u001b[0;32mfor\u001b[0m \u001b[0mp\u001b[0m \u001b[0;32min\u001b[0m \u001b[0mself\u001b[0m\u001b[0;34m.\u001b[0m\u001b[0m_pipes\u001b[0m\u001b[0;34m:\u001b[0m\u001b[0;34m\u001b[0m\u001b[0;34m\u001b[0m\u001b[0m\n\u001b[1;32m    254\u001b[0m                 \u001b[0;32mwith\u001b[0m \u001b[0mp\u001b[0m\u001b[0;34m.\u001b[0m\u001b[0m_check_api_type_scope\u001b[0m\u001b[0;34m(\u001b[0m\u001b[0mtypes\u001b[0m\u001b[0;34m.\u001b[0m\u001b[0mPipelineAPIType\u001b[0m\u001b[0;34m.\u001b[0m\u001b[0mITERATOR\u001b[0m\u001b[0;34m)\u001b[0m\u001b[0;34m:\u001b[0m\u001b[0;34m\u001b[0m\u001b[0;34m\u001b[0m\u001b[0m\n\u001b[0;32m--> 255\u001b[0;31m                     \u001b[0moutputs\u001b[0m\u001b[0;34m.\u001b[0m\u001b[0mappend\u001b[0m\u001b[0;34m(\u001b[0m\u001b[0mp\u001b[0m\u001b[0;34m.\u001b[0m\u001b[0mshare_outputs\u001b[0m\u001b[0;34m(\u001b[0m\u001b[0;34m)\u001b[0m\u001b[0;34m)\u001b[0m\u001b[0;34m\u001b[0m\u001b[0;34m\u001b[0m\u001b[0m\n\u001b[0m\u001b[1;32m    256\u001b[0m         \u001b[0;32mexcept\u001b[0m \u001b[0mStopIteration\u001b[0m \u001b[0;32mas\u001b[0m \u001b[0me\u001b[0m\u001b[0;34m:\u001b[0m\u001b[0;34m\u001b[0m\u001b[0;34m\u001b[0m\u001b[0m\n\u001b[1;32m    257\u001b[0m             \u001b[0;31m# in case ExternalSource returns StopIteration\u001b[0m\u001b[0;34m\u001b[0m\u001b[0;34m\u001b[0m\u001b[0;34m\u001b[0m\u001b[0m\n",
      "\u001b[0;32m~/programy/anaconda3/envs/fastai/lib/python3.8/site-packages/nvidia/dali/pipeline.py\u001b[0m in \u001b[0;36mshare_outputs\u001b[0;34m(self)\u001b[0m\n\u001b[1;32m    860\u001b[0m             \u001b[0mself\u001b[0m\u001b[0;34m.\u001b[0m\u001b[0m_batches_to_consume\u001b[0m \u001b[0;34m-=\u001b[0m \u001b[0;36m1\u001b[0m\u001b[0;34m\u001b[0m\u001b[0;34m\u001b[0m\u001b[0m\n\u001b[1;32m    861\u001b[0m             \u001b[0mself\u001b[0m\u001b[0;34m.\u001b[0m\u001b[0m_gpu_batches_to_consume\u001b[0m \u001b[0;34m-=\u001b[0m \u001b[0;36m1\u001b[0m\u001b[0;34m\u001b[0m\u001b[0;34m\u001b[0m\u001b[0m\n\u001b[0;32m--> 862\u001b[0;31m             \u001b[0;32mreturn\u001b[0m \u001b[0mself\u001b[0m\u001b[0;34m.\u001b[0m\u001b[0m_pipe\u001b[0m\u001b[0;34m.\u001b[0m\u001b[0mShareOutputs\u001b[0m\u001b[0;34m(\u001b[0m\u001b[0;34m)\u001b[0m\u001b[0;34m\u001b[0m\u001b[0;34m\u001b[0m\u001b[0m\n\u001b[0m\u001b[1;32m    863\u001b[0m \u001b[0;34m\u001b[0m\u001b[0m\n\u001b[1;32m    864\u001b[0m     \u001b[0;31m# for the backward compatibility\u001b[0m\u001b[0;34m\u001b[0m\u001b[0;34m\u001b[0m\u001b[0;34m\u001b[0m\u001b[0m\n",
      "\u001b[0;31mRuntimeError\u001b[0m: Critical error in pipeline:\nError when executing Mixed operator decoders__Image encountered:\nError in thread 7: [/opt/dali/dali/operators/decoder/nvjpeg/nvjpeg_decoder_decoupled_api.h:837] NVJPEG error \"5\" : NVJPEG_STATUS_ALLOCATOR_FAILURE 9f38eeeb9d91b3c093c98c37ddfc6914.jpg\nStacktrace (7 entries):\n[frame 0]: /home/slex/programy/anaconda3/envs/fastai/lib/python3.8/site-packages/nvidia/dali/libdali_operators.so(+0x4366fe) [0x7f61dffe06fe]\n[frame 1]: /home/slex/programy/anaconda3/envs/fastai/lib/python3.8/site-packages/nvidia/dali/libdali_operators.so(+0x7de7ff) [0x7f61e03887ff]\n[frame 2]: /home/slex/programy/anaconda3/envs/fastai/lib/python3.8/site-packages/nvidia/dali/libdali_operators.so(+0x7df1c4) [0x7f61e03891c4]\n[frame 3]: /home/slex/programy/anaconda3/envs/fastai/lib/python3.8/site-packages/nvidia/dali/libdali.so(dali::ThreadPool::ThreadMain(int, int, bool)+0x1f0) [0x7f621b263af0]\n[frame 4]: /home/slex/programy/anaconda3/envs/fastai/lib/python3.8/site-packages/nvidia/dali/libdali.so(+0x8ac9df) [0x7f621b9a79df]\n[frame 5]: /lib/x86_64-linux-gnu/libpthread.so.0(+0x9590) [0x7f6237e77590]\n[frame 6]: /lib/x86_64-linux-gnu/libc.so.6(clone+0x43) [0x7f6237d9d223]\n\nCurrent pipeline object is no longer valid."
     ]
    }
   ],
   "source": [
    "%%time\n",
    "batches=0\n",
    "for _ in dali_iter:\n",
    "    batches+=1\n",
    "batches"
   ]
  },
  {
   "cell_type": "code",
   "execution_count": null,
   "id": "intimate-necklace",
   "metadata": {},
   "outputs": [],
   "source": []
  }
 ],
 "metadata": {
  "kernelspec": {
   "display_name": "Python 3.8.5 64-bit ('fastai': conda)",
   "language": "python",
   "name": "python38564bitfastaicondad52d12c5a30a4725bf9d3e235cf1271c"
  },
  "language_info": {
   "codemirror_mode": {
    "name": "ipython",
    "version": 3
   },
   "file_extension": ".py",
   "mimetype": "text/x-python",
   "name": "python",
   "nbconvert_exporter": "python",
   "pygments_lexer": "ipython3",
   "version": "3.8.5"
  }
 },
 "nbformat": 4,
 "nbformat_minor": 5
}
