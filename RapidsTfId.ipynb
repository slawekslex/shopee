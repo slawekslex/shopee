{
 "cells": [
  {
   "cell_type": "code",
   "execution_count": 17,
   "id": "opposite-faculty",
   "metadata": {},
   "outputs": [
    {
     "name": "stdout",
     "output_type": "stream",
     "text": [
      "RAPIDS 0.18.0\n"
     ]
    }
   ],
   "source": [
    "from pathlib import Path\n",
    "\n",
    "import h5py\n",
    "import pandas as pd\n",
    "import numpy as np\n",
    "import functools\n",
    "import cudf, cuml, cupy\n",
    "from cuml.feature_extraction.text import TfidfVectorizer\n",
    "from cuml.neighbors import NearestNeighbors\n",
    "print('RAPIDS',cuml.__version__)"
   ]
  },
  {
   "cell_type": "code",
   "execution_count": 18,
   "id": "recent-upper",
   "metadata": {},
   "outputs": [],
   "source": [
    "PATH = Path('/home/slex/data/shopee')"
   ]
  },
  {
   "cell_type": "code",
   "execution_count": 19,
   "id": "interior-overall",
   "metadata": {},
   "outputs": [],
   "source": [
    "train_df = pd.read_csv(PATH/'train_split.csv')"
   ]
  },
  {
   "cell_type": "code",
   "execution_count": 20,
   "id": "structural-custody",
   "metadata": {},
   "outputs": [
    {
     "name": "stdout",
     "output_type": "stream",
     "text": [
      "valid shape is (6808, 7)\n"
     ]
    },
    {
     "data": {
      "text/html": [
       "<div>\n",
       "<style scoped>\n",
       "    .dataframe tbody tr th:only-of-type {\n",
       "        vertical-align: middle;\n",
       "    }\n",
       "\n",
       "    .dataframe tbody tr th {\n",
       "        vertical-align: top;\n",
       "    }\n",
       "\n",
       "    .dataframe thead th {\n",
       "        text-align: right;\n",
       "    }\n",
       "</style>\n",
       "<table border=\"1\" class=\"dataframe\">\n",
       "  <thead>\n",
       "    <tr style=\"text-align: right;\">\n",
       "      <th></th>\n",
       "      <th>Unnamed: 0</th>\n",
       "      <th>posting_id</th>\n",
       "      <th>image</th>\n",
       "      <th>image_phash</th>\n",
       "      <th>title</th>\n",
       "      <th>label_group</th>\n",
       "      <th>split</th>\n",
       "    </tr>\n",
       "  </thead>\n",
       "  <tbody>\n",
       "    <tr>\n",
       "      <th>6</th>\n",
       "      <td>6</td>\n",
       "      <td>train_1802986387</td>\n",
       "      <td>00144a49c56599d45354a1c28104c039.jpg</td>\n",
       "      <td>f815c9bb833ab4c8</td>\n",
       "      <td>Jubah anak size 1-12 thn</td>\n",
       "      <td>1835033137</td>\n",
       "      <td>0</td>\n",
       "    </tr>\n",
       "    <tr>\n",
       "      <th>7</th>\n",
       "      <td>7</td>\n",
       "      <td>train_1806152124</td>\n",
       "      <td>0014f61389cbaa687a58e38a97b6383d.jpg</td>\n",
       "      <td>eea7e1c0c04da33d</td>\n",
       "      <td>KULOT PLISKET SALUR /CANDY PLISKET /WISH KULOT...</td>\n",
       "      <td>1565741687</td>\n",
       "      <td>0</td>\n",
       "    </tr>\n",
       "    <tr>\n",
       "      <th>19</th>\n",
       "      <td>19</td>\n",
       "      <td>train_2961381387</td>\n",
       "      <td>00303ad1c062fdeaf5f41b9ffb71a5fb.jpg</td>\n",
       "      <td>e48d9b652098efe1</td>\n",
       "      <td>Madame Gie MakeUp Blush On BY GISELL</td>\n",
       "      <td>2098400894</td>\n",
       "      <td>0</td>\n",
       "    </tr>\n",
       "    <tr>\n",
       "      <th>23</th>\n",
       "      <td>23</td>\n",
       "      <td>train_1180155871</td>\n",
       "      <td>00369839c7d94411e54437b7cf59b603.jpg</td>\n",
       "      <td>bbc1c43ec3633ec0</td>\n",
       "      <td>[INCLUDE PAJAK] NCT DREAM RELOAD ALBUM</td>\n",
       "      <td>2224428568</td>\n",
       "      <td>0</td>\n",
       "    </tr>\n",
       "    <tr>\n",
       "      <th>24</th>\n",
       "      <td>24</td>\n",
       "      <td>train_1872347548</td>\n",
       "      <td>003906c6c6bba4cde15e5e854dba8f6d.jpg</td>\n",
       "      <td>f3e18c5ea14493e3</td>\n",
       "      <td>Stand Hanger Multifungsi - Tiang Gantungan Baj...</td>\n",
       "      <td>4044205497</td>\n",
       "      <td>0</td>\n",
       "    </tr>\n",
       "  </tbody>\n",
       "</table>\n",
       "</div>"
      ],
      "text/plain": [
       "    Unnamed: 0        posting_id                                 image  \\\n",
       "6            6  train_1802986387  00144a49c56599d45354a1c28104c039.jpg   \n",
       "7            7  train_1806152124  0014f61389cbaa687a58e38a97b6383d.jpg   \n",
       "19          19  train_2961381387  00303ad1c062fdeaf5f41b9ffb71a5fb.jpg   \n",
       "23          23  train_1180155871  00369839c7d94411e54437b7cf59b603.jpg   \n",
       "24          24  train_1872347548  003906c6c6bba4cde15e5e854dba8f6d.jpg   \n",
       "\n",
       "         image_phash                                              title  \\\n",
       "6   f815c9bb833ab4c8                           Jubah anak size 1-12 thn   \n",
       "7   eea7e1c0c04da33d  KULOT PLISKET SALUR /CANDY PLISKET /WISH KULOT...   \n",
       "19  e48d9b652098efe1               Madame Gie MakeUp Blush On BY GISELL   \n",
       "23  bbc1c43ec3633ec0             [INCLUDE PAJAK] NCT DREAM RELOAD ALBUM   \n",
       "24  f3e18c5ea14493e3  Stand Hanger Multifungsi - Tiang Gantungan Baj...   \n",
       "\n",
       "    label_group  split  \n",
       "6    1835033137      0  \n",
       "7    1565741687      0  \n",
       "19   2098400894      0  \n",
       "23   2224428568      0  \n",
       "24   4044205497      0  "
      ]
     },
     "execution_count": 20,
     "metadata": {},
     "output_type": "execute_result"
    }
   ],
   "source": [
    "train_gf = cudf.read_csv(PATH/'train_split.csv')\n",
    "valid_gf = train_gf[train_gf.split==0]\n",
    "print('valid shape is', valid_gf.shape )\n",
    "valid_gf.head()"
   ]
  },
  {
   "cell_type": "code",
   "execution_count": 21,
   "id": "infinite-protocol",
   "metadata": {},
   "outputs": [],
   "source": [
    "tmp = train_df.groupby('label_group').posting_id.agg('unique').to_dict()\n",
    "train_df['target'] = train_df.label_group.map(tmp)"
   ]
  },
  {
   "cell_type": "code",
   "execution_count": 22,
   "id": "agricultural-mention",
   "metadata": {},
   "outputs": [
    {
     "name": "stdout",
     "output_type": "stream",
     "text": [
      "text embeddings shape is (6808, 9267)\n"
     ]
    }
   ],
   "source": [
    "model = TfidfVectorizer(stop_words='english', binary=True)\n",
    "text_embeddings = model.fit_transform(valid_gf.title).toarray()\n",
    "print('text embeddings shape is',text_embeddings.shape)"
   ]
  },
  {
   "cell_type": "code",
   "execution_count": 23,
   "id": "equipped-tackle",
   "metadata": {},
   "outputs": [],
   "source": [
    "KNN = 50\n",
    "model = NearestNeighbors(n_neighbors=KNN)\n",
    "model.fit(text_embeddings)\n",
    "distances, indices = model.kneighbors(text_embeddings)"
   ]
  },
  {
   "cell_type": "code",
   "execution_count": 24,
   "id": "adequate-costume",
   "metadata": {},
   "outputs": [
    {
     "data": {
      "text/plain": [
       "(6808, 50)"
      ]
     },
     "execution_count": 24,
     "metadata": {},
     "output_type": "execute_result"
    }
   ],
   "source": [
    "distances.shape"
   ]
  },
  {
   "cell_type": "code",
   "execution_count": 25,
   "id": "southern-bathroom",
   "metadata": {},
   "outputs": [],
   "source": [
    "triplets=[]\n",
    "for x in range(len(distances)):\n",
    "    for y, val in zip(indices[x].tolist(), distances[x].tolist()):\n",
    "        if val < 1.2: triplets.append((x,y,val))"
   ]
  },
  {
   "cell_type": "code",
   "execution_count": 26,
   "id": "fitting-holly",
   "metadata": {},
   "outputs": [],
   "source": [
    "triplets =sorted(triplets, key=lambda x: x[2])"
   ]
  },
  {
   "cell_type": "code",
   "execution_count": 27,
   "id": "moderate-tackle",
   "metadata": {},
   "outputs": [],
   "source": [
    "triplets = triplets[:60000]"
   ]
  },
  {
   "cell_type": "code",
   "execution_count": 28,
   "id": "quiet-startup",
   "metadata": {},
   "outputs": [],
   "source": [
    "indices_x = np.array([x[0] for x in triplets])\n",
    "indices_y = np.array([x[1] for x in triplets])\n",
    "vals = np.array([x[2] for x in triplets])"
   ]
  },
  {
   "cell_type": "code",
   "execution_count": 30,
   "id": "diagnostic-interaction",
   "metadata": {},
   "outputs": [],
   "source": [
    "# f = h5py.File(\"tfid_pairs.hdf5\", \"w\")\n",
    "\n",
    "# f.create_dataset('indices_x', data =indices_x)\n",
    "# f.create_dataset('indices_y', data =indices_y)\n",
    "# f.create_dataset('values', data =vals)\n",
    "# f.close()"
   ]
  },
  {
   "cell_type": "code",
   "execution_count": 31,
   "id": "alternate-intervention",
   "metadata": {},
   "outputs": [],
   "source": [
    "def groups(distances, indices, thresh):\n",
    "    pred_groups = []\n",
    "    for dists, inds in zip(distances, indices):\n",
    "        gr=[]\n",
    "        for d, i in zip(dists, inds):\n",
    "            if d <= thresh:\n",
    "                gr.append(i.item())\n",
    "            else:\n",
    "                break\n",
    "        pred_groups.append(gr)\n",
    "    return pred_groups"
   ]
  },
  {
   "cell_type": "code",
   "execution_count": 32,
   "id": "satisfactory-strengthening",
   "metadata": {},
   "outputs": [],
   "source": [
    "def f1score(row, col):\n",
    "    val = row[col]\n",
    "    if type(val)==str:val = eval(val)\n",
    "    n = len( np.intersect1d(row.target,val) )\n",
    "    return 2*n / (len(row.target)+len(val))\n"
   ]
  },
  {
   "cell_type": "code",
   "execution_count": 33,
   "id": "gentle-newsletter",
   "metadata": {},
   "outputs": [
    {
     "data": {
      "text/plain": [
       "2.45593419506463"
      ]
     },
     "execution_count": 33,
     "metadata": {},
     "output_type": "execute_result"
    }
   ],
   "source": [
    "gr = groups(distances, indices, .8)\n",
    "sum([len(g) for g in gr])/ len(gr)"
   ]
  },
  {
   "cell_type": "code",
   "execution_count": 34,
   "id": "exterior-surgeon",
   "metadata": {},
   "outputs": [],
   "source": [
    "matches = [train_df.iloc[g].posting_id.to_list() for g in gr]"
   ]
  },
  {
   "cell_type": "code",
   "execution_count": 263,
   "id": "homeless-guyana",
   "metadata": {},
   "outputs": [],
   "source": [
    "train_df['matches_tfid'] = matches"
   ]
  },
  {
   "cell_type": "code",
   "execution_count": 264,
   "id": "periodic-germany",
   "metadata": {},
   "outputs": [],
   "source": [
    "train_df.to_csv('tfid_pred.csv')"
   ]
  },
  {
   "cell_type": "code",
   "execution_count": 265,
   "id": "associate-pension",
   "metadata": {},
   "outputs": [],
   "source": [
    "image_df = pd.read_csv('resnet_arcface_matches08.csv')"
   ]
  },
  {
   "cell_type": "code",
   "execution_count": 266,
   "id": "wanted-sunset",
   "metadata": {},
   "outputs": [],
   "source": [
    "valid_df = train_df[train_df.split==0].copy()"
   ]
  },
  {
   "cell_type": "code",
   "execution_count": 267,
   "id": "interior-sailing",
   "metadata": {},
   "outputs": [],
   "source": [
    "valid_df['matches_resnet'] = image_df['matches'].to_list()"
   ]
  },
  {
   "cell_type": "code",
   "execution_count": null,
   "id": "collected-search",
   "metadata": {},
   "outputs": [],
   "source": []
  },
  {
   "cell_type": "code",
   "execution_count": 268,
   "id": "progressive-region",
   "metadata": {},
   "outputs": [],
   "source": [
    "def combine(row):\n",
    "    a = eval(row.matches_resnet)\n",
    "    b = row.matches_tfid\n",
    "    return list(set(a+b))"
   ]
  },
  {
   "cell_type": "code",
   "execution_count": 269,
   "id": "modular-delta",
   "metadata": {},
   "outputs": [],
   "source": [
    "valid_df['matches'] = valid_df.apply(combine, axis=1)"
   ]
  },
  {
   "cell_type": "code",
   "execution_count": 270,
   "id": "fantastic-bridal",
   "metadata": {},
   "outputs": [
    {
     "data": {
      "text/plain": [
       "0.7782010767540174"
      ]
     },
     "execution_count": 270,
     "metadata": {},
     "output_type": "execute_result"
    }
   ],
   "source": [
    "valid_df['score']=valid_df.apply(functools.partial(f1score, col='matches'),axis=1)\n",
    "\n",
    "valid_df.score.mean()"
   ]
  },
  {
   "cell_type": "code",
   "execution_count": 271,
   "id": "ruled-curtis",
   "metadata": {},
   "outputs": [
    {
     "data": {
      "text/plain": [
       "0.6149885632935636"
      ]
     },
     "execution_count": 271,
     "metadata": {},
     "output_type": "execute_result"
    }
   ],
   "source": [
    "valid_df['score']=valid_df.apply(functools.partial(f1score, col='matches_tfid'),axis=1)\n",
    "\n",
    "valid_df.score.mean()"
   ]
  },
  {
   "cell_type": "code",
   "execution_count": 272,
   "id": "romantic-drove",
   "metadata": {},
   "outputs": [
    {
     "data": {
      "text/plain": [
       "0.7414798630474688"
      ]
     },
     "execution_count": 272,
     "metadata": {},
     "output_type": "execute_result"
    }
   ],
   "source": [
    "valid_df['score']=valid_df.apply(functools.partial(f1score, col='matches_resnet'),axis=1)\n",
    "\n",
    "valid_df.score.mean()"
   ]
  },
  {
   "cell_type": "code",
   "execution_count": 273,
   "id": "acoustic-thickness",
   "metadata": {},
   "outputs": [
    {
     "data": {
      "text/plain": [
       "5.978995299647473"
      ]
     },
     "execution_count": 273,
     "metadata": {},
     "output_type": "execute_result"
    }
   ],
   "source": [
    "sum([len(g) for g in valid_df.matches])/len(valid_df)"
   ]
  },
  {
   "cell_type": "code",
   "execution_count": null,
   "id": "native-penny",
   "metadata": {},
   "outputs": [],
   "source": []
  }
 ],
 "metadata": {
  "kernelspec": {
   "display_name": "rapids",
   "language": "python",
   "name": "rapids"
  },
  "language_info": {
   "codemirror_mode": {
    "name": "ipython",
    "version": 3
   },
   "file_extension": ".py",
   "mimetype": "text/x-python",
   "name": "python",
   "nbconvert_exporter": "python",
   "pygments_lexer": "ipython3",
   "version": "3.7.10"
  }
 },
 "nbformat": 4,
 "nbformat_minor": 5
}
