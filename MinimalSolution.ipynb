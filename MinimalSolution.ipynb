{
 "cells": [
  {
   "cell_type": "code",
   "execution_count": 31,
   "id": "conservative-bridal",
   "metadata": {},
   "outputs": [],
   "source": [
    "from fastai.vision.all import *\n",
    "import sklearn.feature_extraction.text\n",
    "from transformers import (BertTokenizer, BertModel,\n",
    "                          AutoConfig, AutoModel)\n",
    "import gc\n",
    "import sklearn.feature_extraction.text"
   ]
  },
  {
   "cell_type": "code",
   "execution_count": 32,
   "id": "historical-youth",
   "metadata": {},
   "outputs": [],
   "source": [
    "from shopee_utils import *"
   ]
  },
  {
   "cell_type": "code",
   "execution_count": 33,
   "id": "sixth-classroom",
   "metadata": {},
   "outputs": [],
   "source": [
    "BERT_PATH='bert_indonesian'"
   ]
  },
  {
   "cell_type": "code",
   "execution_count": 34,
   "id": "fixed-community",
   "metadata": {},
   "outputs": [],
   "source": [
    "image_model_file = 'models/resnet18val0.pth'\n",
    "bert_model_file = 'models/bert_indo_val0.pth'"
   ]
  },
  {
   "cell_type": "code",
   "execution_count": 35,
   "id": "polar-musical",
   "metadata": {},
   "outputs": [
    {
     "name": "stderr",
     "output_type": "stream",
     "text": [
      "/home/slex/programy/anaconda3/envs/fastai/lib/python3.8/site-packages/sklearn/model_selection/_split.py:670: UserWarning: The least populated class in y has only 1 members, which is less than n_splits=5.\n",
      "  warnings.warn((\"The least populated class in y has only %d\"\n"
     ]
    }
   ],
   "source": [
    "train_df = pd.read_csv(PATH/'train.csv')\n",
    "train_df = add_splits(train_df)"
   ]
  },
  {
   "cell_type": "markdown",
   "id": "exciting-startup",
   "metadata": {},
   "source": [
    "## Image Model"
   ]
  },
  {
   "cell_type": "code",
   "execution_count": 36,
   "id": "rocky-buddy",
   "metadata": {},
   "outputs": [],
   "source": [
    "class ResnetModel(nn.Module):\n",
    "    def __init__(self):\n",
    "        super().__init__()\n",
    "        self.body = create_body(resnet18, cut=-2, pretrained=False)\n",
    "        self.after_conv=nn.Sequential(\n",
    "            AdaptiveConcatPool2d(),\n",
    "            Flatten(),\n",
    "            nn.BatchNorm1d(1024)\n",
    "        )\n",
    "    def forward(self, x):\n",
    "        x = self.body(x)\n",
    "        return self.after_conv(x)"
   ]
  },
  {
   "cell_type": "code",
   "execution_count": 37,
   "id": "quantitative-azerbaijan",
   "metadata": {},
   "outputs": [],
   "source": [
    "def get_img_file(row):\n",
    "    img =row.image\n",
    "    fn  = PATH/'train_images'/img\n",
    "    if not fn.is_file():\n",
    "        fn = PATH/'test_images'/img\n",
    "    return fn\n",
    "def get_image_dls(size, bs):\n",
    "    data_block = DataBlock(blocks = (ImageBlock(), CategoryBlock(vocab=train_df.label_group.to_list())),\n",
    "                 splitter=ColSplitter(),\n",
    "                 get_y=ColReader('label_group'),\n",
    "                 get_x=get_img_file,\n",
    "                 item_tfms=Resize(int(size*1.5), resamples=(Image.BICUBIC,Image.BICUBIC)),\n",
    "                 #item_tfms=Resize(size, resamples=(Image.BICUBIC,Image.BICUBIC)),\n",
    "                 batch_tfms=aug_transforms(size=size, min_scale=0.75)+[Normalize.from_stats(*imagenet_stats)],\n",
    "                 )\n",
    "    return data_block.dataloaders(train_df, bs=bs)"
   ]
  },
  {
   "cell_type": "code",
   "execution_count": 38,
   "id": "published-sauce",
   "metadata": {},
   "outputs": [],
   "source": [
    "def load_image_model(fname):\n",
    "    state_dict = torch.load(fname)\n",
    "    model = ResnetModel()\n",
    "    model.load_state_dict(state_dict)\n",
    "    model = model.eval().cuda()\n",
    "    return model"
   ]
  },
  {
   "cell_type": "markdown",
   "id": "acting-nomination",
   "metadata": {},
   "source": [
    "## Bert Model"
   ]
  },
  {
   "cell_type": "code",
   "execution_count": 39,
   "id": "german-education",
   "metadata": {},
   "outputs": [],
   "source": [
    "class BertTextModel(nn.Module):\n",
    "    def __init__(self, bert_model):\n",
    "        super().__init__()\n",
    "        self.bert_model = bert_model\n",
    "    def forward(self, x):\n",
    "        output = self.bert_model(*x)\n",
    "        return output.last_hidden_state[:,0,:]"
   ]
  },
  {
   "cell_type": "code",
   "execution_count": 40,
   "id": "sustained-helicopter",
   "metadata": {},
   "outputs": [],
   "source": [
    "#Taken from https://www.kaggle.com/c/shopee-product-matching/discussion/233605#1278984\n",
    "def string_escape(s, encoding='utf-8'):\n",
    "    return s.encode('latin1').decode('unicode-escape').encode('latin1').decode(encoding)\n",
    "\n",
    "class TitleTransform(Transform):\n",
    "    def __init__(self):\n",
    "        super().__init__()\n",
    "        self.tokenizer = BertTokenizer.from_pretrained(BERT_PATH)\n",
    "      \n",
    "    def encodes(self, row):\n",
    "        text = row.title\n",
    "        text=string_escape(text)\n",
    "        encodings = self.tokenizer(text, padding = 'max_length', max_length=100, truncation=True,return_tensors='pt')\n",
    "        keys =['input_ids', 'attention_mask', 'token_type_ids'] \n",
    "        return tuple(encodings[key].squeeze() for key in keys)\n",
    "\n",
    "def get_text_dls():\n",
    "    tfm = TitleTransform()\n",
    "\n",
    "    data_block = DataBlock(\n",
    "        blocks = (TransformBlock(type_tfms=tfm), \n",
    "                  CategoryBlock(vocab=train_df.label_group.to_list())),\n",
    "        splitter=ColSplitter(),\n",
    "        get_y=ColReader('label_group'),\n",
    "        )\n",
    "    return  data_block.dataloaders(train_df, bs=256)"
   ]
  },
  {
   "cell_type": "code",
   "execution_count": 41,
   "id": "orange-mills",
   "metadata": {},
   "outputs": [],
   "source": [
    "def load_bert_model(fname):\n",
    "    model = AutoModel.from_config(AutoConfig.from_pretrained(BERT_PATH))\n",
    "    state = torch.load(fname)\n",
    "    model.load_state_dict(state)\n",
    "    return BertTextModel(model).cuda().eval()"
   ]
  },
  {
   "cell_type": "markdown",
   "id": "organized-desktop",
   "metadata": {},
   "source": [
    "## TFIDF"
   ]
  },
  {
   "cell_type": "code",
   "execution_count": 42,
   "id": "million-shelter",
   "metadata": {},
   "outputs": [],
   "source": [
    "def csr_matrix_to_tensor(csr):\n",
    "    coo = csr.tocoo()\n",
    "    t = torch.sparse_coo_tensor([coo.row, coo.col], coo.data, csr.shape).cuda()\n",
    "    return t\n",
    "\n",
    "def do_chunk_tfidf(embs):\n",
    "    step = 5000\n",
    "    for chunk_start in range(0, embs.shape[0], step):\n",
    "        chunk_end = min(chunk_start+step, embs.shape[0])\n",
    "        chunk = embs[chunk_start:chunk_end]\n",
    "        chunk = csr_matrix_to_tensor(chunk).to_dense()\n",
    "        yield chunk\n",
    "        \n",
    "def get_tfid_embs(data, idxs):\n",
    "    sk_model = sklearn.feature_extraction.text.TfidfVectorizer(stop_words='english', binary=True, max_features=25_000)\n",
    "    text_embeddings =sk_model.fit_transform(data.title)\n",
    "    text_embeddings =text_embeddings[idxs]\n",
    "    return text_embeddings  \n",
    "\n",
    "def tfidf_get_dist_for_inds(embs, inds):\n",
    "    step=1000\n",
    "    dists = []\n",
    "    for chunk_start in range(0, len(inds), step):\n",
    "        chunk_end = min(chunk_start+step, len(inds))\n",
    "        A = embs[chunk_start: chunk_end]\n",
    "        A = csr_matrix_to_tensor(A).to_dense()\n",
    "        A = A[:,:,None]\n",
    "        B = embs[inds[chunk_start:chunk_end].cpu()]\n",
    "        B = csr_matrix_to_tensor(B).to_dense()\n",
    "        D = torch.matmul(B,A)\n",
    "        dists.append(D.squeeze())\n",
    "    dists = torch.cat(dists)\n",
    "    return dists"
   ]
  },
  {
   "cell_type": "markdown",
   "id": "introductory-supplement",
   "metadata": {},
   "source": [
    "## Helper functions"
   ]
  },
  {
   "cell_type": "markdown",
   "id": "individual-serbia",
   "metadata": {},
   "source": [
    "## Test on Validation set"
   ]
  },
  {
   "cell_type": "code",
   "execution_count": 43,
   "id": "neither-fifty",
   "metadata": {},
   "outputs": [
    {
     "data": {
      "application/vnd.jupyter.widget-view+json": {
       "model_id": "894e044dcfea4d77acb67ef94b02646e",
       "version_major": 2,
       "version_minor": 0
      },
      "text/plain": [
       "  0%|          | 0/27 [00:00<?, ?it/s]"
      ]
     },
     "metadata": {},
     "output_type": "display_data"
    }
   ],
   "source": [
    "img_embs,ys = embs_from_model(load_image_model(image_model_file), get_image_dls(224,256).valid)"
   ]
  },
  {
   "cell_type": "code",
   "execution_count": 44,
   "id": "mysterious-entity",
   "metadata": {},
   "outputs": [
    {
     "data": {
      "application/vnd.jupyter.widget-view+json": {
       "model_id": "ee7a106688804ef8906845f919ff420e",
       "version_major": 2,
       "version_minor": 0
      },
      "text/plain": [
       "  0%|          | 0/27 [00:00<?, ?it/s]"
      ]
     },
     "metadata": {},
     "output_type": "display_data"
    }
   ],
   "source": [
    "bert_embs, ys = embs_from_model(load_bert_model(bert_model_file), get_text_dls().valid)"
   ]
  },
  {
   "cell_type": "code",
   "execution_count": 45,
   "id": "buried-rover",
   "metadata": {},
   "outputs": [],
   "source": [
    "#tfid_embs=  get_tfid_embs(train_df, train_df[train_df.is_valid].index.tolist())"
   ]
  },
  {
   "cell_type": "code",
   "execution_count": 46,
   "id": "separated-cornwall",
   "metadata": {},
   "outputs": [],
   "source": [
    "#tfid_dists, tfid_inds = get_nearest(csr_matrix_to_tensor(tfid_embs), do_chunk_text(tfid_embs))"
   ]
  },
  {
   "cell_type": "code",
   "execution_count": 47,
   "id": "nearby-custody",
   "metadata": {},
   "outputs": [],
   "source": [
    "img_dists, img_inds = get_nearest(img_embs, do_chunk(img_embs))\n",
    "bert_dists, bert_inds = get_nearest(bert_embs, do_chunk(bert_embs))"
   ]
  },
  {
   "cell_type": "code",
   "execution_count": 48,
   "id": "charming-specification",
   "metadata": {},
   "outputs": [
    {
     "data": {
      "text/plain": [
       "torch.Size([6852, 100])"
      ]
     },
     "execution_count": 48,
     "metadata": {},
     "output_type": "execute_result"
    }
   ],
   "source": [
    "combined_inds = torch.cat([img_inds, bert_inds], dim=1)\n",
    "combined_inds.shape"
   ]
  },
  {
   "cell_type": "code",
   "execution_count": 49,
   "id": "palestinian-faculty",
   "metadata": {},
   "outputs": [],
   "source": [
    "img_dists = get_dist_for_inds(img_embs, combined_inds)\n",
    "bert_dists = get_dist_for_inds(bert_embs, combined_inds)"
   ]
  },
  {
   "cell_type": "code",
   "execution_count": 50,
   "id": "uniform-department",
   "metadata": {},
   "outputs": [],
   "source": [
    "combined_dists = img_dists+bert_dists - img_dists*bert_dists"
   ]
  },
  {
   "cell_type": "code",
   "execution_count": 51,
   "id": "accomplished-stocks",
   "metadata": {},
   "outputs": [],
   "source": [
    "set_size = len(img_embs)\n",
    "target_matrix= ys[:,None]==ys[None,:]\n",
    "targets = [torch.where(t)[0].tolist() for t in target_matrix] "
   ]
  },
  {
   "cell_type": "code",
   "execution_count": 52,
   "id": "buried-prisoner",
   "metadata": {},
   "outputs": [
    {
     "name": "stdout",
     "output_type": "stream",
     "text": [
      "0.883 at 5.936952590942383 pairs or 0.766 threshold\n"
     ]
    },
    {
     "data": {
      "image/png": "[encoded data removed]",
      "text/plain": [
       "<Figure size 432x288 with 1 Axes>"
      ]
     },
     "metadata": {
      "needs_background": "light"
     },
     "output_type": "display_data"
    }
   ],
   "source": [
    "pairs = sorted_pairs(combined_dists, combined_inds)\n",
    "\n",
    "_=build_from_pairs(pairs[:10*set_size], targets)"
   ]
  },
  {
   "cell_type": "code",
   "execution_count": 53,
   "id": "ignored-computer",
   "metadata": {},
   "outputs": [],
   "source": [
    "groups = [[] for _ in range(set_size)]\n",
    "for x,y,v in pairs[:int(5.958*set_size)]:\n",
    "    groups[x].append(y)"
   ]
  },
  {
   "cell_type": "code",
   "execution_count": 54,
   "id": "labeled-white",
   "metadata": {},
   "outputs": [
    {
     "data": {
      "image/png": "[encoded data removed]",
      "text/plain": [
       "<Figure size 576x576 with 1 Axes>"
      ]
     },
     "metadata": {
      "needs_background": "light"
     },
     "output_type": "display_data"
    }
   ],
   "source": [
    "show_groups(groups, targets)"
   ]
  },
  {
   "cell_type": "code",
   "execution_count": 55,
   "id": "periodic-corrections",
   "metadata": {},
   "outputs": [],
   "source": [
    "def edges_to_groups(edges, N):\n",
    "    groups = [[] for i in range(N)]\n",
    "    groups_p = [[] for _ in range(N)]\n",
    "    for x,y,v in edges:\n",
    "        if len(groups[x])>=51 or x==y: continue\n",
    "        #if len(groups[x])>=51: continue\n",
    "        groups[x].append(y)\n",
    "        groups_p[x].append(v)\n",
    "    return groups, groups_p"
   ]
  },
  {
   "cell_type": "code",
   "execution_count": 56,
   "id": "complete-leeds",
   "metadata": {},
   "outputs": [
    {
     "data": {
      "image/png": "[encoded data removed]",
      "text/plain": [
       "<Figure size 576x576 with 1 Axes>"
      ]
     },
     "metadata": {
      "needs_background": "light"
     },
     "output_type": "display_data"
    }
   ],
   "source": [
    "groups, groups_p = edges_to_groups(pairs, set_size)\n",
    "\n",
    "#\n",
    "for pos, size_pct in get_targets_shape(train_df):\n",
    "    chisel(groups, groups_p, pos-1, int(size_pct * len(groups)))\n",
    "    \n",
    "groups = [g+[i] for i,g in enumerate(groups)]\n",
    "show_groups(groups, targets)"
   ]
  },
  {
   "cell_type": "code",
   "execution_count": 62,
   "id": "norman-chapter",
   "metadata": {},
   "outputs": [],
   "source": [
    "def top3(i):\n",
    "    return torch.tensor([i]+groups[i][:2])\n",
    "\n",
    "def trip_score(i):\n",
    "    second = groups[i][0]\n",
    "#     trip1 = top3(i)\n",
    "#     trip2 = top3(second)\n",
    "#     p1 = D[trip1[:,None], trip1[None,:]].min()\n",
    "#     p2 = D[trip2[:,None], trip2[None,:]].min()\n",
    "#     return p1+p2-p1*p2\n",
    "\n",
    "    p1 = groups_p[i][1]\n",
    "    if groups[second][0] == i:\n",
    "        p2 = groups_p[second][1]\n",
    "    else:\n",
    "        p2= groups_p[second][0]\n",
    "    return p1+p2-p1*p2\n",
    "\n",
    "def chisel2(groups, groups_p, target_count):\n",
    "    ts = torch.tensor([trip_score(i) for i in range(set_size)])\n",
    "    _, cands = (-ts.cuda()).topk(target_count)\n",
    "    found = 0\n",
    "    for i in cands.tolist():\n",
    "        if len(groups[i]) <= 1: continue\n",
    "        groups[i]=groups[i][:1]\n",
    "        groups_p[i]=groups_p[i][:1]\n",
    "        found +=1\n",
    "        second = groups[i][0]\n",
    "        if len(groups[second]) > 1:\n",
    "            groups[second]=groups[second][:1]\n",
    "            groups_p[second]=groups_p[second][:1]\n",
    "            found +=1\n",
    "        if found >= target_count: break"
   ]
  },
  {
   "cell_type": "code",
   "execution_count": 63,
   "id": "isolated-westminster",
   "metadata": {},
   "outputs": [],
   "source": [
    "groups, groups_p = edges_to_groups(pairs, set_size)\n"
   ]
  },
  {
   "cell_type": "code",
   "execution_count": 64,
   "id": "popular-martial",
   "metadata": {},
   "outputs": [],
   "source": [
    "\n",
    "for pos, size_pct in get_targets_shape(train_df):\n",
    "    if pos==2: \n",
    "        chisel2(groups, groups_p, int(size_pct * len(groups)))\n",
    "    else:\n",
    "        chisel(groups, groups_p, pos-1, int(size_pct * len(groups)))"
   ]
  },
  {
   "cell_type": "code",
   "execution_count": 65,
   "id": "mediterranean-incentive",
   "metadata": {},
   "outputs": [
    {
     "data": {
      "image/png": "[encoded data removed]",
      "text/plain": [
       "<Figure size 576x576 with 1 Axes>"
      ]
     },
     "metadata": {
      "needs_background": "light"
     },
     "output_type": "display_data"
    }
   ],
   "source": [
    "groups = [g+[i] for i,g in enumerate(groups)]\n",
    "show_groups(groups, targets)"
   ]
  },
  {
   "cell_type": "code",
   "execution_count": 270,
   "id": "still-retail",
   "metadata": {},
   "outputs": [
    {
     "data": {
      "text/plain": [
       "2683"
      ]
     },
     "execution_count": 270,
     "metadata": {},
     "output_type": "execute_result"
    }
   ],
   "source": [
    "len(list(filter(lambda g:len(g)==2, groups)))"
   ]
  },
  {
   "cell_type": "code",
   "execution_count": 229,
   "id": "failing-sessions",
   "metadata": {},
   "outputs": [
    {
     "data": {
      "text/plain": [
       "(2431, 361)"
      ]
     },
     "execution_count": 229,
     "metadata": {},
     "output_type": "execute_result"
    }
   ],
   "source": [
    "match, mismatch=0,0\n",
    "for x in used:\n",
    "    if len(targets[x])==2: match+=1\n",
    "    else: mismatch +=1\n",
    "match, mismatch"
   ]
  },
  {
   "cell_type": "code",
   "execution_count": null,
   "id": "floating-knitting",
   "metadata": {},
   "outputs": [],
   "source": [
    "a.index"
   ]
  },
  {
   "cell_type": "code",
   "execution_count": 112,
   "id": "modified-question",
   "metadata": {},
   "outputs": [
    {
     "data": {
      "text/plain": [
       "0.8660458452722063"
      ]
     },
     "execution_count": 112,
     "metadata": {},
     "output_type": "execute_result"
    }
   ],
   "source": [
    "ranks=[]\n",
    "reciprocal=0\n",
    "for i in range(set_size):\n",
    "    if len(targets[i])!=2: continue\n",
    "    second = targets[i][0] if targets[i][1]==i else targets[i][1]\n",
    "    try:\n",
    "        r = groups[i].index(second)\n",
    "    except:\n",
    "        r=51\n",
    "    if r==0 and groups[second][0]==i: reciprocal+=1\n",
    "    ranks.append(r)\n",
    "reciprocal / len(ranks)"
   ]
  },
  {
   "cell_type": "code",
   "execution_count": 109,
   "id": "detailed-phone",
   "metadata": {},
   "outputs": [
    {
     "data": {
      "text/plain": [
       "0.8946991404011462"
      ]
     },
     "execution_count": 109,
     "metadata": {},
     "output_type": "execute_result"
    }
   ],
   "source": [
    "ranks.count(0)/len(ranks)"
   ]
  },
  {
   "cell_type": "code",
   "execution_count": 33,
   "id": "anticipated-suffering",
   "metadata": {},
   "outputs": [
    {
     "name": "stdout",
     "output_type": "stream",
     "text": [
      "mismatch [39, 4243] [4243, 39, 863] [39, 863, 4243]\n",
      "mismatch [42, 2773] [2773, 6560, 6561, 6558, 6559, 6557, 4913, 4795, 5676, 4080, 1300, 4384, 615, 5115, 3739, 2549, 3315, 5956, 2742, 1219, 1666, 2498, 2744] [42, 3739]\n",
      "mismatch [45, 4786] [4786, 625] [45, 4786]\n",
      "mismatch [57, 3561] [3561, 57, 6580] [57, 3561, 6580]\n",
      "mismatch [61, 6716] [6716, 3975, 4605, 4606, 4607, 61] [61, 5649]\n",
      "mismatch [71, 2052] [2052, 4987, 3018, 4988, 3626, 3278, 4050, 71, 3887, 3280, 3279, 4614, 5831, 5760, 5627, 857] [71, 2052, 5831]\n",
      "mismatch [101, 3703] [3703, 5099, 1043, 1690, 5212] [101, 1043, 2490, 3022, 5099, 5212, 5757, 5967]\n",
      "mismatch [109, 3546] [3546, 109, 283, 2128, 1023] [109, 283, 1023, 2128, 3546]\n",
      "mismatch [779, 111] [779, 111, 310] [111, 310, 779]\n",
      "mismatch [126, 462] [462, 2085] [126, 462, 1849, 1985, 2085, 4147, 4976]\n",
      "mismatch [131, 6117] [6117, 3096, 131] [131, 3096, 6117]\n",
      "mismatch [150, 4557] [4557, 373] [150, 4557]\n",
      "mismatch [162, 4440] [4440, 162, 4038] [162, 4440]\n",
      "mismatch [192, 3012] [3012, 3013] [192, 402, 734, 2663, 3012, 3013, 3114, 6025]\n",
      "mismatch [206, 3238] [3238, 4678] [206, 3238]\n",
      "mismatch [224, 4762] [4762, 3436] [224, 4762]\n",
      "mismatch [231, 2212] [2212, 3252, 5674, 5843, 1265, 2302, 1768, 1576, 3829, 5073, 649, 1419, 2904, 169, 3828, 3995, 3855, 5268, 631, 632, 542, 5353, 5042, 5271, 5043, 1982, 4550, 4937, 6410, 298, 5842, 2624, 6271, 299, 5093, 5872, 6306, 2154, 231, 2794, 3439, 1084, 3974, 6176, 1032, 910, 2108, 1286, 5385, 3979, 4331] [231, 4537]\n",
      "mismatch [233, 3204] [3204, 3878] [233, 3204, 3878]\n",
      "mismatch [253, 6458] [6458, 3266] [253, 6458]\n",
      "mismatch [259, 3717] [3717, 3115] [259, 3115, 3717]\n",
      "mismatch [294, 1835] [1835, 294, 1569] [294, 1835]\n",
      "mismatch [305, 2527] [2527, 792, 3618, 5915, 3075, 3852, 6367] [305, 792, 2527, 2592, 3075, 3618, 3852, 5915, 6367]\n",
      "mismatch [306, 1569] [1569, 306, 1835] [306, 1569]\n",
      "mismatch [309, 1849] [1849, 3069] [309, 3452]\n",
      "mismatch [310, 779] [779, 111, 310] [111, 310, 779]\n",
      "mismatch [340, 198] [198, 1726, 3586, 5610, 1101, 4600] [340, 818, 1337]\n",
      "mismatch [373, 5718] [5718, 4286] [373, 1541, 1542, 1974, 2153, 2362, 3380, 3971, 4197, 4836, 5210, 5693, 5718]\n",
      "mismatch [390, 715] [715, 390, 976] [390, 715, 976, 3797]\n",
      "mismatch [411, 3784] [3784, 411, 614] [411, 614, 3784]\n",
      "mismatch [422, 2579] [2579, 2633] [422, 2579, 2633]\n",
      "mismatch [462, 2085] [2085, 3452] [126, 462, 1849, 1985, 2085, 4147, 4976]\n",
      "mismatch [500, 4786] [4786, 625] [500, 5909]\n",
      "mismatch [520, 5618] [5618, 4061] [520, 5388]\n",
      "mismatch [525, 3291] [3291, 6093, 5730] [525, 3166]\n",
      "mismatch [526, 3126] [3126, 3608, 6291] [526, 5264]\n",
      "mismatch [547, 1631] [1631, 547, 3171] [547, 1631]\n",
      "mismatch [561, 4771] [4771, 5887] [561, 4771]\n",
      "mismatch [597, 4663] [4663, 5076, 5077, 2576, 2575, 3359, 3388, 6766, 6441, 3495, 6195] [597, 2013]\n",
      "mismatch [598, 2937] [2937, 4892, 3906, 4746, 236, 3807, 943] [236, 598, 943, 2937, 3807, 3906, 4746, 4892]\n",
      "mismatch [611, 5756] [5756, 274] [274, 611, 2982, 5756]\n",
      "mismatch [613, 6301] [6301, 5696, 1188] [613, 6301]\n",
      "mismatch [614, 3784] [3784, 411, 614] [411, 614, 3784]\n",
      "mismatch [622, 2614] [2614, 2337] [622, 1947, 2614]\n",
      "mismatch [628, 3627] [3627, 203, 6364] [203, 628, 3161, 3627, 6364]\n",
      "mismatch [694, 693] [694, 693, 905, 1647, 904] [693, 694, 1647]\n",
      "mismatch [707, 1196] [1196, 707, 5399, 4963] [707, 1196, 4963]\n",
      "mismatch [714, 3740] [3740, 714, 4114, 6146] [714, 3740]\n",
      "mismatch [730, 4379] [4379, 5893] [730, 2352]\n",
      "mismatch [743, 3196] [3196, 4776, 6204, 743, 3849, 2998, 4959, 4590, 2799] [581, 582, 743, 1176, 1634, 2665, 2799, 2886, 3028, 3196, 3240, 3241, 3399, 4776, 4959, 5463, 5691, 5826, 5892, 5917, 5997, 6204]\n",
      "mismatch [756, 5239] [5239, 756, 3426] [756, 3426, 5239]\n",
      "mismatch [758, 1041] [1041, 1040, 994, 6721] [758, 6420]\n",
      "mismatch [778, 2309] [2309, 1435, 1434, 1110, 778] [778, 1110, 1434, 1435, 2309]\n",
      "mismatch [780, 6011] [6011, 2613, 3667] [780, 1302, 2613, 3667, 3736, 6011]\n",
      "mismatch [803, 79] [79, 6830] [803, 2932]\n",
      "mismatch [804, 6323] [6323, 4652, 1851, 5256, 856, 5867, 4615, 4625] [804, 1851, 4625, 4652, 5256, 5867, 6323, 6840]\n",
      "mismatch [805, 3169] [3169, 1632] [805, 2807]\n",
      "mismatch [816, 6184] [6184, 371] [371, 816, 2070, 6184]\n",
      "mismatch [863, 4243] [4243, 39, 863] [39, 863, 4243]\n",
      "mismatch [864, 3731] [3731, 2138, 5343, 2043, 2712, 5804, 5342, 2044, 3505, 5341, 1382, 6767, 4417, 5401] [864, 6815]\n",
      "mismatch [872, 3646] [3646, 4220, 872] [872, 3646, 4220]\n",
      "mismatch [889, 4572] [4572, 1614, 2163] [889, 2897]\n",
      "mismatch [896, 2913] [2913, 896, 5703] [896, 2913]\n",
      "mismatch [898, 5353] [649, 632, 5353, 631, 5073, 5043, 1419, 5042, 2904, 2624, 169, 542, 1265, 1982, 3252, 2212, 298, 299, 1576, 5843, 3828, 3829, 2302, 1768, 3995, 5268, 5271, 5842, 5674, 5872, 4550, 4937, 3855, 6271, 6410, 5093] [898, 4031]\n",
      "mismatch [908, 5894] [5894, 6585, 280, 3428, 4634, 2223, 1691, 4178] [908, 5894]\n",
      "mismatch [925, 2210] [2210, 148, 3390, 2860] [822, 852, 925, 1751, 3446, 4594, 5781]\n",
      "mismatch [927, 4182] [4182, 2499, 832, 4664] [78, 284, 285, 927, 991, 4849, 4850, 6610, 6611]\n",
      "mismatch [944, 5819] [5819, 744, 365, 5745, 944] [944, 4171]\n",
      "mismatch [945, 2326] [2326, 5005, 5004] [945, 4708]\n",
      "mismatch [958, 3465] [3465, 3218] [958, 3721]\n",
      "mismatch [976, 715] [715, 390, 976] [390, 715, 976, 3797]\n",
      "mismatch [1002, 4020] [4020, 1002, 4500, 2715] [1002, 2715, 4020, 4500]\n",
      "mismatch [1012, 5533] [5533, 1012, 3385] [1012, 5533]\n",
      "mismatch [1025, 4409] [6202, 5338, 5337, 1336, 1834, 4409, 510, 1778, 3791, 1772, 2331, 528, 3225, 3345, 3329, 3328, 4469, 6256, 672, 2289, 3235, 1486, 1399, 6381, 3198, 2025, 6459, 5771, 841, 3541, 1025, 117, 3236] [117, 510, 528, 672, 841, 1025, 1336, 1399, 1486, 1772, 1778, 1834, 2025, 2289, 2331, 3198, 3225, 3235, 3236, 3328, 3329, 3345, 3541, 3791, 4409, 4469, 5337, 5338, 5771, 6202, 6256, 6381, 6459]\n",
      "mismatch [1027, 1001] [1001, 2615, 1027] [1001, 1027]\n",
      "mismatch [1098, 1036] [1036, 1098, 1136] [1036, 1098]\n",
      "mismatch [1100, 5870] [5870, 1100, 5743] [1100, 5743, 5870]\n",
      "mismatch [1107, 2633] [2633, 2579, 3873] [1107, 5502]\n",
      "mismatch [1126, 1129] [1128, 1131, 1129, 1130, 2821, 6257, 673, 1757, 3658, 4492, 5772, 4727, 3578, 6685, 1154] [1126, 1913]\n",
      "mismatch [1127, 2369] [2369, 1127, 3539, 3145] [1127, 2369]\n",
      "mismatch [1134, 5037] [5037, 1134, 5022, 3307] [1134, 5037]\n",
      "mismatch [1136, 1036] [1036, 1098, 1136] [1136, 1446, 2847]\n",
      "mismatch [1145, 447] [447, 1388, 1145] [447, 1145]\n",
      "mismatch [1149, 5734] [5734, 1149, 5636] [1149, 5734]\n",
      "mismatch [4742, 1161] [4742, 1161, 1881, 2222] [1161, 4742]\n",
      "mismatch [1168, 5756] [5756, 274] [82, 511, 1168, 1784, 2627, 3876, 4278, 4711, 5814, 6022]\n",
      "mismatch [1206, 5510] [5510, 1888] [1206, 5510]\n",
      "mismatch [1222, 1464] [1464, 1222, 2688] [1222, 1464]\n",
      "mismatch [1235, 5815] [5815, 1235, 6523] [1235, 5815]\n",
      "mismatch [1243, 4358] [4358, 1830, 2843] [1243, 1830, 2843, 4358]\n",
      "mismatch [1290, 6608] [6608, 3999, 6567, 1793, 1290] [1290, 1793, 3999, 6567, 6608]\n",
      "mismatch [1293, 6268] [6268, 6317] [1293, 6268]\n",
      "mismatch [1299, 2418] [2418, 2379, 1345, 404, 3730, 6737, 6203, 3672, 1244, 983, 6512, 6511, 2708, 2187, 1769, 3037, 821, 2230, 2382, 6424, 2574, 5070, 4906, 523, 2398, 1119, 6368, 1378, 1212, 1922, 644, 6157, 3449, 6353, 5010, 6508, 3816, 6594, 2968, 6097, 2686, 222, 5120, 1766, 5466, 4450, 1005, 829, 3524, 1299, 4823] [222, 404, 523, 644, 821, 829, 983, 1005, 1119, 1212, 1244, 1299, 1345, 1378, 1766, 1769, 1922, 2187, 2230, 2379, 2382, 2398, 2418, 2574, 2686, 2708, 2968, 3037, 3449, 3524, 3672, 3730, 3816, 4450, 4823, 4906, 5010, 5070, 5120, 5466, 6097, 6157, 6203, 6353, 6368, 6424, 6508, 6511, 6512, 6594, 6737]\n",
      "mismatch [1309, 5322] [5322, 4792] [1309, 3529]\n",
      "mismatch [1317, 3177] [3177, 2902, 2984, 6082, 2985, 5074] [1317, 1499, 2728]\n",
      "mismatch [1364, 795] [795, 1364, 6372] [795, 1364, 6372]\n",
      "mismatch [1377, 4215] [4214, 4215, 3805, 3733, 6154] [1377, 3733, 3805, 4214, 4215, 6154]\n",
      "mismatch [1401, 820] [820, 5292, 1401, 3017] [820, 1401]\n",
      "mismatch [1403, 3355] [3355, 1463, 1403] [1403, 1509, 2242, 2320]\n",
      "mismatch [1405, 5421] [5421, 302, 2961, 4491, 1488, 3295, 1284, 4791, 2815] [1351, 1352, 1405, 4208]\n",
      "mismatch [1439, 6443] [6443, 4025] [1439, 5776]\n",
      "mismatch [1447, 2131] [2131, 6538] [1447, 1844, 2124]\n",
      "mismatch [1448, 1041] [1041, 1040, 994, 6721] [1448, 1699, 1700]\n",
      "mismatch [1449, 162] [162, 4440] [1449, 4038]\n",
      "mismatch [1463, 3355] [3355, 1463, 1403] [1463, 3355]\n",
      "mismatch [1478, 5628] [5628, 1478, 5671, 6602, 5962, 6715] [1478, 5628]\n",
      "mismatch [1484, 3473] [3473, 1484, 6067, 6622] [1484, 3473]\n",
      "mismatch [1497, 3172] [3172, 4637, 2529, 1497] [1497, 3172]\n",
      "mismatch [1499, 396] [396, 3299, 1754, 563, 936] [1317, 1499, 2728]\n",
      "mismatch [1514, 1731] [1731, 4209] [1514, 1731]\n",
      "mismatch [1531, 819] [819, 5126] [1531, 3470]\n",
      "mismatch [1532, 538] [538, 1532, 596, 3867, 595, 6572] [538, 595, 596, 1532, 3867, 6572]\n",
      "mismatch [1560, 4177] [4177, 4756] [1560, 2901]\n",
      "mismatch [1571, 5126] [5126, 819] [1571, 6582]\n",
      "mismatch [1588, 710] [710, 3631, 3330] [1588, 6785]\n",
      "mismatch [1599, 629] [629, 123] [1599, 5180, 6704]\n",
      "mismatch [1608, 5663] [5663, 827, 260] [260, 827, 1608, 5663]\n",
      "mismatch [1622, 6554] [6554, 3507] [1622, 4668]\n",
      "mismatch [1636, 2035] [2035, 2243] [1636, 2035]\n",
      "mismatch [1660, 1139] [1139, 4965] [1660, 6024]\n",
      "mismatch [1682, 6588] [6588, 6589, 4798, 421] [421, 789, 1077, 1682, 2558, 3758, 4798, 5319, 5482, 6570, 6588, 6589]\n",
      "mismatch [1684, 3264] [3264, 5836, 1684, 1689] [177, 1684, 1689, 3264, 5836]\n",
      "mismatch [1692, 3113] [3113, 3694, 1692] [1692, 3113, 3694]\n",
      "mismatch [1731, 4209] [4209, 3377] [1514, 1731]\n",
      "mismatch [1750, 3621] [1344, 3621, 3620, 3931, 1750] [1344, 1750, 3620, 3621, 3931]\n",
      "mismatch [1762, 2058] [2058, 5962, 3477, 1242, 3896, 6715, 2565, 2564, 3937, 1195, 3875, 5628] [1762, 3875]\n",
      "mismatch [1767, 4347] [4347, 1767, 4291] [1767, 4291, 4347]\n",
      "mismatch [1785, 6569] [6569, 2409, 2652, 3356, 6119, 5838, 2649, 2650, 1785] [1785, 6457]\n",
      "mismatch [1836, 6032] [6032, 1836, 3499] [1836, 6032]\n",
      "mismatch [1838, 4748] [4747, 4748, 5009] [1109, 1838, 4747, 4748, 5009, 6169]\n",
      "mismatch [1844, 1163] [1163, 5568, 5570, 5569, 2855, 2425, 3111, 4397] [1447, 1844, 2124]\n",
      "mismatch [1849, 3069] [3069, 2381, 3452] [126, 462, 1849, 1985, 2085, 4147, 4976]\n",
      "mismatch [1877, 3638] [3638, 484] [1877, 4639]\n",
      "mismatch [1894, 2022] [2022, 5191, 1894] [1894, 2022, 5191]\n",
      "mismatch [1913, 1126] [1126, 1129] [1126, 1913]\n",
      "mismatch [1919, 3873] [3873, 2633, 1919] [1919, 3873]\n",
      "mismatch [1939, 1987] [1987, 2033] [1939, 1987]\n",
      "mismatch [1947, 5585] [5585, 6549, 6548, 6552, 6551, 6550, 4510, 933, 934, 3394, 935, 3395, 740, 738, 739, 5787, 2127, 1391, 1539, 2246] [622, 1947, 2614]\n",
      "mismatch [1974, 5693] [5693, 4836] [373, 1541, 1542, 1974, 2153, 2362, 3380, 3971, 4197, 4836, 5210, 5693, 5718]\n",
      "mismatch [1984, 1202] [1202, 1984, 1360] [1202, 1984]\n",
      "mismatch [1987, 2033] [2033, 1817] [1939, 1987]\n",
      "mismatch [2002, 856] [856, 4652, 4615, 6323, 1851] [636, 2002]\n",
      "mismatch [2013, 264] [264, 1596] [597, 2013]\n",
      "mismatch [2016, 5876] [5876, 1570] [2016, 4000]\n",
      "mismatch [2019, 3905] [3905, 5954, 1208] [2019, 3905]\n",
      "mismatch [2026, 200] [200, 2026, 4540] [200, 2026]\n",
      "mismatch [2027, 4213] [4212, 4213, 1106, 4052, 2027] [2027, 2530, 3987]\n",
      "mismatch [2035, 2243] [2243, 1680] [1636, 2035]\n",
      "mismatch [2039, 5313] [5313, 2039, 3446] [2039, 5313]\n",
      "mismatch [2070, 371] [371, 6184] [371, 816, 2070, 6184]\n",
      "mismatch [2081, 6523] [6523, 4445, 5815] [2081, 6486]\n",
      "mismatch [2083, 1876] [1876, 2083, 4893] [1876, 2083, 4893]\n",
      "mismatch [2085, 3452] [3452, 3069, 2085] [126, 462, 1849, 1985, 2085, 4147, 4976]\n",
      "mismatch [2124, 5399] [5399, 1196, 5409] [1447, 1844, 2124]\n",
      "mismatch [2180, 6109] [6109, 2180, 3836] [2180, 3836, 5441, 6109]\n",
      "mismatch [2190, 6728] [6728, 2781, 4499, 2190] [2190, 2781, 3358, 4499, 6728]\n",
      "mismatch [2199, 3171] [3171, 1631, 2199] [2199, 3171]\n",
      "mismatch [2202, 6522] [6522, 5916] [2202, 5916, 6522]\n",
      "mismatch [2215, 1543] [1543, 3818] [2215, 4679]\n",
      "mismatch [2218, 474] [474, 2218, 3647, 5645] [474, 2218]\n",
      "mismatch [2233, 4170] [4170, 2233, 3348, 1865] [1865, 2233, 3348, 4170]\n",
      "mismatch [2243, 1680] [1679, 1680, 6789, 4813, 5121] [1674, 2243, 3766]\n",
      "mismatch [2286, 5236] [5236, 5521] [2286, 5236]\n",
      "mismatch [2299, 4120] [4120, 3005, 3004, 6338, 6151, 6152, 662, 2299, 661] [661, 662, 2299, 3004, 3005, 4120, 6151, 6152, 6338]\n",
      "mismatch [2305, 5934] [5934, 6162, 2518] [2305, 6162]\n",
      "mismatch [2306, 2502] [2502, 2739] [2306, 2502]\n",
      "mismatch [2320, 4532] [4532, 6111, 3213] [1403, 1509, 2242, 2320]\n",
      "mismatch [2334, 1512] [1512, 5753, 4972, 2334] [1512, 2334, 3303, 4972, 5753]\n",
      "mismatch [2352, 1684] [1684, 3264] [730, 2352]\n",
      "mismatch [2362, 5279] [5279, 1180] [373, 1541, 1542, 1974, 2153, 2362, 3380, 3971, 4197, 4836, 5210, 5693, 5718]\n",
      "mismatch [2367, 2042] [2042, 3678, 453, 1962, 3909, 6796] [453, 1962, 2042, 2367, 3678, 3909, 6796]\n",
      "mismatch [2371, 3176] [3175, 3176, 5598, 1259, 3900] [2371, 3986]\n",
      "mismatch [2381, 3069] [3069, 2381, 3452] [2381, 3069, 4945]\n",
      "mismatch [2387, 3050] [3050, 3874] [2387, 3874]\n",
      "mismatch [2394, 889] [889, 4572] [2394, 3119, 4938, 5710, 5711, 5712]\n",
      "mismatch [2419, 2062] [2062, 2063] [2419, 6491]\n",
      "mismatch [2422, 718] [718, 717] [2422, 5382]\n",
      "mismatch [2423, 823] [823, 2423, 3936] [823, 2423]\n",
      "mismatch [2429, 1192] [1192, 2429, 5460] [1192, 2429, 5460]\n",
      "mismatch [2448, 6556] [6556, 2320] [2448, 6556]\n",
      "mismatch [2457, 2927] [2927, 2457, 5958] [2457, 2927, 5958]\n",
      "mismatch [2470, 3965] [3965, 2470, 2244] [2470, 3965]\n",
      "mismatch [2474, 1277] [1277, 2474, 809, 2738] [809, 1277, 2474]\n",
      "mismatch [2495, 1995] [1995, 4141] [1995, 2495, 4141]\n",
      "mismatch [2502, 2739] [2739, 5097] [2306, 2502]\n",
      "mismatch [2503, 464] [464, 3224, 2546, 2539] [2503, 3684]\n",
      "mismatch [2505, 3238] [3238, 4678] [2505, 3985]\n",
      "mismatch [2518, 5934] [5934, 6162, 2518] [2518, 5934]\n",
      "mismatch [2563, 5900] [5900, 5774, 2563] [2563, 5774, 5900]\n",
      "mismatch [2577, 3260] [3260, 2577, 3003] [2577, 3003, 3260]\n",
      "mismatch [2579, 2633] [2633, 2579, 3873] [422, 2579, 2633]\n",
      "mismatch [2583, 6620] [6620, 2501] [2501, 2583, 6620]\n",
      "mismatch [2592, 792] [792, 2527, 3618, 5915, 3852, 3075] [305, 792, 2527, 2592, 3075, 3618, 3852, 5915, 6367]\n",
      "mismatch [2599, 2626] [2626, 5765] [2599, 2626]\n",
      "mismatch [2607, 4954] [4954, 2607, 351] [2607, 4954]\n",
      "mismatch [2613, 6011] [6011, 2613, 3667] [780, 1302, 2613, 3667, 3736, 6011]\n",
      "mismatch [2615, 1001] [1001, 2615, 1027] [2615, 4122]\n",
      "mismatch [2626, 5765] [5765, 5405, 1850] [2599, 2626]\n",
      "mismatch [2643, 6431] [6431, 4219, 1765, 2643] [2643, 4219, 6431]\n",
      "mismatch [2674, 5738] [5738, 6631, 2674] [2674, 5738, 6631]\n",
      "mismatch [2703, 4074] [4074, 5879, 5880, 1936, 6482, 1837, 3332, 1026] [251, 387, 1026, 1837, 1936, 2703, 3332, 4074, 5635, 5681, 5879, 5880, 6482]\n",
      "mismatch [2713, 6824] [6824, 4319] [2713, 3984, 4319, 6824]\n",
      "mismatch [2714, 1099] [1099, 3712, 2525] [2714, 5666]\n",
      "mismatch [2718, 3385] [3385, 2718, 5533] [2718, 3385]\n",
      "mismatch [2727, 1360] [1360, 2727, 1202] [1360, 2727]\n",
      "mismatch [2728, 1482] [1482, 584] [1317, 1499, 2728]\n",
      "mismatch [2734, 3591] [3591, 5437] [2734, 3591, 5437]\n",
      "mismatch [2735, 5142] [5142, 4983, 2735] [793, 2735, 5903]\n",
      "mismatch [2736, 397] [397, 4004, 2736] [397, 2736]\n",
      "mismatch [2761, 4531] [2319, 4531] [2023, 2761, 5882, 6342]\n",
      "mismatch [2762, 6163] [6163, 3619, 1250, 2762] [1250, 2762, 3619, 5529, 6163]\n",
      "mismatch [2807, 2004] [2004, 338, 3968] [805, 2807]\n",
      "mismatch [2808, 6839] [6839, 2808, 2372] [2808, 6839]\n",
      "mismatch [2833, 728] [4096, 728] [33, 1091, 2833]\n",
      "mismatch [2852, 4160] [4160, 2933, 1187, 4852, 6207, 3306] [2852, 3146]\n",
      "mismatch [2857, 588] [588, 5454, 3223] [2857, 4271]\n",
      "mismatch [2862, 5124] [5124, 3148] [2862, 3579]\n",
      "mismatch [2901, 1560] [1560, 4177] [1560, 2901]\n",
      "mismatch [2931, 2372] [2372, 2931, 6839] [2372, 2931]\n",
      "mismatch [2932, 6830] [6830, 79] [803, 2932]\n",
      "mismatch [2955, 35] [35, 3991] [2496, 2955, 6453]\n",
      "mismatch [2962, 4717] [4717, 37, 6743] [37, 194, 899, 1166, 1641, 2192, 2962, 3045, 3516, 4176, 4188, 4216, 4526, 4717, 5823, 6743]\n",
      "mismatch [2966, 1693] [1693, 5899, 2966] [2966, 5290]\n",
      "mismatch [2982, 274] [274, 2982, 5756] [274, 611, 2982, 5756]\n",
      "mismatch [2987, 4540] [4540, 200, 2987] [2987, 4540]\n",
      "mismatch [3003, 3260] [3260, 2577, 3003] [2577, 3003, 3260]\n",
      "mismatch [3007, 3183] [2593, 3183, 953] [3007, 4173]\n",
      "mismatch [3022, 1690] [1690, 3703, 5099, 1043] [101, 1043, 2490, 3022, 5099, 5212, 5757, 5967]\n",
      "mismatch [3025, 5678] [5678, 2253] [3025, 4866]\n",
      "mismatch [3033, 1596] [1596, 264] [3033, 5151]\n",
      "mismatch [3050, 3874] [3874, 4583] [3050, 4583]\n",
      "mismatch [3066, 5918] [5918, 3066, 731] [3066, 5918]\n",
      "mismatch [3103, 3104] [3103, 3104, 2450] [3103, 3104, 5810]\n",
      "mismatch [3118, 769] [769, 6012, 2354, 6121, 1828, 5863] [769, 3118]\n",
      "mismatch [3120, 813] [813, 6261, 3120] [813, 3120, 6261]\n",
      "mismatch [3146, 1471] [1471, 760] [2852, 3146]\n",
      "mismatch [3153, 4453] [4453, 3153, 5581] [3153, 4453]\n",
      "mismatch [3161, 6364] [6364, 3897, 3161, 6598, 203, 3627] [203, 628, 3161, 3627, 6364]\n",
      "mismatch [3162, 1080] [1080, 3162, 3602] [138, 1080, 1712, 2141, 3162, 3602, 3603]\n",
      "mismatch [3166, 525] [525, 3291] [525, 3166]\n",
      "mismatch [3238, 4678] [4678, 2373, 2910, 4336, 6664, 883, 1455, 471, 472, 269, 268, 190, 5782, 2197, 6535, 1143, 1664, 609, 5910, 878, 5948, 4917, 199, 461, 1937, 1236, 3943, 5237, 3238, 977, 3108, 2505] [206, 3238]\n",
      "mismatch [3283, 4603] [4603, 6344] [3283, 4603]\n",
      "mismatch [3296, 698] [698, 3296, 6118] [698, 3296, 6118]\n",
      "mismatch [3297, 1031] [1031, 3639, 2957] [3297, 4925]\n",
      "mismatch [3301, 5416] [5416, 3761, 824] [3301, 3935]\n",
      "mismatch [3303, 1512] [1512, 5753, 4972, 2334] [1512, 2334, 3303, 4972, 5753]\n",
      "mismatch [3317, 335] [335, 3317, 3983, 465, 391, 5874] [335, 3317]\n",
      "mismatch [3370, 4028] [4028, 3282] [3370, 4028]\n",
      "mismatch [3376, 5525] [5525, 3376, 405, 4436, 3200, 6130, 3571, 879, 2506] [405, 879, 2506, 3200, 3376, 3571, 4436, 5525, 6130]\n",
      "mismatch [3384, 4100] [4100, 3384, 1282] [3384, 4100]\n",
      "mismatch [3426, 5239] [5239, 756, 3426] [756, 3426, 5239]\n",
      "mismatch [3444, 643] [643, 981, 1748, 3444] [54, 643, 1748, 3444, 6425]\n",
      "mismatch [3454, 6386] [6386, 3454, 4] [3454, 6386]\n",
      "mismatch [3456, 5457] [5457, 2811, 2810] [1372, 1373, 1374, 1375, 1376, 2672, 3258, 3456, 4670, 5359, 5487, 5488, 5489]\n",
      "mismatch [3463, 1591] [1591, 3463, 2906] [1591, 3463]\n",
      "mismatch [3494, 2155] [2155, 3494, 755, 6113, 5792] [755, 3494, 4757]\n",
      "mismatch [3499, 6032] [6032, 1836, 3499] [3499, 5703]\n",
      "mismatch [3508, 361] [361, 5334, 3508] [361, 3508, 5334]\n",
      "mismatch [3512, 6792] [6792, 1272] [3512, 6792]\n",
      "mismatch [3518, 5829] [5829, 1492] [3518, 5829]\n",
      "mismatch [3526, 1075] [1075, 3526, 2008] [1075, 3526]\n",
      "mismatch [3529, 1380] [1380, 4324] [1309, 3529]\n",
      "mismatch [3536, 3535] [3536, 3535, 913, 1387] [913, 1387, 3535, 3536]\n",
      "mismatch [3564, 6132] [6132, 3189] [3564, 6674]\n",
      "mismatch [3565, 4869] [4869, 5079, 6172, 3387, 3799, 5939] [3565, 4942]\n",
      "mismatch [3575, 2694] [2694, 179, 636] [3575, 5931, 6652]\n",
      "mismatch [3576, 782] [782, 4595, 186, 1048] [3576, 4580, 5620]\n",
      "mismatch [3579, 3148] [3148, 5124] [2862, 3579]\n",
      "mismatch [3580, 5640] [5640, 4832, 3101, 6421, 2397, 5602, 3063, 4438, 3187, 6190, 4772, 4086] [2397, 3063, 3101, 3187, 3580, 3772, 4086, 4438, 4832, 5640, 6190, 6421]\n",
      "mismatch [3635, 1978] [1978, 3635, 6843] [1978, 3635, 6843]\n",
      "mismatch [3660, 1751] [1751, 3446, 852, 5781, 822, 6263] [3660, 6803]\n",
      "mismatch [3661, 1765] [1765, 3661, 4219, 6431] [1765, 3661]\n",
      "mismatch [3667, 6011] [6011, 2613, 3667] [780, 1302, 2613, 3667, 3736, 6011]\n",
      "mismatch [3684, 2546] [2546, 3224, 464, 2539, 3684] [2503, 3684]\n",
      "mismatch [3685, 336] [336, 916] [1511, 2402, 3685, 5606]\n",
      "mismatch [3694, 3113] [3113, 3694, 1692] [1692, 3113, 3694]\n",
      "mismatch [3710, 1886] [1886, 3710, 2535] [1886, 3710]\n",
      "mismatch [3721, 6780] [6780, 4808] [958, 3721]\n",
      "mismatch [3773, 3462] [3462, 3773, 4468] [3462, 3773, 4468, 6516]\n",
      "mismatch [3790, 553] [553, 3790, 550] [553, 3790]\n",
      "mismatch [3797, 715] [715, 390, 976] [390, 715, 976, 3797]\n",
      "mismatch [3809, 6317] [6317, 3809, 6268] [3809, 6317]\n",
      "mismatch [3822, 505] [505, 3822, 5376] [505, 3822, 5376]\n",
      "mismatch [3833, 2824] [2824, 726] [726, 2824, 3833]\n",
      "mismatch [3836, 6109] [6109, 2180, 3836] [2180, 3836, 5441, 6109]\n",
      "mismatch [3874, 4583] [4583, 5914] [2387, 3874]\n",
      "mismatch [3876, 1168] [1168, 5756] [82, 511, 1168, 1784, 2627, 3876, 4278, 4711, 5814, 6022]\n",
      "mismatch [3907, 3629] [3629, 6587, 3907] [3907, 6110]\n",
      "mismatch [3958, 6049] [6049, 5258] [3958, 6049]\n",
      "mismatch [3961, 3808] [3808, 1537] [3961, 6350]\n",
      "mismatch [3984, 455] [455, 2249, 2542, 1721, 868] [2713, 3984, 4319, 6824]\n",
      "mismatch [3985, 3238] [3238, 4678] [2505, 3985]\n",
      "mismatch [3986, 3900] [3900, 3176, 3175, 5598, 1259] [2371, 3986]\n",
      "mismatch [4000, 6329] [6329, 554, 5001] [2016, 4000]\n",
      "mismatch [4006, 1366] [1366, 1029, 4006] [1366, 4006]\n",
      "mismatch [4028, 3282] [3282, 5945, 5944, 418, 419] [3370, 4028]\n",
      "mismatch [4031, 3131] [3131, 2484, 2485, 6295, 3389, 910] [898, 4031]\n",
      "mismatch [4038, 4440] [4440, 162, 4038] [1449, 4038]\n",
      "mismatch [4075, 5280] [5280, 3980, 3981, 6385, 4926] [3980, 3981, 4075, 4926, 5280, 6385]\n",
      "mismatch [4084, 351] [351, 4084, 5284] [351, 4084, 5284]\n",
      "mismatch [4090, 4110] [4110, 861, 4090, 6518] [861, 4090, 4110, 6518]\n",
      "mismatch [4122, 2615] [2615, 1001] [2615, 4122]\n",
      "mismatch [4140, 4432] [4432, 4924] [4140, 4432, 4924]\n",
      "mismatch [4171, 5254] [5254, 18, 5247, 1115] [944, 4171]\n",
      "mismatch [4173, 4104] [4104, 757] [3007, 4173]\n",
      "mismatch [4193, 3208] [3208, 3209, 1466, 1613, 4743, 3023] [326, 1466, 1613, 3023, 3208, 3209, 3352, 4193, 4743]\n",
      "mismatch [4198, 5626] [5626, 5936, 4198] [4198, 5626, 5936]\n",
      "mismatch [4208, 1352] [1351, 1352, 6567] [1351, 1352, 1405, 4208]\n",
      "mismatch [4220, 3646] [3646, 4220, 872] [872, 3646, 4220]\n",
      "mismatch [4242, 1184] [1184, 2566, 1563] [1184, 1563, 2566, 4242]\n",
      "mismatch [4246, 6818] [6818, 5431, 4330, 3304] [3304, 4246]\n",
      "mismatch [4256, 1702] [1702, 1840, 5204, 6077, 6078, 6702, 5486, 605, 607, 606, 608, 2783] [605, 606, 607, 608, 1702, 1840, 4256, 5204, 5486, 6077, 6078, 6702]\n",
      "mismatch [4257, 4089] [4089, 4257, 5021] [4089, 4257, 5021]\n",
      "mismatch [4271, 924] [924, 1954] [2857, 4271]\n",
      "mismatch [4291, 4347] [4347, 1767, 4291] [1767, 4291, 4347]\n",
      "mismatch [4340, 2965] [2965, 3203] [2965, 3203, 4340]\n",
      "mismatch [4389, 2318] [2318, 1216] [1216, 4389]\n",
      "mismatch [4398, 6679] [6679, 1582] [4398, 6679]\n",
      "mismatch [4401, 6848] [6848, 4401, 997, 2009, 3180] [4401, 6848]\n",
      "mismatch [4410, 1215] [1215, 1474, 3825] [2584, 3679, 4410]\n",
      "mismatch [4419, 2244] [2244, 4419, 3965] [2244, 4419]\n",
      "mismatch [4422, 2023] [2023, 5882] [4422, 6165]\n",
      "mismatch [4433, 5927] [5927, 5127] [4433, 5927]\n",
      "mismatch [4441, 2588] [2588, 2798] [2588, 2798, 4441]\n",
      "mismatch [4444, 755] [755, 2155, 5792, 5833] [2155, 4444]\n",
      "mismatch [4445, 6523] [6523, 4445, 5815] [4445, 6523]\n",
      "mismatch [4456, 6096] [6096, 4456, 3312] [301, 4264, 4456, 5737, 6096, 6280, 6332]\n",
      "mismatch [4463, 5522] [5522, 2323, 4463, 1716, 5355] [4463, 5522]\n",
      "mismatch [4501, 730] [730, 4379] [1006, 4501]\n",
      "mismatch [4505, 4257] [4257, 4089] [4505, 5312]\n",
      "mismatch [4508, 2494] [2494, 4508, 767] [767, 2177, 2494, 4508, 4897]\n",
      "mismatch [4512, 4511] [4512, 4511, 1175] [1175, 4511, 4512, 4705, 5683, 6181]\n",
      "mismatch [4522, 5728] [5728, 2737, 1491] [1491, 2737, 4522, 5728]\n",
      "mismatch [4536, 123] [123, 629] [3099, 4536]\n",
      "mismatch [4537, 910] [910, 3131, 2485, 2484, 6295, 3389] [231, 4537]\n",
      "mismatch [4541, 3446] [3446, 1751, 852, 5781, 822, 6263] [4541, 5777]\n",
      "mismatch [4545, 5085] [5085, 3631, 4437, 3330] [710, 3330, 3631, 4437, 4545]\n",
      "mismatch [4557, 373] [373, 5718] [150, 4557]\n",
      "mismatch [4569, 826] [825, 824, 826, 2420, 5536, 5159, 3261] [824, 825, 826, 2420, 4569, 5159, 5536]\n",
      "mismatch [4583, 5914] [5914, 2316] [3050, 4583]\n",
      "mismatch [4603, 6344] [6344, 247] [3283, 4603]\n",
      "mismatch [4616, 2301] [2301, 1190, 3168] [4616, 4622]\n",
      "mismatch [4622, 6375] [6375, 2771, 4159, 3827, 2158, 599] [4616, 4622]\n",
      "mismatch [4639, 379] [379, 2453, 6043, 1719, 2089, 2007, 3031, 630] [1877, 4639]\n",
      "mismatch [4651, 4427] [4427, 4426, 6173, 4651] [4426, 4427, 4651, 6173]\n",
      "mismatch [4668, 6554] [6554, 3507] [1622, 4668]\n",
      "mismatch [4675, 3858] [3858, 4675, 2008, 5705] [3858, 4675]\n",
      "mismatch [4679, 6590] [6590, 1739] [2215, 4679]\n",
      "mismatch [4683, 6479] [6479, 2092, 806, 6419, 4683] [89, 806, 975, 1873, 2092, 2291, 2617, 3051, 4683, 6419, 6479]\n",
      "mismatch [4692, 4786] [4786, 625] [625, 4692]\n",
      "mismatch [4708, 4038] [4038, 4440] [945, 4708]\n",
      "mismatch [4757, 755] [755, 2155, 5792, 5833] [755, 3494, 4757]\n",
      "mismatch [4762, 3436] [3436, 5633, 5634] [224, 4762]\n",
      "mismatch [4771, 5887] [5887, 1812] [561, 4771]\n",
      "mismatch [4845, 2612] [2612, 1312] [4845, 6450]\n",
      "mismatch [4866, 3313] [3313, 1651] [3025, 4866]\n",
      "mismatch [4889, 5385] [5385, 6176, 4889] [4889, 5385, 6176]\n",
      "mismatch [4893, 1876] [1876, 2083, 4893] [1876, 2083, 4893]\n",
      "mismatch [4895, 4894] [4895, 4894, 5726] [4894, 4895, 5726]\n",
      "mismatch [4897, 2177] [2177, 4897, 767] [767, 2177, 2494, 4508, 4897]\n",
      "mismatch [4921, 4472] [4472, 5316] [4472, 4921, 5316]\n",
      "mismatch [4942, 495] [495, 6680, 2659, 1803] [3565, 4942]\n",
      "mismatch [4945, 3069] [3069, 2381, 3452] [2381, 3069, 4945]\n",
      "mismatch [4963, 1196] [1196, 707, 5399, 4963] [707, 1196, 4963]\n",
      "mismatch [4971, 3748] [3748, 4971, 2706, 1211, 1818] [3748, 4971]\n",
      "mismatch [4983, 5142] [5142, 4983, 2735] [4983, 5142]\n",
      "mismatch [5021, 4089] [4089, 4257, 5021] [4089, 4257, 5021]\n",
      "mismatch [5026, 6603] [6603, 5026, 6673] [5026, 6603, 6673]\n",
      "mismatch [5028, 3427] [3427, 5028, 3052, 3053, 1781] [3427, 5028]\n",
      "mismatch [5048, 6656] [6656, 4071] [5048, 6656]\n",
      "mismatch [5063, 5701] [5701, 6531] [5063, 6752]\n",
      "mismatch [5100, 4887] [4887, 1462] [1462, 4887, 5100]\n",
      "mismatch [5101, 1495] [1495, 2532, 1461] [1461, 1495, 2532, 5101, 5448]\n",
      "mismatch [5151, 6782] [6782, 5298, 4005] [3033, 5151]\n",
      "mismatch [5160, 2095] [2095, 1354] [5160, 6699]\n",
      "mismatch [5174, 3924] [3924, 5174, 1011, 3349] [3924, 5174]\n",
      "mismatch [5180, 1448] [1448, 1041] [1599, 5180, 6704]\n",
      "mismatch [5190, 2450] [2450, 5190, 3104] [2450, 5190]\n",
      "mismatch [5191, 2022] [2022, 5191, 1894] [1894, 2022, 5191]\n",
      "mismatch [5192, 5993] [5993, 5192, 5651] [5192, 5651, 5993]\n",
      "mismatch [5195, 1282] [1282, 5195, 4100] [1282, 5195]\n",
      "mismatch [5210, 4197] [4197, 2153, 3971, 3380, 1541] [373, 1541, 1542, 1974, 2153, 2362, 3380, 3971, 4197, 4836, 5210, 5693, 5718]\n",
      "mismatch [5228, 6487] [6487, 4498, 4650] [3855, 5228]\n",
      "mismatch [5229, 6346] [6346, 188] [765, 1775, 2956, 5173, 5229, 6700]\n",
      "mismatch [5231, 3361] [3361, 5231, 689] [3361, 5231]\n",
      "mismatch [5236, 5521] [5521, 689] [2286, 5236]\n",
      "mismatch [5263, 677] [676, 675, 677, 5263] [675, 676, 677, 5263]\n",
      "mismatch [5264, 526] [526, 3126] [526, 5264]\n",
      "mismatch [5284, 351] [351, 4084, 5284] [351, 4084, 5284]\n",
      "mismatch [5287, 5317] [5317, 6476, 5287] [5287, 5317]\n",
      "mismatch [5290, 2966] [2966, 1693] [2966, 5290]\n",
      "mismatch [5295, 6129] [6129, 1363] [1363, 5295, 6129]\n",
      "mismatch [5297, 5296] [5297, 5296, 401, 43, 3163, 4608, 141] [43, 401, 3163, 4608, 5296, 5297]\n",
      "mismatch [5298, 6782] [6782, 5298, 4005] [4005, 5298]\n",
      "mismatch [5312, 5021] [5021, 4089] [4505, 5312]\n",
      "mismatch [5334, 361] [361, 5334, 3508] [361, 3508, 5334]\n",
      "mismatch [5350, 3825] [3825, 1215, 1474] [1215, 1474, 3825, 5350]\n",
      "mismatch [5352, 4289] [4289, 5020, 5199, 5017, 6287, 5352, 5019] [4289, 5352]\n",
      "mismatch [5366, 4721] [4721, 5694, 5366] [4721, 5366, 5694]\n",
      "mismatch [5372, 5638] [5638, 2384, 4843, 5372] [2384, 4843, 5372, 5638]\n",
      "mismatch [5376, 505] [505, 3822, 5376] [505, 3822, 5376]\n",
      "mismatch [5388, 211] [211, 4061, 1477] [520, 5388]\n",
      "mismatch [5409, 5399] [5399, 1196, 5409] [5399, 5409, 5575]\n",
      "mismatch [5441, 2180] [2180, 6109] [2180, 3836, 5441, 6109]\n",
      "mismatch [5451, 6115] [6115, 5451, 5855] [5451, 5855, 6115]\n",
      "mismatch [5456, 2499] [2499, 4182, 832] [5456, 5557]\n",
      "mismatch [5459, 5298] [5298, 6782] [5459, 6782]\n",
      "mismatch [5460, 1192] [1192, 2429, 5460] [1192, 2429, 5460]\n",
      "mismatch [5465, 642] [642, 4102] [1621, 3851, 5220, 5465, 5614, 5746, 6797]\n",
      "mismatch [5473, 5729] [5729, 6808, 3201, 3202, 1742, 3443, 569, 1151, 4416] [4416, 5473]\n",
      "mismatch [5480, 3076] [3076, 2270, 807, 4455, 1402, 1884, 4487, 1669, 3921, 6312, 4008, 6779, 4165, 5450, 3093, 1221, 4635, 6798, 5480, 4252] [807, 1221, 1334, 1402, 1669, 1884, 2270, 3076, 3093, 3921, 4008, 4165, 4252, 4455, 4487, 4635, 5450, 5480, 6312, 6779, 6798]\n",
      "mismatch [5502, 1381] [1381, 2891] [1107, 5502]\n",
      "mismatch [5517, 2338] [2338, 1792, 2877, 1790] [1790, 1792, 2338, 2877, 5517]\n",
      "mismatch [5521, 689] [689, 5521, 3361] [689, 5521]\n",
      "mismatch [5529, 1250] [1250, 6163, 3619, 5529] [1250, 2762, 3619, 5529, 6163]\n",
      "mismatch [5557, 5456] [5456, 2499] [5456, 5557]\n",
      "mismatch [5575, 1196] [1196, 707, 5399, 4963] [5399, 5409, 5575]\n",
      "mismatch [5581, 4453] [4453, 3153, 5581] [5581, 6263]\n",
      "mismatch [5611, 6360] [6360, 5952] [5611, 5952, 6360]\n",
      "mismatch [5618, 4061] [4061, 211, 5618, 1477] [4061, 5618]\n",
      "mismatch [5630, 2040] [2040, 5630, 1009] [2040, 5630]\n",
      "mismatch [5632, 501] [501, 5632, 1941, 1665] [501, 5632]\n",
      "mismatch [5649, 61] [61, 6716] [61, 5649]\n",
      "mismatch [5651, 5993] [5993, 5192, 5651] [5192, 5651, 5993]\n",
      "mismatch [5661, 2337] [2337, 2614] [2337, 5661]\n",
      "mismatch [5666, 5885] [5885, 2568] [2714, 5666]\n",
      "mismatch [5694, 4721] [4721, 5694, 5366] [4721, 5366, 5694]\n",
      "mismatch [5703, 2913] [2913, 896, 5703] [3499, 5703]\n",
      "mismatch [5720, 80] [80, 6804, 5720, 1341, 432] [80, 1341, 5720, 6804]\n",
      "mismatch [5721, 3304] [3304, 6818, 5431, 4330] [5721, 6239]\n",
      "mismatch [5726, 4894] [4895, 4894, 5726] [4894, 4895, 5726]\n",
      "mismatch [5737, 3686] [3686, 3312, 928, 670, 4264, 4566, 6332] [301, 4264, 4456, 5737, 6096, 6280, 6332]\n",
      "mismatch [5743, 5870] [5870, 1100, 5743] [1100, 5743, 5870]\n",
      "mismatch [5756, 274] [274, 2982, 5756] [274, 611, 2982, 5756]\n",
      "mismatch [5757, 5212] [5212, 5099, 1043, 3703, 5757, 2490] [101, 1043, 2490, 3022, 5099, 5212, 5757, 5967]\n",
      "mismatch [5774, 5900] [5900, 5774, 2563] [2563, 5774, 5900]\n",
      "mismatch [5776, 4361] [4361, 3651, 592] [1439, 5776]\n",
      "mismatch [5777, 2956] [2956, 1775] [4541, 5777]\n",
      "mismatch [5799, 4342] [562, 4342, 5167, 345, 3447, 5597, 1908, 5109] [345, 562, 1908, 3447, 4342, 5109, 5167, 5597, 5799]\n",
      "mismatch [5810, 3104] [3103, 3104, 2450] [3103, 3104, 5810]\n",
      "mismatch [5829, 1492] [1492, 1905] [3518, 5829]\n",
      "mismatch [5850, 1820] [1820, 5850, 3617, 53, 4355] [1820, 5850]\n",
      "mismatch [5852, 5121] [5121, 4813, 6789, 1680] [4813, 5121, 5852]\n",
      "mismatch [5855, 6115] [6115, 5451, 5855] [5451, 5855, 6115]\n",
      "mismatch [5873, 5317] [5317, 6476, 5287] [5873, 6476]\n",
      "mismatch [5887, 1812] [1812, 4696] [4411, 5887]\n",
      "mismatch [5891, 4407] [4407, 3978, 5218] [2774, 5891]\n",
      "mismatch [5895, 6234] [3929, 6234, 4283, 2236, 1094, 2313, 6361, 5320, 2975, 2560, 2774, 5218, 2314, 1146, 5600, 1262, 1593, 5375, 6490, 3978, 4615] [5895, 6581]\n",
      "mismatch [5909, 1127] [1127, 2369] [500, 5909]\n",
      "mismatch [5927, 5127] [5127, 4759] [4433, 5927]\n",
      "mismatch [5931, 6652] [6652, 1851] [3575, 5931, 6652]\n",
      "mismatch [5936, 5626] [5626, 5936, 4198] [4198, 5626, 5936]\n",
      "mismatch [5943, 1409] [1409, 5943, 6034] [1409, 5943, 6034]\n",
      "mismatch [5958, 2927] [2927, 2457, 5958] [2457, 2927, 5958]\n",
      "mismatch [5967, 5099] [5099, 3703, 1043, 5212, 1690] [101, 1043, 2490, 3022, 5099, 5212, 5757, 5967]\n",
      "mismatch [5968, 6420] [6420, 1040, 994] [5968, 6773]\n",
      "mismatch [5981, 5781] [5781, 822, 852, 3446, 1751] [5981, 6112]\n",
      "mismatch [6017, 2971] [2971, 4183, 784] [15, 784, 2971, 4183, 5188, 5189, 5446, 6017]\n",
      "mismatch [6021, 5785] [5785, 6252, 5346, 3617, 4355, 53] [53, 6021]\n",
      "mismatch [6024, 5322] [5322, 4792] [1660, 6024]\n",
      "mismatch [6034, 1409] [1409, 5943, 6034] [1409, 5943, 6034]\n",
      "mismatch [6047, 3248] [3248, 2586, 2091, 6047] [2091, 2586, 3248, 6047]\n",
      "mismatch [6049, 5258] [5258, 4043] [3958, 6049]\n",
      "mismatch [6051, 2364] [2364, 6124, 3309] [2364, 6051, 6124]\n",
      "mismatch [6082, 3177] [3177, 2902, 2984, 6082, 2985, 5074] [3177, 6082]\n",
      "mismatch [6085, 2688] [2688, 6085, 1464] [2688, 6085]\n",
      "mismatch [6087, 4989] [4989, 6805] [4989, 6087, 6805]\n",
      "mismatch [6093, 3291] [3291, 6093, 5730] [3291, 6093]\n",
      "mismatch [6110, 3907] [3907, 3629] [3907, 6110]\n",
      "mismatch [6112, 4083] [4083, 5157, 4582] [5981, 6112]\n",
      "mismatch [6118, 698] [698, 3296, 6118] [698, 3296, 6118]\n",
      "mismatch [6139, 1888] [1888, 5510] [1888, 6139]\n",
      "mismatch [6162, 5934] [5934, 6162, 2518] [2305, 6162]\n",
      "mismatch [6165, 2730] [2730, 1933] [4422, 6165]\n",
      "mismatch [6176, 5385] [5385, 6176, 4889] [4889, 5385, 6176]\n",
      "mismatch [6181, 1175] [1175, 5683, 4705] [1175, 4511, 4512, 4705, 5683, 6181]\n",
      "mismatch [6193, 2818] [2818, 1861] [1861, 2818, 6193]\n",
      "mismatch [6239, 5721] [5721, 3304] [5721, 6239]\n",
      "mismatch [6242, 5154] [5154, 293, 5588] [413, 6242]\n",
      "mismatch [6261, 813] [813, 6261, 3120] [813, 3120, 6261]\n",
      "mismatch [6268, 6317] [6317, 3809, 6268] [1293, 6268]\n",
      "mismatch [6274, 4295] [4295, 55, 407] [55, 407, 4295, 6274]\n",
      "mismatch [6333, 6463] [6463, 6640, 5172] [5172, 6333, 6463, 6640]\n",
      "mismatch [6342, 5882] [5882, 2023] [2023, 2761, 5882, 6342]\n",
      "mismatch [6350, 5949] [5949, 5503] [3961, 6350]\n",
      "mismatch [6372, 795] [795, 1364, 6372] [795, 1364, 6372]\n",
      "mismatch [6377, 1330] [1330, 4693, 4327] [1330, 4327, 4693, 6377]\n",
      "mismatch [6395, 1046] [1046, 3935] [5187, 5987, 6395]\n",
      "mismatch [6427, 4345] [4345, 6219, 4865] [4345, 6219, 6427]\n",
      "mismatch [6450, 1568] [1568, 5114] [4845, 6450]\n",
      "mismatch [6457, 1785] [1785, 6569] [1785, 6457]\n",
      "mismatch [6458, 3266] [3266, 4562] [253, 6458]\n",
      "mismatch [6470, 709] [709, 6230, 4881, 6470] [709, 6470]\n",
      "mismatch [6476, 5317] [5317, 6476, 5287] [5873, 6476]\n",
      "mismatch [6486, 2784] [2783, 2785, 2784, 1078, 6050] [2081, 6486]\n",
      "mismatch [6491, 6631] [6631, 5738] [2419, 6491]\n",
      "mismatch [6494, 3207] [3207, 6284] [3207, 6284, 6494]\n",
      "mismatch [6496, 3540] [3540, 275, 276] [6496, 6654]\n",
      "mismatch [6516, 4468] [4468, 6516, 3462] [3462, 3773, 4468, 6516]\n",
      "mismatch [6546, 4059] [4059, 1436] [1436, 4059, 6546]\n",
      "mismatch [6556, 2320] [2320, 4532] [2448, 6556]\n",
      "mismatch [6580, 3561] [3561, 57, 6580] [57, 3561, 6580]\n",
      "mismatch [6582, 1341] [1341, 6804, 80] [1571, 6582]\n",
      "mismatch [6587, 3629] [3629, 6587, 3907] [3629, 6587]\n",
      "mismatch [6599, 5221] [5221, 1515, 1516, 1289, 1288, 4769] [1349, 6599]\n",
      "mismatch [2181, 6614] [2181, 6614, 2340, 6799, 4322, 519, 2074, 2333, 2332] [2181, 2340, 4322, 5845, 6614, 6799]\n",
      "mismatch [6631, 5738] [5738, 6631, 2674] [2674, 5738, 6631]\n",
      "mismatch [6652, 1851] [1851, 6323, 5256, 4652, 5867, 856] [3575, 5931, 6652]\n",
      "mismatch [6654, 3540] [3540, 275, 276] [6496, 6654]\n",
      "mismatch [6656, 4071] [4071, 2802, 442] [5048, 6656]\n",
      "mismatch [6660, 5609] [5609, 4680, 4873] [5609, 6660]\n",
      "mismatch [6673, 6603] [6603, 5026, 6673] [5026, 6603, 6673]\n",
      "mismatch [6674, 2294] [2294, 3152, 72] [3564, 6674]\n",
      "mismatch [6679, 1582] [1580, 1579, 1582, 1581, 6267] [4398, 6679]\n",
      "mismatch [6699, 3856] [3856, 5472] [5160, 6699]\n",
      "mismatch [6700, 765] [765, 5173] [765, 1775, 2956, 5173, 5229, 6700]\n",
      "mismatch [6704, 5665] [5665, 4058, 6777, 2778, 3322] [1599, 5180, 6704]\n",
      "mismatch [6722, 1725] [1725, 725] [725, 1725, 6722]\n",
      "mismatch [6730, 629] [629, 123] [4105, 6730]\n",
      "mismatch [6752, 5063] [5063, 5701] [5063, 6752]\n",
      "mismatch [6757, 2776] [2776, 1758] [1758, 2776, 6757]\n",
      "mismatch [6773, 1992] [1992, 877] [5968, 6773]\n",
      "mismatch [6784, 3545] [3545, 6784, 6255, 6259] [3545, 6255, 6259, 6784]\n",
      "mismatch [6785, 1302] [1302, 3736] [1588, 6785]\n",
      "mismatch [6788, 1190] [1190, 2301, 3168] [1190, 2301, 3168, 6788]\n",
      "mismatch [6792, 1272] [1272, 1431] [3512, 6792]\n",
      "mismatch [6803, 5718] [5718, 4286] [3660, 6803]\n",
      "mismatch [6815, 1500] [1500, 4033] [864, 6815]\n",
      "mismatch [6838, 6832] [6832, 6838, 1923, 2324] [6832, 6838]\n",
      "mismatch [6840, 4615] [4615, 856, 4652, 6323, 6840] [804, 1851, 4625, 4652, 5256, 5867, 6323, 6840]\n",
      "mismatch [6843, 1978] [1978, 3635, 6843] [1978, 3635, 6843]\n"
     ]
    },
    {
     "data": {
      "text/plain": [
       "(2262, 530)"
      ]
     },
     "execution_count": 33,
     "metadata": {},
     "output_type": "execute_result"
    }
   ],
   "source": [
    "match, mismatch=0,0\n",
    "for i in range(len(groups)):\n",
    "    g = groups[i]\n",
    "    if len(g)==2:\n",
    "        second = g[0] if g[1]==i else g[1]\n",
    "        if set(groups[second]) != set(groups[i]):\n",
    "            print('mismatch', groups[i], groups[second], targets[i])\n",
    "            mismatch +=1\n",
    "        else: match+=1\n",
    "match, mismatch"
   ]
  },
  {
   "cell_type": "code",
   "execution_count": 28,
   "id": "portable-moment",
   "metadata": {},
   "outputs": [
    {
     "data": {
      "image/png": "[encoded data removed]",
      "text/plain": [
       "<Figure size 576x576 with 1 Axes>"
      ]
     },
     "metadata": {
      "needs_background": "light"
     },
     "output_type": "display_data"
    }
   ],
   "source": [
    "show_groups(groups, targets)"
   ]
  },
  {
   "cell_type": "code",
   "execution_count": null,
   "id": "numerical-optics",
   "metadata": {},
   "outputs": [],
   "source": []
  }
 ],
 "metadata": {
  "kernelspec": {
   "display_name": "Python 3.8.5 64-bit ('fastai': conda)",
   "language": "python",
   "name": "python38564bitfastaicondad52d12c5a30a4725bf9d3e235cf1271c"
  },
  "language_info": {
   "codemirror_mode": {
    "name": "ipython",
    "version": 3
   },
   "file_extension": ".py",
   "mimetype": "text/x-python",
   "name": "python",
   "nbconvert_exporter": "python",
   "pygments_lexer": "ipython3",
   "version": "3.8.5"
  }
 },
 "nbformat": 4,
 "nbformat_minor": 5
}
