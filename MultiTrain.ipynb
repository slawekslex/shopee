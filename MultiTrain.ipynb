{
 "cells": [
  {
   "cell_type": "code",
   "execution_count": 35,
   "id": "outstanding-chester",
   "metadata": {},
   "outputs": [
    {
     "name": "stdout",
     "output_type": "stream",
     "text": [
      "The autoreload extension is already loaded. To reload it, use:\n",
      "  %reload_ext autoreload\n"
     ]
    }
   ],
   "source": [
    "%load_ext autoreload\n",
    "%autoreload 2"
   ]
  },
  {
   "cell_type": "code",
   "execution_count": 36,
   "id": "committed-backup",
   "metadata": {
    "_cell_guid": "b1076dfc-b9ad-4769-8c92-a6c4dae69d19",
    "_uuid": "8f2839f25d086af736a60e9eeb907d3b93b6e0e5"
   },
   "outputs": [],
   "source": [
    "from fastai.vision.all import *\n",
    "import sklearn.metrics as skm\n",
    "from tqdm.notebook import tqdm\n",
    "import sklearn.feature_extraction.text\n",
    "from transformers import (BertTokenizer, BertModel,\n",
    "                          DistilBertTokenizer, DistilBertModel)"
   ]
  },
  {
   "cell_type": "code",
   "execution_count": 37,
   "id": "mounted-animation",
   "metadata": {},
   "outputs": [],
   "source": [
    "from shopee_utils import *\n",
    "from train_utils import *"
   ]
  },
  {
   "cell_type": "code",
   "execution_count": 38,
   "id": "formal-geography",
   "metadata": {},
   "outputs": [],
   "source": [
    "PATH = Path('../input/shopee-product-matching')\n",
    "model_file  = '../input/resnet-model/bert814.pth'\n",
    "if not PATH.is_dir():\n",
    "    PATH = Path('/home/slex/data/shopee')\n",
    "    model_file ='models/bert814.pth'\n",
    "BERT_PATH = './bert_indonesian'\n",
    "BERT_PATH='cahya/distilbert-base-indonesian'"
   ]
  },
  {
   "cell_type": "code",
   "execution_count": 39,
   "id": "trying-municipality",
   "metadata": {},
   "outputs": [],
   "source": [
    "train_df = pd.read_csv(PATH/'train_split.csv')\n",
    "train_df['is_valid'] = train_df.split==0"
   ]
  },
  {
   "cell_type": "code",
   "execution_count": 40,
   "id": "requested-butter",
   "metadata": {},
   "outputs": [],
   "source": [
    "def get_img_file(row):\n",
    "    img =row.image\n",
    "    fn  = PATH/'train_images'/img\n",
    "    if not fn.is_file():\n",
    "        fn = PATH/'test_images'/img\n",
    "    return fn"
   ]
  },
  {
   "cell_type": "code",
   "execution_count": 41,
   "id": "creative-hungarian",
   "metadata": {},
   "outputs": [],
   "source": [
    "class TitleTransform(Transform):\n",
    "    def __init__(self):\n",
    "        super().__init__()\n",
    "        self.tokenizer = DistilBertTokenizer.from_pretrained(BERT_PATH)\n",
    "        \n",
    "        \n",
    "    def encodes(self, row):\n",
    "        text = row.title\n",
    "        encodings = self.tokenizer(text, padding = 'max_length', max_length=50, truncation=True,return_tensors='pt')\n",
    "        keys =['input_ids', 'attention_mask']#, 'token_type_ids'] \n",
    "        return tuple(encodings[key].squeeze() for key in keys)"
   ]
  },
  {
   "cell_type": "code",
   "execution_count": 42,
   "id": "multiple-farmer",
   "metadata": {},
   "outputs": [],
   "source": [
    "text_tfm = TitleTransform()\n",
    "\n",
    "data_block = DataBlock(blocks = (ImageBlock(), TransformBlock(type_tfms=text_tfm), \n",
    "                                 CategoryBlock(vocab=train_df.label_group.to_list())),\n",
    "                 splitter=ColSplitter(),\n",
    "                 #splitter=RandomSplitter(),\n",
    "                 get_y=ColReader('label_group'),\n",
    "                 get_x=[get_img_file,lambda x:x],\n",
    "                 item_tfms=Resize(460),\n",
    "                 batch_tfms=aug_transforms(size=224, min_scale=0.75),\n",
    "                 )\n",
    "dls = data_block.dataloaders(train_df, bs=64,num_workers=16)"
   ]
  },
  {
   "cell_type": "code",
   "execution_count": 43,
   "id": "altered-command",
   "metadata": {},
   "outputs": [],
   "source": [
    "b_im,b_txt,by=dls.one_batch()"
   ]
  },
  {
   "cell_type": "code",
   "execution_count": 44,
   "id": "running-guidance",
   "metadata": {},
   "outputs": [
    {
     "data": {
      "text/plain": [
       "torch.Size([64, 3, 224, 224])"
      ]
     },
     "execution_count": 44,
     "metadata": {},
     "output_type": "execute_result"
    }
   ],
   "source": [
    "b_im.shape"
   ]
  },
  {
   "cell_type": "code",
   "execution_count": 45,
   "id": "aging-grade",
   "metadata": {},
   "outputs": [],
   "source": [
    "class ArcFaceClassifier(nn.Module):\n",
    "    def __init__(self, in_features, output_classes):\n",
    "        super().__init__()\n",
    "        self.W = nn.Parameter(torch.Tensor(in_features, output_classes))\n",
    "        nn.init.kaiming_uniform_(self.W)\n",
    "    def forward(self, x):\n",
    "        x_norm = F.normalize(x)\n",
    "        W_norm = F.normalize(self.W, dim=0)\n",
    "        return x_norm @ W_norm"
   ]
  },
  {
   "cell_type": "code",
   "execution_count": 61,
   "id": "soviet-concept",
   "metadata": {},
   "outputs": [],
   "source": [
    "class MultiModalModel(nn.Module):\n",
    "    def __init__(self, img_stem, text_stem):\n",
    "        super().__init__()\n",
    "        emb_dim = 1024+768\n",
    "        self.img_stem = img_stem\n",
    "        self.text_stem = text_stem\n",
    "        self.regularizers = nn.Sequential(\n",
    "            nn.BatchNorm1d(emb_dim),\n",
    "            nn.Dropout()\n",
    "        )\n",
    "        self.classifier=ArcFaceClassifier(emb_dim, dls.c)\n",
    "        #self.classifier=nn.Linear(emb_dim, dls.c)\n",
    "        self.outputEmbs = False\n",
    "    def forward(self, img_x, text_x):\n",
    "        img_out = self.img_stem(img_x)\n",
    "        text_out = self.text_stem(*text_x)\n",
    "        text_out = text_out.last_hidden_state[:,0,:]\n",
    "        embs = torch.cat([img_out, text_out],dim=1)\n",
    "        embs = self.regularizers(embs)\n",
    "        if self.outputEmbs:\n",
    "            return embs\n",
    "        return self.classifier(embs)"
   ]
  },
  {
   "cell_type": "code",
   "execution_count": 22,
   "id": "worst-packet",
   "metadata": {},
   "outputs": [],
   "source": [
    "def new_model():\n",
    "    img_stem = nn.Sequential(create_body(resnet34,cut=-2), AdaptiveConcatPool2d(), Flatten())\n",
    "    bert_model = DistilBertModel.from_pretrained(BERT_PATH)\n",
    "    return MultiModalModel(img_stem, bert_model).cuda()"
   ]
  },
  {
   "cell_type": "code",
   "execution_count": 32,
   "id": "motivated-sympathy",
   "metadata": {},
   "outputs": [],
   "source": [
    "def split_2way(model):\n",
    "    return L(params(model.img_stem)+params(model.text_stem),\n",
    "            params(model.classifier)+params(model.regularizers))"
   ]
  },
  {
   "cell_type": "code",
   "execution_count": 59,
   "id": "vietnamese-emission",
   "metadata": {},
   "outputs": [],
   "source": [
    "learn = Learner(dls,new_model(), loss_func=arcface_loss, splitter=split_2way,cbs = F1FromEmbs, metrics=FakeMetric())\n"
   ]
  },
  {
   "cell_type": "code",
   "execution_count": 60,
   "id": "portable-redhead",
   "metadata": {},
   "outputs": [
    {
     "data": {
      "text/html": [
       "<table border=\"1\" class=\"dataframe\">\n",
       "  <thead>\n",
       "    <tr style=\"text-align: left;\">\n",
       "      <th>epoch</th>\n",
       "      <th>train_loss</th>\n",
       "      <th>valid_loss</th>\n",
       "      <th>F1 embeddings</th>\n",
       "      <th>time</th>\n",
       "    </tr>\n",
       "  </thead>\n",
       "  <tbody>\n",
       "    <tr>\n",
       "      <td>0</td>\n",
       "      <td>8.077240</td>\n",
       "      <td>None</td>\n",
       "      <td>0.754148</td>\n",
       "      <td>01:19</td>\n",
       "    </tr>\n",
       "    <tr>\n",
       "      <td>1</td>\n",
       "      <td>4.304684</td>\n",
       "      <td>None</td>\n",
       "      <td>0.787597</td>\n",
       "      <td>01:19</td>\n",
       "    </tr>\n",
       "  </tbody>\n",
       "</table>"
      ],
      "text/plain": [
       "<IPython.core.display.HTML object>"
      ]
     },
     "metadata": {},
     "output_type": "display_data"
    },
    {
     "data": {
      "text/html": [
       "<table border=\"1\" class=\"dataframe\">\n",
       "  <thead>\n",
       "    <tr style=\"text-align: left;\">\n",
       "      <th>epoch</th>\n",
       "      <th>train_loss</th>\n",
       "      <th>valid_loss</th>\n",
       "      <th>F1 embeddings</th>\n",
       "      <th>time</th>\n",
       "    </tr>\n",
       "  </thead>\n",
       "  <tbody>\n",
       "    <tr>\n",
       "      <td>0</td>\n",
       "      <td>2.869407</td>\n",
       "      <td>None</td>\n",
       "      <td>0.807468</td>\n",
       "      <td>01:38</td>\n",
       "    </tr>\n",
       "    <tr>\n",
       "      <td>1</td>\n",
       "      <td>2.278520</td>\n",
       "      <td>None</td>\n",
       "      <td>0.816945</td>\n",
       "      <td>01:40</td>\n",
       "    </tr>\n",
       "    <tr>\n",
       "      <td>2</td>\n",
       "      <td>1.535280</td>\n",
       "      <td>None</td>\n",
       "      <td>0.826359</td>\n",
       "      <td>01:40</td>\n",
       "    </tr>\n",
       "    <tr>\n",
       "      <td>3</td>\n",
       "      <td>0.860950</td>\n",
       "      <td>None</td>\n",
       "      <td>0.833761</td>\n",
       "      <td>01:41</td>\n",
       "    </tr>\n",
       "    <tr>\n",
       "      <td>4</td>\n",
       "      <td>0.336392</td>\n",
       "      <td>None</td>\n",
       "      <td>0.837497</td>\n",
       "      <td>01:39</td>\n",
       "    </tr>\n",
       "    <tr>\n",
       "      <td>5</td>\n",
       "      <td>0.128855</td>\n",
       "      <td>None</td>\n",
       "      <td>0.841752</td>\n",
       "      <td>01:41</td>\n",
       "    </tr>\n",
       "    <tr>\n",
       "      <td>6</td>\n",
       "      <td>0.060897</td>\n",
       "      <td>None</td>\n",
       "      <td>0.842654</td>\n",
       "      <td>01:41</td>\n",
       "    </tr>\n",
       "    <tr>\n",
       "      <td>7</td>\n",
       "      <td>0.038779</td>\n",
       "      <td>None</td>\n",
       "      <td>0.841713</td>\n",
       "      <td>01:38</td>\n",
       "    </tr>\n",
       "    <tr>\n",
       "      <td>8</td>\n",
       "      <td>0.023473</td>\n",
       "      <td>None</td>\n",
       "      <td>0.842289</td>\n",
       "      <td>01:38</td>\n",
       "    </tr>\n",
       "    <tr>\n",
       "      <td>9</td>\n",
       "      <td>0.013900</td>\n",
       "      <td>None</td>\n",
       "      <td>0.841026</td>\n",
       "      <td>01:38</td>\n",
       "    </tr>\n",
       "    <tr>\n",
       "      <td>10</td>\n",
       "      <td>0.007568</td>\n",
       "      <td>None</td>\n",
       "      <td>0.839051</td>\n",
       "      <td>01:38</td>\n",
       "    </tr>\n",
       "    <tr>\n",
       "      <td>11</td>\n",
       "      <td>0.006980</td>\n",
       "      <td>None</td>\n",
       "      <td>0.839915</td>\n",
       "      <td>01:38</td>\n",
       "    </tr>\n",
       "    <tr>\n",
       "      <td>12</td>\n",
       "      <td>0.005349</td>\n",
       "      <td>None</td>\n",
       "      <td>0.838703</td>\n",
       "      <td>01:38</td>\n",
       "    </tr>\n",
       "    <tr>\n",
       "      <td>13</td>\n",
       "      <td>0.004885</td>\n",
       "      <td>None</td>\n",
       "      <td>0.839380</td>\n",
       "      <td>01:38</td>\n",
       "    </tr>\n",
       "    <tr>\n",
       "      <td>14</td>\n",
       "      <td>0.002370</td>\n",
       "      <td>None</td>\n",
       "      <td>0.839282</td>\n",
       "      <td>01:37</td>\n",
       "    </tr>\n",
       "    <tr>\n",
       "      <td>15</td>\n",
       "      <td>0.001299</td>\n",
       "      <td>None</td>\n",
       "      <td>0.838688</td>\n",
       "      <td>01:38</td>\n",
       "    </tr>\n",
       "    <tr>\n",
       "      <td>16</td>\n",
       "      <td>0.001445</td>\n",
       "      <td>None</td>\n",
       "      <td>0.838914</td>\n",
       "      <td>01:37</td>\n",
       "    </tr>\n",
       "    <tr>\n",
       "      <td>17</td>\n",
       "      <td>0.001573</td>\n",
       "      <td>None</td>\n",
       "      <td>0.838372</td>\n",
       "      <td>01:38</td>\n",
       "    </tr>\n",
       "    <tr>\n",
       "      <td>18</td>\n",
       "      <td>0.000984</td>\n",
       "      <td>None</td>\n",
       "      <td>0.839569</td>\n",
       "      <td>01:38</td>\n",
       "    </tr>\n",
       "    <tr>\n",
       "      <td>19</td>\n",
       "      <td>0.001737</td>\n",
       "      <td>None</td>\n",
       "      <td>0.838954</td>\n",
       "      <td>01:38</td>\n",
       "    </tr>\n",
       "  </tbody>\n",
       "</table>"
      ],
      "text/plain": [
       "<IPython.core.display.HTML object>"
      ]
     },
     "metadata": {},
     "output_type": "display_data"
    }
   ],
   "source": [
    "learn.fine_tune(20,1e-3,freeze_epochs=2)"
   ]
  },
  {
   "cell_type": "code",
   "execution_count": null,
   "id": "available-homeless",
   "metadata": {},
   "outputs": [],
   "source": []
  }
 ],
 "metadata": {
  "kernelspec": {
   "display_name": "Python 3.8.5 64-bit ('fastai': conda)",
   "language": "python",
   "name": "python38564bitfastaicondad52d12c5a30a4725bf9d3e235cf1271c"
  },
  "language_info": {
   "codemirror_mode": {
    "name": "ipython",
    "version": 3
   },
   "file_extension": ".py",
   "mimetype": "text/x-python",
   "name": "python",
   "nbconvert_exporter": "python",
   "pygments_lexer": "ipython3",
   "version": "3.8.5"
  }
 },
 "nbformat": 4,
 "nbformat_minor": 5
}
